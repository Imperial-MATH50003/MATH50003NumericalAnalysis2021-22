{
 "cells": [
  {
   "cell_type": "markdown",
   "metadata": {},
   "source": [
    "# Introduction to Julia\n",
    "\n",
    "Reference: [The Julia Documentation](https://docs.julialang.org), [The Julia–Matlab–Python Cheatsheet](https://cheatsheets.quantecon.org)\n",
    "\n",
    "This lecture gives an overview of Julia. \n",
    "In these notes we focus on the aspects of Julia and computing that are essential to numerical computing:\n",
    "\n",
    "\n",
    "1. Integers: We discuss briefly how to create and manipulate integers, and how to see the underlying bit representation.\n",
    "1. Strings and parsing: We discuss how to create and manipulate strings and characters, and how we can convert a string\n",
    "of 0's and 1's to an integer or other type.\n",
    "3. Vectors and matrices: We discuss how to build and manipulate vectors and matrices (which are both types of _arrays_).\n",
    "Later lectures will discuss linear algebra.\n",
    "4. Types: In Julia everything has a type, which plays a similar role to classes in Python. Here we \n",
    "discuss how to make new types, for example, a complex number in radial format.\n",
    "5. Loops and branches: We discuss `if`, `for` and `while`, which work similar to Python.\n",
    "6. Functions: We discuss the construction of named and anonymous functions.\n",
    "Julia allows overloading functions for different types, for example, we can overload `*` for \n",
    "our radial complex type.\n",
    "7. Modules, Packages, and Plotting: We discuss how to load external packages, in particular, for plotting.\n",
    "\n",
    "Note some subsections are labeled *advanced*, these are non-examinable and will not be necessary in \n",
    "problem sheets or exams. \n",
    "\n",
    "## 1. Integers\n",
    "\n",
    "Julia uses a math-like syntax for manipulating integers:"
   ]
  },
  {
   "cell_type": "code",
   "execution_count": 1,
   "metadata": {
    "execution": {
     "iopub.execute_input": "2022-01-05T16:14:15.407261Z",
     "iopub.status.busy": "2022-01-05T16:14:15.004340Z",
     "iopub.status.idle": "2022-01-05T16:14:16.011725Z",
     "shell.execute_reply": "2022-01-05T16:14:16.010904Z"
    }
   },
   "outputs": [
    {
     "data": {
      "text/plain": [
       "2"
      ]
     },
     "execution_count": 1,
     "metadata": {},
     "output_type": "execute_result"
    }
   ],
   "source": [
    "1 + 1 # Addition"
   ]
  },
  {
   "cell_type": "code",
   "execution_count": 2,
   "metadata": {
    "execution": {
     "iopub.execute_input": "2022-01-05T16:14:16.014439Z",
     "iopub.status.busy": "2022-01-05T16:14:16.013467Z",
     "iopub.status.idle": "2022-01-05T16:14:16.017168Z",
     "shell.execute_reply": "2022-01-05T16:14:16.015242Z"
    }
   },
   "outputs": [
    {
     "data": {
      "text/plain": [
       "6"
      ]
     },
     "execution_count": 2,
     "metadata": {},
     "output_type": "execute_result"
    }
   ],
   "source": [
    "2 * 3 # Multiplication"
   ]
  },
  {
   "cell_type": "code",
   "execution_count": 3,
   "metadata": {
    "execution": {
     "iopub.execute_input": "2022-01-05T16:14:16.020301Z",
     "iopub.status.busy": "2022-01-05T16:14:16.019096Z",
     "iopub.status.idle": "2022-01-05T16:14:16.220867Z",
     "shell.execute_reply": "2022-01-05T16:14:16.220390Z"
    }
   },
   "outputs": [
    {
     "data": {
      "text/plain": [
       "0.6666666666666666"
      ]
     },
     "execution_count": 3,
     "metadata": {},
     "output_type": "execute_result"
    }
   ],
   "source": [
    "2 / 3 # Division"
   ]
  },
  {
   "cell_type": "code",
   "execution_count": 4,
   "metadata": {
    "execution": {
     "iopub.execute_input": "2022-01-05T16:14:16.222853Z",
     "iopub.status.busy": "2022-01-05T16:14:16.222349Z",
     "iopub.status.idle": "2022-01-05T16:14:16.227018Z",
     "shell.execute_reply": "2022-01-05T16:14:16.226619Z"
    }
   },
   "outputs": [
    {
     "data": {
      "text/plain": [
       "25"
      ]
     },
     "execution_count": 4,
     "metadata": {},
     "output_type": "execute_result"
    }
   ],
   "source": [
    "x = 5; # semicolon is optional but supresses output if used in the last line\n",
    "x^2 # Powers"
   ]
  },
  {
   "cell_type": "markdown",
   "metadata": {},
   "source": [
    "In Julia everything has a type. This is similar in spirit to\n",
    "a class in Python, but much more lightweight.\n",
    "An integer defaults to a type `Int`,\n",
    "which is either 32-bit (`Int32`) or 64-bit (`Int64`) depending\n",
    "on the processor of the machine. There are also 8-bit (`Int8`), 16-bit (`Int16`), \n",
    "and 128-bit (`Int128`) integer types, which\n",
    "we can construct by converting an `Int`, e.g. `Int8(3)`.\n",
    "\n",
    "These are all \"primitive types\", instances of the type are stored in memory as\n",
    "a fixed length sequence of bits.\n",
    "We can find the type of a variable as follows:"
   ]
  },
  {
   "cell_type": "code",
   "execution_count": 5,
   "metadata": {
    "execution": {
     "iopub.execute_input": "2022-01-05T16:14:16.228955Z",
     "iopub.status.busy": "2022-01-05T16:14:16.228461Z",
     "iopub.status.idle": "2022-01-05T16:14:16.592948Z",
     "shell.execute_reply": "2022-01-05T16:14:16.592569Z"
    }
   },
   "outputs": [
    {
     "data": {
      "text/plain": [
       "Int64"
      ]
     },
     "execution_count": 5,
     "metadata": {},
     "output_type": "execute_result"
    }
   ],
   "source": [
    "typeof(x)"
   ]
  },
  {
   "cell_type": "markdown",
   "metadata": {},
   "source": [
    "For a primitive type we can see the bits using the function `bitstring`:"
   ]
  },
  {
   "cell_type": "code",
   "execution_count": 6,
   "metadata": {
    "execution": {
     "iopub.execute_input": "2022-01-05T16:14:16.594805Z",
     "iopub.status.busy": "2022-01-05T16:14:16.594305Z",
     "iopub.status.idle": "2022-01-05T16:14:17.063861Z",
     "shell.execute_reply": "2022-01-05T16:14:17.063412Z"
    }
   },
   "outputs": [
    {
     "data": {
      "text/plain": [
       "\"00000001\""
      ]
     },
     "execution_count": 6,
     "metadata": {},
     "output_type": "execute_result"
    }
   ],
   "source": [
    "bitstring(Int8(1))"
   ]
  },
  {
   "cell_type": "markdown",
   "metadata": {},
   "source": [
    "Negative numbers may be surprising:"
   ]
  },
  {
   "cell_type": "code",
   "execution_count": 7,
   "metadata": {
    "execution": {
     "iopub.execute_input": "2022-01-05T16:14:17.065797Z",
     "iopub.status.busy": "2022-01-05T16:14:17.065288Z",
     "iopub.status.idle": "2022-01-05T16:14:17.070121Z",
     "shell.execute_reply": "2022-01-05T16:14:17.069476Z"
    }
   },
   "outputs": [
    {
     "data": {
      "text/plain": [
       "\"11111111\""
      ]
     },
     "execution_count": 7,
     "metadata": {},
     "output_type": "execute_result"
    }
   ],
   "source": [
    "bitstring(-Int8(1))"
   ]
  },
  {
   "cell_type": "markdown",
   "metadata": {},
   "source": [
    "This is explained in detail in Chapter [Numbers](Numbers.ipynb)\n",
    "\n",
    "There are other primitive integer types:  `UInt8`, `UInt16`, `UInt32`, and `UInt64` are unsigned integers, \n",
    "e.g., we do not interpret\n",
    "the number as negative if the first bit is `1`. As they tend to be used to represent\n",
    "bit sequences they are displayed in hexadecimal, that is base-16, using digits 0-9a-c,\n",
    "e.g., $12 = (c)_{16}$:"
   ]
  },
  {
   "cell_type": "code",
   "execution_count": 8,
   "metadata": {
    "execution": {
     "iopub.execute_input": "2022-01-05T16:14:17.072815Z",
     "iopub.status.busy": "2022-01-05T16:14:17.072131Z",
     "iopub.status.idle": "2022-01-05T16:14:17.289125Z",
     "shell.execute_reply": "2022-01-05T16:14:17.288321Z"
    }
   },
   "outputs": [
    {
     "data": {
      "text/plain": [
       "0x000c"
      ]
     },
     "execution_count": 8,
     "metadata": {},
     "output_type": "execute_result"
    }
   ],
   "source": [
    "UInt16(12)"
   ]
  },
  {
   "cell_type": "markdown",
   "metadata": {},
   "source": [
    "A non-primitive type is `BigInt` which allows arbitrary length\n",
    "integers.\n",
    "\n",
    "\n",
    "\n",
    "## 2. Strings and parsing\n",
    "\n",
    "We have seen that `bitstring` returns a string of bits.\n",
    "Strings can be created with quotation marks"
   ]
  },
  {
   "cell_type": "code",
   "execution_count": 9,
   "metadata": {
    "execution": {
     "iopub.execute_input": "2022-01-05T16:14:17.291686Z",
     "iopub.status.busy": "2022-01-05T16:14:17.290821Z",
     "iopub.status.idle": "2022-01-05T16:14:17.293504Z",
     "shell.execute_reply": "2022-01-05T16:14:17.292220Z"
    }
   },
   "outputs": [
    {
     "data": {
      "text/plain": [
       "\"hello world 😀\""
      ]
     },
     "execution_count": 9,
     "metadata": {},
     "output_type": "execute_result"
    }
   ],
   "source": [
    "str = \"hello world 😀\""
   ]
  },
  {
   "cell_type": "markdown",
   "metadata": {},
   "source": [
    "We can access characters of a string with brackets:"
   ]
  },
  {
   "cell_type": "code",
   "execution_count": 10,
   "metadata": {
    "execution": {
     "iopub.execute_input": "2022-01-05T16:14:17.295401Z",
     "iopub.status.busy": "2022-01-05T16:14:17.294902Z",
     "iopub.status.idle": "2022-01-05T16:14:17.624391Z",
     "shell.execute_reply": "2022-01-05T16:14:17.623942Z"
    }
   },
   "outputs": [
    {
     "data": {
      "text/plain": [
       "('h', '😀')"
      ]
     },
     "execution_count": 10,
     "metadata": {},
     "output_type": "execute_result"
    }
   ],
   "source": [
    "str[1], str[13]"
   ]
  },
  {
   "cell_type": "markdown",
   "metadata": {},
   "source": [
    "Each character is a primitive type, in this case using 32 bits/4 bytes:"
   ]
  },
  {
   "cell_type": "code",
   "execution_count": 11,
   "metadata": {
    "execution": {
     "iopub.execute_input": "2022-01-05T16:14:17.626418Z",
     "iopub.status.busy": "2022-01-05T16:14:17.625922Z",
     "iopub.status.idle": "2022-01-05T16:14:17.916144Z",
     "shell.execute_reply": "2022-01-05T16:14:17.915741Z"
    }
   },
   "outputs": [
    {
     "data": {
      "text/plain": [
       "(Char, 32)"
      ]
     },
     "execution_count": 11,
     "metadata": {},
     "output_type": "execute_result"
    }
   ],
   "source": [
    "typeof(str[6]), length(bitstring(str[6]))"
   ]
  },
  {
   "cell_type": "markdown",
   "metadata": {},
   "source": [
    "Strings are not primitive types, but rather point to the start of a sequence\n",
    "of `Char`s in memory.  In this case, there are $32*13=416$ bits/52\n",
    "bytes in memory.\n",
    "\n",
    "Strings are _immutable_: once created they cannot be changed.\n",
    "But a new string can be created that modifies an existing string.\n",
    "The simplest example is `*`, which concatenates two strings:"
   ]
  },
  {
   "cell_type": "code",
   "execution_count": 12,
   "metadata": {
    "execution": {
     "iopub.execute_input": "2022-01-05T16:14:17.919235Z",
     "iopub.status.busy": "2022-01-05T16:14:17.918103Z",
     "iopub.status.idle": "2022-01-05T16:14:17.921641Z",
     "shell.execute_reply": "2022-01-05T16:14:17.920338Z"
    }
   },
   "outputs": [
    {
     "data": {
      "text/plain": [
       "\"hibye\""
      ]
     },
     "execution_count": 12,
     "metadata": {},
     "output_type": "execute_result"
    }
   ],
   "source": [
    "\"hi\" * \"bye\""
   ]
  },
  {
   "cell_type": "markdown",
   "metadata": {},
   "source": [
    "(Why `*`? Because concatenation is non-commutive.)\n",
    "We can combine this with indexing to, for example, create a new string\n",
    "with a different last character:"
   ]
  },
  {
   "cell_type": "code",
   "execution_count": 13,
   "metadata": {
    "execution": {
     "iopub.execute_input": "2022-01-05T16:14:17.924062Z",
     "iopub.status.busy": "2022-01-05T16:14:17.923236Z",
     "iopub.status.idle": "2022-01-05T16:14:17.925956Z",
     "shell.execute_reply": "2022-01-05T16:14:17.925543Z"
    }
   },
   "outputs": [
    {
     "data": {
      "text/plain": [
       "\"hello world 😂\""
      ]
     },
     "execution_count": 13,
     "metadata": {},
     "output_type": "execute_result"
    }
   ],
   "source": [
    "str[1:end-1] * \"😂\""
   ]
  },
  {
   "cell_type": "markdown",
   "metadata": {},
   "source": [
    "### Parsing strings\n",
    "\n",
    "We can use the command `parse` to turn a string into an integer:"
   ]
  },
  {
   "cell_type": "code",
   "execution_count": 14,
   "metadata": {
    "execution": {
     "iopub.execute_input": "2022-01-05T16:14:17.928180Z",
     "iopub.status.busy": "2022-01-05T16:14:17.927386Z",
     "iopub.status.idle": "2022-01-05T16:14:17.929881Z",
     "shell.execute_reply": "2022-01-05T16:14:17.928754Z"
    }
   },
   "outputs": [
    {
     "data": {
      "text/plain": [
       "123"
      ]
     },
     "execution_count": 14,
     "metadata": {},
     "output_type": "execute_result"
    }
   ],
   "source": [
    "parse(Int, \"123\")"
   ]
  },
  {
   "cell_type": "markdown",
   "metadata": {},
   "source": [
    "We can specify base 2 as an optional argument:"
   ]
  },
  {
   "cell_type": "code",
   "execution_count": 15,
   "metadata": {
    "execution": {
     "iopub.execute_input": "2022-01-05T16:14:17.932535Z",
     "iopub.status.busy": "2022-01-05T16:14:17.931809Z",
     "iopub.status.idle": "2022-01-05T16:14:17.947587Z",
     "shell.execute_reply": "2022-01-05T16:14:17.947076Z"
    }
   },
   "outputs": [
    {
     "data": {
      "text/plain": [
       "-5"
      ]
     },
     "execution_count": 15,
     "metadata": {},
     "output_type": "execute_result"
    }
   ],
   "source": [
    "parse(Int, \"-101\"; base=2)"
   ]
  },
  {
   "cell_type": "markdown",
   "metadata": {},
   "source": [
    "If we are specifying\n",
    "bits its safer to parse as an `UInt32`, otherwise the first bit\n",
    "is not recognised as a sign:"
   ]
  },
  {
   "cell_type": "code",
   "execution_count": 16,
   "metadata": {
    "execution": {
     "iopub.execute_input": "2022-01-05T16:14:17.949543Z",
     "iopub.status.busy": "2022-01-05T16:14:17.949029Z",
     "iopub.status.idle": "2022-01-05T16:14:18.214517Z",
     "shell.execute_reply": "2022-01-05T16:14:18.213961Z"
    }
   },
   "outputs": [
    {
     "data": {
      "text/plain": [
       "0xf09f998a"
      ]
     },
     "execution_count": 16,
     "metadata": {},
     "output_type": "execute_result"
    }
   ],
   "source": [
    "bts = \"11110000100111111001100110001010\"\n",
    "x = parse(UInt32, bts; base=2)"
   ]
  },
  {
   "cell_type": "markdown",
   "metadata": {},
   "source": [
    "The function `reinterpret` allows us to reinterpret the resulting\n",
    "sequence of 32 bits as a different type. For example, we can reinterpret\n",
    "as an `Int32` in which case the first bit is taken to be the sign bit\n",
    "and we get a negative number:"
   ]
  },
  {
   "cell_type": "code",
   "execution_count": 17,
   "metadata": {
    "execution": {
     "iopub.execute_input": "2022-01-05T16:14:18.216600Z",
     "iopub.status.busy": "2022-01-05T16:14:18.216100Z",
     "iopub.status.idle": "2022-01-05T16:14:18.420102Z",
     "shell.execute_reply": "2022-01-05T16:14:18.419717Z"
    }
   },
   "outputs": [
    {
     "data": {
      "text/plain": [
       "-257975926"
      ]
     },
     "execution_count": 17,
     "metadata": {},
     "output_type": "execute_result"
    }
   ],
   "source": [
    "reinterpret(Int32, x)"
   ]
  },
  {
   "cell_type": "markdown",
   "metadata": {},
   "source": [
    "We can also reinterpret as a `Char`:"
   ]
  },
  {
   "cell_type": "code",
   "execution_count": 18,
   "metadata": {
    "execution": {
     "iopub.execute_input": "2022-01-05T16:14:18.422745Z",
     "iopub.status.busy": "2022-01-05T16:14:18.421803Z",
     "iopub.status.idle": "2022-01-05T16:14:18.675290Z",
     "shell.execute_reply": "2022-01-05T16:14:18.674622Z"
    }
   },
   "outputs": [
    {
     "data": {
      "text/plain": [
       "'🙊': Unicode U+1F64A (category So: Symbol, other)"
      ]
     },
     "execution_count": 18,
     "metadata": {},
     "output_type": "execute_result"
    }
   ],
   "source": [
    "reinterpret(Char, x)"
   ]
  },
  {
   "cell_type": "markdown",
   "metadata": {},
   "source": [
    "We will use `parse` and `reinterpret` as it allows one to easily manipulate bits. \n",
    "This is not actually how one should\n",
    "do it as it is slow.\n",
    "\n",
    "### Bitwise operations (advanced)\n",
    "\n",
    "In practice, one should manipulate bits using bitwise operations.\n",
    "These will not be required in this course and are not examinable, but\n",
    "are valuable to know if you have a career involving high performance computing.\n",
    "The `p << k` shifts the bits of `p` to the left `k` times inserting zeros,\n",
    "while `p >> k` shifts to the right:"
   ]
  },
  {
   "cell_type": "code",
   "execution_count": 19,
   "metadata": {
    "execution": {
     "iopub.execute_input": "2022-01-05T16:14:18.677401Z",
     "iopub.status.busy": "2022-01-05T16:14:18.676770Z",
     "iopub.status.idle": "2022-01-05T16:14:18.710228Z",
     "shell.execute_reply": "2022-01-05T16:14:18.709700Z"
    }
   },
   "outputs": [
    {
     "name": "stdout",
     "output_type": "stream",
     "text": [
      "0000000000000000000000000000000000000000000000000000000000010111\n",
      "0000000000000000000000000000000000000000000000000000000001011100\n",
      "0000000000000000000000000000000000000000000000000000000000000101\n"
     ]
    }
   ],
   "source": [
    "println(bitstring(23));\n",
    "println(bitstring(23 << 2));\n",
    "println(bitstring(23 >> 2));"
   ]
  },
  {
   "cell_type": "markdown",
   "metadata": {},
   "source": [
    "The operations `&`, `|` and `⊻` do bitwise and, or, and xor.\n",
    "\n",
    "## 3. Vectors, Matrices, and Arrays\n",
    "\n",
    "We can create a vector using brackets:"
   ]
  },
  {
   "cell_type": "code",
   "execution_count": 20,
   "metadata": {
    "execution": {
     "iopub.execute_input": "2022-01-05T16:14:18.712182Z",
     "iopub.status.busy": "2022-01-05T16:14:18.711688Z",
     "iopub.status.idle": "2022-01-05T16:14:19.383044Z",
     "shell.execute_reply": "2022-01-05T16:14:19.382535Z"
    }
   },
   "outputs": [
    {
     "data": {
      "text/plain": [
       "3-element Vector{Int64}:\n",
       " 11\n",
       " 24\n",
       " 32"
      ]
     },
     "execution_count": 20,
     "metadata": {},
     "output_type": "execute_result"
    }
   ],
   "source": [
    "v = [11, 24, 32]"
   ]
  },
  {
   "cell_type": "markdown",
   "metadata": {},
   "source": [
    "Like a string, elements are accessed via brackets. Julia\n",
    "uses 1-based indexing (like Matlab and Mathematica, unlike\n",
    "Python and C which use 0-based indexing):"
   ]
  },
  {
   "cell_type": "code",
   "execution_count": 21,
   "metadata": {
    "execution": {
     "iopub.execute_input": "2022-01-05T16:14:19.384875Z",
     "iopub.status.busy": "2022-01-05T16:14:19.384373Z",
     "iopub.status.idle": "2022-01-05T16:14:19.632828Z",
     "shell.execute_reply": "2022-01-05T16:14:19.632367Z"
    }
   },
   "outputs": [
    {
     "data": {
      "text/plain": [
       "(11, 32)"
      ]
     },
     "execution_count": 21,
     "metadata": {},
     "output_type": "execute_result"
    }
   ],
   "source": [
    "v[1], v[3]"
   ]
  },
  {
   "cell_type": "markdown",
   "metadata": {},
   "source": [
    "Accessing outside the range gives an error:"
   ]
  },
  {
   "cell_type": "code",
   "execution_count": 22,
   "metadata": {
    "execution": {
     "iopub.execute_input": "2022-01-05T16:14:19.634867Z",
     "iopub.status.busy": "2022-01-05T16:14:19.634333Z",
     "iopub.status.idle": "2022-01-05T16:14:20.809515Z",
     "shell.execute_reply": "2022-01-05T16:14:20.809065Z"
    }
   },
   "outputs": [
    {
     "ename": "LoadError",
     "evalue": "BoundsError: attempt to access 3-element Vector{Int64} at index [4]",
     "output_type": "error",
     "traceback": [
      "BoundsError: attempt to access 3-element Vector{Int64} at index [4]",
      "",
      "Stacktrace:",
      " [1] getindex(A::Vector{Int64}, i1::Int64)",
      "   @ Base ./array.jl:861",
      " [2] top-level scope",
      "   @ In[22]:1",
      " [3] eval",
      "   @ ./boot.jl:373 [inlined]",
      " [4] include_string(mapexpr::typeof(REPL.softscope), mod::Module, code::String, filename::String)",
      "   @ Base ./loading.jl:1196"
     ]
    }
   ],
   "source": [
    "v[4]"
   ]
  },
  {
   "cell_type": "markdown",
   "metadata": {},
   "source": [
    "Vectors can be made with different types, for example,\n",
    "here is a vector of three 8-bit integers:"
   ]
  },
  {
   "cell_type": "code",
   "execution_count": 23,
   "metadata": {
    "execution": {
     "iopub.execute_input": "2022-01-05T16:14:20.811473Z",
     "iopub.status.busy": "2022-01-05T16:14:20.810880Z",
     "iopub.status.idle": "2022-01-05T16:14:21.262821Z",
     "shell.execute_reply": "2022-01-05T16:14:21.262372Z"
    }
   },
   "outputs": [
    {
     "data": {
      "text/plain": [
       "3-element Vector{Int8}:\n",
       " 11\n",
       " 24\n",
       " 32"
      ]
     },
     "execution_count": 23,
     "metadata": {},
     "output_type": "execute_result"
    }
   ],
   "source": [
    "v = [Int8(11), Int8(24), Int8(32)]"
   ]
  },
  {
   "cell_type": "markdown",
   "metadata": {},
   "source": [
    "Just like strings, Vectors are not primitive types,\n",
    "but rather point to the start of sequence of bits in memory \n",
    "that are interpreted in the corresponding type.\n",
    "In this last case, there are $3*8=24$ bits/3 bytes in memory.\n",
    "\n",
    "The easiest way to create a vector is to use `zeros` to create a zero `Vector`\n",
    "and then modify its entries:"
   ]
  },
  {
   "cell_type": "code",
   "execution_count": 24,
   "metadata": {
    "execution": {
     "iopub.execute_input": "2022-01-05T16:14:21.264930Z",
     "iopub.status.busy": "2022-01-05T16:14:21.264324Z",
     "iopub.status.idle": "2022-01-05T16:14:21.274004Z",
     "shell.execute_reply": "2022-01-05T16:14:21.273569Z"
    }
   },
   "outputs": [
    {
     "data": {
      "text/plain": [
       "5-element Vector{Int64}:\n",
       " 0\n",
       " 3\n",
       " 0\n",
       " 0\n",
       " 0"
      ]
     },
     "execution_count": 24,
     "metadata": {},
     "output_type": "execute_result"
    }
   ],
   "source": [
    "v = zeros(Int, 5)\n",
    "v[2] = 3\n",
    "v"
   ]
  },
  {
   "cell_type": "markdown",
   "metadata": {},
   "source": [
    "Note: we can't assign a non-integer floating point number to an integer vector:"
   ]
  },
  {
   "cell_type": "code",
   "execution_count": 25,
   "metadata": {
    "execution": {
     "iopub.execute_input": "2022-01-05T16:14:21.276220Z",
     "iopub.status.busy": "2022-01-05T16:14:21.275602Z",
     "iopub.status.idle": "2022-01-05T16:14:21.375088Z",
     "shell.execute_reply": "2022-01-05T16:14:21.374658Z"
    }
   },
   "outputs": [
    {
     "ename": "LoadError",
     "evalue": "InexactError: Int64(3.5)",
     "output_type": "error",
     "traceback": [
      "InexactError: Int64(3.5)",
      "",
      "Stacktrace:",
      " [1] Int64",
      "   @ ./float.jl:812 [inlined]",
      " [2] convert",
      "   @ ./number.jl:7 [inlined]",
      " [3] setindex!(A::Vector{Int64}, x::Float64, i1::Int64)",
      "   @ Base ./array.jl:903",
      " [4] top-level scope",
      "   @ In[25]:1",
      " [5] eval",
      "   @ ./boot.jl:373 [inlined]",
      " [6] include_string(mapexpr::typeof(REPL.softscope), mod::Module, code::String, filename::String)",
      "   @ Base ./loading.jl:1196"
     ]
    }
   ],
   "source": [
    "v[2] = 3.5"
   ]
  },
  {
   "cell_type": "markdown",
   "metadata": {},
   "source": [
    "We can also create vectors with `ones` (a vector of all ones), `rand` (a vector of random numbers between `0` and `1`)\n",
    "and `randn` (a vector of samples of normal distributed quasi-random numbers).\n",
    "\n",
    "When we create a vector whose entries are of different types, they are mapped to a type that can represent every entry.\n",
    "For example, here we input a list of one `Int32` followed by three `Int64`s, which are automatically converted to\n",
    "all be `Int64`:"
   ]
  },
  {
   "cell_type": "code",
   "execution_count": 26,
   "metadata": {
    "execution": {
     "iopub.execute_input": "2022-01-05T16:14:21.377467Z",
     "iopub.status.busy": "2022-01-05T16:14:21.376897Z",
     "iopub.status.idle": "2022-01-05T16:14:21.403958Z",
     "shell.execute_reply": "2022-01-05T16:14:21.403576Z"
    }
   },
   "outputs": [
    {
     "data": {
      "text/plain": [
       "4-element Vector{Int64}:\n",
       " 1\n",
       " 2\n",
       " 3\n",
       " 4"
      ]
     },
     "execution_count": 26,
     "metadata": {},
     "output_type": "execute_result"
    }
   ],
   "source": [
    "[Int32(1), 2, 3, 4]"
   ]
  },
  {
   "cell_type": "markdown",
   "metadata": {},
   "source": [
    "In the event that the types cannot automatically be converted, it defaults to an `Any` vector, which\n",
    "is similar to a Python list.\n",
    "This is bad performancewise as it does not know how many bits each element will need, so should be avoided."
   ]
  },
  {
   "cell_type": "code",
   "execution_count": 27,
   "metadata": {
    "execution": {
     "iopub.execute_input": "2022-01-05T16:14:21.406104Z",
     "iopub.status.busy": "2022-01-05T16:14:21.405545Z",
     "iopub.status.idle": "2022-01-05T16:14:22.125325Z",
     "shell.execute_reply": "2022-01-05T16:14:22.124794Z"
    }
   },
   "outputs": [
    {
     "data": {
      "text/plain": [
       "3-element Vector{Any}:\n",
       " 1.0\n",
       " 1\n",
       "  \"1\""
      ]
     },
     "execution_count": 27,
     "metadata": {},
     "output_type": "execute_result"
    }
   ],
   "source": [
    "[1.0, 1, \"1\"]"
   ]
  },
  {
   "cell_type": "markdown",
   "metadata": {},
   "source": [
    "We can also specify the type of the Vector explicitly by writing the desired type before the first bracket:"
   ]
  },
  {
   "cell_type": "code",
   "execution_count": 28,
   "metadata": {
    "execution": {
     "iopub.execute_input": "2022-01-05T16:14:22.127391Z",
     "iopub.status.busy": "2022-01-05T16:14:22.126876Z",
     "iopub.status.idle": "2022-01-05T16:14:22.573832Z",
     "shell.execute_reply": "2022-01-05T16:14:22.573323Z"
    }
   },
   "outputs": [
    {
     "data": {
      "text/plain": [
       "3-element Vector{Int32}:\n",
       " 1\n",
       " 2\n",
       " 3"
      ]
     },
     "execution_count": 28,
     "metadata": {},
     "output_type": "execute_result"
    }
   ],
   "source": [
    "Int32[1, 2, 3]"
   ]
  },
  {
   "cell_type": "markdown",
   "metadata": {},
   "source": [
    "We can also create an array using comprehensions:"
   ]
  },
  {
   "cell_type": "code",
   "execution_count": 29,
   "metadata": {
    "execution": {
     "iopub.execute_input": "2022-01-05T16:14:22.575992Z",
     "iopub.status.busy": "2022-01-05T16:14:22.575450Z",
     "iopub.status.idle": "2022-01-05T16:14:22.596759Z",
     "shell.execute_reply": "2022-01-05T16:14:22.596298Z"
    }
   },
   "outputs": [
    {
     "data": {
      "text/plain": [
       "5-element Vector{Int64}:\n",
       "  1\n",
       "  4\n",
       "  9\n",
       " 16\n",
       " 25"
      ]
     },
     "execution_count": 29,
     "metadata": {},
     "output_type": "execute_result"
    }
   ],
   "source": [
    "[k^2 for k = 1:5]"
   ]
  },
  {
   "cell_type": "markdown",
   "metadata": {},
   "source": [
    "Matrices are created similar to vectors, but by specifying two dimensions instead of one.\n",
    "Again, the simplest way is to use `zeros` to create a matrix of all zeros:"
   ]
  },
  {
   "cell_type": "code",
   "execution_count": 30,
   "metadata": {
    "execution": {
     "iopub.execute_input": "2022-01-05T16:14:22.598838Z",
     "iopub.status.busy": "2022-01-05T16:14:22.598226Z",
     "iopub.status.idle": "2022-01-05T16:14:22.972318Z",
     "shell.execute_reply": "2022-01-05T16:14:22.971632Z"
    }
   },
   "outputs": [
    {
     "data": {
      "text/plain": [
       "5×5 Matrix{Int64}:\n",
       " 0  0  0  0  0\n",
       " 0  0  0  0  0\n",
       " 0  0  0  0  0\n",
       " 0  0  0  0  0\n",
       " 0  0  0  0  0"
      ]
     },
     "execution_count": 30,
     "metadata": {},
     "output_type": "execute_result"
    }
   ],
   "source": [
    "zeros(Int, 5, 5) # creates a 5x5 matrix of Int zeros"
   ]
  },
  {
   "cell_type": "markdown",
   "metadata": {},
   "source": [
    "We can also create matrices by hand.  Here, spaces delimit the columns and semicolons delimit the rows:"
   ]
  },
  {
   "cell_type": "code",
   "execution_count": 31,
   "metadata": {
    "execution": {
     "iopub.execute_input": "2022-01-05T16:14:22.975169Z",
     "iopub.status.busy": "2022-01-05T16:14:22.974508Z",
     "iopub.status.idle": "2022-01-05T16:14:23.004887Z",
     "shell.execute_reply": "2022-01-05T16:14:23.004331Z"
    }
   },
   "outputs": [
    {
     "data": {
      "text/plain": [
       "3×2 Matrix{Int64}:\n",
       " 1  2\n",
       " 3  4\n",
       " 5  6"
      ]
     },
     "execution_count": 31,
     "metadata": {},
     "output_type": "execute_result"
    }
   ],
   "source": [
    "A = [1 2; 3 4; 5 6]"
   ]
  },
  {
   "cell_type": "markdown",
   "metadata": {},
   "source": [
    "We can also create matrices using brackets, a formula, and a `for` command:"
   ]
  },
  {
   "cell_type": "code",
   "execution_count": 32,
   "metadata": {
    "execution": {
     "iopub.execute_input": "2022-01-05T16:14:23.008306Z",
     "iopub.status.busy": "2022-01-05T16:14:23.007409Z",
     "iopub.status.idle": "2022-01-05T16:14:23.068984Z",
     "shell.execute_reply": "2022-01-05T16:14:23.068535Z"
    }
   },
   "outputs": [
    {
     "data": {
      "text/plain": [
       "5×5 Matrix{Int64}:\n",
       "  2   3   4   5   6\n",
       "  5   6   7   8   9\n",
       " 10  11  12  13  14\n",
       " 17  18  19  20  21\n",
       " 26  27  28  29  30"
      ]
     },
     "execution_count": 32,
     "metadata": {},
     "output_type": "execute_result"
    }
   ],
   "source": [
    "[k^2+j for k=1:5, j=1:5]"
   ]
  },
  {
   "cell_type": "markdown",
   "metadata": {},
   "source": [
    "Matrices are really vectors in disguise.  They are still stored in memory in a consecutive sequence of bits.\n",
    "We can see the underlying vector using the `vec` command:"
   ]
  },
  {
   "cell_type": "code",
   "execution_count": 33,
   "metadata": {
    "execution": {
     "iopub.execute_input": "2022-01-05T16:14:23.070853Z",
     "iopub.status.busy": "2022-01-05T16:14:23.070351Z",
     "iopub.status.idle": "2022-01-05T16:14:23.081955Z",
     "shell.execute_reply": "2022-01-05T16:14:23.081472Z"
    }
   },
   "outputs": [
    {
     "data": {
      "text/plain": [
       "6-element Vector{Int64}:\n",
       " 1\n",
       " 3\n",
       " 5\n",
       " 2\n",
       " 4\n",
       " 6"
      ]
     },
     "execution_count": 33,
     "metadata": {},
     "output_type": "execute_result"
    }
   ],
   "source": [
    "vec(A)"
   ]
  },
  {
   "cell_type": "markdown",
   "metadata": {},
   "source": [
    "The only difference between matrices and vectors from the computers perspective is that they have a `size` which \n",
    "changes the interpretation of whats stored in memory:"
   ]
  },
  {
   "cell_type": "code",
   "execution_count": 34,
   "metadata": {
    "execution": {
     "iopub.execute_input": "2022-01-05T16:14:23.083764Z",
     "iopub.status.busy": "2022-01-05T16:14:23.083264Z",
     "iopub.status.idle": "2022-01-05T16:14:23.088619Z",
     "shell.execute_reply": "2022-01-05T16:14:23.088167Z"
    }
   },
   "outputs": [
    {
     "data": {
      "text/plain": [
       "(3, 2)"
      ]
     },
     "execution_count": 34,
     "metadata": {},
     "output_type": "execute_result"
    }
   ],
   "source": [
    "size(A)"
   ]
  },
  {
   "cell_type": "markdown",
   "metadata": {},
   "source": [
    "Matrices can be manipulated easily on a computer.  We can multiply a matrix times vector:"
   ]
  },
  {
   "cell_type": "code",
   "execution_count": 35,
   "metadata": {
    "execution": {
     "iopub.execute_input": "2022-01-05T16:14:23.091028Z",
     "iopub.status.busy": "2022-01-05T16:14:23.090379Z",
     "iopub.status.idle": "2022-01-05T16:14:23.173821Z",
     "shell.execute_reply": "2022-01-05T16:14:23.172989Z"
    }
   },
   "outputs": [
    {
     "data": {
      "text/plain": [
       "3-element Vector{Int64}:\n",
       " 26\n",
       " 60\n",
       " 94"
      ]
     },
     "execution_count": 35,
     "metadata": {},
     "output_type": "execute_result"
    }
   ],
   "source": [
    "x = [8; 9]\n",
    "A * x"
   ]
  },
  {
   "cell_type": "markdown",
   "metadata": {},
   "source": [
    "or a matrix times matrix:"
   ]
  },
  {
   "cell_type": "code",
   "execution_count": 36,
   "metadata": {
    "execution": {
     "iopub.execute_input": "2022-01-05T16:14:23.177325Z",
     "iopub.status.busy": "2022-01-05T16:14:23.176451Z",
     "iopub.status.idle": "2022-01-05T16:14:23.765320Z",
     "shell.execute_reply": "2022-01-05T16:14:23.764877Z"
    }
   },
   "outputs": [
    {
     "data": {
      "text/plain": [
       "3×2 Matrix{Int64}:\n",
       " 16  19\n",
       " 36  43\n",
       " 56  67"
      ]
     },
     "execution_count": 36,
     "metadata": {},
     "output_type": "execute_result"
    }
   ],
   "source": [
    "A * [4 5; 6 7]"
   ]
  },
  {
   "cell_type": "markdown",
   "metadata": {},
   "source": [
    "If you use `.*`, it does entrywise multiplication:"
   ]
  },
  {
   "cell_type": "code",
   "execution_count": 37,
   "metadata": {
    "execution": {
     "iopub.execute_input": "2022-01-05T16:14:23.767135Z",
     "iopub.status.busy": "2022-01-05T16:14:23.766626Z",
     "iopub.status.idle": "2022-01-05T16:14:23.853374Z",
     "shell.execute_reply": "2022-01-05T16:14:23.852963Z"
    }
   },
   "outputs": [
    {
     "data": {
      "text/plain": [
       "2×2 Matrix{Int64}:\n",
       "  4  10\n",
       " 18  28"
      ]
     },
     "execution_count": 37,
     "metadata": {},
     "output_type": "execute_result"
    }
   ],
   "source": [
    "[1 2; 3 4] .* [4 5; 6 7]"
   ]
  },
  {
   "cell_type": "markdown",
   "metadata": {},
   "source": [
    "We can take the transpose of a real vector as follows:"
   ]
  },
  {
   "cell_type": "code",
   "execution_count": 38,
   "metadata": {
    "execution": {
     "iopub.execute_input": "2022-01-05T16:14:23.855329Z",
     "iopub.status.busy": "2022-01-05T16:14:23.854836Z",
     "iopub.status.idle": "2022-01-05T16:14:24.240191Z",
     "shell.execute_reply": "2022-01-05T16:14:24.239751Z"
    }
   },
   "outputs": [
    {
     "data": {
      "text/plain": [
       "1×3 adjoint(::Vector{Int64}) with eltype Int64:\n",
       " 1  2  3"
      ]
     },
     "execution_count": 38,
     "metadata": {},
     "output_type": "execute_result"
    }
   ],
   "source": [
    "a = [1, 2, 3]\n",
    "a'"
   ]
  },
  {
   "cell_type": "markdown",
   "metadata": {},
   "source": [
    "Note for complex-valued vectors this is the conjugate-transpose,\n",
    "and so one may need to use `transpose(a)`. Both `a'` and `transpose(a)`\n",
    "should be thought of as \"dual-vectors\", and so multiplcation with a\n",
    "transposed vector with a normal vector gives a constant:"
   ]
  },
  {
   "cell_type": "code",
   "execution_count": 39,
   "metadata": {
    "execution": {
     "iopub.execute_input": "2022-01-05T16:14:24.242797Z",
     "iopub.status.busy": "2022-01-05T16:14:24.242201Z",
     "iopub.status.idle": "2022-01-05T16:14:24.257690Z",
     "shell.execute_reply": "2022-01-05T16:14:24.257240Z"
    }
   },
   "outputs": [
    {
     "data": {
      "text/plain": [
       "32"
      ]
     },
     "execution_count": 39,
     "metadata": {},
     "output_type": "execute_result"
    }
   ],
   "source": [
    "b = [4, 5, 6]\n",
    "a' * b"
   ]
  },
  {
   "cell_type": "markdown",
   "metadata": {},
   "source": [
    "One important note: a vector is not the same as an `n x 1` matrix, and a transposed\n",
    "vector is not the same as a `1 \\times n` matrix.\n",
    "\n",
    "### Accessing and altering subsections of arrays \n",
    "\n",
    "We will use the following notation to get at the columns and rows of matrices:\n",
    "```\n",
    "A[a:b,k]    # returns the a-th through b-th rows of the k-th column of A as a Vector of length (b-a+1)\n",
    "A[k,a:b]    # returns the a-th through b-th columns of the k-th row of A as a Vector of length (b-a+1)\n",
    "A[:,k]      # returns all rows of the k-th column of A as a Vector of length size(A,1)\n",
    "A[k,:]      # returns all columns of the k-th row of A as a Vector of length size(A,2)\n",
    "A[a:b,c:d]  # returns the a-th through b-th rows and c-th through d-th columns of A \n",
    "            # as a (b-a+1) x (d-c+1) Matrix\n",
    "```\n",
    " The ranges `a:b` and `c:d` can be replaced by any `AbstractVector{Int}`.  For example:"
   ]
  },
  {
   "cell_type": "code",
   "execution_count": 40,
   "metadata": {
    "execution": {
     "iopub.execute_input": "2022-01-05T16:14:24.259920Z",
     "iopub.status.busy": "2022-01-05T16:14:24.259250Z",
     "iopub.status.idle": "2022-01-05T16:14:24.322672Z",
     "shell.execute_reply": "2022-01-05T16:14:24.321992Z"
    }
   },
   "outputs": [
    {
     "data": {
      "text/plain": [
       "3-element Vector{Int64}:\n",
       "  2\n",
       "  8\n",
       " 11"
      ]
     },
     "execution_count": 40,
     "metadata": {},
     "output_type": "execute_result"
    }
   ],
   "source": [
    "A = [1 2 3; 4 5 6; 7 8 9; 10 11 12]\n",
    "A[[1,3,4],2]  # returns the 1st, 3rd and 4th rows of the 2nd column of A"
   ]
  },
  {
   "cell_type": "markdown",
   "metadata": {},
   "source": [
    "**Exercise**  Can you guess what `A[2,[1,3,4]]` returns, using the definition of `A` as above?  \n",
    "What about `A[1:2,[1,3]]`?  And `A[1,B[1:2,1]]`?  And `vec(A[1,B[1:2,1]])`?\n",
    "\n",
    "We can also use this notation to modify entries of the matrix.  For example, we can set the `1:2` x `2:3` subblock of A to `[1 2; 3 4]` as follows:"
   ]
  },
  {
   "cell_type": "code",
   "execution_count": 41,
   "metadata": {
    "execution": {
     "iopub.execute_input": "2022-01-05T16:14:24.325041Z",
     "iopub.status.busy": "2022-01-05T16:14:24.324532Z",
     "iopub.status.idle": "2022-01-05T16:14:24.360796Z",
     "shell.execute_reply": "2022-01-05T16:14:24.360178Z"
    }
   },
   "outputs": [
    {
     "data": {
      "text/plain": [
       "4×3 Matrix{Int64}:\n",
       "  1   1   2\n",
       "  4   3   4\n",
       "  7   8   9\n",
       " 10  11  12"
      ]
     },
     "execution_count": 41,
     "metadata": {},
     "output_type": "execute_result"
    }
   ],
   "source": [
    "A[1:2,2:3] = [1 2; 3 4]\n",
    "A"
   ]
  },
  {
   "cell_type": "markdown",
   "metadata": {},
   "source": [
    "### Broadcasting\n",
    "\n",
    "It often is necessary to apply a function to every entry of a vector.\n",
    "By adding `.` to the end of a function we \"broadcast\" the function over\n",
    "a vector:"
   ]
  },
  {
   "cell_type": "code",
   "execution_count": 42,
   "metadata": {
    "execution": {
     "iopub.execute_input": "2022-01-05T16:14:24.363918Z",
     "iopub.status.busy": "2022-01-05T16:14:24.362871Z",
     "iopub.status.idle": "2022-01-05T16:14:24.904568Z",
     "shell.execute_reply": "2022-01-05T16:14:24.904127Z"
    }
   },
   "outputs": [
    {
     "data": {
      "text/plain": [
       "3-element Vector{Float64}:\n",
       "  0.5403023058681398\n",
       " -0.4161468365471424\n",
       " -0.9899924966004454"
      ]
     },
     "execution_count": 42,
     "metadata": {},
     "output_type": "execute_result"
    }
   ],
   "source": [
    "x = [1,2,3]\n",
    "cos.(x) # equivalent to [cos(1), cos(2), cos(3)]"
   ]
  },
  {
   "cell_type": "markdown",
   "metadata": {},
   "source": [
    "Broadcasting has some interesting behaviour for matrices.\n",
    "If one dimension of a matrix (or vector) is 1, it automatically\n",
    "repeats the matrix (or vector) to match the size of another example.\n",
    "\n",
    "**Example**"
   ]
  },
  {
   "cell_type": "code",
   "execution_count": 43,
   "metadata": {
    "execution": {
     "iopub.execute_input": "2022-01-05T16:14:24.906700Z",
     "iopub.status.busy": "2022-01-05T16:14:24.906089Z",
     "iopub.status.idle": "2022-01-05T16:14:24.979094Z",
     "shell.execute_reply": "2022-01-05T16:14:24.978583Z"
    }
   },
   "outputs": [
    {
     "data": {
      "text/plain": [
       "3×2 Matrix{Int64}:\n",
       "  4   5\n",
       "  8  10\n",
       " 12  15"
      ]
     },
     "execution_count": 43,
     "metadata": {},
     "output_type": "execute_result"
    }
   ],
   "source": [
    "[1,2,3] .* [4,5]'"
   ]
  },
  {
   "cell_type": "markdown",
   "metadata": {},
   "source": [
    "Since `size([1,2,3],2) == 1` it repeats the same vector to match the size\n",
    "`size([4,5]',2) == 2`. Similarly, `[4,5]'` is repeated 3 times. So the\n",
    "above is equivalent to:"
   ]
  },
  {
   "cell_type": "code",
   "execution_count": 44,
   "metadata": {
    "execution": {
     "iopub.execute_input": "2022-01-05T16:14:24.981110Z",
     "iopub.status.busy": "2022-01-05T16:14:24.980485Z",
     "iopub.status.idle": "2022-01-05T16:14:24.983521Z",
     "shell.execute_reply": "2022-01-05T16:14:24.983141Z"
    }
   },
   "outputs": [
    {
     "data": {
      "text/plain": [
       "3×2 Matrix{Int64}:\n",
       "  4   5\n",
       "  8  10\n",
       " 12  15"
      ]
     },
     "execution_count": 44,
     "metadata": {},
     "output_type": "execute_result"
    }
   ],
   "source": [
    "[1 1; 2 2; 3 3] .* [4 5; 4 5; 4 5]"
   ]
  },
  {
   "cell_type": "markdown",
   "metadata": {},
   "source": [
    "Note we can also use broadcasting with our own functions (construction discussed later):"
   ]
  },
  {
   "cell_type": "code",
   "execution_count": 45,
   "metadata": {
    "execution": {
     "iopub.execute_input": "2022-01-05T16:14:24.985660Z",
     "iopub.status.busy": "2022-01-05T16:14:24.985053Z",
     "iopub.status.idle": "2022-01-05T16:14:25.375146Z",
     "shell.execute_reply": "2022-01-05T16:14:25.374686Z"
    }
   },
   "outputs": [
    {
     "data": {
      "text/plain": [
       "3×2 Matrix{Float64}:\n",
       " -0.91113    0.0044257\n",
       " -0.839072   0.843854\n",
       "  0.0044257  0.907447"
      ]
     },
     "execution_count": 45,
     "metadata": {},
     "output_type": "execute_result"
    }
   ],
   "source": [
    "f = (x,y) -> cos(x + 2y)\n",
    "f.([1,2,3], [4,5]')"
   ]
  },
  {
   "cell_type": "markdown",
   "metadata": {},
   "source": [
    "### Ranges\n",
    "\n",
    "We have already seen that we can represent a range of integers via `a:b`. Note we can\n",
    "convert it to a `Vector` as follows:"
   ]
  },
  {
   "cell_type": "code",
   "execution_count": 46,
   "metadata": {
    "execution": {
     "iopub.execute_input": "2022-01-05T16:14:25.377151Z",
     "iopub.status.busy": "2022-01-05T16:14:25.376662Z",
     "iopub.status.idle": "2022-01-05T16:14:25.387831Z",
     "shell.execute_reply": "2022-01-05T16:14:25.387390Z"
    }
   },
   "outputs": [
    {
     "data": {
      "text/plain": [
       "5-element Vector{Int64}:\n",
       " 2\n",
       " 3\n",
       " 4\n",
       " 5\n",
       " 6"
      ]
     },
     "execution_count": 46,
     "metadata": {},
     "output_type": "execute_result"
    }
   ],
   "source": [
    "Vector(2:6)"
   ]
  },
  {
   "cell_type": "markdown",
   "metadata": {},
   "source": [
    "We can also specify a step:"
   ]
  },
  {
   "cell_type": "code",
   "execution_count": 47,
   "metadata": {
    "execution": {
     "iopub.execute_input": "2022-01-05T16:14:25.389915Z",
     "iopub.status.busy": "2022-01-05T16:14:25.389372Z",
     "iopub.status.idle": "2022-01-05T16:14:25.678971Z",
     "shell.execute_reply": "2022-01-05T16:14:25.678574Z"
    }
   },
   "outputs": [
    {
     "data": {
      "text/plain": [
       "([2, 4, 6], [6, 5, 4, 3, 2])"
      ]
     },
     "execution_count": 47,
     "metadata": {},
     "output_type": "execute_result"
    }
   ],
   "source": [
    "Vector(2:2:6), Vector(6:-1:2)"
   ]
  },
  {
   "cell_type": "markdown",
   "metadata": {},
   "source": [
    "Finally, the `range` function gives more functionality, for example, we can create 4 evenly\n",
    "spaced points between `-1` and `1`:"
   ]
  },
  {
   "cell_type": "code",
   "execution_count": 48,
   "metadata": {
    "execution": {
     "iopub.execute_input": "2022-01-05T16:14:25.680773Z",
     "iopub.status.busy": "2022-01-05T16:14:25.680262Z",
     "iopub.status.idle": "2022-01-05T16:14:25.796697Z",
     "shell.execute_reply": "2022-01-05T16:14:25.796316Z"
    }
   },
   "outputs": [
    {
     "data": {
      "text/plain": [
       "4-element Vector{Float64}:\n",
       " -1.0\n",
       " -0.3333333333333333\n",
       "  0.3333333333333333\n",
       "  1.0"
      ]
     },
     "execution_count": 48,
     "metadata": {},
     "output_type": "execute_result"
    }
   ],
   "source": [
    "Vector(range(-1, 1; length=4))"
   ]
  },
  {
   "cell_type": "markdown",
   "metadata": {},
   "source": [
    "Note that `Vector` is mutable but a range is not:"
   ]
  },
  {
   "cell_type": "code",
   "execution_count": 49,
   "metadata": {
    "execution": {
     "iopub.execute_input": "2022-01-05T16:14:25.798713Z",
     "iopub.status.busy": "2022-01-05T16:14:25.798141Z",
     "iopub.status.idle": "2022-01-05T16:14:25.850552Z",
     "shell.execute_reply": "2022-01-05T16:14:25.850108Z"
    }
   },
   "outputs": [
    {
     "ename": "LoadError",
     "evalue": "setindex! not defined for UnitRange{Int64}",
     "output_type": "error",
     "traceback": [
      "setindex! not defined for UnitRange{Int64}",
      "",
      "Stacktrace:",
      " [1] error(::String, ::Type)",
      "   @ Base ./error.jl:42",
      " [2] error_if_canonical_setindex(#unused#::IndexLinear, A::UnitRange{Int64}, #unused#::Int64)",
      "   @ Base ./abstractarray.jl:1323",
      " [3] setindex!(A::UnitRange{Int64}, v::Int64, I::Int64)",
      "   @ Base ./abstractarray.jl:1314",
      " [4] top-level scope",
      "   @ In[49]:2",
      " [5] eval",
      "   @ ./boot.jl:373 [inlined]",
      " [6] include_string(mapexpr::typeof(REPL.softscope), mod::Module, code::String, filename::String)",
      "   @ Base ./loading.jl:1196"
     ]
    }
   ],
   "source": [
    "r = 2:6\n",
    "r[2] = 3   # Not allowed"
   ]
  },
  {
   "cell_type": "markdown",
   "metadata": {},
   "source": [
    "## 4. Types\n",
    "\n",
    "\n",
    "Julia has two different kinds of types: primitive types (like `Int64`, `Int32`, `UInt32` and `Char`) and composite types.\n",
    "Here is an example of an in-built composite type representing complex numbers, for example,\n",
    "$z = 1+2{\\rm i}$:"
   ]
  },
  {
   "cell_type": "code",
   "execution_count": 50,
   "metadata": {
    "execution": {
     "iopub.execute_input": "2022-01-05T16:14:25.852551Z",
     "iopub.status.busy": "2022-01-05T16:14:25.852059Z",
     "iopub.status.idle": "2022-01-05T16:14:25.864076Z",
     "shell.execute_reply": "2022-01-05T16:14:25.863635Z"
    }
   },
   "outputs": [
    {
     "data": {
      "text/plain": [
       "Complex{Int64}"
      ]
     },
     "execution_count": 50,
     "metadata": {},
     "output_type": "execute_result"
    }
   ],
   "source": [
    "z = 1 + 2im\n",
    "typeof(z)"
   ]
  },
  {
   "cell_type": "markdown",
   "metadata": {},
   "source": [
    "A complex number consists of two fields: a real part (denoted `re`)\n",
    "and an imaginary part (denoted `im`).\n",
    "Fields of a type can be accessed using the `.` notation:"
   ]
  },
  {
   "cell_type": "code",
   "execution_count": 51,
   "metadata": {
    "execution": {
     "iopub.execute_input": "2022-01-05T16:14:25.866039Z",
     "iopub.status.busy": "2022-01-05T16:14:25.865518Z",
     "iopub.status.idle": "2022-01-05T16:14:25.871547Z",
     "shell.execute_reply": "2022-01-05T16:14:25.871156Z"
    }
   },
   "outputs": [
    {
     "data": {
      "text/plain": [
       "(1, 2)"
      ]
     },
     "execution_count": 51,
     "metadata": {},
     "output_type": "execute_result"
    }
   ],
   "source": [
    "z.re, z.im"
   ]
  },
  {
   "cell_type": "markdown",
   "metadata": {},
   "source": [
    "We can make our own types.  Let's make a type to represent complex numbers in the format\n",
    "$$z=r {\\rm exp}({\\rm i}\\theta)$$\n",
    "That is, we want to create a type with two fields: `r` and `θ`.\n",
    "This is done using the `struct` syntax,\n",
    "followed by a list of names for the fields,\n",
    "and finally the keyword `end`."
   ]
  },
  {
   "cell_type": "code",
   "execution_count": 52,
   "metadata": {
    "execution": {
     "iopub.execute_input": "2022-01-05T16:14:25.874231Z",
     "iopub.status.busy": "2022-01-05T16:14:25.873178Z",
     "iopub.status.idle": "2022-01-05T16:14:26.171625Z",
     "shell.execute_reply": "2022-01-05T16:14:26.171184Z"
    }
   },
   "outputs": [
    {
     "data": {
      "text/plain": [
       "RadialComplex(1, 0.1)"
      ]
     },
     "execution_count": 52,
     "metadata": {},
     "output_type": "execute_result"
    }
   ],
   "source": [
    "struct RadialComplex\n",
    "    r\n",
    "    θ\n",
    "end\n",
    "z = RadialComplex(1,0.1)"
   ]
  },
  {
   "cell_type": "markdown",
   "metadata": {},
   "source": [
    "We can access the fields using `.`:"
   ]
  },
  {
   "cell_type": "code",
   "execution_count": 53,
   "metadata": {
    "execution": {
     "iopub.execute_input": "2022-01-05T16:14:26.174477Z",
     "iopub.status.busy": "2022-01-05T16:14:26.173642Z",
     "iopub.status.idle": "2022-01-05T16:14:26.464249Z",
     "shell.execute_reply": "2022-01-05T16:14:26.463873Z"
    }
   },
   "outputs": [
    {
     "data": {
      "text/plain": [
       "(1, 0.1)"
      ]
     },
     "execution_count": 53,
     "metadata": {},
     "output_type": "execute_result"
    }
   ],
   "source": [
    "z.r, z.θ"
   ]
  },
  {
   "cell_type": "markdown",
   "metadata": {},
   "source": [
    "Note that the fields are immutable: we can create\n",
    "a new `RadialComplex` but we cannot modify an existing one.\n",
    "To make a mutable type we use the command `mutable struct`:"
   ]
  },
  {
   "cell_type": "code",
   "execution_count": 54,
   "metadata": {
    "execution": {
     "iopub.execute_input": "2022-01-05T16:14:26.466488Z",
     "iopub.status.busy": "2022-01-05T16:14:26.465806Z",
     "iopub.status.idle": "2022-01-05T16:14:26.682564Z",
     "shell.execute_reply": "2022-01-05T16:14:26.682170Z"
    }
   },
   "outputs": [
    {
     "data": {
      "text/plain": [
       "MutableRadialComplex(2, 3)"
      ]
     },
     "execution_count": 54,
     "metadata": {},
     "output_type": "execute_result"
    }
   ],
   "source": [
    "mutable struct MutableRadialComplex\n",
    "    r\n",
    "    θ\n",
    "end\n",
    "\n",
    "z = MutableRadialComplex(1,2)\n",
    "z.r = 2\n",
    "z.θ = 3\n",
    "z"
   ]
  },
  {
   "cell_type": "markdown",
   "metadata": {},
   "source": [
    "### Abstract types\n",
    "\n",
    "Every type is a sub-type of an _abstract type_, which can never be instantiated on its own.\n",
    "For example, every integer and floating point number is a real number.  \n",
    "Therefore, there is an abstract type `Real`, which encapsulates many other types, \n",
    "including `Float64`, `Float32`, `Int64` and `Int32`.  \n",
    "\n",
    "We can test if type `T` is part of an abstract type `V` using the sytax `T <: V`:"
   ]
  },
  {
   "cell_type": "code",
   "execution_count": 55,
   "metadata": {
    "execution": {
     "iopub.execute_input": "2022-01-05T16:14:26.684473Z",
     "iopub.status.busy": "2022-01-05T16:14:26.683954Z",
     "iopub.status.idle": "2022-01-05T16:14:26.966869Z",
     "shell.execute_reply": "2022-01-05T16:14:26.966421Z"
    }
   },
   "outputs": [
    {
     "data": {
      "text/plain": [
       "(true, true, true)"
      ]
     },
     "execution_count": 55,
     "metadata": {},
     "output_type": "execute_result"
    }
   ],
   "source": [
    "Float64 <: Real, Float32 <: Real, Int64 <: Real"
   ]
  },
  {
   "cell_type": "markdown",
   "metadata": {},
   "source": [
    "Every type has one and only one super type, which is _always_ an abstract type.  \n",
    "The function `supertype` applied to a type returns its super type:"
   ]
  },
  {
   "cell_type": "code",
   "execution_count": 56,
   "metadata": {
    "execution": {
     "iopub.execute_input": "2022-01-05T16:14:26.968740Z",
     "iopub.status.busy": "2022-01-05T16:14:26.968155Z",
     "iopub.status.idle": "2022-01-05T16:14:26.972216Z",
     "shell.execute_reply": "2022-01-05T16:14:26.971710Z"
    }
   },
   "outputs": [
    {
     "data": {
      "text/plain": [
       "Signed"
      ]
     },
     "execution_count": 56,
     "metadata": {},
     "output_type": "execute_result"
    }
   ],
   "source": [
    "supertype(Int32)  # returns Signed, which represents all signed integers."
   ]
  },
  {
   "cell_type": "code",
   "execution_count": 57,
   "metadata": {
    "execution": {
     "iopub.execute_input": "2022-01-05T16:14:26.974575Z",
     "iopub.status.busy": "2022-01-05T16:14:26.973911Z",
     "iopub.status.idle": "2022-01-05T16:14:26.976323Z",
     "shell.execute_reply": "2022-01-05T16:14:26.975925Z"
    }
   },
   "outputs": [
    {
     "data": {
      "text/plain": [
       "AbstractFloat"
      ]
     },
     "execution_count": 57,
     "metadata": {},
     "output_type": "execute_result"
    }
   ],
   "source": [
    "supertype(Float32) # returns `AbstractFloat`, which is a subtype of `Real`"
   ]
  },
  {
   "cell_type": "markdown",
   "metadata": {},
   "source": [
    "An abstract type also has a super type:"
   ]
  },
  {
   "cell_type": "code",
   "execution_count": 58,
   "metadata": {
    "execution": {
     "iopub.execute_input": "2022-01-05T16:14:26.978216Z",
     "iopub.status.busy": "2022-01-05T16:14:26.977585Z",
     "iopub.status.idle": "2022-01-05T16:14:26.979975Z",
     "shell.execute_reply": "2022-01-05T16:14:26.979557Z"
    }
   },
   "outputs": [
    {
     "data": {
      "text/plain": [
       "Number"
      ]
     },
     "execution_count": 58,
     "metadata": {},
     "output_type": "execute_result"
    }
   ],
   "source": [
    "supertype(Real)"
   ]
  },
  {
   "cell_type": "markdown",
   "metadata": {},
   "source": [
    "### Type annotation and templating\n",
    "\n",
    "The types `RadialComplex` and `MutableRadialComplex` \n",
    "won't be efficient as we have not told the compiler\n",
    "the type of `r` and `θ`. For the purposes of this module,\n",
    "this is fine as we are not focussing on high performance\n",
    "computing. However, it may be of interest how to rectify this.\n",
    "\n",
    "\n",
    "We can impose a type on the field name with `::`:"
   ]
  },
  {
   "cell_type": "code",
   "execution_count": 59,
   "metadata": {
    "execution": {
     "iopub.execute_input": "2022-01-05T16:14:26.981754Z",
     "iopub.status.busy": "2022-01-05T16:14:26.981210Z",
     "iopub.status.idle": "2022-01-05T16:14:27.280258Z",
     "shell.execute_reply": "2022-01-05T16:14:27.279805Z"
    }
   },
   "outputs": [
    {
     "data": {
      "text/plain": [
       "(1.0, 0.1)"
      ]
     },
     "execution_count": 59,
     "metadata": {},
     "output_type": "execute_result"
    }
   ],
   "source": [
    "struct FastRadialComplex\n",
    "    r::Float64\n",
    "    θ::Float64\n",
    "end\n",
    "z = FastRadialComplex(1,0.1)\n",
    "z.r, z.θ"
   ]
  },
  {
   "cell_type": "markdown",
   "metadata": {},
   "source": [
    "In this case `z` is stored using precisely 128-bits.\n",
    "\n",
    "Sometimes we want to support multiple types.\n",
    "For example, we may wish to support 32-bit\n",
    "floats. This can be done as follows:"
   ]
  },
  {
   "cell_type": "code",
   "execution_count": 60,
   "metadata": {
    "execution": {
     "iopub.execute_input": "2022-01-05T16:14:27.282330Z",
     "iopub.status.busy": "2022-01-05T16:14:27.281751Z",
     "iopub.status.idle": "2022-01-05T16:14:27.515618Z",
     "shell.execute_reply": "2022-01-05T16:14:27.515192Z"
    }
   },
   "outputs": [
    {
     "data": {
      "text/plain": [
       "TemplatedRadialComplex{Float32}(1.0f0, 0.1f0)"
      ]
     },
     "execution_count": 60,
     "metadata": {},
     "output_type": "execute_result"
    }
   ],
   "source": [
    "struct TemplatedRadialComplex{T}\n",
    "    r::T\n",
    "    θ::T\n",
    "end\n",
    "z = TemplatedRadialComplex(1f0,0.1f0) # f0 creates a `Float32`"
   ]
  },
  {
   "cell_type": "markdown",
   "metadata": {},
   "source": [
    "This is stored in precisely 64-bits.\n",
    "\n",
    "\n",
    "### Relationship with C structs, heap and stack (advanced)\n",
    "\n",
    "For those familiar with C, a `struct` in Julia\n",
    "whose fields are primitive types or composite\n",
    "types built from primitive types,\n",
    "is exactly equivalent to a `struct` C,\n",
    "and can in fact be passed to C functions without\n",
    "any performance cost. Behind the scenes Julia uses the\n",
    "LLVM compiler and so C and Julia can be freely mixed.\n",
    "\n",
    "Another thing to note is that there are two types of\n",
    "memory: the [stack](https://en.wikipedia.org/wiki/Stack-based_memory_allocation)\n",
    "and the [heap](https://en.wikipedia.org/wiki/Memory_management). The stack has\n",
    "fixed memory length and is much\n",
    "faster as it avoids dynamic allocation and deallocation of memory.\n",
    "So an instance of a type with a known fixed length\n",
    "(like `FastRadialComplex`) will\n",
    "typically be in the stack and be much faster than\n",
    "an instance of a type with unknown or variable length\n",
    "(like `RadialComplex` or `Vector`), which will be on the heap.\n",
    "\n",
    "For stack-allocated instances, the compiler may even go a step further\n",
    "and compile a function so\n",
    "that an instance of a type only lives on the cache or even in registers.\n",
    "\n",
    "## 5. Loops and branches\n",
    "\n",
    "For loops work essentially the same as in Python. The one\n",
    "caveat is to remember we are using 1-based indexing, e.g.,\n",
    "`1:5` is a range consisting of `[1,2,3,4,5]`:"
   ]
  },
  {
   "cell_type": "code",
   "execution_count": 61,
   "metadata": {
    "execution": {
     "iopub.execute_input": "2022-01-05T16:14:27.517660Z",
     "iopub.status.busy": "2022-01-05T16:14:27.517131Z",
     "iopub.status.idle": "2022-01-05T16:14:27.551738Z",
     "shell.execute_reply": "2022-01-05T16:14:27.551388Z"
    }
   },
   "outputs": [
    {
     "name": "stdout",
     "output_type": "stream",
     "text": [
      "1\n",
      "4\n",
      "9\n",
      "16\n",
      "25\n"
     ]
    }
   ],
   "source": [
    "for k = 1:5\n",
    "    println(k^2) \n",
    "end"
   ]
  },
  {
   "cell_type": "markdown",
   "metadata": {},
   "source": [
    "While loops look like"
   ]
  },
  {
   "cell_type": "code",
   "execution_count": 62,
   "metadata": {
    "execution": {
     "iopub.execute_input": "2022-01-05T16:14:27.553513Z",
     "iopub.status.busy": "2022-01-05T16:14:27.553026Z",
     "iopub.status.idle": "2022-01-05T16:14:27.562622Z",
     "shell.execute_reply": "2022-01-05T16:14:27.561873Z"
    }
   },
   "outputs": [
    {
     "name": "stdout",
     "output_type": "stream",
     "text": [
      "x is 1 which is less than 5, incrementing!\n",
      "x is 2 which is less than 5, incrementing!\n",
      "x is 3 which is less than 5, incrementing!\n",
      "x is 4 which is less than 5, incrementing!\n"
     ]
    },
    {
     "data": {
      "text/plain": [
       "5"
      ]
     },
     "execution_count": 62,
     "metadata": {},
     "output_type": "execute_result"
    }
   ],
   "source": [
    "x = 1\n",
    "while x < 5\n",
    "    println(\"x is $x which is less than 5, incrementing!\")\n",
    "    x += 1\n",
    "end\n",
    "x"
   ]
  },
  {
   "cell_type": "markdown",
   "metadata": {},
   "source": [
    "If-elseif-else statements look like:"
   ]
  },
  {
   "cell_type": "code",
   "execution_count": 63,
   "metadata": {
    "execution": {
     "iopub.execute_input": "2022-01-05T16:14:27.564644Z",
     "iopub.status.busy": "2022-01-05T16:14:27.564132Z",
     "iopub.status.idle": "2022-01-05T16:14:27.569140Z",
     "shell.execute_reply": "2022-01-05T16:14:27.568718Z"
    }
   },
   "outputs": [
    {
     "name": "stdout",
     "output_type": "stream",
     "text": [
      "it's odd\n"
     ]
    }
   ],
   "source": [
    "x = 5\n",
    "if isodd(x)\n",
    "    println(\"it's odd\")\n",
    "elseif x == 2\n",
    "    println(\"it's 2\")\n",
    "else\n",
    "    println(\"it's even\")\n",
    "end"
   ]
  },
  {
   "cell_type": "markdown",
   "metadata": {},
   "source": [
    "## 6. Functions\n",
    "\n",
    "Functions are created in a number of ways.\n",
    "The most standard way is using the keyword `function`, \n",
    "followed by a name for the function, \n",
    "and in parentheses a list of arguments.  \n",
    "Let's make a function that takes in a \n",
    "single number $x$ and returns $x^2$."
   ]
  },
  {
   "cell_type": "code",
   "execution_count": 64,
   "metadata": {
    "execution": {
     "iopub.execute_input": "2022-01-05T16:14:27.571281Z",
     "iopub.status.busy": "2022-01-05T16:14:27.570771Z",
     "iopub.status.idle": "2022-01-05T16:14:27.576227Z",
     "shell.execute_reply": "2022-01-05T16:14:27.575846Z"
    }
   },
   "outputs": [
    {
     "data": {
      "text/plain": [
       "(4, 9)"
      ]
     },
     "execution_count": 64,
     "metadata": {},
     "output_type": "execute_result"
    }
   ],
   "source": [
    "function sq(x)\n",
    "   x^2 \n",
    "end\n",
    "sq(2), sq(3)"
   ]
  },
  {
   "cell_type": "markdown",
   "metadata": {},
   "source": [
    "There is also a convenient syntax for defining functions on\n",
    "one line, e.g., we can also write"
   ]
  },
  {
   "cell_type": "code",
   "execution_count": 65,
   "metadata": {
    "execution": {
     "iopub.execute_input": "2022-01-05T16:14:27.578132Z",
     "iopub.status.busy": "2022-01-05T16:14:27.577629Z",
     "iopub.status.idle": "2022-01-05T16:14:27.777644Z",
     "shell.execute_reply": "2022-01-05T16:14:27.777227Z"
    }
   },
   "outputs": [
    {
     "data": {
      "text/plain": [
       "sq (generic function with 1 method)"
      ]
     },
     "execution_count": 65,
     "metadata": {},
     "output_type": "execute_result"
    }
   ],
   "source": [
    "sq(x) = x^2"
   ]
  },
  {
   "cell_type": "markdown",
   "metadata": {},
   "source": [
    "Multiple arguments to the function can be included with `,`.  \n",
    "Here's a function that takes in 3 arguments and returns the average.  \n",
    "(We write it on 3 lines only to show that functions can take multiple lines.)"
   ]
  },
  {
   "cell_type": "code",
   "execution_count": 66,
   "metadata": {
    "execution": {
     "iopub.execute_input": "2022-01-05T16:14:27.779954Z",
     "iopub.status.busy": "2022-01-05T16:14:27.779415Z",
     "iopub.status.idle": "2022-01-05T16:14:27.785481Z",
     "shell.execute_reply": "2022-01-05T16:14:27.785038Z"
    }
   },
   "outputs": [
    {
     "data": {
      "text/plain": [
       "2.0"
      ]
     },
     "execution_count": 66,
     "metadata": {},
     "output_type": "execute_result"
    }
   ],
   "source": [
    "function av(x, y, z)\n",
    "    ret = x + y\n",
    "    ret = ret + z\n",
    "    ret/3\n",
    "end\n",
    "av(1, 2, 3)"
   ]
  },
  {
   "cell_type": "markdown",
   "metadata": {},
   "source": [
    "Variables live in different scopes.  In the previous example, `x`, `y`, `z` and `ret` are _local variables_: \n",
    "they only exist inside of `av`.  \n",
    "So this means `x` and `z` are _not_ the same as our complex number `x` and `z` defined above.\n",
    "\n",
    "**Warning**: if you reference variables not defined inside the function, they will use the outer scope definition.  \n",
    "The following example shows that if we mistype the first argument as `xx`, \n",
    "then it takes on the outer scope definition `x`, which is a complex number:"
   ]
  },
  {
   "cell_type": "code",
   "execution_count": 67,
   "metadata": {
    "execution": {
     "iopub.execute_input": "2022-01-05T16:14:27.787741Z",
     "iopub.status.busy": "2022-01-05T16:14:27.787121Z",
     "iopub.status.idle": "2022-01-05T16:14:27.867214Z",
     "shell.execute_reply": "2022-01-05T16:14:27.866782Z"
    }
   },
   "outputs": [
    {
     "data": {
      "text/plain": [
       "av2 (generic function with 1 method)"
      ]
     },
     "execution_count": 67,
     "metadata": {},
     "output_type": "execute_result"
    }
   ],
   "source": [
    "function av2(xx, y, z)\n",
    "    (x + y + z)/3\n",
    "end"
   ]
  },
  {
   "cell_type": "markdown",
   "metadata": {},
   "source": [
    "You should almost never use this feature!!  \n",
    "We should ideally be able to predict the output of a function from knowing just the inputs.\n",
    "\n",
    "**Example**\n",
    "Let's create a function that calculates the average of the entries of a vector."
   ]
  },
  {
   "cell_type": "code",
   "execution_count": 68,
   "metadata": {
    "execution": {
     "iopub.execute_input": "2022-01-05T16:14:27.869147Z",
     "iopub.status.busy": "2022-01-05T16:14:27.868630Z",
     "iopub.status.idle": "2022-01-05T16:14:27.881413Z",
     "shell.execute_reply": "2022-01-05T16:14:27.880913Z"
    }
   },
   "outputs": [
    {
     "data": {
      "text/plain": [
       "3.5"
      ]
     },
     "execution_count": 68,
     "metadata": {},
     "output_type": "execute_result"
    }
   ],
   "source": [
    "function vecaverage(v)\n",
    "    ret=0\n",
    "    for k = 1:length(v)\n",
    "        ret = ret + v[k]\n",
    "    end\n",
    "    ret/length(v)\n",
    "end\n",
    "vecaverage([1,5,2,3,8,2])"
   ]
  },
  {
   "cell_type": "markdown",
   "metadata": {},
   "source": [
    "Julia has an inbuilt `sum` command that we can use to check our code:"
   ]
  },
  {
   "cell_type": "code",
   "execution_count": 69,
   "metadata": {
    "execution": {
     "iopub.execute_input": "2022-01-05T16:14:27.883264Z",
     "iopub.status.busy": "2022-01-05T16:14:27.882764Z",
     "iopub.status.idle": "2022-01-05T16:14:27.892883Z",
     "shell.execute_reply": "2022-01-05T16:14:27.892208Z"
    }
   },
   "outputs": [
    {
     "data": {
      "text/plain": [
       "3.5"
      ]
     },
     "execution_count": 69,
     "metadata": {},
     "output_type": "execute_result"
    }
   ],
   "source": [
    "sum([1,5,2,3,8,2])/6"
   ]
  },
  {
   "cell_type": "markdown",
   "metadata": {},
   "source": [
    "### Functions with type signatures\n",
    "\n",
    "functions can be defined only for specific types using `::` after the variable name.\n",
    "The same function name can be used with different type signatures.  \n",
    "\n",
    "The following defines a function `mydot` that calculates the dot product, with a definition changing\n",
    "depending on whether it is an `Integer` or a `Vector`.  \n",
    "Note that `Integer` is an abstract type that includes all integer types:\n",
    "`mydot` is defined for pairs of `Int64`'s, `Int32`'s, etc."
   ]
  },
  {
   "cell_type": "code",
   "execution_count": 70,
   "metadata": {
    "execution": {
     "iopub.execute_input": "2022-01-05T16:14:27.894933Z",
     "iopub.status.busy": "2022-01-05T16:14:27.894438Z",
     "iopub.status.idle": "2022-01-05T16:14:27.900184Z",
     "shell.execute_reply": "2022-01-05T16:14:27.899804Z"
    }
   },
   "outputs": [
    {
     "data": {
      "text/plain": [
       "30"
      ]
     },
     "execution_count": 70,
     "metadata": {},
     "output_type": "execute_result"
    }
   ],
   "source": [
    "function mydot(a::Integer, b::Integer)\n",
    "    a*b\n",
    "end\n",
    "\n",
    "function mydot(a::AbstractVector, b::AbstractVector)\n",
    "    # we assume length(a)  == length(b)\n",
    "    ret = 0\n",
    "    for k = 1:length(a)\n",
    "        ret = ret + a[k]*b[k]\n",
    "    end\n",
    "    ret\n",
    "end\n",
    "\n",
    "mydot(5, 6)  # calls the first definition"
   ]
  },
  {
   "cell_type": "code",
   "execution_count": 71,
   "metadata": {
    "execution": {
     "iopub.execute_input": "2022-01-05T16:14:27.901986Z",
     "iopub.status.busy": "2022-01-05T16:14:27.901493Z",
     "iopub.status.idle": "2022-01-05T16:14:28.119252Z",
     "shell.execute_reply": "2022-01-05T16:14:28.118770Z"
    }
   },
   "outputs": [
    {
     "data": {
      "text/plain": [
       "30"
      ]
     },
     "execution_count": 71,
     "metadata": {},
     "output_type": "execute_result"
    }
   ],
   "source": [
    "mydot(Int8(5), Int8(6))   # also calls the first definition"
   ]
  },
  {
   "cell_type": "code",
   "execution_count": 72,
   "metadata": {
    "execution": {
     "iopub.execute_input": "2022-01-05T16:14:28.121084Z",
     "iopub.status.busy": "2022-01-05T16:14:28.120571Z",
     "iopub.status.idle": "2022-01-05T16:14:28.132506Z",
     "shell.execute_reply": "2022-01-05T16:14:28.132047Z"
    }
   },
   "outputs": [
    {
     "data": {
      "text/plain": [
       "32"
      ]
     },
     "execution_count": 72,
     "metadata": {},
     "output_type": "execute_result"
    }
   ],
   "source": [
    "mydot(1:3, [4,5,6])    # calls the second definition"
   ]
  },
  {
   "cell_type": "markdown",
   "metadata": {},
   "source": [
    "We should actually check that the lengths of `a` and `b` match.  \n",
    "Let's rewrite `mydot` using an `if`, `else` statement.  The following code only does \n",
    "the for loop if the length of a is equal to the length of b, otherwise, it throws an error.\n",
    "\n",
    "If we name something with the exact same signature (name, and argument types),\n",
    "previous definitions get overriden. Here we correct the implementation of `mydot`\n",
    "to throw an error if the lengths of the inputs do not match:"
   ]
  },
  {
   "cell_type": "code",
   "execution_count": 73,
   "metadata": {
    "execution": {
     "iopub.execute_input": "2022-01-05T16:14:28.134481Z",
     "iopub.status.busy": "2022-01-05T16:14:28.133931Z",
     "iopub.status.idle": "2022-01-05T16:14:28.158703Z",
     "shell.execute_reply": "2022-01-05T16:14:28.157969Z"
    }
   },
   "outputs": [
    {
     "ename": "LoadError",
     "evalue": "arguments have different lengths",
     "output_type": "error",
     "traceback": [
      "arguments have different lengths",
      "",
      "Stacktrace:",
      " [1] error(s::String)",
      "   @ Base ./error.jl:33",
      " [2] mydot(a::Vector{Int64}, b::Vector{Int64})",
      "   @ Main ./In[73]:8",
      " [3] top-level scope",
      "   @ In[73]:12",
      " [4] eval",
      "   @ ./boot.jl:373 [inlined]",
      " [5] include_string(mapexpr::typeof(REPL.softscope), mod::Module, code::String, filename::String)",
      "   @ Base ./loading.jl:1196"
     ]
    }
   ],
   "source": [
    "function mydot(a::AbstractVector, b::AbstractVector)\n",
    "    ret=0    \n",
    "    if length(a) == length(b)\n",
    "        for k = 1:length(a)\n",
    "            ret = ret + a[k]*b[k]\n",
    "        end\n",
    "    else\n",
    "        error(\"arguments have different lengths\") \n",
    "    end\n",
    "    ret    \n",
    "end\n",
    "mydot([1,2,3], [5,6,7,8])"
   ]
  },
  {
   "cell_type": "markdown",
   "metadata": {},
   "source": [
    "### Anonymous (lambda) functions\n",
    "\n",
    "Just like Python it is possible to make anonymous functions,\n",
    "with two variants on syntax:"
   ]
  },
  {
   "cell_type": "code",
   "execution_count": 74,
   "metadata": {
    "execution": {
     "iopub.execute_input": "2022-01-05T16:14:28.161212Z",
     "iopub.status.busy": "2022-01-05T16:14:28.160701Z",
     "iopub.status.idle": "2022-01-05T16:14:28.247180Z",
     "shell.execute_reply": "2022-01-05T16:14:28.246772Z"
    }
   },
   "outputs": [
    {
     "data": {
      "text/plain": [
       "#9 (generic function with 1 method)"
      ]
     },
     "execution_count": 74,
     "metadata": {},
     "output_type": "execute_result"
    }
   ],
   "source": [
    "f = x -> x^2\n",
    "g = function(x)\n",
    "    x^2\n",
    "end"
   ]
  },
  {
   "cell_type": "markdown",
   "metadata": {},
   "source": [
    "There is not much difference between named and anonymous functions,\n",
    "both are compiled in the same manner. One can essentially think of\n",
    "named functions as \"global constant anonymous functions\".\n",
    "\n",
    "### Tuples\n",
    "\n",
    "`Tuples` are similar to vectors but written with the notation `(x,y,z)` instead of `[x,y,z]`. \n",
    "They allow the storage of _different types_.  For example:"
   ]
  },
  {
   "cell_type": "code",
   "execution_count": 75,
   "metadata": {
    "execution": {
     "iopub.execute_input": "2022-01-05T16:14:28.249107Z",
     "iopub.status.busy": "2022-01-05T16:14:28.248583Z",
     "iopub.status.idle": "2022-01-05T16:14:28.546586Z",
     "shell.execute_reply": "2022-01-05T16:14:28.546209Z"
    }
   },
   "outputs": [
    {
     "data": {
      "text/plain": [
       "(1, 2.0, \"hi\")"
      ]
     },
     "execution_count": 75,
     "metadata": {},
     "output_type": "execute_result"
    }
   ],
   "source": [
    "t = (1,2.0,\"hi\")"
   ]
  },
  {
   "cell_type": "markdown",
   "metadata": {},
   "source": [
    "On the surface, this is very similar to a `Vector{Any}`:"
   ]
  },
  {
   "cell_type": "code",
   "execution_count": 76,
   "metadata": {
    "execution": {
     "iopub.execute_input": "2022-01-05T16:14:28.548481Z",
     "iopub.status.busy": "2022-01-05T16:14:28.547977Z",
     "iopub.status.idle": "2022-01-05T16:14:28.578145Z",
     "shell.execute_reply": "2022-01-05T16:14:28.577740Z"
    }
   },
   "outputs": [
    {
     "data": {
      "text/plain": [
       "3-element Vector{Any}:\n",
       " 1\n",
       " 2.0\n",
       "  \"hi\""
      ]
     },
     "execution_count": 76,
     "metadata": {},
     "output_type": "execute_result"
    }
   ],
   "source": [
    "v=[1,2.0,\"hi\"]"
   ]
  },
  {
   "cell_type": "markdown",
   "metadata": {},
   "source": [
    "The main difference is that a `Tuple` knows the type of its arguments:"
   ]
  },
  {
   "cell_type": "code",
   "execution_count": 77,
   "metadata": {
    "execution": {
     "iopub.execute_input": "2022-01-05T16:14:28.580355Z",
     "iopub.status.busy": "2022-01-05T16:14:28.579765Z",
     "iopub.status.idle": "2022-01-05T16:14:28.582301Z",
     "shell.execute_reply": "2022-01-05T16:14:28.581861Z"
    }
   },
   "outputs": [
    {
     "data": {
      "text/plain": [
       "Tuple{Int64, Float64, String}"
      ]
     },
     "execution_count": 77,
     "metadata": {},
     "output_type": "execute_result"
    }
   ],
   "source": [
    "typeof(t)"
   ]
  },
  {
   "cell_type": "markdown",
   "metadata": {},
   "source": [
    "The main benefit of tuples for us is that they provide a convenient\n",
    "way to return multiple arguments from a function. \n",
    "For example, the following returns both `cos(x)` and `x^2`\n",
    "from a single function:"
   ]
  },
  {
   "cell_type": "code",
   "execution_count": 78,
   "metadata": {
    "execution": {
     "iopub.execute_input": "2022-01-05T16:14:28.584046Z",
     "iopub.status.busy": "2022-01-05T16:14:28.583547Z",
     "iopub.status.idle": "2022-01-05T16:14:28.878038Z",
     "shell.execute_reply": "2022-01-05T16:14:28.877466Z"
    }
   },
   "outputs": [
    {
     "data": {
      "text/plain": [
       "(0.28366218546322625, 25)"
      ]
     },
     "execution_count": 78,
     "metadata": {},
     "output_type": "execute_result"
    }
   ],
   "source": [
    "function mytuplereturn(x)\n",
    "    (cos(x), x^2)\n",
    "end\n",
    "mytuplereturn(5)"
   ]
  },
  {
   "cell_type": "markdown",
   "metadata": {},
   "source": [
    "We can also employ the convenient syntax to create two variables at once:"
   ]
  },
  {
   "cell_type": "code",
   "execution_count": 79,
   "metadata": {
    "execution": {
     "iopub.execute_input": "2022-01-05T16:14:28.880228Z",
     "iopub.status.busy": "2022-01-05T16:14:28.879699Z",
     "iopub.status.idle": "2022-01-05T16:14:28.889726Z",
     "shell.execute_reply": "2022-01-05T16:14:28.889349Z"
    }
   },
   "outputs": [
    {
     "data": {
      "text/plain": [
       "(0.28366218546322625, 25)"
      ]
     },
     "execution_count": 79,
     "metadata": {},
     "output_type": "execute_result"
    }
   ],
   "source": [
    "x,y = mytuplereturn(5)"
   ]
  },
  {
   "cell_type": "markdown",
   "metadata": {},
   "source": [
    "## Modules, Packages, and Plotting\n",
    "\n",
    "Julia, like Python, has modules and packages.\n",
    "For example to load support for linear algebra functionality\n",
    "like `norm` and `det`, we need to load the `LinearAlgebra` module:"
   ]
  },
  {
   "cell_type": "code",
   "execution_count": 80,
   "metadata": {
    "execution": {
     "iopub.execute_input": "2022-01-05T16:14:28.891795Z",
     "iopub.status.busy": "2022-01-05T16:14:28.891219Z",
     "iopub.status.idle": "2022-01-05T16:14:29.177580Z",
     "shell.execute_reply": "2022-01-05T16:14:29.177157Z"
    }
   },
   "outputs": [
    {
     "data": {
      "text/plain": [
       "(3.7416573867739413, -2.0)"
      ]
     },
     "execution_count": 80,
     "metadata": {},
     "output_type": "execute_result"
    }
   ],
   "source": [
    "using LinearAlgebra\n",
    "norm([1,2,3]), det([1 2; 3 4])"
   ]
  },
  {
   "cell_type": "markdown",
   "metadata": {},
   "source": [
    "It is fairly straightword to create ones own modules and packages, however,\n",
    "we will not need modules in this....module.\n",
    "\n",
    "### Plotting\n",
    "\n",
    "Some important functionality such as plotting requires non-built in\n",
    "packages. There are many packages such as [PyPlot.jl](https://github.com/JuliaPy/PyPlot.jl),\n",
    "which wraps Python's [matplotlib](https://matplotlib.org) and\n",
    "[Makie.jl](https://github.com/JuliaPlots/Makie.jl), which is a state-of-the-art\n",
    "GPU based 3D plotting package. We will use [Plots.jl](https://github.com/JuliaPlots/Plots.jl),\n",
    "which is an umbrella package that supports different backends.\n",
    "\n",
    "For example, we can plot a simple function as follows:"
   ]
  },
  {
   "cell_type": "code",
   "execution_count": 81,
   "metadata": {
    "execution": {
     "iopub.execute_input": "2022-01-05T16:14:29.179755Z",
     "iopub.status.busy": "2022-01-05T16:14:29.179182Z",
     "iopub.status.idle": "2022-01-05T16:14:41.425412Z",
     "shell.execute_reply": "2022-01-05T16:14:41.423519Z"
    }
   },
   "outputs": [
    {
     "data": {
      "image/svg+xml": [
       "<?xml version=\"1.0\" encoding=\"utf-8\"?>\n",
       "<svg xmlns=\"http://www.w3.org/2000/svg\" xmlns:xlink=\"http://www.w3.org/1999/xlink\" width=\"600\" height=\"400\" viewBox=\"0 0 2400 1600\">\n",
       "<defs>\n",
       "  <clipPath id=\"clip440\">\n",
       "    <rect x=\"0\" y=\"0\" width=\"2400\" height=\"1600\"/>\n",
       "  </clipPath>\n",
       "</defs>\n",
       "<path clip-path=\"url(#clip440)\" d=\"\n",
       "M0 1600 L2400 1600 L2400 0 L0 0  Z\n",
       "  \" fill=\"#ffffff\" fill-rule=\"evenodd\" fill-opacity=\"1\"/>\n",
       "<defs>\n",
       "  <clipPath id=\"clip441\">\n",
       "    <rect x=\"480\" y=\"0\" width=\"1681\" height=\"1600\"/>\n",
       "  </clipPath>\n",
       "</defs>\n",
       "<path clip-path=\"url(#clip440)\" d=\"\n",
       "M156.274 1486.45 L2352.76 1486.45 L2352.76 47.2441 L156.274 47.2441  Z\n",
       "  \" fill=\"#ffffff\" fill-rule=\"evenodd\" fill-opacity=\"1\"/>\n",
       "<defs>\n",
       "  <clipPath id=\"clip442\">\n",
       "    <rect x=\"156\" y=\"47\" width=\"2197\" height=\"1440\"/>\n",
       "  </clipPath>\n",
       "</defs>\n",
       "<polyline clip-path=\"url(#clip442)\" style=\"stroke:#000000; stroke-linecap:butt; stroke-linejoin:round; stroke-width:2; stroke-opacity:0.1; fill:none\" points=\"\n",
       "  218.439,1486.45 218.439,47.2441 \n",
       "  \"/>\n",
       "<polyline clip-path=\"url(#clip442)\" style=\"stroke:#000000; stroke-linecap:butt; stroke-linejoin:round; stroke-width:2; stroke-opacity:0.1; fill:none\" points=\"\n",
       "  736.477,1486.45 736.477,47.2441 \n",
       "  \"/>\n",
       "<polyline clip-path=\"url(#clip442)\" style=\"stroke:#000000; stroke-linecap:butt; stroke-linejoin:round; stroke-width:2; stroke-opacity:0.1; fill:none\" points=\"\n",
       "  1254.52,1486.45 1254.52,47.2441 \n",
       "  \"/>\n",
       "<polyline clip-path=\"url(#clip442)\" style=\"stroke:#000000; stroke-linecap:butt; stroke-linejoin:round; stroke-width:2; stroke-opacity:0.1; fill:none\" points=\"\n",
       "  1772.55,1486.45 1772.55,47.2441 \n",
       "  \"/>\n",
       "<polyline clip-path=\"url(#clip442)\" style=\"stroke:#000000; stroke-linecap:butt; stroke-linejoin:round; stroke-width:2; stroke-opacity:0.1; fill:none\" points=\"\n",
       "  2290.59,1486.45 2290.59,47.2441 \n",
       "  \"/>\n",
       "<polyline clip-path=\"url(#clip440)\" style=\"stroke:#000000; stroke-linecap:butt; stroke-linejoin:round; stroke-width:4; stroke-opacity:1; fill:none\" points=\"\n",
       "  156.274,1486.45 2352.76,1486.45 \n",
       "  \"/>\n",
       "<polyline clip-path=\"url(#clip440)\" style=\"stroke:#000000; stroke-linecap:butt; stroke-linejoin:round; stroke-width:4; stroke-opacity:1; fill:none\" points=\"\n",
       "  218.439,1486.45 218.439,1467.55 \n",
       "  \"/>\n",
       "<polyline clip-path=\"url(#clip440)\" style=\"stroke:#000000; stroke-linecap:butt; stroke-linejoin:round; stroke-width:4; stroke-opacity:1; fill:none\" points=\"\n",
       "  736.477,1486.45 736.477,1467.55 \n",
       "  \"/>\n",
       "<polyline clip-path=\"url(#clip440)\" style=\"stroke:#000000; stroke-linecap:butt; stroke-linejoin:round; stroke-width:4; stroke-opacity:1; fill:none\" points=\"\n",
       "  1254.52,1486.45 1254.52,1467.55 \n",
       "  \"/>\n",
       "<polyline clip-path=\"url(#clip440)\" style=\"stroke:#000000; stroke-linecap:butt; stroke-linejoin:round; stroke-width:4; stroke-opacity:1; fill:none\" points=\"\n",
       "  1772.55,1486.45 1772.55,1467.55 \n",
       "  \"/>\n",
       "<polyline clip-path=\"url(#clip440)\" style=\"stroke:#000000; stroke-linecap:butt; stroke-linejoin:round; stroke-width:4; stroke-opacity:1; fill:none\" points=\"\n",
       "  2290.59,1486.45 2290.59,1467.55 \n",
       "  \"/>\n",
       "<path clip-path=\"url(#clip440)\" d=\"M164.967 1532.02 L194.643 1532.02 L194.643 1535.95 L164.967 1535.95 L164.967 1532.02 Z\" fill=\"#000000\" fill-rule=\"evenodd\" fill-opacity=\"1\" /><path clip-path=\"url(#clip440)\" d=\"M205.545 1544.91 L213.184 1544.91 L213.184 1518.55 L204.874 1520.21 L204.874 1515.95 L213.138 1514.29 L217.814 1514.29 L217.814 1544.91 L225.453 1544.91 L225.453 1548.85 L205.545 1548.85 L205.545 1544.91 Z\" fill=\"#000000\" fill-rule=\"evenodd\" fill-opacity=\"1\" /><path clip-path=\"url(#clip440)\" d=\"M234.897 1542.97 L239.781 1542.97 L239.781 1548.85 L234.897 1548.85 L234.897 1542.97 Z\" fill=\"#000000\" fill-rule=\"evenodd\" fill-opacity=\"1\" /><path clip-path=\"url(#clip440)\" d=\"M259.966 1517.37 Q256.355 1517.37 254.527 1520.93 Q252.721 1524.47 252.721 1531.6 Q252.721 1538.71 254.527 1542.27 Q256.355 1545.82 259.966 1545.82 Q263.601 1545.82 265.406 1542.27 Q267.235 1538.71 267.235 1531.6 Q267.235 1524.47 265.406 1520.93 Q263.601 1517.37 259.966 1517.37 M259.966 1513.66 Q265.776 1513.66 268.832 1518.27 Q271.911 1522.85 271.911 1531.6 Q271.911 1540.33 268.832 1544.94 Q265.776 1549.52 259.966 1549.52 Q254.156 1549.52 251.077 1544.94 Q248.022 1540.33 248.022 1531.6 Q248.022 1522.85 251.077 1518.27 Q254.156 1513.66 259.966 1513.66 Z\" fill=\"#000000\" fill-rule=\"evenodd\" fill-opacity=\"1\" /><path clip-path=\"url(#clip440)\" d=\"M683.503 1532.02 L713.178 1532.02 L713.178 1535.95 L683.503 1535.95 L683.503 1532.02 Z\" fill=\"#000000\" fill-rule=\"evenodd\" fill-opacity=\"1\" /><path clip-path=\"url(#clip440)\" d=\"M733.271 1517.37 Q729.66 1517.37 727.831 1520.93 Q726.026 1524.47 726.026 1531.6 Q726.026 1538.71 727.831 1542.27 Q729.66 1545.82 733.271 1545.82 Q736.905 1545.82 738.711 1542.27 Q740.539 1538.71 740.539 1531.6 Q740.539 1524.47 738.711 1520.93 Q736.905 1517.37 733.271 1517.37 M733.271 1513.66 Q739.081 1513.66 742.137 1518.27 Q745.215 1522.85 745.215 1531.6 Q745.215 1540.33 742.137 1544.94 Q739.081 1549.52 733.271 1549.52 Q727.461 1549.52 724.382 1544.94 Q721.327 1540.33 721.327 1531.6 Q721.327 1522.85 724.382 1518.27 Q727.461 1513.66 733.271 1513.66 Z\" fill=\"#000000\" fill-rule=\"evenodd\" fill-opacity=\"1\" /><path clip-path=\"url(#clip440)\" d=\"M753.433 1542.97 L758.317 1542.97 L758.317 1548.85 L753.433 1548.85 L753.433 1542.97 Z\" fill=\"#000000\" fill-rule=\"evenodd\" fill-opacity=\"1\" /><path clip-path=\"url(#clip440)\" d=\"M768.548 1514.29 L786.905 1514.29 L786.905 1518.22 L772.831 1518.22 L772.831 1526.7 Q773.849 1526.35 774.868 1526.19 Q775.886 1526 776.905 1526 Q782.692 1526 786.072 1529.17 Q789.451 1532.34 789.451 1537.76 Q789.451 1543.34 785.979 1546.44 Q782.507 1549.52 776.187 1549.52 Q774.011 1549.52 771.743 1549.15 Q769.498 1548.78 767.09 1548.04 L767.09 1543.34 Q769.173 1544.47 771.396 1545.03 Q773.618 1545.58 776.095 1545.58 Q780.099 1545.58 782.437 1543.48 Q784.775 1541.37 784.775 1537.76 Q784.775 1534.15 782.437 1532.04 Q780.099 1529.94 776.095 1529.94 Q774.22 1529.94 772.345 1530.35 Q770.493 1530.77 768.548 1531.65 L768.548 1514.29 Z\" fill=\"#000000\" fill-rule=\"evenodd\" fill-opacity=\"1\" /><path clip-path=\"url(#clip440)\" d=\"M1231.9 1517.37 Q1228.29 1517.37 1226.46 1520.93 Q1224.65 1524.47 1224.65 1531.6 Q1224.65 1538.71 1226.46 1542.27 Q1228.29 1545.82 1231.9 1545.82 Q1235.53 1545.82 1237.34 1542.27 Q1239.17 1538.71 1239.17 1531.6 Q1239.17 1524.47 1237.34 1520.93 Q1235.53 1517.37 1231.9 1517.37 M1231.9 1513.66 Q1237.71 1513.66 1240.77 1518.27 Q1243.84 1522.85 1243.84 1531.6 Q1243.84 1540.33 1240.77 1544.94 Q1237.71 1549.52 1231.9 1549.52 Q1226.09 1549.52 1223.01 1544.94 Q1219.96 1540.33 1219.96 1531.6 Q1219.96 1522.85 1223.01 1518.27 Q1226.09 1513.66 1231.9 1513.66 Z\" fill=\"#000000\" fill-rule=\"evenodd\" fill-opacity=\"1\" /><path clip-path=\"url(#clip440)\" d=\"M1252.06 1542.97 L1256.95 1542.97 L1256.95 1548.85 L1252.06 1548.85 L1252.06 1542.97 Z\" fill=\"#000000\" fill-rule=\"evenodd\" fill-opacity=\"1\" /><path clip-path=\"url(#clip440)\" d=\"M1277.13 1517.37 Q1273.52 1517.37 1271.69 1520.93 Q1269.89 1524.47 1269.89 1531.6 Q1269.89 1538.71 1271.69 1542.27 Q1273.52 1545.82 1277.13 1545.82 Q1280.76 1545.82 1282.57 1542.27 Q1284.4 1538.71 1284.4 1531.6 Q1284.4 1524.47 1282.57 1520.93 Q1280.76 1517.37 1277.13 1517.37 M1277.13 1513.66 Q1282.94 1513.66 1286 1518.27 Q1289.08 1522.85 1289.08 1531.6 Q1289.08 1540.33 1286 1544.94 Q1282.94 1549.52 1277.13 1549.52 Q1271.32 1549.52 1268.24 1544.94 Q1265.19 1540.33 1265.19 1531.6 Q1265.19 1522.85 1268.24 1518.27 Q1271.32 1513.66 1277.13 1513.66 Z\" fill=\"#000000\" fill-rule=\"evenodd\" fill-opacity=\"1\" /><path clip-path=\"url(#clip440)\" d=\"M1750.44 1517.37 Q1746.82 1517.37 1745 1520.93 Q1743.19 1524.47 1743.19 1531.6 Q1743.19 1538.71 1745 1542.27 Q1746.82 1545.82 1750.44 1545.82 Q1754.07 1545.82 1755.88 1542.27 Q1757.7 1538.71 1757.7 1531.6 Q1757.7 1524.47 1755.88 1520.93 Q1754.07 1517.37 1750.44 1517.37 M1750.44 1513.66 Q1756.25 1513.66 1759.3 1518.27 Q1762.38 1522.85 1762.38 1531.6 Q1762.38 1540.33 1759.3 1544.94 Q1756.25 1549.52 1750.44 1549.52 Q1744.63 1549.52 1741.55 1544.94 Q1738.49 1540.33 1738.49 1531.6 Q1738.49 1522.85 1741.55 1518.27 Q1744.63 1513.66 1750.44 1513.66 Z\" fill=\"#000000\" fill-rule=\"evenodd\" fill-opacity=\"1\" /><path clip-path=\"url(#clip440)\" d=\"M1770.6 1542.97 L1775.48 1542.97 L1775.48 1548.85 L1770.6 1548.85 L1770.6 1542.97 Z\" fill=\"#000000\" fill-rule=\"evenodd\" fill-opacity=\"1\" /><path clip-path=\"url(#clip440)\" d=\"M1785.71 1514.29 L1804.07 1514.29 L1804.07 1518.22 L1790 1518.22 L1790 1526.7 Q1791.01 1526.35 1792.03 1526.19 Q1793.05 1526 1794.07 1526 Q1799.86 1526 1803.24 1529.17 Q1806.62 1532.34 1806.62 1537.76 Q1806.62 1543.34 1803.14 1546.44 Q1799.67 1549.52 1793.35 1549.52 Q1791.18 1549.52 1788.91 1549.15 Q1786.66 1548.78 1784.25 1548.04 L1784.25 1543.34 Q1786.34 1544.47 1788.56 1545.03 Q1790.78 1545.58 1793.26 1545.58 Q1797.26 1545.58 1799.6 1543.48 Q1801.94 1541.37 1801.94 1537.76 Q1801.94 1534.15 1799.6 1532.04 Q1797.26 1529.94 1793.26 1529.94 Q1791.38 1529.94 1789.51 1530.35 Q1787.66 1530.77 1785.71 1531.65 L1785.71 1514.29 Z\" fill=\"#000000\" fill-rule=\"evenodd\" fill-opacity=\"1\" /><path clip-path=\"url(#clip440)\" d=\"M2257.74 1544.91 L2265.38 1544.91 L2265.38 1518.55 L2257.07 1520.21 L2257.07 1515.95 L2265.34 1514.29 L2270.01 1514.29 L2270.01 1544.91 L2277.65 1544.91 L2277.65 1548.85 L2257.74 1548.85 L2257.74 1544.91 Z\" fill=\"#000000\" fill-rule=\"evenodd\" fill-opacity=\"1\" /><path clip-path=\"url(#clip440)\" d=\"M2287.1 1542.97 L2291.98 1542.97 L2291.98 1548.85 L2287.1 1548.85 L2287.1 1542.97 Z\" fill=\"#000000\" fill-rule=\"evenodd\" fill-opacity=\"1\" /><path clip-path=\"url(#clip440)\" d=\"M2312.17 1517.37 Q2308.55 1517.37 2306.73 1520.93 Q2304.92 1524.47 2304.92 1531.6 Q2304.92 1538.71 2306.73 1542.27 Q2308.55 1545.82 2312.17 1545.82 Q2315.8 1545.82 2317.61 1542.27 Q2319.43 1538.71 2319.43 1531.6 Q2319.43 1524.47 2317.61 1520.93 Q2315.8 1517.37 2312.17 1517.37 M2312.17 1513.66 Q2317.98 1513.66 2321.03 1518.27 Q2324.11 1522.85 2324.11 1531.6 Q2324.11 1540.33 2321.03 1544.94 Q2317.98 1549.52 2312.17 1549.52 Q2306.36 1549.52 2303.28 1544.94 Q2300.22 1540.33 2300.22 1531.6 Q2300.22 1522.85 2303.28 1518.27 Q2306.36 1513.66 2312.17 1513.66 Z\" fill=\"#000000\" fill-rule=\"evenodd\" fill-opacity=\"1\" /><polyline clip-path=\"url(#clip442)\" style=\"stroke:#000000; stroke-linecap:butt; stroke-linejoin:round; stroke-width:2; stroke-opacity:0.1; fill:none\" points=\"\n",
       "  156.274,1390.19 2352.76,1390.19 \n",
       "  \"/>\n",
       "<polyline clip-path=\"url(#clip442)\" style=\"stroke:#000000; stroke-linecap:butt; stroke-linejoin:round; stroke-width:2; stroke-opacity:0.1; fill:none\" points=\"\n",
       "  156.274,1111.14 2352.76,1111.14 \n",
       "  \"/>\n",
       "<polyline clip-path=\"url(#clip442)\" style=\"stroke:#000000; stroke-linecap:butt; stroke-linejoin:round; stroke-width:2; stroke-opacity:0.1; fill:none\" points=\"\n",
       "  156.274,832.097 2352.76,832.097 \n",
       "  \"/>\n",
       "<polyline clip-path=\"url(#clip442)\" style=\"stroke:#000000; stroke-linecap:butt; stroke-linejoin:round; stroke-width:2; stroke-opacity:0.1; fill:none\" points=\"\n",
       "  156.274,553.051 2352.76,553.051 \n",
       "  \"/>\n",
       "<polyline clip-path=\"url(#clip442)\" style=\"stroke:#000000; stroke-linecap:butt; stroke-linejoin:round; stroke-width:2; stroke-opacity:0.1; fill:none\" points=\"\n",
       "  156.274,274.006 2352.76,274.006 \n",
       "  \"/>\n",
       "<polyline clip-path=\"url(#clip440)\" style=\"stroke:#000000; stroke-linecap:butt; stroke-linejoin:round; stroke-width:4; stroke-opacity:1; fill:none\" points=\"\n",
       "  156.274,1486.45 156.274,47.2441 \n",
       "  \"/>\n",
       "<polyline clip-path=\"url(#clip440)\" style=\"stroke:#000000; stroke-linecap:butt; stroke-linejoin:round; stroke-width:4; stroke-opacity:1; fill:none\" points=\"\n",
       "  156.274,1390.19 175.172,1390.19 \n",
       "  \"/>\n",
       "<polyline clip-path=\"url(#clip440)\" style=\"stroke:#000000; stroke-linecap:butt; stroke-linejoin:round; stroke-width:4; stroke-opacity:1; fill:none\" points=\"\n",
       "  156.274,1111.14 175.172,1111.14 \n",
       "  \"/>\n",
       "<polyline clip-path=\"url(#clip440)\" style=\"stroke:#000000; stroke-linecap:butt; stroke-linejoin:round; stroke-width:4; stroke-opacity:1; fill:none\" points=\"\n",
       "  156.274,832.097 175.172,832.097 \n",
       "  \"/>\n",
       "<polyline clip-path=\"url(#clip440)\" style=\"stroke:#000000; stroke-linecap:butt; stroke-linejoin:round; stroke-width:4; stroke-opacity:1; fill:none\" points=\"\n",
       "  156.274,553.051 175.172,553.051 \n",
       "  \"/>\n",
       "<polyline clip-path=\"url(#clip440)\" style=\"stroke:#000000; stroke-linecap:butt; stroke-linejoin:round; stroke-width:4; stroke-opacity:1; fill:none\" points=\"\n",
       "  156.274,274.006 175.172,274.006 \n",
       "  \"/>\n",
       "<path clip-path=\"url(#clip440)\" d=\"M62.9365 1375.99 Q59.3254 1375.99 57.4967 1379.55 Q55.6912 1383.09 55.6912 1390.22 Q55.6912 1397.33 57.4967 1400.89 Q59.3254 1404.44 62.9365 1404.44 Q66.5707 1404.44 68.3763 1400.89 Q70.205 1397.33 70.205 1390.22 Q70.205 1383.09 68.3763 1379.55 Q66.5707 1375.99 62.9365 1375.99 M62.9365 1372.28 Q68.7467 1372.28 71.8022 1376.89 Q74.8809 1381.47 74.8809 1390.22 Q74.8809 1398.95 71.8022 1403.56 Q68.7467 1408.14 62.9365 1408.14 Q57.1264 1408.14 54.0477 1403.56 Q50.9921 1398.95 50.9921 1390.22 Q50.9921 1381.47 54.0477 1376.89 Q57.1264 1372.28 62.9365 1372.28 Z\" fill=\"#000000\" fill-rule=\"evenodd\" fill-opacity=\"1\" /><path clip-path=\"url(#clip440)\" d=\"M83.0984 1401.59 L87.9827 1401.59 L87.9827 1407.47 L83.0984 1407.47 L83.0984 1401.59 Z\" fill=\"#000000\" fill-rule=\"evenodd\" fill-opacity=\"1\" /><path clip-path=\"url(#clip440)\" d=\"M108.746 1388.32 Q105.598 1388.32 103.746 1390.48 Q101.918 1392.63 101.918 1396.38 Q101.918 1400.11 103.746 1402.28 Q105.598 1404.44 108.746 1404.44 Q111.895 1404.44 113.723 1402.28 Q115.575 1400.11 115.575 1396.38 Q115.575 1392.63 113.723 1390.48 Q111.895 1388.32 108.746 1388.32 M118.029 1373.67 L118.029 1377.93 Q116.27 1377.1 114.464 1376.66 Q112.682 1376.22 110.922 1376.22 Q106.293 1376.22 103.839 1379.34 Q101.409 1382.47 101.061 1388.79 Q102.427 1386.77 104.487 1385.71 Q106.547 1384.62 109.024 1384.62 Q114.233 1384.62 117.242 1387.79 Q120.274 1390.94 120.274 1396.38 Q120.274 1401.7 117.126 1404.92 Q113.978 1408.14 108.746 1408.14 Q102.751 1408.14 99.5798 1403.56 Q96.4085 1398.95 96.4085 1390.22 Q96.4085 1382.03 100.297 1377.17 Q104.186 1372.28 110.737 1372.28 Q112.496 1372.28 114.279 1372.63 Q116.084 1372.98 118.029 1373.67 Z\" fill=\"#000000\" fill-rule=\"evenodd\" fill-opacity=\"1\" /><path clip-path=\"url(#clip440)\" d=\"M63.2837 1096.94 Q59.6726 1096.94 57.8439 1100.51 Q56.0384 1104.05 56.0384 1111.18 Q56.0384 1118.28 57.8439 1121.85 Q59.6726 1125.39 63.2837 1125.39 Q66.918 1125.39 68.7235 1121.85 Q70.5522 1118.28 70.5522 1111.18 Q70.5522 1104.05 68.7235 1100.51 Q66.918 1096.94 63.2837 1096.94 M63.2837 1093.24 Q69.0939 1093.24 72.1494 1097.84 Q75.2281 1102.43 75.2281 1111.18 Q75.2281 1119.9 72.1494 1124.51 Q69.0939 1129.09 63.2837 1129.09 Q57.4736 1129.09 54.3949 1124.51 Q51.3393 1119.9 51.3393 1111.18 Q51.3393 1102.43 54.3949 1097.84 Q57.4736 1093.24 63.2837 1093.24 Z\" fill=\"#000000\" fill-rule=\"evenodd\" fill-opacity=\"1\" /><path clip-path=\"url(#clip440)\" d=\"M83.4457 1122.54 L88.3299 1122.54 L88.3299 1128.42 L83.4457 1128.42 L83.4457 1122.54 Z\" fill=\"#000000\" fill-rule=\"evenodd\" fill-opacity=\"1\" /><path clip-path=\"url(#clip440)\" d=\"M98.6539 1127.7 L98.6539 1123.45 Q100.413 1124.28 102.219 1124.72 Q104.024 1125.16 105.76 1125.16 Q110.39 1125.16 112.82 1122.06 Q115.274 1118.93 115.621 1112.59 Q114.279 1114.58 112.219 1115.64 Q110.158 1116.71 107.658 1116.71 Q102.473 1116.71 99.4409 1113.58 Q96.4317 1110.44 96.4317 1105 Q96.4317 1099.67 99.5798 1096.45 Q102.728 1093.24 107.959 1093.24 Q113.955 1093.24 117.103 1097.84 Q120.274 1102.43 120.274 1111.18 Q120.274 1119.35 116.385 1124.23 Q112.52 1129.09 105.969 1129.09 Q104.209 1129.09 102.404 1128.75 Q100.598 1128.4 98.6539 1127.7 M107.959 1113.05 Q111.108 1113.05 112.936 1110.9 Q114.788 1108.75 114.788 1105 Q114.788 1101.27 112.936 1099.12 Q111.108 1096.94 107.959 1096.94 Q104.811 1096.94 102.959 1099.12 Q101.131 1101.27 101.131 1105 Q101.131 1108.75 102.959 1110.9 Q104.811 1113.05 107.959 1113.05 Z\" fill=\"#000000\" fill-rule=\"evenodd\" fill-opacity=\"1\" /><path clip-path=\"url(#clip440)\" d=\"M55.506 845.442 L63.1448 845.442 L63.1448 819.076 L54.8347 820.743 L54.8347 816.483 L63.0985 814.817 L67.7744 814.817 L67.7744 845.442 L75.4133 845.442 L75.4133 849.377 L55.506 849.377 L55.506 845.442 Z\" fill=\"#000000\" fill-rule=\"evenodd\" fill-opacity=\"1\" /><path clip-path=\"url(#clip440)\" d=\"M84.8577 843.497 L89.7419 843.497 L89.7419 849.377 L84.8577 849.377 L84.8577 843.497 Z\" fill=\"#000000\" fill-rule=\"evenodd\" fill-opacity=\"1\" /><path clip-path=\"url(#clip440)\" d=\"M103.955 845.442 L120.274 845.442 L120.274 849.377 L98.3298 849.377 L98.3298 845.442 Q100.992 842.687 105.575 838.057 Q110.182 833.405 111.362 832.062 Q113.608 829.539 114.487 827.803 Q115.39 826.044 115.39 824.354 Q115.39 821.599 113.445 819.863 Q111.524 818.127 108.422 818.127 Q106.223 818.127 103.77 818.891 Q101.339 819.655 98.5613 821.206 L98.5613 816.483 Q101.385 815.349 103.839 814.77 Q106.293 814.192 108.33 814.192 Q113.7 814.192 116.895 816.877 Q120.089 819.562 120.089 824.053 Q120.089 826.182 119.279 828.104 Q118.492 830.002 116.385 832.594 Q115.807 833.266 112.705 836.483 Q109.603 839.678 103.955 845.442 Z\" fill=\"#000000\" fill-rule=\"evenodd\" fill-opacity=\"1\" /><path clip-path=\"url(#clip440)\" d=\"M54.9041 566.396 L62.543 566.396 L62.543 540.03 L54.2328 541.697 L54.2328 537.438 L62.4967 535.771 L67.1726 535.771 L67.1726 566.396 L74.8114 566.396 L74.8114 570.331 L54.9041 570.331 L54.9041 566.396 Z\" fill=\"#000000\" fill-rule=\"evenodd\" fill-opacity=\"1\" /><path clip-path=\"url(#clip440)\" d=\"M84.2558 564.452 L89.1401 564.452 L89.1401 570.331 L84.2558 570.331 L84.2558 564.452 Z\" fill=\"#000000\" fill-rule=\"evenodd\" fill-opacity=\"1\" /><path clip-path=\"url(#clip440)\" d=\"M99.3715 535.771 L117.728 535.771 L117.728 539.706 L103.654 539.706 L103.654 548.179 Q104.672 547.831 105.691 547.669 Q106.709 547.484 107.728 547.484 Q113.515 547.484 116.895 550.655 Q120.274 553.827 120.274 559.243 Q120.274 564.822 116.802 567.924 Q113.33 571.003 107.01 571.003 Q104.834 571.003 102.566 570.632 Q100.321 570.262 97.9132 569.521 L97.9132 564.822 Q99.9965 565.956 102.219 566.512 Q104.441 567.067 106.918 567.067 Q110.922 567.067 113.26 564.961 Q115.598 562.854 115.598 559.243 Q115.598 555.632 113.26 553.526 Q110.922 551.419 106.918 551.419 Q105.043 551.419 103.168 551.836 Q101.316 552.253 99.3715 553.132 L99.3715 535.771 Z\" fill=\"#000000\" fill-rule=\"evenodd\" fill-opacity=\"1\" /><path clip-path=\"url(#clip440)\" d=\"M54.0014 287.351 L61.6402 287.351 L61.6402 260.985 L53.3301 262.652 L53.3301 258.392 L61.5939 256.726 L66.2698 256.726 L66.2698 287.351 L73.9087 287.351 L73.9087 291.286 L54.0014 291.286 L54.0014 287.351 Z\" fill=\"#000000\" fill-rule=\"evenodd\" fill-opacity=\"1\" /><path clip-path=\"url(#clip440)\" d=\"M83.3531 285.406 L88.2373 285.406 L88.2373 291.286 L83.3531 291.286 L83.3531 285.406 Z\" fill=\"#000000\" fill-rule=\"evenodd\" fill-opacity=\"1\" /><path clip-path=\"url(#clip440)\" d=\"M108.422 274.874 Q105.089 274.874 103.168 276.656 Q101.27 278.439 101.27 281.564 Q101.27 284.689 103.168 286.471 Q105.089 288.253 108.422 288.253 Q111.756 288.253 113.677 286.471 Q115.598 284.665 115.598 281.564 Q115.598 278.439 113.677 276.656 Q111.779 274.874 108.422 274.874 M103.746 272.883 Q100.737 272.142 99.0474 270.082 Q97.3808 268.022 97.3808 265.059 Q97.3808 260.915 100.321 258.508 Q103.284 256.101 108.422 256.101 Q113.584 256.101 116.524 258.508 Q119.464 260.915 119.464 265.059 Q119.464 268.022 117.774 270.082 Q116.108 272.142 113.121 272.883 Q116.501 273.67 118.376 275.962 Q120.274 278.253 120.274 281.564 Q120.274 286.587 117.195 289.272 Q114.14 291.957 108.422 291.957 Q102.705 291.957 99.6261 289.272 Q96.5706 286.587 96.5706 281.564 Q96.5706 278.253 98.4687 275.962 Q100.367 273.67 103.746 272.883 M102.034 265.499 Q102.034 268.184 103.7 269.689 Q105.39 271.193 108.422 271.193 Q111.432 271.193 113.121 269.689 Q114.834 268.184 114.834 265.499 Q114.834 262.814 113.121 261.309 Q111.432 259.804 108.422 259.804 Q105.39 259.804 103.7 261.309 Q102.034 262.814 102.034 265.499 Z\" fill=\"#000000\" fill-rule=\"evenodd\" fill-opacity=\"1\" /><polyline clip-path=\"url(#clip442)\" style=\"stroke:#009af9; stroke-linecap:butt; stroke-linejoin:round; stroke-width:4; stroke-opacity:1; fill:none\" points=\"\n",
       "  218.439,1445.72 220.513,1444.15 222.587,1442.59 224.661,1441.02 226.736,1439.46 228.81,1437.91 230.884,1436.35 232.958,1434.8 235.033,1433.25 237.107,1431.7 \n",
       "  239.181,1430.15 241.255,1428.6 243.329,1427.06 245.404,1425.52 247.478,1423.98 249.552,1422.44 251.626,1420.91 253.701,1419.37 255.775,1417.84 257.849,1416.31 \n",
       "  259.923,1414.79 261.998,1413.26 264.072,1411.74 266.146,1410.22 268.22,1408.7 270.294,1407.19 272.369,1405.67 274.443,1404.16 276.517,1402.65 278.591,1401.15 \n",
       "  280.666,1399.64 282.74,1398.14 284.814,1396.64 286.888,1395.14 288.962,1393.64 291.037,1392.15 293.111,1390.66 295.185,1389.17 297.259,1387.68 299.334,1386.2 \n",
       "  301.408,1384.71 303.482,1383.23 305.556,1381.76 307.63,1380.28 309.705,1378.81 311.779,1377.34 313.853,1375.87 315.927,1374.4 318.002,1372.94 320.076,1371.47 \n",
       "  322.15,1370.01 324.224,1368.56 326.299,1367.1 328.373,1365.65 330.447,1364.2 332.521,1362.75 334.595,1361.3 336.67,1359.86 338.744,1358.42 340.818,1356.98 \n",
       "  342.892,1355.55 344.967,1354.11 347.041,1352.68 349.115,1351.25 351.189,1349.82 353.263,1348.4 355.338,1346.98 357.412,1345.56 359.486,1344.14 361.56,1342.73 \n",
       "  363.635,1341.31 365.709,1339.9 367.783,1338.5 369.857,1337.09 371.932,1335.69 374.006,1334.29 376.08,1332.89 378.154,1331.5 380.228,1330.1 382.303,1328.71 \n",
       "  384.377,1327.33 386.451,1325.94 388.525,1324.56 390.6,1323.18 392.674,1321.8 394.748,1320.43 396.822,1319.05 398.896,1317.68 400.971,1316.31 403.045,1314.95 \n",
       "  405.119,1313.59 407.193,1312.23 409.268,1310.87 411.342,1309.51 413.416,1308.16 415.49,1306.81 417.565,1305.47 419.639,1304.12 421.713,1302.78 423.787,1301.44 \n",
       "  425.861,1300.1 427.936,1298.77 430.01,1297.44 432.084,1296.11 434.158,1294.78 436.233,1293.46 438.307,1292.14 440.381,1290.82 442.455,1289.5 444.529,1288.19 \n",
       "  446.604,1286.88 448.678,1285.57 450.752,1284.26 452.826,1282.96 454.901,1281.66 456.975,1280.36 459.049,1279.07 461.123,1277.78 463.198,1276.49 465.272,1275.2 \n",
       "  467.346,1273.92 469.42,1272.64 471.494,1271.36 473.569,1270.08 475.643,1268.81 477.717,1267.54 479.791,1266.27 481.866,1265.01 483.94,1263.74 486.014,1262.48 \n",
       "  488.088,1261.23 490.162,1259.97 492.237,1258.72 494.311,1257.47 496.385,1256.23 498.459,1254.99 500.534,1253.75 502.608,1252.51 504.682,1251.27 506.756,1250.04 \n",
       "  508.83,1248.81 510.905,1247.59 512.979,1246.36 515.053,1245.14 517.127,1243.93 519.202,1242.71 521.276,1241.5 523.35,1240.29 525.424,1239.08 527.499,1237.88 \n",
       "  529.573,1236.68 531.647,1235.48 533.721,1234.29 535.795,1233.09 537.87,1231.91 539.944,1230.72 542.018,1229.54 544.092,1228.36 546.167,1227.18 548.241,1226 \n",
       "  550.315,1224.83 552.389,1223.66 554.463,1222.5 556.538,1221.33 558.612,1220.17 560.686,1219.01 562.76,1217.86 564.835,1216.71 566.909,1215.56 568.983,1214.41 \n",
       "  571.057,1213.27 573.132,1212.13 575.206,1211 577.28,1209.86 579.354,1208.73 581.428,1207.6 583.503,1206.48 585.577,1205.36 587.651,1204.24 589.725,1203.12 \n",
       "  591.8,1202.01 593.874,1200.9 595.948,1199.79 598.022,1198.69 600.096,1197.59 602.171,1196.49 604.245,1195.39 606.319,1194.3 608.393,1193.21 610.468,1192.13 \n",
       "  612.542,1191.04 614.616,1189.96 616.69,1188.89 618.765,1187.81 620.839,1186.74 622.913,1185.67 624.987,1184.61 627.061,1183.55 629.136,1182.49 631.21,1181.43 \n",
       "  633.284,1180.38 635.358,1179.33 637.433,1178.29 639.507,1177.24 641.581,1176.2 643.655,1175.17 645.729,1174.13 647.804,1173.1 649.878,1172.07 651.952,1171.05 \n",
       "  654.026,1170.03 656.101,1169.01 658.175,1167.99 660.249,1166.98 662.323,1165.97 664.398,1164.97 666.472,1163.96 668.546,1162.97 670.62,1161.97 672.694,1160.98 \n",
       "  674.769,1159.99 676.843,1159 678.917,1158.01 680.991,1157.03 683.066,1156.06 685.14,1155.08 687.214,1154.11 689.288,1153.14 691.362,1152.18 693.437,1151.22 \n",
       "  695.511,1150.26 697.585,1149.3 699.659,1148.35 701.734,1147.4 703.808,1146.46 705.882,1145.52 707.956,1144.58 710.03,1143.64 712.105,1142.71 714.179,1141.78 \n",
       "  716.253,1140.85 718.327,1139.93 720.402,1139.01 722.476,1138.09 724.55,1137.18 726.624,1136.27 728.699,1135.36 730.773,1134.46 732.847,1133.56 734.921,1132.66 \n",
       "  736.995,1131.77 739.07,1130.88 741.144,1129.99 743.218,1129.11 745.292,1128.23 747.367,1127.35 749.441,1126.48 751.515,1125.61 753.589,1124.74 755.663,1123.88 \n",
       "  757.738,1123.02 759.812,1122.16 761.886,1121.3 763.96,1120.45 766.035,1119.61 768.109,1118.76 770.183,1117.92 772.257,1117.08 774.332,1116.25 776.406,1115.42 \n",
       "  778.48,1114.59 780.554,1113.77 782.628,1112.95 784.703,1112.13 786.777,1111.31 788.851,1110.5 790.925,1109.7 793,1108.89 795.074,1108.09 797.148,1107.29 \n",
       "  799.222,1106.5 801.296,1105.71 803.371,1104.92 805.445,1104.14 807.519,1103.36 809.593,1102.58 811.668,1101.81 813.742,1101.04 815.816,1100.27 817.89,1099.51 \n",
       "  819.965,1098.75 822.039,1097.99 824.113,1097.24 826.187,1096.49 828.261,1095.74 830.336,1095 832.41,1094.26 834.484,1093.52 836.558,1092.79 838.633,1092.06 \n",
       "  840.707,1091.33 842.781,1090.61 844.855,1089.89 846.929,1089.18 849.004,1088.47 851.078,1087.76 853.152,1087.05 855.226,1086.35 857.301,1085.65 859.375,1084.96 \n",
       "  861.449,1084.27 863.523,1083.58 865.598,1082.89 867.672,1082.21 869.746,1081.54 871.82,1080.86 873.894,1080.19 875.969,1079.52 878.043,1078.86 880.117,1078.2 \n",
       "  882.191,1077.54 884.266,1076.89 886.34,1076.24 888.414,1075.59 890.488,1074.95 892.562,1074.31 894.637,1073.68 896.711,1073.04 898.785,1072.42 900.859,1071.79 \n",
       "  902.934,1071.17 905.008,1070.55 907.082,1069.94 909.156,1069.33 911.23,1068.72 913.305,1068.11 915.379,1067.51 917.453,1066.92 919.527,1066.32 921.602,1065.73 \n",
       "  923.676,1065.15 925.75,1064.56 927.824,1063.98 929.899,1063.41 931.973,1062.84 934.047,1062.27 936.121,1061.7 938.195,1061.14 940.27,1060.58 942.344,1060.03 \n",
       "  944.418,1059.48 946.492,1058.93 948.567,1058.39 950.641,1057.85 952.715,1057.31 954.789,1056.78 956.863,1056.25 958.938,1055.72 961.012,1055.2 963.086,1054.68 \n",
       "  965.16,1054.17 967.235,1053.65 969.309,1053.15 971.383,1052.64 973.457,1052.14 975.532,1051.64 977.606,1051.15 979.68,1050.66 981.754,1050.17 983.828,1049.69 \n",
       "  985.903,1049.21 987.977,1048.74 990.051,1048.27 992.125,1047.8 994.2,1047.33 996.274,1046.87 998.348,1046.41 1000.42,1045.96 1002.5,1045.51 1004.57,1045.06 \n",
       "  1006.64,1044.62 1008.72,1044.18 1010.79,1043.74 1012.87,1043.31 1014.94,1042.88 1017.02,1042.46 1019.09,1042.04 1021.16,1041.62 1023.24,1041.21 1025.31,1040.79 \n",
       "  1027.39,1040.39 1029.46,1039.98 1031.54,1039.59 1033.61,1039.19 1035.68,1038.8 1037.76,1038.41 1039.83,1038.02 1041.91,1037.64 1043.98,1037.26 1046.06,1036.89 \n",
       "  1048.13,1036.52 1050.2,1036.15 1052.28,1035.79 1054.35,1035.43 1056.43,1035.08 1058.5,1034.72 1060.57,1034.38 1062.65,1034.03 1064.72,1033.69 1066.8,1033.35 \n",
       "  1068.87,1033.02 1070.95,1032.69 1073.02,1032.36 1075.09,1032.04 1077.17,1031.72 1079.24,1031.41 1081.32,1031.09 1083.39,1030.79 1085.47,1030.48 1087.54,1030.18 \n",
       "  1089.61,1029.88 1091.69,1029.59 1093.76,1029.3 1095.84,1029.01 1097.91,1028.73 1099.99,1028.45 1102.06,1028.18 1104.13,1027.91 1106.21,1027.64 1108.28,1027.38 \n",
       "  1110.36,1027.12 1112.43,1026.86 1114.5,1026.61 1116.58,1026.36 1118.65,1026.11 1120.73,1025.87 1122.8,1025.63 1124.88,1025.4 1126.95,1025.17 1129.02,1024.94 \n",
       "  1131.1,1024.72 1133.17,1024.5 1135.25,1024.28 1137.32,1024.07 1139.4,1023.86 1141.47,1023.66 1143.54,1023.46 1145.62,1023.26 1147.69,1023.07 1149.77,1022.88 \n",
       "  1151.84,1022.69 1153.92,1022.51 1155.99,1022.33 1158.06,1022.15 1160.14,1021.98 1162.21,1021.82 1164.29,1021.65 1166.36,1021.49 1168.43,1021.34 1170.51,1021.18 \n",
       "  1172.58,1021.03 1174.66,1020.89 1176.73,1020.75 1178.81,1020.61 1180.88,1020.48 1182.95,1020.34 1185.03,1020.22 1187.1,1020.1 1189.18,1019.98 1191.25,1019.86 \n",
       "  1193.33,1019.75 1195.4,1019.64 1197.47,1019.54 1199.55,1019.44 1201.62,1019.34 1203.7,1019.25 1205.77,1019.16 1207.84,1019.07 1209.92,1018.99 1211.99,1018.91 \n",
       "  1214.07,1018.84 1216.14,1018.76 1218.22,1018.7 1220.29,1018.63 1222.36,1018.57 1224.44,1018.52 1226.51,1018.47 1228.59,1018.42 1230.66,1018.37 1232.74,1018.33 \n",
       "  1234.81,1018.3 1236.88,1018.26 1238.96,1018.23 1241.03,1018.21 1243.11,1018.18 1245.18,1018.16 1247.26,1018.15 1249.33,1018.14 1251.4,1018.13 1253.48,1018.13 \n",
       "  1255.55,1018.13 1257.63,1018.13 1259.7,1018.14 1261.77,1018.15 1263.85,1018.16 1265.92,1018.18 1268,1018.21 1270.07,1018.23 1272.15,1018.26 1274.22,1018.3 \n",
       "  1276.29,1018.33 1278.37,1018.37 1280.44,1018.42 1282.52,1018.47 1284.59,1018.52 1286.67,1018.57 1288.74,1018.63 1290.81,1018.7 1292.89,1018.76 1294.96,1018.84 \n",
       "  1297.04,1018.91 1299.11,1018.99 1301.19,1019.07 1303.26,1019.16 1305.33,1019.25 1307.41,1019.34 1309.48,1019.44 1311.56,1019.54 1313.63,1019.64 1315.7,1019.75 \n",
       "  1317.78,1019.86 1319.85,1019.98 1321.93,1020.1 1324,1020.22 1326.08,1020.34 1328.15,1020.48 1330.22,1020.61 1332.3,1020.75 1334.37,1020.89 1336.45,1021.03 \n",
       "  1338.52,1021.18 1340.6,1021.34 1342.67,1021.49 1344.74,1021.65 1346.82,1021.82 1348.89,1021.98 1350.97,1022.15 1353.04,1022.33 1355.12,1022.51 1357.19,1022.69 \n",
       "  1359.26,1022.88 1361.34,1023.07 1363.41,1023.26 1365.49,1023.46 1367.56,1023.66 1369.63,1023.86 1371.71,1024.07 1373.78,1024.28 1375.86,1024.5 1377.93,1024.72 \n",
       "  1380.01,1024.94 1382.08,1025.17 1384.15,1025.4 1386.23,1025.63 1388.3,1025.87 1390.38,1026.11 1392.45,1026.36 1394.53,1026.61 1396.6,1026.86 1398.67,1027.12 \n",
       "  1400.75,1027.38 1402.82,1027.64 1404.9,1027.91 1406.97,1028.18 1409.04,1028.45 1411.12,1028.73 1413.19,1029.01 1415.27,1029.3 1417.34,1029.59 1419.42,1029.88 \n",
       "  1421.49,1030.18 1423.56,1030.48 1425.64,1030.79 1427.71,1031.09 1429.79,1031.41 1431.86,1031.72 1433.94,1032.04 1436.01,1032.36 1438.08,1032.69 1440.16,1033.02 \n",
       "  1442.23,1033.35 1444.31,1033.69 1446.38,1034.03 1448.46,1034.38 1450.53,1034.72 1452.6,1035.08 1454.68,1035.43 1456.75,1035.79 1458.83,1036.15 1460.9,1036.52 \n",
       "  1462.97,1036.89 1465.05,1037.26 1467.12,1037.64 1469.2,1038.02 1471.27,1038.41 1473.35,1038.8 1475.42,1039.19 1477.49,1039.59 1479.57,1039.98 1481.64,1040.39 \n",
       "  1483.72,1040.79 1485.79,1041.21 1487.87,1041.62 1489.94,1042.04 1492.01,1042.46 1494.09,1042.88 1496.16,1043.31 1498.24,1043.74 1500.31,1044.18 1502.39,1044.62 \n",
       "  1504.46,1045.06 1506.53,1045.51 1508.61,1045.96 1510.68,1046.41 1512.76,1046.87 1514.83,1047.33 1516.9,1047.8 1518.98,1048.27 1521.05,1048.74 1523.13,1049.21 \n",
       "  1525.2,1049.69 1527.28,1050.17 1529.35,1050.66 1531.42,1051.15 1533.5,1051.64 1535.57,1052.14 1537.65,1052.64 1539.72,1053.15 1541.8,1053.65 1543.87,1054.17 \n",
       "  1545.94,1054.68 1548.02,1055.2 1550.09,1055.72 1552.17,1056.25 1554.24,1056.78 1556.32,1057.31 1558.39,1057.85 1560.46,1058.39 1562.54,1058.93 1564.61,1059.48 \n",
       "  1566.69,1060.03 1568.76,1060.58 1570.83,1061.14 1572.91,1061.7 1574.98,1062.27 1577.06,1062.84 1579.13,1063.41 1581.21,1063.98 1583.28,1064.56 1585.35,1065.15 \n",
       "  1587.43,1065.73 1589.5,1066.32 1591.58,1066.92 1593.65,1067.51 1595.73,1068.11 1597.8,1068.72 1599.87,1069.33 1601.95,1069.94 1604.02,1070.55 1606.1,1071.17 \n",
       "  1608.17,1071.79 1610.24,1072.42 1612.32,1073.04 1614.39,1073.68 1616.47,1074.31 1618.54,1074.95 1620.62,1075.59 1622.69,1076.24 1624.76,1076.89 1626.84,1077.54 \n",
       "  1628.91,1078.2 1630.99,1078.86 1633.06,1079.52 1635.14,1080.19 1637.21,1080.86 1639.28,1081.54 1641.36,1082.21 1643.43,1082.89 1645.51,1083.58 1647.58,1084.27 \n",
       "  1649.66,1084.96 1651.73,1085.65 1653.8,1086.35 1655.88,1087.05 1657.95,1087.76 1660.03,1088.47 1662.1,1089.18 1664.17,1089.89 1666.25,1090.61 1668.32,1091.33 \n",
       "  1670.4,1092.06 1672.47,1092.79 1674.55,1093.52 1676.62,1094.26 1678.69,1095 1680.77,1095.74 1682.84,1096.49 1684.92,1097.24 1686.99,1097.99 1689.07,1098.75 \n",
       "  1691.14,1099.51 1693.21,1100.27 1695.29,1101.04 1697.36,1101.81 1699.44,1102.58 1701.51,1103.36 1703.59,1104.14 1705.66,1104.92 1707.73,1105.71 1709.81,1106.5 \n",
       "  1711.88,1107.29 1713.96,1108.09 1716.03,1108.89 1718.1,1109.7 1720.18,1110.5 1722.25,1111.31 1724.33,1112.13 1726.4,1112.95 1728.48,1113.77 1730.55,1114.59 \n",
       "  1732.62,1115.42 1734.7,1116.25 1736.77,1117.08 1738.85,1117.92 1740.92,1118.76 1743,1119.61 1745.07,1120.45 1747.14,1121.3 1749.22,1122.16 1751.29,1123.02 \n",
       "  1753.37,1123.88 1755.44,1124.74 1757.52,1125.61 1759.59,1126.48 1761.66,1127.35 1763.74,1128.23 1765.81,1129.11 1767.89,1129.99 1769.96,1130.88 1772.03,1131.77 \n",
       "  1774.11,1132.66 1776.18,1133.56 1778.26,1134.46 1780.33,1135.36 1782.41,1136.27 1784.48,1137.18 1786.55,1138.09 1788.63,1139.01 1790.7,1139.93 1792.78,1140.85 \n",
       "  1794.85,1141.78 1796.93,1142.71 1799,1143.64 1801.07,1144.58 1803.15,1145.52 1805.22,1146.46 1807.3,1147.4 1809.37,1148.35 1811.44,1149.3 1813.52,1150.26 \n",
       "  1815.59,1151.22 1817.67,1152.18 1819.74,1153.14 1821.82,1154.11 1823.89,1155.08 1825.96,1156.06 1828.04,1157.03 1830.11,1158.01 1832.19,1159 1834.26,1159.99 \n",
       "  1836.34,1160.98 1838.41,1161.97 1840.48,1162.97 1842.56,1163.96 1844.63,1164.97 1846.71,1165.97 1848.78,1166.98 1850.86,1167.99 1852.93,1169.01 1855,1170.03 \n",
       "  1857.08,1171.05 1859.15,1172.07 1861.23,1173.1 1863.3,1174.13 1865.37,1175.17 1867.45,1176.2 1869.52,1177.24 1871.6,1178.29 1873.67,1179.33 1875.75,1180.38 \n",
       "  1877.82,1181.43 1879.89,1182.49 1881.97,1183.55 1884.04,1184.61 1886.12,1185.67 1888.19,1186.74 1890.27,1187.81 1892.34,1188.89 1894.41,1189.96 1896.49,1191.04 \n",
       "  1898.56,1192.13 1900.64,1193.21 1902.71,1194.3 1904.79,1195.39 1906.86,1196.49 1908.93,1197.59 1911.01,1198.69 1913.08,1199.79 1915.16,1200.9 1917.23,1202.01 \n",
       "  1919.3,1203.12 1921.38,1204.24 1923.45,1205.36 1925.53,1206.48 1927.6,1207.6 1929.68,1208.73 1931.75,1209.86 1933.82,1211 1935.9,1212.13 1937.97,1213.27 \n",
       "  1940.05,1214.41 1942.12,1215.56 1944.2,1216.71 1946.27,1217.86 1948.34,1219.01 1950.42,1220.17 1952.49,1221.33 1954.57,1222.5 1956.64,1223.66 1958.72,1224.83 \n",
       "  1960.79,1226 1962.86,1227.18 1964.94,1228.36 1967.01,1229.54 1969.09,1230.72 1971.16,1231.91 1973.23,1233.09 1975.31,1234.29 1977.38,1235.48 1979.46,1236.68 \n",
       "  1981.53,1237.88 1983.61,1239.08 1985.68,1240.29 1987.75,1241.5 1989.83,1242.71 1991.9,1243.93 1993.98,1245.14 1996.05,1246.36 1998.13,1247.59 2000.2,1248.81 \n",
       "  2002.27,1250.04 2004.35,1251.27 2006.42,1252.51 2008.5,1253.75 2010.57,1254.99 2012.64,1256.23 2014.72,1257.47 2016.79,1258.72 2018.87,1259.97 2020.94,1261.23 \n",
       "  2023.02,1262.48 2025.09,1263.74 2027.16,1265.01 2029.24,1266.27 2031.31,1267.54 2033.39,1268.81 2035.46,1270.08 2037.54,1271.36 2039.61,1272.64 2041.68,1273.92 \n",
       "  2043.76,1275.2 2045.83,1276.49 2047.91,1277.78 2049.98,1279.07 2052.06,1280.36 2054.13,1281.66 2056.2,1282.96 2058.28,1284.26 2060.35,1285.57 2062.43,1286.88 \n",
       "  2064.5,1288.19 2066.57,1289.5 2068.65,1290.82 2070.72,1292.14 2072.8,1293.46 2074.87,1294.78 2076.95,1296.11 2079.02,1297.44 2081.09,1298.77 2083.17,1300.1 \n",
       "  2085.24,1301.44 2087.32,1302.78 2089.39,1304.12 2091.47,1305.47 2093.54,1306.81 2095.61,1308.16 2097.69,1309.51 2099.76,1310.87 2101.84,1312.23 2103.91,1313.59 \n",
       "  2105.99,1314.95 2108.06,1316.31 2110.13,1317.68 2112.21,1319.05 2114.28,1320.43 2116.36,1321.8 2118.43,1323.18 2120.5,1324.56 2122.58,1325.94 2124.65,1327.33 \n",
       "  2126.73,1328.71 2128.8,1330.1 2130.88,1331.5 2132.95,1332.89 2135.02,1334.29 2137.1,1335.69 2139.17,1337.09 2141.25,1338.5 2143.32,1339.9 2145.4,1341.31 \n",
       "  2147.47,1342.73 2149.54,1344.14 2151.62,1345.56 2153.69,1346.98 2155.77,1348.4 2157.84,1349.82 2159.92,1351.25 2161.99,1352.68 2164.06,1354.11 2166.14,1355.55 \n",
       "  2168.21,1356.98 2170.29,1358.42 2172.36,1359.86 2174.43,1361.3 2176.51,1362.75 2178.58,1364.2 2180.66,1365.65 2182.73,1367.1 2184.81,1368.56 2186.88,1370.01 \n",
       "  2188.95,1371.47 2191.03,1372.94 2193.1,1374.4 2195.18,1375.87 2197.25,1377.34 2199.33,1378.81 2201.4,1380.28 2203.47,1381.76 2205.55,1383.23 2207.62,1384.71 \n",
       "  2209.7,1386.2 2211.77,1387.68 2213.84,1389.17 2215.92,1390.66 2217.99,1392.15 2220.07,1393.64 2222.14,1395.14 2224.22,1396.64 2226.29,1398.14 2228.36,1399.64 \n",
       "  2230.44,1401.15 2232.51,1402.65 2234.59,1404.16 2236.66,1405.67 2238.74,1407.19 2240.81,1408.7 2242.88,1410.22 2244.96,1411.74 2247.03,1413.26 2249.11,1414.79 \n",
       "  2251.18,1416.31 2253.26,1417.84 2255.33,1419.37 2257.4,1420.91 2259.48,1422.44 2261.55,1423.98 2263.63,1425.52 2265.7,1427.06 2267.77,1428.6 2269.85,1430.15 \n",
       "  2271.92,1431.7 2274,1433.25 2276.07,1434.8 2278.15,1436.35 2280.22,1437.91 2282.29,1439.46 2284.37,1441.02 2286.44,1442.59 2288.52,1444.15 2290.59,1445.72 \n",
       "  \n",
       "  \"/>\n",
       "<polyline clip-path=\"url(#clip442)\" style=\"stroke:#e26f46; stroke-linecap:butt; stroke-linejoin:round; stroke-width:4; stroke-opacity:1; fill:none\" points=\"\n",
       "  218.439,943.153 220.513,940.021 222.587,936.893 224.661,933.769 226.736,930.649 228.81,927.534 230.884,924.422 232.958,921.315 235.033,918.211 237.107,915.112 \n",
       "  239.181,912.017 241.255,908.926 243.329,905.839 245.404,902.757 247.478,899.678 249.552,896.604 251.626,893.534 253.701,890.468 255.775,887.407 257.849,884.35 \n",
       "  259.923,881.297 261.998,878.248 264.072,875.203 266.146,872.163 268.22,869.128 270.294,866.096 272.369,863.069 274.443,860.046 276.517,857.028 278.591,854.014 \n",
       "  280.666,851.004 282.74,847.999 284.814,844.998 286.888,842.001 288.962,839.009 291.037,836.022 293.111,833.039 295.185,830.06 297.259,827.086 299.334,824.116 \n",
       "  301.408,821.151 303.482,818.19 305.556,815.234 307.63,812.283 309.705,809.336 311.779,806.393 313.853,803.455 315.927,800.522 318.002,797.593 320.076,794.669 \n",
       "  322.15,791.75 324.224,788.835 326.299,785.925 328.373,783.019 330.447,780.118 332.521,777.222 334.595,774.331 336.67,771.444 338.744,768.562 340.818,765.685 \n",
       "  342.892,762.812 344.967,759.944 347.041,757.081 349.115,754.223 351.189,751.369 353.263,748.521 355.338,745.677 357.412,742.838 359.486,740.004 361.56,737.174 \n",
       "  363.635,734.35 365.709,731.53 367.783,728.715 369.857,725.905 371.932,723.1 374.006,720.3 376.08,717.505 378.154,714.715 380.228,711.929 382.303,709.149 \n",
       "  384.377,706.374 386.451,703.603 388.525,700.838 390.6,698.077 392.674,695.322 394.748,692.572 396.822,689.826 398.896,687.086 400.971,684.351 403.045,681.62 \n",
       "  405.119,678.895 407.193,676.175 409.268,673.46 411.342,670.751 413.416,668.046 415.49,665.346 417.565,662.652 419.639,659.963 421.713,657.278 423.787,654.6 \n",
       "  425.861,651.926 427.936,649.257 430.01,646.594 432.084,643.936 434.158,641.283 436.233,638.635 438.307,635.993 440.381,633.356 442.455,630.724 444.529,628.097 \n",
       "  446.604,625.476 448.678,622.86 450.752,620.249 452.826,617.644 454.901,615.044 456.975,612.449 459.049,609.86 461.123,607.276 463.198,604.697 465.272,602.124 \n",
       "  467.346,599.556 469.42,596.994 471.494,594.437 473.569,591.885 475.643,589.339 477.717,586.798 479.791,584.263 481.866,581.733 483.94,579.209 486.014,576.69 \n",
       "  488.088,574.177 490.162,571.669 492.237,569.167 494.311,566.67 496.385,564.179 498.459,561.693 500.534,559.213 502.608,556.738 504.682,554.269 506.756,551.806 \n",
       "  508.83,549.348 510.905,546.896 512.979,544.45 515.053,542.009 517.127,539.573 519.202,537.144 521.276,534.72 523.35,532.301 525.424,529.889 527.499,527.482 \n",
       "  529.573,525.08 531.647,522.685 533.721,520.295 535.795,517.911 537.87,515.532 539.944,513.16 542.018,510.793 544.092,508.432 546.167,506.076 548.241,503.727 \n",
       "  550.315,501.383 552.389,499.045 554.463,496.713 556.538,494.386 558.612,492.066 560.686,489.751 562.76,487.442 564.835,485.139 566.909,482.842 568.983,480.551 \n",
       "  571.057,478.265 573.132,475.986 575.206,473.712 577.28,471.445 579.354,469.183 581.428,466.927 583.503,464.677 585.577,462.433 587.651,460.195 589.725,457.963 \n",
       "  591.8,455.737 593.874,453.517 595.948,451.303 598.022,449.095 600.096,446.893 602.171,444.697 604.245,442.507 606.319,440.323 608.393,438.145 610.468,435.973 \n",
       "  612.542,433.807 614.616,431.647 616.69,429.493 618.765,427.346 620.839,425.204 622.913,423.069 624.987,420.94 627.061,418.816 629.136,416.699 631.21,414.588 \n",
       "  633.284,412.484 635.358,410.385 637.433,408.293 639.507,406.206 641.581,404.126 643.655,402.052 645.729,399.985 647.804,397.923 649.878,395.868 651.952,393.819 \n",
       "  654.026,391.776 656.101,389.739 658.175,387.709 660.249,385.685 662.323,383.667 664.398,381.656 666.472,379.65 668.546,377.651 670.62,375.659 672.694,373.672 \n",
       "  674.769,371.692 676.843,369.718 678.917,367.751 680.991,365.79 683.066,363.835 685.14,361.887 687.214,359.945 689.288,358.009 691.362,356.08 693.437,354.157 \n",
       "  695.511,352.24 697.585,350.33 699.659,348.426 701.734,346.529 703.808,344.638 705.882,342.754 707.956,340.876 710.03,339.004 712.105,337.139 714.179,335.28 \n",
       "  716.253,333.428 718.327,331.582 720.402,329.743 722.476,327.91 724.55,326.084 726.624,324.264 728.699,322.451 730.773,320.644 732.847,318.844 734.921,317.05 \n",
       "  736.995,315.263 739.07,313.482 741.144,311.708 743.218,309.941 745.292,308.18 747.367,306.425 749.441,304.677 751.515,302.936 753.589,301.202 755.663,299.474 \n",
       "  757.738,297.752 759.812,296.037 761.886,294.329 763.96,292.628 766.035,290.933 768.109,289.244 770.183,287.563 772.257,285.888 774.332,284.22 776.406,282.558 \n",
       "  778.48,280.903 780.554,279.255 782.628,277.613 784.703,275.978 786.777,274.35 788.851,272.729 790.925,271.114 793,269.506 795.074,267.905 797.148,266.31 \n",
       "  799.222,264.722 801.296,263.141 803.371,261.567 805.445,259.999 807.519,258.438 809.593,256.884 811.668,255.337 813.742,253.797 815.816,252.263 817.89,250.736 \n",
       "  819.965,249.216 822.039,247.703 824.113,246.196 826.187,244.697 828.261,243.204 830.336,241.718 832.41,240.239 834.484,238.767 836.558,237.301 838.633,235.843 \n",
       "  840.707,234.391 842.781,232.946 844.855,231.508 846.929,230.077 849.004,228.653 851.078,227.236 853.152,225.825 855.226,224.422 857.301,223.025 859.375,221.636 \n",
       "  861.449,220.253 863.523,218.877 865.598,217.508 867.672,216.146 869.746,214.791 871.82,213.443 873.894,212.102 875.969,210.768 878.043,209.441 880.117,208.12 \n",
       "  882.191,206.807 884.266,205.501 886.34,204.202 888.414,202.909 890.488,201.624 892.562,200.346 894.637,199.075 896.711,197.81 898.785,196.553 900.859,195.303 \n",
       "  902.934,194.06 905.008,192.823 907.082,191.594 909.156,190.372 911.23,189.157 913.305,187.949 915.379,186.748 917.453,185.554 919.527,184.367 921.602,183.188 \n",
       "  923.676,182.015 925.75,180.849 927.824,179.691 929.899,178.539 931.973,177.395 934.047,176.258 936.121,175.128 938.195,174.005 940.27,172.889 942.344,171.78 \n",
       "  944.418,170.678 946.492,169.584 948.567,168.496 950.641,167.416 952.715,166.343 954.789,165.277 956.863,164.218 958.938,163.166 961.012,162.122 963.086,161.084 \n",
       "  965.16,160.054 967.235,159.031 969.309,158.015 971.383,157.006 973.457,156.005 975.532,155.01 977.606,154.023 979.68,153.043 981.754,152.07 983.828,151.105 \n",
       "  985.903,150.146 987.977,149.195 990.051,148.251 992.125,147.315 994.2,146.385 996.274,145.463 998.348,144.548 1000.42,143.64 1002.5,142.739 1004.57,141.846 \n",
       "  1006.64,140.96 1008.72,140.081 1010.79,139.209 1012.87,138.345 1014.94,137.487 1017.02,136.637 1019.09,135.795 1021.16,134.959 1023.24,134.131 1025.31,133.311 \n",
       "  1027.39,132.497 1029.46,131.691 1031.54,130.892 1033.61,130.1 1035.68,129.316 1037.76,128.538 1039.83,127.769 1041.91,127.006 1043.98,126.251 1046.06,125.503 \n",
       "  1048.13,124.762 1050.2,124.029 1052.28,123.303 1054.35,122.584 1056.43,121.873 1058.5,121.169 1060.57,120.472 1062.65,119.782 1064.72,119.1 1066.8,118.426 \n",
       "  1068.87,117.758 1070.95,117.098 1073.02,116.445 1075.09,115.8 1077.17,115.162 1079.24,114.531 1081.32,113.908 1083.39,113.292 1085.47,112.683 1087.54,112.082 \n",
       "  1089.61,111.488 1091.69,110.901 1093.76,110.322 1095.84,109.75 1097.91,109.186 1099.99,108.629 1102.06,108.079 1104.13,107.537 1106.21,107.002 1108.28,106.474 \n",
       "  1110.36,105.954 1112.43,105.441 1114.5,104.935 1116.58,104.437 1118.65,103.947 1120.73,103.463 1122.8,102.988 1124.88,102.519 1126.95,102.058 1129.02,101.604 \n",
       "  1131.1,101.158 1133.17,100.719 1135.25,100.288 1137.32,99.8636 1139.4,99.4469 1141.47,99.0376 1143.54,98.6358 1145.62,98.2414 1147.69,97.8543 1149.77,97.4747 \n",
       "  1151.84,97.1025 1153.92,96.7378 1155.99,96.3804 1158.06,96.0305 1160.14,95.688 1162.21,95.353 1164.29,95.0253 1166.36,94.7051 1168.43,94.3923 1170.51,94.0869 \n",
       "  1172.58,93.789 1174.66,93.4985 1176.73,93.2155 1178.81,92.9398 1180.88,92.6717 1182.95,92.4109 1185.03,92.1576 1187.1,91.9117 1189.18,91.6733 1191.25,91.4423 \n",
       "  1193.33,91.2187 1195.4,91.0026 1197.47,90.794 1199.55,90.5928 1201.62,90.399 1203.7,90.2127 1205.77,90.0338 1207.84,89.8624 1209.92,89.6984 1211.99,89.5418 \n",
       "  1214.07,89.3928 1216.14,89.2511 1218.22,89.1169 1220.29,88.9902 1222.36,88.8709 1224.44,88.7591 1226.51,88.6547 1228.59,88.5578 1230.66,88.4684 1232.74,88.3863 \n",
       "  1234.81,88.3118 1236.88,88.2447 1238.96,88.185 1241.03,88.1329 1243.11,88.0881 1245.18,88.0508 1247.26,88.021 1249.33,87.9986 1251.4,87.9837 1253.48,87.9763 \n",
       "  1255.55,87.9763 1257.63,87.9837 1259.7,87.9986 1261.77,88.021 1263.85,88.0508 1265.92,88.0881 1268,88.1329 1270.07,88.185 1272.15,88.2447 1274.22,88.3118 \n",
       "  1276.29,88.3863 1278.37,88.4684 1280.44,88.5578 1282.52,88.6547 1284.59,88.7591 1286.67,88.8709 1288.74,88.9902 1290.81,89.1169 1292.89,89.2511 1294.96,89.3928 \n",
       "  1297.04,89.5418 1299.11,89.6984 1301.19,89.8624 1303.26,90.0338 1305.33,90.2127 1307.41,90.399 1309.48,90.5928 1311.56,90.794 1313.63,91.0026 1315.7,91.2187 \n",
       "  1317.78,91.4423 1319.85,91.6733 1321.93,91.9117 1324,92.1576 1326.08,92.4109 1328.15,92.6717 1330.22,92.9398 1332.3,93.2155 1334.37,93.4985 1336.45,93.789 \n",
       "  1338.52,94.0869 1340.6,94.3923 1342.67,94.7051 1344.74,95.0253 1346.82,95.353 1348.89,95.688 1350.97,96.0305 1353.04,96.3804 1355.12,96.7378 1357.19,97.1025 \n",
       "  1359.26,97.4747 1361.34,97.8543 1363.41,98.2414 1365.49,98.6358 1367.56,99.0376 1369.63,99.4469 1371.71,99.8636 1373.78,100.288 1375.86,100.719 1377.93,101.158 \n",
       "  1380.01,101.604 1382.08,102.058 1384.15,102.519 1386.23,102.988 1388.3,103.463 1390.38,103.947 1392.45,104.437 1394.53,104.935 1396.6,105.441 1398.67,105.954 \n",
       "  1400.75,106.474 1402.82,107.002 1404.9,107.537 1406.97,108.079 1409.04,108.629 1411.12,109.186 1413.19,109.75 1415.27,110.322 1417.34,110.901 1419.42,111.488 \n",
       "  1421.49,112.082 1423.56,112.683 1425.64,113.292 1427.71,113.908 1429.79,114.531 1431.86,115.162 1433.94,115.8 1436.01,116.445 1438.08,117.098 1440.16,117.758 \n",
       "  1442.23,118.426 1444.31,119.1 1446.38,119.782 1448.46,120.472 1450.53,121.169 1452.6,121.873 1454.68,122.584 1456.75,123.303 1458.83,124.029 1460.9,124.762 \n",
       "  1462.97,125.503 1465.05,126.251 1467.12,127.006 1469.2,127.769 1471.27,128.538 1473.35,129.316 1475.42,130.1 1477.49,130.892 1479.57,131.691 1481.64,132.497 \n",
       "  1483.72,133.311 1485.79,134.131 1487.87,134.959 1489.94,135.795 1492.01,136.637 1494.09,137.487 1496.16,138.345 1498.24,139.209 1500.31,140.081 1502.39,140.96 \n",
       "  1504.46,141.846 1506.53,142.739 1508.61,143.64 1510.68,144.548 1512.76,145.463 1514.83,146.385 1516.9,147.315 1518.98,148.251 1521.05,149.195 1523.13,150.146 \n",
       "  1525.2,151.105 1527.28,152.07 1529.35,153.043 1531.42,154.023 1533.5,155.01 1535.57,156.005 1537.65,157.006 1539.72,158.015 1541.8,159.031 1543.87,160.054 \n",
       "  1545.94,161.084 1548.02,162.122 1550.09,163.166 1552.17,164.218 1554.24,165.277 1556.32,166.343 1558.39,167.416 1560.46,168.496 1562.54,169.584 1564.61,170.678 \n",
       "  1566.69,171.78 1568.76,172.889 1570.83,174.005 1572.91,175.128 1574.98,176.258 1577.06,177.395 1579.13,178.539 1581.21,179.691 1583.28,180.849 1585.35,182.015 \n",
       "  1587.43,183.188 1589.5,184.367 1591.58,185.554 1593.65,186.748 1595.73,187.949 1597.8,189.157 1599.87,190.372 1601.95,191.594 1604.02,192.823 1606.1,194.06 \n",
       "  1608.17,195.303 1610.24,196.553 1612.32,197.81 1614.39,199.075 1616.47,200.346 1618.54,201.624 1620.62,202.909 1622.69,204.202 1624.76,205.501 1626.84,206.807 \n",
       "  1628.91,208.12 1630.99,209.441 1633.06,210.768 1635.14,212.102 1637.21,213.443 1639.28,214.791 1641.36,216.146 1643.43,217.508 1645.51,218.877 1647.58,220.253 \n",
       "  1649.66,221.636 1651.73,223.025 1653.8,224.422 1655.88,225.825 1657.95,227.236 1660.03,228.653 1662.1,230.077 1664.17,231.508 1666.25,232.946 1668.32,234.391 \n",
       "  1670.4,235.843 1672.47,237.301 1674.55,238.767 1676.62,240.239 1678.69,241.718 1680.77,243.204 1682.84,244.697 1684.92,246.196 1686.99,247.703 1689.07,249.216 \n",
       "  1691.14,250.736 1693.21,252.263 1695.29,253.797 1697.36,255.337 1699.44,256.884 1701.51,258.438 1703.59,259.999 1705.66,261.567 1707.73,263.141 1709.81,264.722 \n",
       "  1711.88,266.31 1713.96,267.905 1716.03,269.506 1718.1,271.114 1720.18,272.729 1722.25,274.35 1724.33,275.978 1726.4,277.613 1728.48,279.255 1730.55,280.903 \n",
       "  1732.62,282.558 1734.7,284.22 1736.77,285.888 1738.85,287.563 1740.92,289.244 1743,290.933 1745.07,292.628 1747.14,294.329 1749.22,296.037 1751.29,297.752 \n",
       "  1753.37,299.474 1755.44,301.202 1757.52,302.936 1759.59,304.677 1761.66,306.425 1763.74,308.18 1765.81,309.941 1767.89,311.708 1769.96,313.482 1772.03,315.263 \n",
       "  1774.11,317.05 1776.18,318.844 1778.26,320.644 1780.33,322.451 1782.41,324.264 1784.48,326.084 1786.55,327.91 1788.63,329.743 1790.7,331.582 1792.78,333.428 \n",
       "  1794.85,335.28 1796.93,337.139 1799,339.004 1801.07,340.876 1803.15,342.754 1805.22,344.638 1807.3,346.529 1809.37,348.426 1811.44,350.33 1813.52,352.24 \n",
       "  1815.59,354.157 1817.67,356.08 1819.74,358.009 1821.82,359.945 1823.89,361.887 1825.96,363.835 1828.04,365.79 1830.11,367.751 1832.19,369.718 1834.26,371.692 \n",
       "  1836.34,373.672 1838.41,375.659 1840.48,377.651 1842.56,379.65 1844.63,381.656 1846.71,383.667 1848.78,385.685 1850.86,387.709 1852.93,389.739 1855,391.776 \n",
       "  1857.08,393.819 1859.15,395.868 1861.23,397.923 1863.3,399.985 1865.37,402.052 1867.45,404.126 1869.52,406.206 1871.6,408.293 1873.67,410.385 1875.75,412.484 \n",
       "  1877.82,414.588 1879.89,416.699 1881.97,418.816 1884.04,420.94 1886.12,423.069 1888.19,425.204 1890.27,427.346 1892.34,429.493 1894.41,431.647 1896.49,433.807 \n",
       "  1898.56,435.973 1900.64,438.145 1902.71,440.323 1904.79,442.507 1906.86,444.697 1908.93,446.893 1911.01,449.095 1913.08,451.303 1915.16,453.517 1917.23,455.737 \n",
       "  1919.3,457.963 1921.38,460.195 1923.45,462.433 1925.53,464.677 1927.6,466.927 1929.68,469.183 1931.75,471.445 1933.82,473.712 1935.9,475.986 1937.97,478.265 \n",
       "  1940.05,480.551 1942.12,482.842 1944.2,485.139 1946.27,487.442 1948.34,489.751 1950.42,492.066 1952.49,494.386 1954.57,496.713 1956.64,499.045 1958.72,501.383 \n",
       "  1960.79,503.727 1962.86,506.076 1964.94,508.432 1967.01,510.793 1969.09,513.16 1971.16,515.532 1973.23,517.911 1975.31,520.295 1977.38,522.685 1979.46,525.08 \n",
       "  1981.53,527.482 1983.61,529.889 1985.68,532.301 1987.75,534.72 1989.83,537.144 1991.9,539.573 1993.98,542.009 1996.05,544.45 1998.13,546.896 2000.2,549.348 \n",
       "  2002.27,551.806 2004.35,554.269 2006.42,556.738 2008.5,559.213 2010.57,561.693 2012.64,564.179 2014.72,566.67 2016.79,569.167 2018.87,571.669 2020.94,574.177 \n",
       "  2023.02,576.69 2025.09,579.209 2027.16,581.733 2029.24,584.263 2031.31,586.798 2033.39,589.339 2035.46,591.885 2037.54,594.437 2039.61,596.994 2041.68,599.556 \n",
       "  2043.76,602.124 2045.83,604.697 2047.91,607.276 2049.98,609.86 2052.06,612.449 2054.13,615.044 2056.2,617.644 2058.28,620.249 2060.35,622.86 2062.43,625.476 \n",
       "  2064.5,628.097 2066.57,630.724 2068.65,633.356 2070.72,635.993 2072.8,638.635 2074.87,641.283 2076.95,643.936 2079.02,646.594 2081.09,649.257 2083.17,651.926 \n",
       "  2085.24,654.6 2087.32,657.278 2089.39,659.963 2091.47,662.652 2093.54,665.346 2095.61,668.046 2097.69,670.751 2099.76,673.46 2101.84,676.175 2103.91,678.895 \n",
       "  2105.99,681.62 2108.06,684.351 2110.13,687.086 2112.21,689.826 2114.28,692.572 2116.36,695.322 2118.43,698.077 2120.5,700.838 2122.58,703.603 2124.65,706.374 \n",
       "  2126.73,709.149 2128.8,711.929 2130.88,714.715 2132.95,717.505 2135.02,720.3 2137.1,723.1 2139.17,725.905 2141.25,728.715 2143.32,731.53 2145.4,734.35 \n",
       "  2147.47,737.174 2149.54,740.004 2151.62,742.838 2153.69,745.677 2155.77,748.521 2157.84,751.369 2159.92,754.223 2161.99,757.081 2164.06,759.944 2166.14,762.812 \n",
       "  2168.21,765.685 2170.29,768.562 2172.36,771.444 2174.43,774.331 2176.51,777.222 2178.58,780.118 2180.66,783.019 2182.73,785.925 2184.81,788.835 2186.88,791.75 \n",
       "  2188.95,794.669 2191.03,797.593 2193.1,800.522 2195.18,803.455 2197.25,806.393 2199.33,809.336 2201.4,812.283 2203.47,815.234 2205.55,818.19 2207.62,821.151 \n",
       "  2209.7,824.116 2211.77,827.086 2213.84,830.06 2215.92,833.039 2217.99,836.022 2220.07,839.009 2222.14,842.001 2224.22,844.998 2226.29,847.999 2228.36,851.004 \n",
       "  2230.44,854.014 2232.51,857.028 2234.59,860.046 2236.66,863.069 2238.74,866.096 2240.81,869.128 2242.88,872.163 2244.96,875.203 2247.03,878.248 2249.11,881.297 \n",
       "  2251.18,884.35 2253.26,887.407 2255.33,890.468 2257.4,893.534 2259.48,896.604 2261.55,899.678 2263.63,902.757 2265.7,905.839 2267.77,908.926 2269.85,912.017 \n",
       "  2271.92,915.112 2274,918.211 2276.07,921.315 2278.15,924.422 2280.22,927.534 2282.29,930.649 2284.37,933.769 2286.44,936.893 2288.52,940.021 2290.59,943.153 \n",
       "  \n",
       "  \"/>\n",
       "<path clip-path=\"url(#clip440)\" d=\"\n",
       "M1868.06 250.738 L2279.54 250.738 L2279.54 95.2176 L1868.06 95.2176  Z\n",
       "  \" fill=\"#ffffff\" fill-rule=\"evenodd\" fill-opacity=\"1\"/>\n",
       "<polyline clip-path=\"url(#clip440)\" style=\"stroke:#000000; stroke-linecap:butt; stroke-linejoin:round; stroke-width:4; stroke-opacity:1; fill:none\" points=\"\n",
       "  1868.06,250.738 2279.54,250.738 2279.54,95.2176 1868.06,95.2176 1868.06,250.738 \n",
       "  \"/>\n",
       "<polyline clip-path=\"url(#clip440)\" style=\"stroke:#009af9; stroke-linecap:butt; stroke-linejoin:round; stroke-width:4; stroke-opacity:1; fill:none\" points=\"\n",
       "  1892.46,147.058 2038.89,147.058 \n",
       "  \"/>\n",
       "<path clip-path=\"url(#clip440)\" d=\"M2083.81 139.407 L2083.81 143.389 Q2082 142.393 2080.17 141.907 Q2078.37 141.398 2076.52 141.398 Q2072.37 141.398 2070.08 144.037 Q2067.79 146.652 2067.79 151.398 Q2067.79 156.143 2070.08 158.782 Q2072.37 161.398 2076.52 161.398 Q2078.37 161.398 2080.17 160.912 Q2082 160.402 2083.81 159.407 L2083.81 163.342 Q2082.03 164.176 2080.1 164.592 Q2078.21 165.009 2076.05 165.009 Q2070.2 165.009 2066.75 161.328 Q2063.3 157.648 2063.3 151.398 Q2063.3 145.055 2066.77 141.421 Q2070.27 137.787 2076.33 137.787 Q2078.3 137.787 2080.17 138.203 Q2082.05 138.597 2083.81 139.407 Z\" fill=\"#000000\" fill-rule=\"evenodd\" fill-opacity=\"1\" /><path clip-path=\"url(#clip440)\" d=\"M2101.26 141.398 Q2097.84 141.398 2095.85 144.083 Q2093.85 146.745 2093.85 151.398 Q2093.85 156.051 2095.82 158.736 Q2097.81 161.398 2101.26 161.398 Q2104.67 161.398 2106.66 158.713 Q2108.65 156.027 2108.65 151.398 Q2108.65 146.791 2106.66 144.106 Q2104.67 141.398 2101.26 141.398 M2101.26 137.787 Q2106.82 137.787 2109.99 141.398 Q2113.16 145.009 2113.16 151.398 Q2113.16 157.764 2109.99 161.398 Q2106.82 165.009 2101.26 165.009 Q2095.68 165.009 2092.51 161.398 Q2089.36 157.764 2089.36 151.398 Q2089.36 145.009 2092.51 141.398 Q2095.68 137.787 2101.26 137.787 Z\" fill=\"#000000\" fill-rule=\"evenodd\" fill-opacity=\"1\" /><path clip-path=\"url(#clip440)\" d=\"M2136.75 139.176 L2136.75 143.203 Q2134.94 142.277 2133 141.815 Q2131.05 141.352 2128.97 141.352 Q2125.8 141.352 2124.2 142.324 Q2122.63 143.296 2122.63 145.24 Q2122.63 146.722 2123.76 147.578 Q2124.9 148.412 2128.32 149.176 L2129.78 149.5 Q2134.32 150.472 2136.22 152.254 Q2138.14 154.014 2138.14 157.185 Q2138.14 160.796 2135.27 162.902 Q2132.42 165.009 2127.42 165.009 Q2125.34 165.009 2123.07 164.592 Q2120.82 164.199 2118.32 163.388 L2118.32 158.99 Q2120.68 160.217 2122.98 160.842 Q2125.27 161.444 2127.51 161.444 Q2130.52 161.444 2132.14 160.426 Q2133.76 159.384 2133.76 157.509 Q2133.76 155.773 2132.58 154.847 Q2131.42 153.921 2127.47 153.064 L2125.98 152.717 Q2122.03 151.884 2120.27 150.171 Q2118.51 148.435 2118.51 145.426 Q2118.51 141.768 2121.1 139.778 Q2123.69 137.787 2128.46 137.787 Q2130.82 137.787 2132.91 138.134 Q2134.99 138.481 2136.75 139.176 Z\" fill=\"#000000\" fill-rule=\"evenodd\" fill-opacity=\"1\" /><path clip-path=\"url(#clip440)\" d=\"M2155.15 128.366 Q2152.05 133.69 2150.54 138.898 Q2149.04 144.106 2149.04 149.453 Q2149.04 154.801 2150.54 160.055 Q2152.07 165.287 2155.15 170.588 L2151.45 170.588 Q2147.97 165.148 2146.24 159.893 Q2144.53 154.639 2144.53 149.453 Q2144.53 144.291 2146.24 139.06 Q2147.95 133.828 2151.45 128.366 L2155.15 128.366 Z\" fill=\"#000000\" fill-rule=\"evenodd\" fill-opacity=\"1\" /><path clip-path=\"url(#clip440)\" d=\"M2184.97 138.412 L2175.59 151.027 L2185.45 164.338 L2180.43 164.338 L2172.88 154.152 L2165.34 164.338 L2160.31 164.338 L2170.38 150.773 L2161.17 138.412 L2166.19 138.412 L2173.07 147.648 L2179.94 138.412 L2184.97 138.412 Z\" fill=\"#000000\" fill-rule=\"evenodd\" fill-opacity=\"1\" /><path clip-path=\"url(#clip440)\" d=\"M2190.8 128.366 L2194.5 128.366 Q2197.97 133.828 2199.69 139.06 Q2201.42 144.291 2201.42 149.453 Q2201.42 154.639 2199.69 159.893 Q2197.97 165.148 2194.5 170.588 L2190.8 170.588 Q2193.88 165.287 2195.38 160.055 Q2196.91 154.801 2196.91 149.453 Q2196.91 144.106 2195.38 138.898 Q2193.88 133.69 2190.8 128.366 Z\" fill=\"#000000\" fill-rule=\"evenodd\" fill-opacity=\"1\" /><polyline clip-path=\"url(#clip440)\" style=\"stroke:#e26f46; stroke-linecap:butt; stroke-linejoin:round; stroke-width:4; stroke-opacity:1; fill:none\" points=\"\n",
       "  1892.46,198.898 2038.89,198.898 \n",
       "  \"/>\n",
       "<path clip-path=\"url(#clip440)\" d=\"M2068.92 212.242 L2085.24 212.242 L2085.24 216.178 L2063.3 216.178 L2063.3 212.242 Q2065.96 209.488 2070.54 204.858 Q2075.15 200.205 2076.33 198.863 Q2078.58 196.34 2079.46 194.604 Q2080.36 192.844 2080.36 191.155 Q2080.36 188.4 2078.42 186.664 Q2076.49 184.928 2073.39 184.928 Q2071.19 184.928 2068.74 185.692 Q2066.31 186.455 2063.53 188.006 L2063.53 183.284 Q2066.36 182.15 2068.81 181.571 Q2071.26 180.993 2073.3 180.993 Q2078.67 180.993 2081.86 183.678 Q2085.06 186.363 2085.06 190.854 Q2085.06 192.983 2084.25 194.905 Q2083.46 196.803 2081.35 199.395 Q2080.78 200.067 2077.67 203.284 Q2074.57 206.479 2068.92 212.242 Z\" fill=\"#000000\" fill-rule=\"evenodd\" fill-opacity=\"1\" /><path clip-path=\"url(#clip440)\" d=\"M2113.11 191.247 L2113.11 195.229 Q2111.31 194.233 2109.48 193.747 Q2107.67 193.238 2105.82 193.238 Q2101.68 193.238 2099.39 195.877 Q2097.1 198.492 2097.1 203.238 Q2097.1 207.983 2099.39 210.622 Q2101.68 213.238 2105.82 213.238 Q2107.67 213.238 2109.48 212.752 Q2111.31 212.242 2113.11 211.247 L2113.11 215.182 Q2111.33 216.016 2109.41 216.432 Q2107.51 216.849 2105.36 216.849 Q2099.5 216.849 2096.05 213.168 Q2092.6 209.488 2092.6 203.238 Q2092.6 196.895 2096.08 193.261 Q2099.57 189.627 2105.64 189.627 Q2107.6 189.627 2109.48 190.043 Q2111.35 190.437 2113.11 191.247 Z\" fill=\"#000000\" fill-rule=\"evenodd\" fill-opacity=\"1\" /><path clip-path=\"url(#clip440)\" d=\"M2130.57 193.238 Q2127.14 193.238 2125.15 195.923 Q2123.16 198.585 2123.16 203.238 Q2123.16 207.891 2125.13 210.576 Q2127.12 213.238 2130.57 213.238 Q2133.97 213.238 2135.96 210.553 Q2137.95 207.867 2137.95 203.238 Q2137.95 198.631 2135.96 195.946 Q2133.97 193.238 2130.57 193.238 M2130.57 189.627 Q2136.12 189.627 2139.29 193.238 Q2142.47 196.849 2142.47 203.238 Q2142.47 209.604 2139.29 213.238 Q2136.12 216.849 2130.57 216.849 Q2124.99 216.849 2121.82 213.238 Q2118.67 209.604 2118.67 203.238 Q2118.67 196.849 2121.82 193.238 Q2124.99 189.627 2130.57 189.627 Z\" fill=\"#000000\" fill-rule=\"evenodd\" fill-opacity=\"1\" /><path clip-path=\"url(#clip440)\" d=\"M2166.05 191.016 L2166.05 195.043 Q2164.25 194.117 2162.3 193.655 Q2160.36 193.192 2158.28 193.192 Q2155.1 193.192 2153.51 194.164 Q2151.93 195.136 2151.93 197.08 Q2151.93 198.562 2153.07 199.418 Q2154.2 200.252 2157.63 201.016 L2159.09 201.34 Q2163.62 202.312 2165.52 204.094 Q2167.44 205.854 2167.44 209.025 Q2167.44 212.636 2164.57 214.742 Q2161.72 216.849 2156.72 216.849 Q2154.64 216.849 2152.37 216.432 Q2150.13 216.039 2147.63 215.228 L2147.63 210.83 Q2149.99 212.057 2152.28 212.682 Q2154.57 213.284 2156.82 213.284 Q2159.83 213.284 2161.45 212.266 Q2163.07 211.224 2163.07 209.349 Q2163.07 207.613 2161.89 206.687 Q2160.73 205.761 2156.77 204.904 L2155.29 204.557 Q2151.33 203.724 2149.57 202.011 Q2147.81 200.275 2147.81 197.266 Q2147.81 193.608 2150.41 191.618 Q2153 189.627 2157.77 189.627 Q2160.13 189.627 2162.21 189.974 Q2164.29 190.321 2166.05 191.016 Z\" fill=\"#000000\" fill-rule=\"evenodd\" fill-opacity=\"1\" /><path clip-path=\"url(#clip440)\" d=\"M2184.46 180.206 Q2181.35 185.53 2179.85 190.738 Q2178.35 195.946 2178.35 201.293 Q2178.35 206.641 2179.85 211.895 Q2181.38 217.127 2184.46 222.428 L2180.75 222.428 Q2177.28 216.988 2175.54 211.733 Q2173.83 206.479 2173.83 201.293 Q2173.83 196.131 2175.54 190.9 Q2177.26 185.668 2180.75 180.206 L2184.46 180.206 Z\" fill=\"#000000\" fill-rule=\"evenodd\" fill-opacity=\"1\" /><path clip-path=\"url(#clip440)\" d=\"M2214.27 190.252 L2204.9 202.867 L2214.76 216.178 L2209.73 216.178 L2202.19 205.992 L2194.64 216.178 L2189.62 216.178 L2199.69 202.613 L2190.47 190.252 L2195.5 190.252 L2202.37 199.488 L2209.25 190.252 L2214.27 190.252 Z\" fill=\"#000000\" fill-rule=\"evenodd\" fill-opacity=\"1\" /><path clip-path=\"url(#clip440)\" d=\"M2220.1 180.206 L2223.81 180.206 Q2227.28 185.668 2228.99 190.9 Q2230.73 196.131 2230.73 201.293 Q2230.73 206.479 2228.99 211.733 Q2227.28 216.988 2223.81 222.428 L2220.1 222.428 Q2223.18 217.127 2224.69 211.895 Q2226.22 206.641 2226.22 201.293 Q2226.22 195.946 2224.69 190.738 Q2223.18 185.53 2220.1 180.206 Z\" fill=\"#000000\" fill-rule=\"evenodd\" fill-opacity=\"1\" /></svg>\n"
      ]
     },
     "execution_count": 81,
     "metadata": {},
     "output_type": "execute_result"
    }
   ],
   "source": [
    "using Plots\n",
    "x = range(-1, 1; length=1000) # Create a range of a 1000 evenly spaced numbers between -1 and 1\n",
    "y = cos.(x) # Create a new vector with `cos` applied to each entry of `x`\n",
    "plot(x, y; label=\"cos(x)\")\n",
    "plot!(x, 2y; label=\"2cos(x)\")"
   ]
  },
  {
   "cell_type": "markdown",
   "metadata": {},
   "source": [
    "Note the `!` is  just a convention: any function that modifies\n",
    "its input or global state should have `!` at the end of its name.\n",
    "\n",
    "\n",
    "### Installing packages (advanced)\n",
    "\n",
    "If you choose to use Julia on your own machine, you may need to install\n",
    "packages. This can be done by typing the following, either in Jupyter or in the REPL:\n",
    "`] add Plots`."
   ]
  }
 ],
 "metadata": {
  "kernelspec": {
   "display_name": "Julia 1.7.1",
   "language": "julia",
   "name": "julia-1.7"
  },
  "language_info": {
   "file_extension": ".jl",
   "mimetype": "application/julia",
   "name": "julia",
   "version": "1.7.1"
  }
 },
 "nbformat": 4,
 "nbformat_minor": 2
}
