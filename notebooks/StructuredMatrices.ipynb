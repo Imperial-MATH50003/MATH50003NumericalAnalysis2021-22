{
 "cells": [
  {
   "cell_type": "markdown",
   "metadata": {},
   "source": [
    "# Structured Matrices\n",
    "\n",
    "We have seen how algebraic operations (`+`, `-`, `*`, `/`) are\n",
    "well-defined for floating point numbers. Now we see how this allows us\n",
    "to do (approximate) linear algebra operations on structured matrices. That is,\n",
    "we consider the following structures:\n",
    "\n",
    "\n",
    "1. _Dense_: This can be considered unstructured, where we need to store all entries in a\n",
    "vector or matrix. Matrix multiplication reduces directly to standard algebraic operations. \n",
    "Solving linear systems with dense matrices will be discussed later.\n",
    "2. _Triangular_: If a matrix is upper or lower triangular, we can immediately invert using\n",
    "back-substitution. In practice we store a dense matrix and ignore the upper/lower entries.\n",
    "3. _Banded_: If a matrix is zero apart from entries a fixed distance from  the diagonal it is\n",
    "called banded and this allows for more efficient algorithms. We discuss diagonal, \n",
    "tridiagonal and bidiagonal matrices.\n",
    "3. _Permutation_: A permutation matrix permutes the rows of a vector. \n",
    "4. _Orthogonal_: An orthogonal matrix $Q$ satisfies $Q^⊤ Q = I$, in other words, they are\n",
    "very easy to invert. We discuss the special cases of simple rotations and reflections."
   ]
  },
  {
   "cell_type": "code",
   "execution_count": 1,
   "metadata": {
    "execution": {
     "iopub.execute_input": "2022-01-24T11:49:52.890725Z",
     "iopub.status.busy": "2022-01-24T11:49:52.470624Z",
     "iopub.status.idle": "2022-01-24T11:49:58.478434Z",
     "shell.execute_reply": "2022-01-24T11:49:58.477610Z"
    }
   },
   "outputs": [],
   "source": [
    "using LinearAlgebra, Plots, BenchmarkTools"
   ]
  },
  {
   "cell_type": "markdown",
   "metadata": {},
   "source": [
    "## 1. Dense vectors and matrices\n",
    "\n",
    "A `Vector` of a primitive type (like `Int` or `Float64`) is stored\n",
    "consecutively in memory. E.g. if we have a `Vector{Int8}` of length\n",
    "`n` then it is stored as `8n` bits (`n` bytes) in a row.\n",
    "A  `Matrix` is stored consecutively in memory, going down column-by-\n",
    "column. That is,"
   ]
  },
  {
   "cell_type": "code",
   "execution_count": 2,
   "metadata": {
    "execution": {
     "iopub.execute_input": "2022-01-24T11:49:59.468256Z",
     "iopub.status.busy": "2022-01-24T11:49:58.479912Z",
     "iopub.status.idle": "2022-01-24T11:50:00.677746Z",
     "shell.execute_reply": "2022-01-24T11:50:00.677288Z"
    }
   },
   "outputs": [
    {
     "data": {
      "text/plain": [
       "3×2 Matrix{Int64}:\n",
       " 1  2\n",
       " 3  4\n",
       " 5  6"
      ]
     },
     "execution_count": 2,
     "metadata": {},
     "output_type": "execute_result"
    }
   ],
   "source": [
    "A = [1 2;\n",
    "     3 4;\n",
    "     5 6]"
   ]
  },
  {
   "cell_type": "markdown",
   "metadata": {},
   "source": [
    "Is actually stored equivalently to a length `6` vector:"
   ]
  },
  {
   "cell_type": "code",
   "execution_count": 3,
   "metadata": {
    "execution": {
     "iopub.execute_input": "2022-01-24T11:50:00.679774Z",
     "iopub.status.busy": "2022-01-24T11:50:00.679239Z",
     "iopub.status.idle": "2022-01-24T11:50:01.086511Z",
     "shell.execute_reply": "2022-01-24T11:50:01.086019Z"
    }
   },
   "outputs": [
    {
     "data": {
      "text/plain": [
       "6-element Vector{Int64}:\n",
       " 1\n",
       " 3\n",
       " 5\n",
       " 2\n",
       " 4\n",
       " 6"
      ]
     },
     "execution_count": 3,
     "metadata": {},
     "output_type": "execute_result"
    }
   ],
   "source": [
    "vec(A)"
   ]
  },
  {
   "cell_type": "markdown",
   "metadata": {},
   "source": [
    "This is known as _column-major_ format.\n",
    "\n",
    "**Remark** Note that transposing `A` is done lazyily and so `A'`\n",
    "stores the entries by row. That is, `A'` is stored in \n",
    "_row-major_ format.\n",
    "\n",
    "\n",
    "Matrix-vector multiplication works as expected:"
   ]
  },
  {
   "cell_type": "code",
   "execution_count": 4,
   "metadata": {
    "execution": {
     "iopub.execute_input": "2022-01-24T11:50:01.088517Z",
     "iopub.status.busy": "2022-01-24T11:50:01.088031Z",
     "iopub.status.idle": "2022-01-24T11:50:01.155815Z",
     "shell.execute_reply": "2022-01-24T11:50:01.155369Z"
    }
   },
   "outputs": [
    {
     "data": {
      "text/plain": [
       "3-element Vector{Int64}:\n",
       " 23\n",
       " 53\n",
       " 83"
      ]
     },
     "execution_count": 4,
     "metadata": {},
     "output_type": "execute_result"
    }
   ],
   "source": [
    "x = [7, 8]\n",
    "A*x"
   ]
  },
  {
   "cell_type": "markdown",
   "metadata": {},
   "source": [
    "Note there are two ways this can be implemented: either the traditional definition,\n",
    "going row-by-row:\n",
    "$$\n",
    "\\begin{bmatrix} \\sum_{j=1}^n a_{1,j} x_j \\\\ \\vdots \\\\ \\sum_{j=1}^n a_{m,j} x_j \\end{bmatrix}\n",
    "$$\n",
    "or going column-by-column:\n",
    "$$\n",
    "x_1 𝐚_1  + \\cdots + x_n 𝐚_n\n",
    "$$\n",
    "It is easy to implement either version of matrix-multiplication in terms of the algebraic operations \n",
    "we have learned, in this case just using integer arithmetic:"
   ]
  },
  {
   "cell_type": "code",
   "execution_count": 5,
   "metadata": {
    "execution": {
     "iopub.execute_input": "2022-01-24T11:50:01.157837Z",
     "iopub.status.busy": "2022-01-24T11:50:01.157345Z",
     "iopub.status.idle": "2022-01-24T11:50:01.467128Z",
     "shell.execute_reply": "2022-01-24T11:50:01.466748Z"
    }
   },
   "outputs": [
    {
     "data": {
      "text/plain": [
       "([23, 53, 83], [23, 53, 83])"
      ]
     },
     "execution_count": 5,
     "metadata": {},
     "output_type": "execute_result"
    }
   ],
   "source": [
    "# go row-by-row\n",
    "function mul_rows(A, x)\n",
    "    m,n = size(A)\n",
    "    # promote_type type finds a type that is compatible with both types, eltype gives the type of the elements of a vector / matrix",
    "    c = zeros(promote_type(eltype(x),eltype(A)), m)",
    "    for k = 1:m, j = 1:n\n",
    "        c[k] += A[k, j] * x[j]\n",
    "    end\n",
    "    c\n",
    "end\n",
    "\n",
    "# go column-by-column\n",
    "function mul(A, x)\n",
    "    m,n = size(A)\n",
    "    # promote_type type finds a type that is compatible with both types, eltype gives the type of the elements of a vector / matrix",
    "    c = zeros(promote_type(eltype(x),eltype(A)), m)",
    "    for j = 1:n, k = 1:m\n",
    "        c[k] += A[k, j] * x[j]\n",
    "    end\n",
    "    c\n",
    "end\n",
    "\n",
    "mul_rows(A, x), mul(A, x)"
   ]
  },
  {
   "cell_type": "markdown",
   "metadata": {},
   "source": [
    "Either implementation will be $O(mn)$ operations. However, the implementation \n",
    "`mul` accesses the entries of `A` going down the column,\n",
    "which happens to be _significantly faster_ than `mul_rows`, due to accessing\n",
    "memory of `A` in order. We can see this by measuring the time it takes using `@btime`:"
   ]
  },
  {
   "cell_type": "code",
   "execution_count": 6,
   "metadata": {
    "execution": {
     "iopub.execute_input": "2022-01-24T11:50:01.469172Z",
     "iopub.status.busy": "2022-01-24T11:50:01.468516Z",
     "iopub.status.idle": "2022-01-24T11:50:33.352245Z",
     "shell.execute_reply": "2022-01-24T11:50:33.351720Z"
    }
   },
   "outputs": [
    {
     "name": "stdout",
     "output_type": "stream",
     "text": [
      "  2.356 ms (1 allocation: 7.94 KiB)\n",
      "  743.688 μs (1 allocation: 7.94 KiB)\n",
      "  130.390 μs (1 allocation: 7.94 KiB)\n"
     ]
    }
   ],
   "source": [
    "n = 1000\n",
    "A = randn(n,n) # create n x n matrix with random normal entries\n",
    "x = randn(n) # create length n vector with random normal entries\n",
    "\n",
    "@btime mul_rows(A,x)\n",
    "@btime mul(A,x)\n",
    "@btime A*x; # built-in, high performance implementation. USE THIS in practice"
   ]
  },
  {
   "cell_type": "markdown",
   "metadata": {},
   "source": [
    "Here `ms` means milliseconds (`0.001 = 10^(-3)` seconds) and `μs` means microseconds (`0.000001 = 10^(-6)` seconds).\n",
    "So we observe that `mul` is roughly 3x faster than `mul_rows`, while the optimised `*` is roughly 5x faster than `mul`.\n",
    "\n",
    "\n",
    "**Remark (advanced)** For floating point types, `A*x` is implemented in BLAS which is generally multi-threaded\n",
    "and is not identical to `mul(A,x)`, that is, some inputs will differ in how the computations\n",
    "are rounded.\n",
    "\n",
    "\n",
    "Note that the rules of arithmetic apply here: matrix multiplication with floats\n",
    "will incur round-off error (the precise details of which are subject to the implementation):"
   ]
  },
  {
   "cell_type": "code",
   "execution_count": 7,
   "metadata": {
    "execution": {
     "iopub.execute_input": "2022-01-24T11:50:33.355338Z",
     "iopub.status.busy": "2022-01-24T11:50:33.354498Z",
     "iopub.status.idle": "2022-01-24T11:50:33.911849Z",
     "shell.execute_reply": "2022-01-24T11:50:33.911470Z"
    }
   },
   "outputs": [
    {
     "data": {
      "text/plain": [
       "2-element Vector{Float64}:\n",
       " 0.9999999999999999\n",
       " 1.5"
      ]
     },
     "execution_count": 7,
     "metadata": {},
     "output_type": "execute_result"
    }
   ],
   "source": [
    "A = [1.4 0.4;\n",
    "     2.0 1/2]\n",
    "A * [1, -1] # First entry has round-off error, but 2nd entry is exact"
   ]
  },
  {
   "cell_type": "markdown",
   "metadata": {},
   "source": [
    "And integer arithmetic will be prone to overflow:"
   ]
  },
  {
   "cell_type": "code",
   "execution_count": 8,
   "metadata": {
    "execution": {
     "iopub.execute_input": "2022-01-24T11:50:33.913712Z",
     "iopub.status.busy": "2022-01-24T11:50:33.913222Z",
     "iopub.status.idle": "2022-01-24T11:50:34.467271Z",
     "shell.execute_reply": "2022-01-24T11:50:34.466826Z"
    }
   },
   "outputs": [
    {
     "data": {
      "text/plain": [
       "2-element Vector{Int8}:\n",
       " -128\n",
       " -128"
      ]
     },
     "execution_count": 8,
     "metadata": {},
     "output_type": "execute_result"
    }
   ],
   "source": [
    "A = fill(Int8(2^6), 2, 2) # make a matrix whose entries are all equal to 2^6\n",
    "A * Int8[1,1] # we have overflowed and get a negative number -2^7"
   ]
  },
  {
   "cell_type": "markdown",
   "metadata": {},
   "source": [
    "Solving a linear system is done using `\\`:"
   ]
  },
  {
   "cell_type": "code",
   "execution_count": 9,
   "metadata": {
    "execution": {
     "iopub.execute_input": "2022-01-24T11:50:34.470254Z",
     "iopub.status.busy": "2022-01-24T11:50:34.469023Z",
     "iopub.status.idle": "2022-01-24T11:50:35.553382Z",
     "shell.execute_reply": "2022-01-24T11:50:35.552885Z"
    }
   },
   "outputs": [
    {
     "data": {
      "text/plain": [
       "3-element Vector{Float64}:\n",
       "  41.000000000000036\n",
       " -17.000000000000014\n",
       "   1.0"
      ]
     },
     "execution_count": 9,
     "metadata": {},
     "output_type": "execute_result"
    }
   ],
   "source": [
    "A = [1 2 3;\n",
    "     1 2 4;\n",
    "     3 7 8]\n",
    "b = [10; 11; 12]\n",
    "A \\ b"
   ]
  },
  {
   "cell_type": "markdown",
   "metadata": {},
   "source": [
    "Despite the answer being integer-valued, \n",
    "here we see that it resorted to using floating point arithmetic,\n",
    "incurring rounding error. \n",
    "But it is \"accurate to (roughly) 16-digits\".\n",
    "As we shall see, the way solving a linear system works is we first write `A` as a\n",
    "product of simpler matrices, e.g., a product of triangular matrices.\n",
    "\n",
    "**Remark (advanced)** For floating point types, `A \\ x` is implemented in LAPACK, which\n",
    "like BLAS is generally multi-threaded and in fact different machines may round differently.\n",
    "\n",
    "\n",
    "## 2. Triangular matrices\n",
    "\n",
    "Triangular matrices are represented by dense square matrices where the entries below the\n",
    "diagonal\n",
    "are ignored:"
   ]
  },
  {
   "cell_type": "code",
   "execution_count": 10,
   "metadata": {
    "execution": {
     "iopub.execute_input": "2022-01-24T11:50:35.555760Z",
     "iopub.status.busy": "2022-01-24T11:50:35.554895Z",
     "iopub.status.idle": "2022-01-24T11:50:36.001181Z",
     "shell.execute_reply": "2022-01-24T11:50:36.000668Z"
    }
   },
   "outputs": [
    {
     "data": {
      "text/plain": [
       "3×3 UpperTriangular{Int64, Matrix{Int64}}:\n",
       " 1  2  3\n",
       " ⋅  5  6\n",
       " ⋅  ⋅  9"
      ]
     },
     "execution_count": 10,
     "metadata": {},
     "output_type": "execute_result"
    }
   ],
   "source": [
    "A = [1 2 3;\n",
    "     4 5 6;\n",
    "     7 8 9]\n",
    "U = UpperTriangular(A)"
   ]
  },
  {
   "cell_type": "markdown",
   "metadata": {},
   "source": [
    "We can see that `U` is storing all the entries of `A`:"
   ]
  },
  {
   "cell_type": "code",
   "execution_count": 11,
   "metadata": {
    "execution": {
     "iopub.execute_input": "2022-01-24T11:50:36.003567Z",
     "iopub.status.busy": "2022-01-24T11:50:36.002966Z",
     "iopub.status.idle": "2022-01-24T11:50:36.010213Z",
     "shell.execute_reply": "2022-01-24T11:50:36.009796Z"
    }
   },
   "outputs": [
    {
     "data": {
      "text/plain": [
       "3×3 Matrix{Int64}:\n",
       " 1  2  3\n",
       " 4  5  6\n",
       " 7  8  9"
      ]
     },
     "execution_count": 11,
     "metadata": {},
     "output_type": "execute_result"
    }
   ],
   "source": [
    "U.data"
   ]
  },
  {
   "cell_type": "markdown",
   "metadata": {},
   "source": [
    "Similarly we can create a lower triangular matrix by ignoring the entries above the diagonal:"
   ]
  },
  {
   "cell_type": "code",
   "execution_count": 12,
   "metadata": {
    "execution": {
     "iopub.execute_input": "2022-01-24T11:50:36.012391Z",
     "iopub.status.busy": "2022-01-24T11:50:36.011832Z",
     "iopub.status.idle": "2022-01-24T11:50:36.400326Z",
     "shell.execute_reply": "2022-01-24T11:50:36.399858Z"
    }
   },
   "outputs": [
    {
     "data": {
      "text/plain": [
       "3×3 LowerTriangular{Int64, Matrix{Int64}}:\n",
       " 1  ⋅  ⋅\n",
       " 4  5  ⋅\n",
       " 7  8  9"
      ]
     },
     "execution_count": 12,
     "metadata": {},
     "output_type": "execute_result"
    }
   ],
   "source": [
    "L = LowerTriangular(A)"
   ]
  },
  {
   "cell_type": "markdown",
   "metadata": {},
   "source": [
    "If we know a matrix is triangular we can do matrix-vector multiplication in roughly half\n",
    "the number of operations. \n",
    "Moreover, we can easily invert matrices. \n",
    "Consider a simple 3×3 example, which can be solved with `\\`:"
   ]
  },
  {
   "cell_type": "code",
   "execution_count": 13,
   "metadata": {
    "execution": {
     "iopub.execute_input": "2022-01-24T11:50:36.404567Z",
     "iopub.status.busy": "2022-01-24T11:50:36.403847Z",
     "iopub.status.idle": "2022-01-24T11:50:36.408610Z",
     "shell.execute_reply": "2022-01-24T11:50:36.407861Z"
    }
   },
   "outputs": [
    {
     "data": {
      "text/plain": [
       "3-element Vector{Float64}:\n",
       " 2.1333333333333333\n",
       " 0.2666666666666666\n",
       " 0.7777777777777778"
      ]
     },
     "execution_count": 13,
     "metadata": {},
     "output_type": "execute_result"
    }
   ],
   "source": [
    "b = [5,6,7]\n",
    "x = U \\ b"
   ]
  },
  {
   "cell_type": "markdown",
   "metadata": {},
   "source": [
    "Behind the seens, `\\` is doing back-substitution: considering the last row, we have all\n",
    "zeros apart from the last column so we know that `x[3]` must be equal to:"
   ]
  },
  {
   "cell_type": "code",
   "execution_count": 14,
   "metadata": {
    "execution": {
     "iopub.execute_input": "2022-01-24T11:50:36.414116Z",
     "iopub.status.busy": "2022-01-24T11:50:36.410884Z",
     "iopub.status.idle": "2022-01-24T11:50:36.658308Z",
     "shell.execute_reply": "2022-01-24T11:50:36.657931Z"
    }
   },
   "outputs": [
    {
     "data": {
      "text/plain": [
       "0.7777777777777778"
      ]
     },
     "execution_count": 14,
     "metadata": {},
     "output_type": "execute_result"
    }
   ],
   "source": [
    "b[3] / U[3,3]"
   ]
  },
  {
   "cell_type": "markdown",
   "metadata": {},
   "source": [
    "Once we know `x[3]`, the second row states `U[2,2]*x[2] + U[2,3]*x[3] == b[2]`, rearranging\n",
    "we get that `x[2]` must be:"
   ]
  },
  {
   "cell_type": "code",
   "execution_count": 15,
   "metadata": {
    "execution": {
     "iopub.execute_input": "2022-01-24T11:50:36.661053Z",
     "iopub.status.busy": "2022-01-24T11:50:36.659930Z",
     "iopub.status.idle": "2022-01-24T11:50:36.676431Z",
     "shell.execute_reply": "2022-01-24T11:50:36.676045Z"
    }
   },
   "outputs": [
    {
     "data": {
      "text/plain": [
       "0.2666666666666666"
      ]
     },
     "execution_count": 15,
     "metadata": {},
     "output_type": "execute_result"
    }
   ],
   "source": [
    "(b[2] - U[2,3]*x[3])/U[2,2]"
   ]
  },
  {
   "cell_type": "markdown",
   "metadata": {},
   "source": [
    "Finally, the first row states `U[1,1]*x[1] + U[1,2]*x[2] + U[1,3]*x[3] == b[1]` i.e.\n",
    "`x[1]` is equal to"
   ]
  },
  {
   "cell_type": "code",
   "execution_count": 16,
   "metadata": {
    "execution": {
     "iopub.execute_input": "2022-01-24T11:50:36.678811Z",
     "iopub.status.busy": "2022-01-24T11:50:36.678060Z",
     "iopub.status.idle": "2022-01-24T11:50:36.680975Z",
     "shell.execute_reply": "2022-01-24T11:50:36.680524Z"
    }
   },
   "outputs": [
    {
     "data": {
      "text/plain": [
       "2.1333333333333333"
      ]
     },
     "execution_count": 16,
     "metadata": {},
     "output_type": "execute_result"
    }
   ],
   "source": [
    "(b[1] - U[1,2]*x[2] - U[1,3]*x[3])/U[1,1]"
   ]
  },
  {
   "cell_type": "markdown",
   "metadata": {},
   "source": [
    "More generally, we can solve the upper-triangular system\n",
    "$$\n",
    "\\begin{bmatrix}\n",
    "u_{11} & \\cdots & u_{1n} \\\\ & \\ddots & \\vdots \\\\ && u_{nn}\n",
    "\\end{bmatrix} \\begin{bmatrix} x_1 \\\\ \\vdots \\\\ x_n \\end{bmatrix} = \n",
    "\\begin{bmatrix} b_1 \\\\ \\vdots \\\\ b_n \\end{bmatrix}\n",
    "$$\n",
    "by computing $x_n, x_{n-1}, \\ldots, x_1$ by the back-substitution formula:\n",
    "$$\n",
    "x_k = {b_k - \\sum_{j=k+1}^n u_{kj} x_j \\over u_{kk}}\n",
    "$$\n",
    "\n",
    "\n",
    "\n",
    "The problem sheet will explore implementing this method, as well\n",
    "as forward substitution for inverting lower triangular matrices. The cost of multiplying and solving linear systems with a\n",
    "triangular matrix is $O(n^2)$.\n",
    "\n",
    "\n",
    "## 3. Banded matrices\n",
    "\n",
    "A _banded matrix_ is zero off a prescribed number of diagonals. \n",
    "We call the number of (potentially) non-zero diagonals the _bandwidths_:\n",
    "\n",
    "\n",
    "**Definition (bandwidths)** A matrix $A$ has _lower-bandwidth_ $l$ if \n",
    "$A[k,j] = 0$ for all $k-j > l$ and _upper-bandwidth_ $u$ if\n",
    "$A[k,j] = 0$ for all $j-k > u$. We say that it has _strictly lower-bandwidth_ $l$\n",
    "if it has lower-bandwidth $l$ and there exists a $j$ such that $A[j+l,j] \\neq 0$.\n",
    "We say that it has _strictly upper-bandwidth_ $u$\n",
    "if it has upper-bandwidth $u$ and there exists a $k$ such that $A[k,k+u] \\neq 0$.\n",
    "\n",
    "\n",
    "### Diagonal\n",
    "\n",
    "**Definition (Diagonal)** _Diagonal matrices_ are square matrices with bandwidths $l = u = 0$.\n",
    "\n",
    "\n",
    "Diagonal matrices in Julia are stored as a vector containing the diagonal entries:"
   ]
  },
  {
   "cell_type": "code",
   "execution_count": 17,
   "metadata": {
    "execution": {
     "iopub.execute_input": "2022-01-24T11:50:36.683879Z",
     "iopub.status.busy": "2022-01-24T11:50:36.682957Z",
     "iopub.status.idle": "2022-01-24T11:50:37.112886Z",
     "shell.execute_reply": "2022-01-24T11:50:37.112431Z"
    }
   },
   "outputs": [
    {
     "data": {
      "text/plain": [
       "3×3 Diagonal{Int64, Vector{Int64}}:\n",
       " 1  ⋅  ⋅\n",
       " ⋅  2  ⋅\n",
       " ⋅  ⋅  3"
      ]
     },
     "execution_count": 17,
     "metadata": {},
     "output_type": "execute_result"
    }
   ],
   "source": [
    "x = [1,2,3]\n",
    "D = Diagonal(x)"
   ]
  },
  {
   "cell_type": "markdown",
   "metadata": {},
   "source": [
    "It is clear that we can perform diagonal-vector multiplications and solve linear systems involving diagonal matrices efficiently\n",
    "(in $O(n)$ operations).\n",
    "\n",
    "### Bidiagonal\n",
    "\n",
    "**Definition (Bidiagonal)** If a square matrix has bandwidths $(l,u) = (1,0)$ it is _lower-bidiagonal_ and\n",
    "if it has bandwidths $(l,u) = (0,1)$ it is _upper-bidiagonal_. \n",
    "\n",
    "We can create Bidiagonal matrices in Julia by specifying the diagonal and off-diagonal:"
   ]
  },
  {
   "cell_type": "code",
   "execution_count": 18,
   "metadata": {
    "execution": {
     "iopub.execute_input": "2022-01-24T11:50:37.115204Z",
     "iopub.status.busy": "2022-01-24T11:50:37.114651Z",
     "iopub.status.idle": "2022-01-24T11:50:37.539174Z",
     "shell.execute_reply": "2022-01-24T11:50:37.538335Z"
    }
   },
   "outputs": [
    {
     "data": {
      "text/plain": [
       "3×3 Bidiagonal{Int64, Vector{Int64}}:\n",
       " 1  ⋅  ⋅\n",
       " 4  2  ⋅\n",
       " ⋅  5  3"
      ]
     },
     "execution_count": 18,
     "metadata": {},
     "output_type": "execute_result"
    }
   ],
   "source": [
    "Bidiagonal([1,2,3], [4,5], :L)"
   ]
  },
  {
   "cell_type": "code",
   "execution_count": 19,
   "metadata": {
    "execution": {
     "iopub.execute_input": "2022-01-24T11:50:37.541286Z",
     "iopub.status.busy": "2022-01-24T11:50:37.540767Z",
     "iopub.status.idle": "2022-01-24T11:50:37.543978Z",
     "shell.execute_reply": "2022-01-24T11:50:37.543408Z"
    }
   },
   "outputs": [
    {
     "data": {
      "text/plain": [
       "3×3 Bidiagonal{Int64, Vector{Int64}}:\n",
       " 1  4  ⋅\n",
       " ⋅  2  5\n",
       " ⋅  ⋅  3"
      ]
     },
     "execution_count": 19,
     "metadata": {},
     "output_type": "execute_result"
    }
   ],
   "source": [
    "Bidiagonal([1,2,3], [4,5], :U)"
   ]
  },
  {
   "cell_type": "markdown",
   "metadata": {},
   "source": [
    "Multiplication and solving linear systems with Bidiagonal systems is also $O(n)$ operations, using the standard\n",
    "multiplications/back-substitution algorithms but being careful in the loops to only access the non-zero entries. \n",
    "\n",
    "\n",
    "### Tridiagonal\n",
    "\n",
    "**Definition (Tridiagonal)** If a square matrix has bandwidths $l = u = 1$ it is _tridiagonal_.\n",
    "\n",
    "Julia has a type `Tridiagonal` for representing a tridiagonal matrix from its sub-diagonal, diagonal, and super-diagonal:"
   ]
  },
  {
   "cell_type": "code",
   "execution_count": 20,
   "metadata": {
    "execution": {
     "iopub.execute_input": "2022-01-24T11:50:37.546110Z",
     "iopub.status.busy": "2022-01-24T11:50:37.545507Z",
     "iopub.status.idle": "2022-01-24T11:50:37.944508Z",
     "shell.execute_reply": "2022-01-24T11:50:37.944123Z"
    }
   },
   "outputs": [
    {
     "data": {
      "text/plain": [
       "3×3 Tridiagonal{Int64, Vector{Int64}}:\n",
       " 3  6  ⋅\n",
       " 1  4  7\n",
       " ⋅  2  5"
      ]
     },
     "execution_count": 20,
     "metadata": {},
     "output_type": "execute_result"
    }
   ],
   "source": [
    "Tridiagonal([1,2], [3,4,5], [6,7])"
   ]
  },
  {
   "cell_type": "markdown",
   "metadata": {},
   "source": [
    "Tridiagonal matrices will come up in second-order differential equations and orthogonal polynomials.\n",
    "We will later see how linear systems involving tridiagonal matrices can be solved in $O(n)$ operations.\n",
    "\n",
    "## 4. Permutation Matrices\n",
    "\n",
    "Permutation matrices are matrices that represent the action of permuting the entries of a vector,\n",
    "that is, matrix representations of the symmetric group $S_n$, acting on $ℝ^n$.\n",
    "Recall every $σ \\in S_n$ is a bijection between $\\{1,2,\\ldots,n\\}$ and itself.\n",
    "We can write a permutation $σ$ in _Cauchy notation_:\n",
    "$$\n",
    "\\begin{pmatrix}\n",
    " 1 & 2 & 3 & \\cdots & n \\cr\n",
    " σ_1 & σ_2 & σ_3 & \\cdots & σ_n\n",
    " \\end{pmatrix}\n",
    "$$\n",
    "where $\\{σ_1,\\ldots,σ_n\\} = \\{1,2,\\ldots,n\\}$ (that is, each integer appears precisely once).\n",
    "We denote the _inverse permutation_ by $σ^{-1}$, which can be constructed by swapping the rows of\n",
    "the Cauchy notation and reordering.\n",
    "\n",
    "We can encode a permutation in vector $\\mathbf σ = [σ_1,\\ldots,σ_n]^⊤$. \n",
    "This induces an action on a vector (using indexing notation)\n",
    "$$\n",
    "𝐯[\\mathbf σ] = \\begin{bmatrix}v_{σ_1}\\\\ \\vdots \\\\ v_{σ_n} \\end{bmatrix}\n",
    "$$\n",
    "\n",
    "\n",
    "**Example (permutation of a vector)** \n",
    "Consider the permutation $σ$ given by\n",
    "$$\n",
    "\\begin{pmatrix}\n",
    " 1 & 2 & 3 & 4 & 5 \\cr\n",
    " 1 & 4 & 2 & 5 & 3\n",
    " \\end{pmatrix}\n",
    "$$\n",
    "We can apply it to a vector:"
   ]
  },
  {
   "cell_type": "code",
   "execution_count": 21,
   "metadata": {
    "execution": {
     "iopub.execute_input": "2022-01-24T11:50:37.946648Z",
     "iopub.status.busy": "2022-01-24T11:50:37.946055Z",
     "iopub.status.idle": "2022-01-24T11:50:37.960146Z",
     "shell.execute_reply": "2022-01-24T11:50:37.959769Z"
    }
   },
   "outputs": [
    {
     "data": {
      "text/plain": [
       "5-element Vector{Int64}:\n",
       "  6\n",
       "  9\n",
       "  7\n",
       " 10\n",
       "  8"
      ]
     },
     "execution_count": 21,
     "metadata": {},
     "output_type": "execute_result"
    }
   ],
   "source": [
    "σ = [1, 4, 2, 5, 3]\n",
    "v = [6, 7, 8, 9, 10]\n",
    "v[σ] # we permutate entries of v"
   ]
  },
  {
   "cell_type": "markdown",
   "metadata": {},
   "source": [
    "Its inverse permutation $σ^{-1}$ has Cauchy notation coming from swapping the rows of\n",
    "the Cauchy notation of $σ$ and sorting:\n",
    "$$\n",
    "\\begin{pmatrix}\n",
    " 1 & 4 & 2 & 5 & 3 \\cr\n",
    " 1 & 2 & 3 & 4 & 5\n",
    " \\end{pmatrix} \\rightarrow \\begin{pmatrix}\n",
    " 1 & 2 & 4 & 3 & 5 \\cr\n",
    " 1 & 3 & 2 & 5 & 4\n",
    " \\end{pmatrix} \n",
    "$$\n",
    "Julia has the function `invperm` for computing the vector that encodes\n",
    "the inverse permutation:\n",
    "And indeed:"
   ]
  },
  {
   "cell_type": "code",
   "execution_count": 22,
   "metadata": {
    "execution": {
     "iopub.execute_input": "2022-01-24T11:50:37.962084Z",
     "iopub.status.busy": "2022-01-24T11:50:37.961573Z",
     "iopub.status.idle": "2022-01-24T11:50:37.964528Z",
     "shell.execute_reply": "2022-01-24T11:50:37.963996Z"
    }
   },
   "outputs": [
    {
     "data": {
      "text/plain": [
       "5-element Vector{Int64}:\n",
       " 1\n",
       " 3\n",
       " 5\n",
       " 2\n",
       " 4"
      ]
     },
     "execution_count": 22,
     "metadata": {},
     "output_type": "execute_result"
    }
   ],
   "source": [
    "σ⁻¹ = invperm(σ) # note that ⁻¹ are just unicode characters in the variable name"
   ]
  },
  {
   "cell_type": "markdown",
   "metadata": {},
   "source": [
    "And indeed permuting the entries by `σ` and then by `σ⁻¹` returns us\n",
    "to our original vector:"
   ]
  },
  {
   "cell_type": "code",
   "execution_count": 23,
   "metadata": {
    "execution": {
     "iopub.execute_input": "2022-01-24T11:50:37.966838Z",
     "iopub.status.busy": "2022-01-24T11:50:37.966329Z",
     "iopub.status.idle": "2022-01-24T11:50:37.969303Z",
     "shell.execute_reply": "2022-01-24T11:50:37.968832Z"
    }
   },
   "outputs": [
    {
     "data": {
      "text/plain": [
       "5-element Vector{Int64}:\n",
       "  6\n",
       "  7\n",
       "  8\n",
       "  9\n",
       " 10"
      ]
     },
     "execution_count": 23,
     "metadata": {},
     "output_type": "execute_result"
    }
   ],
   "source": [
    "v[σ][σ⁻¹] # permuting by σ and then σⁱ gets us back"
   ]
  },
  {
   "cell_type": "markdown",
   "metadata": {},
   "source": [
    "Note that the operator\n",
    "$$\n",
    "P_σ(𝐯) = 𝐯[\\mathbf σ]\n",
    "$$\n",
    "is linear in $𝐯$, therefore, we can identify it with a matrix whose action is:\n",
    "$$\n",
    "P_σ \\begin{bmatrix} v_1\\\\ \\vdots \\\\ v_n \\end{bmatrix} = \\begin{bmatrix}v_{σ_1} \\\\ \\vdots \\\\ v_{σ_n}  \\end{bmatrix}.\n",
    "$$\n",
    "The entries of this matrix are\n",
    "$$\n",
    "P_σ[k,j] = 𝐞_k^⊤ P_σ 𝐞_j = 𝐞_k^⊤ 𝐞_{σ^{-1}_j} = δ_{k,σ^{-1}_j} = δ_{σ_k,j}\n",
    "$$\n",
    "where $δ_{k,j}$ is the _Kronecker delta_:\n",
    "$$\n",
    "δ_{k,j} := \\begin{cases} 1 & k = j \\\\\n",
    "                        0 & \\hbox{otherwise}\n",
    "                        \\end{cases}.\n",
    "$$\n",
    "\n",
    "\n",
    "This construction motivates the following definition:\n",
    "\n",
    "**Definition (permutation matrix)** $P \\in ℝ^{n × n}$ is a permutation matrix if it is equal to\n",
    "the identity matrix with its rows permuted.\n",
    "\n",
    "**Example (5×5 permutation matrix)**\n",
    "We can construct the permutation representation for $σ$ as above as follows:"
   ]
  },
  {
   "cell_type": "code",
   "execution_count": 24,
   "metadata": {
    "execution": {
     "iopub.execute_input": "2022-01-24T11:50:37.971757Z",
     "iopub.status.busy": "2022-01-24T11:50:37.971026Z",
     "iopub.status.idle": "2022-01-24T11:50:38.884052Z",
     "shell.execute_reply": "2022-01-24T11:50:38.883675Z"
    }
   },
   "outputs": [
    {
     "data": {
      "text/plain": [
       "5×5 SparseArrays.SparseMatrixCSC{Bool, Int64} with 5 stored entries:\n",
       " 1  ⋅  ⋅  ⋅  ⋅\n",
       " ⋅  ⋅  ⋅  1  ⋅\n",
       " ⋅  1  ⋅  ⋅  ⋅\n",
       " ⋅  ⋅  ⋅  ⋅  1\n",
       " ⋅  ⋅  1  ⋅  ⋅"
      ]
     },
     "execution_count": 24,
     "metadata": {},
     "output_type": "execute_result"
    }
   ],
   "source": [
    "P = I(5)[σ,:]"
   ]
  },
  {
   "cell_type": "markdown",
   "metadata": {},
   "source": [
    "And indeed, we see its action is as expected:"
   ]
  },
  {
   "cell_type": "code",
   "execution_count": 25,
   "metadata": {
    "execution": {
     "iopub.execute_input": "2022-01-24T11:50:38.885975Z",
     "iopub.status.busy": "2022-01-24T11:50:38.885466Z",
     "iopub.status.idle": "2022-01-24T11:50:38.920706Z",
     "shell.execute_reply": "2022-01-24T11:50:38.920209Z"
    }
   },
   "outputs": [
    {
     "data": {
      "text/plain": [
       "5-element Vector{Int64}:\n",
       "  6\n",
       "  9\n",
       "  7\n",
       " 10\n",
       "  8"
      ]
     },
     "execution_count": 25,
     "metadata": {},
     "output_type": "execute_result"
    }
   ],
   "source": [
    "P * v"
   ]
  },
  {
   "cell_type": "markdown",
   "metadata": {},
   "source": [
    "**Remark (advanced)** Note that `P` is a special type `SparseMatrixCSC`. This is used\n",
    "to represent a matrix by storing only the non-zero entries as well as their location.\n",
    "This is an important data type in high-performance scientific computing, but we will not\n",
    "be using general sparse matrices in this module.\n",
    "\n",
    "**Proposition (permutation matrix inverse)** \n",
    "Let $P_σ$ be a permutation matrix corresponding to the permutation $σ$. Then\n",
    "$$\n",
    "P_σ^⊤ = P_{σ^{-1}} = P_σ^{-1}\n",
    "$$\n",
    "That is, $P_σ$ is _orthogonal_:\n",
    "$$\n",
    "P_σ^⊤ P_σ = P_σ P_σ^⊤ = I.\n",
    "$$\n",
    "\n",
    "**Proof**\n",
    "\n",
    "We prove orthogonality via:\n",
    "$$\n",
    "𝐞_k^⊤ P_σ^⊤ P_σ 𝐞_j = (P_σ 𝐞_k)^⊤ P_σ 𝐞_j = 𝐞_{σ^{-1}_k}^⊤ 𝐞_{σ^{-1}_j} = δ_{k,j}\n",
    "$$\n",
    "This shows $P_σ^⊤ P_σ = I$ and hence $P_σ^{-1} = P_σ^⊤$. \n",
    "\n",
    "∎\n",
    "\n",
    "\n",
    "Permutation matrices are examples of sparse matrices that can be very easily inverted. \n",
    "\n",
    "\n",
    "\n",
    "## 4. Orthogonal matrices\n",
    "\n",
    "\n",
    "**Definition (orthogonal matrix)** A square matrix is _orthogonal_ if its inverse is its transpose:\n",
    "$$\n",
    "Q^⊤ Q = QQ^⊤ = I.\n",
    "$$\n",
    "\n",
    "We have already seen an example of an orthogonal matrices (permutation matrices). \n",
    "Here we discuss two important special cases: simple rotations and reflections.\n",
    "\n",
    "### Simple rotations\n",
    "\n",
    "\n",
    "**Definition (simple rotation)**\n",
    "A 2×2 _rotation matrix_ through angle $θ$ is\n",
    "$$\n",
    "Q_θ := \\begin{bmatrix} \\cos \\theta & -\\sin \\theta \\cr \\sin \\theta & \\cos \\theta \\end{bmatrix}\n",
    "$$\n",
    "\n",
    "In what follows we use the following for writing the angle of a vector:\n",
    "\n",
    "**Definition (two-arg arctan)** The two-argument arctan function gives the angle `θ` through the point\n",
    "$[a,b]^\\top$, i.e., \n",
    "$$\n",
    "\\sqrt{a^2 + b^2} \\begin{bmatrix} \\cos θ \\\\ \\sin θ \\end{bmatrix} =  \\begin{bmatrix} a \\\\ b \\end{bmatrix}\n",
    "$$\n",
    "It can be defined in terms of the standard arctan as follows:\n",
    "$$\n",
    "{\\rm atan}(b,a) := \\begin{cases} {\\rm atan}{b \\over a} & a > 0 \\\\\n",
    "                            {\\rm atan}{b \\over a} + π & a < 0\\hbox{ and }b >0 \\\\\n",
    "                            {\\rm atan}{b \\over a} + π & a < 0\\hbox{ and }b < 0 \\\\\n",
    "                            π/2 & a = 0\\hbox{ and }b >0 \\\\\n",
    "                            -π/2 & a = 0\\hbox{ and }b < 0 \n",
    "                            \\end{cases}\n",
    "$$ \n",
    "\n",
    "This is available in Julia:"
   ]
  },
  {
   "cell_type": "code",
   "execution_count": 26,
   "metadata": {
    "execution": {
     "iopub.execute_input": "2022-01-24T11:50:38.923552Z",
     "iopub.status.busy": "2022-01-24T11:50:38.922698Z",
     "iopub.status.idle": "2022-01-24T11:50:38.963582Z",
     "shell.execute_reply": "2022-01-24T11:50:38.963146Z"
    }
   },
   "outputs": [
    {
     "data": {
      "text/plain": [
       "-2.677945044588987"
      ]
     },
     "execution_count": 26,
     "metadata": {},
     "output_type": "execute_result"
    }
   ],
   "source": [
    "atan(-1,-2) # angle through [-2,-1]"
   ]
  },
  {
   "cell_type": "markdown",
   "metadata": {},
   "source": [
    "We can rotate an arbitrary vector to the unit axis. Interestingly it only requires\n",
    "basic algebraic functions (no trigonometric functions):\n",
    "\n",
    "\n",
    "\n",
    "**Proposition (rotation of a vector)** \n",
    "The matrix\n",
    "$$Q = {1 \\over \\sqrt{a^2 + b^2}}\\begin{bmatrix}\n",
    " a & b \\cr -b & a\n",
    "\\end{bmatrix}\n",
    "$$\n",
    "is a rotation matrix satisfying\n",
    "$$\n",
    "Q \\begin{bmatrix} a \\\\ b \\end{bmatrix} = \\sqrt{a^2 + b^2} \\begin{bmatrix} 1 \\\\ 0 \\end{bmatrix}\n",
    "$$\n",
    "\n",
    "**Proof** \n",
    "\n",
    "The last equation is trivial so the only question is that it is a rotation matrix.\n",
    "Define $θ = -{\\rm atan}(b, a)$. By definition of the two-arg arctan we have\n",
    "$$\n",
    "\\begin{bmatrix}\n",
    "\\cos θ & -\\sin θ \\\\\n",
    "\\sin θ &\\cos θ\n",
    "\\end{bmatrix} = \\begin{bmatrix}\n",
    "\\cos(-θ) & \\sin(-θ) \\\\\n",
    "-\\sin(-θ) & \\cos(-θ)\n",
    "\\end{bmatrix} = {1\\over \\sqrt{a^2 + b^2}} \\begin{bmatrix} a  & b \\\\ -b &a \\end{bmatrix}.\n",
    "$$\n",
    "\n",
    "∎\n",
    "\n",
    "\n",
    "\n",
    "\n",
    "### Reflections\n",
    "\n",
    "In addition to rotations, another type of orthognal matrix are reflections:\n",
    "\n",
    "**Definition (reflection matrix)** \n",
    "Given a vector $𝐯$ satisfying $\\|𝐯\\|=1$, the reflection matrix is the orthogonal matrix\n",
    "$$\n",
    "Q_𝐯 \\triangleq I - 2 𝐯 𝐯^⊤\n",
    "$$\n",
    "\n",
    "These are reflections in the direction of $𝐯$. We can show this as follows:\n",
    "\n",
    "**Proposition** $Q_𝐯$ satisfies:\n",
    "1. Symmetry: $Q_𝐯 = Q_𝐯^⊤$\n",
    "2. Orthogonality: $Q_𝐯^⊤ Q_𝐯 = I$\n",
    "2. $𝐯$ is an eigenvector of $Q_𝐯$ with eigenvalue $-1$\n",
    "4. $Q_𝐯$ is a rank-1 perturbation of $I$\n",
    "3. $\\det Q_𝐯 = -1$\n",
    "\n",
    "\n",
    "**Proof**\n",
    "\n",
    "Property 1 follows immediately. Property 2 follows from\n",
    "$$\n",
    "Q_𝐯^⊤ Q_𝐯 = Q_𝐯^2 = I - 4 𝐯 𝐯^⊤ + 4 𝐯 𝐯^⊤ 𝐯 𝐯^⊤ = I\n",
    "$$\n",
    "Property 3 follows since\n",
    "$$\n",
    "Q_𝐯 𝐯 = -𝐯\n",
    "$$\n",
    "Property 4 follows since $𝐯 𝐯^⊤$ is a rank-1 matrix as all rows are linear combinations of each other.\n",
    "To see property 5, note there is a dimension $n-1$ space $W$ orthogonal to $𝐯$, that is, for all\n",
    "$𝐰 \\in W$ we have $𝐰^⊤ 𝐯 = 0$, which implies that\n",
    "$$\n",
    "Q_𝐯 𝐰 = 𝐰\n",
    "$$\n",
    "In other words, $1$ is an eigenvalue with multiplicity $n-1$ and $-1$ is an eigenvalue with multiplicity 1,\n",
    "and thus the product of the eigenvalues is $-1$.\n",
    "\n",
    "∎\n",
    "\n",
    "\n",
    "\n",
    "**Example (reflection through 2-vector)** Consider reflection through $𝐱 = [1,2]^\\top$. \n",
    "We first need to normalise $𝐱$:\n",
    "$$\n",
    "𝐯 = {𝐱 \\over \\|𝐱\\|} = \\begin{bmatrix} {1 \\over \\sqrt{5}} \\\\ {2 \\over \\sqrt{5}} \\end{bmatrix}\n",
    "$$\n",
    "Note this indeed has unit norm:\n",
    "$$\n",
    "\\|𝐯\\|^2 = {1 \\over 5} + {4 \\over 5} = 1.\n",
    "$$\n",
    "Thus the reflection matrix is:\n",
    "$$\n",
    "Q_𝐯 = I - 2 𝐯 𝐯^⊤ = \\begin{bmatrix}1 \\\\ & 1 \\end{bmatrix} - {2 \\over 5} \\begin{bmatrix} 1 & 2 \\\\ 2 & 4 \\end{bmatrix}\n",
    " =  {1 \\over 5} \\begin{bmatrix} 3 & -4 \\\\ -4 & -3 \\end{bmatrix}\n",
    "$$\n",
    "Indeed it is symmetric, and orthogonal. It sends $𝐱$ to $-𝐱$:\n",
    "$$\n",
    "Q_𝐯 𝐱 = {1 \\over 5} \\begin{bmatrix}3 - 8 \\\\ -4 - 6 \\end{bmatrix} = -𝐱\n",
    "$$\n",
    "Any vector orthogonal to $𝐱$, like $𝐲 = [-2,1]^\\top$, is left fixed:\n",
    "$$\n",
    "Q_𝐯 𝐲 = {1 \\over 5} \\begin{bmatrix}-6 -4 \\\\ 8 - 3 \\end{bmatrix} = 𝐲\n",
    "$$\n",
    "\n",
    "\n",
    "Note that _building_ the matrix $Q_𝐯$ will be expensive ($O(n^2)$ operations), but we can apply\n",
    "$Q_𝐯$ to a vector in $O(n)$ operations using the expression:\n",
    "$$\n",
    "Q_𝐯 𝐱 = 𝐱 - 2 𝐯 (𝐯^⊤ 𝐱).\n",
    "$$\n",
    "\n",
    "\n",
    "Just as rotations can be used to rotate vectors to be aligned with coordinate axis, so can reflections,\n",
    "but in this case it works for vectors in $ℝ^n$, not just $ℝ^2$:\n",
    "\n",
    "**Definition (Householder reflection)** For a given vector\n",
    "$𝐱$, define the Householder reflection\n",
    "$$\n",
    "Q_𝐱^{±,\\rm H} := Q_𝐰\n",
    "$$\n",
    "for $𝐲 = ∓ \\|𝐱\\| 𝐞_1 + 𝐱$ and $𝐰 = {𝐲 \\over \\|𝐲\\|}$.\n",
    "The default choice in sign is:\n",
    "$$\n",
    "Q_𝐱^{\\rm H} := Q_𝐱^{-\\hbox{sign}(x_1),\\rm H}.\n",
    "$$\n",
    "\n",
    "**Lemma (Householder reflection)**\n",
    "$$\n",
    "Q_𝐱^{±,\\rm H} 𝐱 = ±\\|𝐱\\| 𝐞_1\n",
    "$$\n",
    "\n",
    "**Proof**\n",
    "Note that\n",
    "$$\n",
    "\\begin{align*}\n",
    "\\| 𝐲 \\|^2 &= 2\\|𝐱\\|^2 ∓ 2 \\|𝐱\\| x_1, \\\\\n",
    "𝐲^⊤ 𝐱 &= \\|𝐱\\|^2 ∓  \\|𝐱\\| x_1\n",
    "\\end{align*}\n",
    "$$\n",
    "where $x_1 = 𝐞_1^\\top 𝐱$. Therefore:\n",
    "$$\n",
    "Q_𝐱^{±,\\rm H} 𝐱  =  (I - 2 𝐰 𝐰^⊤) 𝐱 = 𝐱 - 2 {𝐲  \\|𝐱\\|  \\over \\|𝐲\\|^2} (\\|𝐱\\|∓x_1) = 𝐱 - 𝐲 =  ±\\|𝐱\\| 𝐞_1.\n",
    "$$\n",
    "\n",
    "∎\n",
    "\n",
    "Why do we choose the the opposite sign of $x_1$ for the default reflection? For stability.\n",
    "We demonstrate the reason for this by numerical example. Consider $𝐱 = [1,h]$, i.e., a small perturbation\n",
    "from $𝐞_1$. If we reflect to $\\hbox{norm}(𝐱)𝐞_1$ we see a numerical problem:"
   ]
  },
  {
   "cell_type": "code",
   "execution_count": 27,
   "metadata": {
    "execution": {
     "iopub.execute_input": "2022-01-24T11:50:38.965795Z",
     "iopub.status.busy": "2022-01-24T11:50:38.965142Z",
     "iopub.status.idle": "2022-01-24T11:50:39.402033Z",
     "shell.execute_reply": "2022-01-24T11:50:39.401574Z"
    }
   },
   "outputs": [
    {
     "data": {
      "text/plain": [
       "2-element Vector{Float64}:\n",
       "  1.0\n",
       " -1.0e-10"
      ]
     },
     "execution_count": 27,
     "metadata": {},
     "output_type": "execute_result"
    }
   ],
   "source": [
    "h = 10.0^(-10)\n",
    "x = [1,h]\n",
    "y = -norm(x)*[1,0] + x\n",
    "w = y/norm(y)\n",
    "Q = I-2w*w'\n",
    "Q*x"
   ]
  },
  {
   "cell_type": "markdown",
   "metadata": {},
   "source": [
    "It didn't work! Even worse is if `h = 0`:"
   ]
  },
  {
   "cell_type": "code",
   "execution_count": 28,
   "metadata": {
    "execution": {
     "iopub.execute_input": "2022-01-24T11:50:39.404262Z",
     "iopub.status.busy": "2022-01-24T11:50:39.403759Z",
     "iopub.status.idle": "2022-01-24T11:50:39.529561Z",
     "shell.execute_reply": "2022-01-24T11:50:39.529093Z"
    }
   },
   "outputs": [
    {
     "data": {
      "text/plain": [
       "2-element Vector{Float64}:\n",
       " NaN\n",
       " NaN"
      ]
     },
     "execution_count": 28,
     "metadata": {},
     "output_type": "execute_result"
    }
   ],
   "source": [
    "h = 0\n",
    "x = [1,h]\n",
    "y = -norm(x)*[1,0] + x\n",
    "w = y/norm(y)\n",
    "Q = I-2w*w'\n",
    "Q*x"
   ]
  },
  {
   "cell_type": "markdown",
   "metadata": {},
   "source": [
    "This is because `y` has large relative error due to cancellation\n",
    "from floating point errors in computing the first entry `x[1] - norm(x)`. \n",
    "(Or has norm zero if `h=0`.)\n",
    "We avoid this cancellation by using the default choice:"
   ]
  },
  {
   "cell_type": "code",
   "execution_count": 29,
   "metadata": {
    "execution": {
     "iopub.execute_input": "2022-01-24T11:50:39.531385Z",
     "iopub.status.busy": "2022-01-24T11:50:39.530899Z",
     "iopub.status.idle": "2022-01-24T11:50:39.541499Z",
     "shell.execute_reply": "2022-01-24T11:50:39.541100Z"
    }
   },
   "outputs": [
    {
     "data": {
      "text/plain": [
       "2-element Vector{Float64}:\n",
       " -1.0\n",
       "  0.0"
      ]
     },
     "execution_count": 29,
     "metadata": {},
     "output_type": "execute_result"
    }
   ],
   "source": [
    "h = 10.0^(-10)\n",
    "x = [1,h]\n",
    "y = sign(x[1])*norm(x)*[1,0] + x\n",
    "w = y/norm(y)\n",
    "Q = I-2w*w'\n",
    "Q*x"
   ]
  }
 ],
 "metadata": {
  "kernelspec": {
   "display_name": "Julia 1.7.0",
   "language": "julia",
   "name": "julia-1.7"
  },
  "language_info": {
   "file_extension": ".jl",
   "mimetype": "application/julia",
   "name": "julia",
   "version": "1.7.1"
  }
 },
 "nbformat": 4,
 "nbformat_minor": 2
}
