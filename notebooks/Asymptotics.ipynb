{
 "cells": [
  {
   "cell_type": "markdown",
   "metadata": {},
   "source": [
    "# Asymptotics and Computational Cost\n",
    "\n",
    "We introduce Big-O, little-o and asymptotic notation and see\n",
    "how they can be used to describe computational cost.\n",
    "\n",
    "1. Asymptotics as $n → ∞$\n",
    "2. Asymptotics as $x → x_0$\n",
    "3. Computational cost\n",
    "\n",
    "## 1. Asymptotics as $n → ∞$\n",
    "\n",
    "Big-O, little-o, and \"asymptotic to\" are used to describe behaviour of functions\n",
    "at infinity. \n",
    "\n",
    "**Definition (Big-O)** \n",
    "$$\n",
    "f(n) = O(ϕ(n)) \\qquad \\hbox{(as $n → ∞$)}\n",
    "$$\n",
    "means\n",
    "$$\n",
    "\\left|{f(n) \\over ϕ(n)}\\right|\n",
    "$$\n",
    "is bounded for sufficiently large $n$. That is,\n",
    "there exist constants $C$ and $N_0$ such \n",
    "that, for all $n \\geq N_0$, $|{f(n) \\over ϕ(n)}| \\leq C$.\n",
    "\n",
    "**Definition (little-O)** \n",
    "$$\n",
    "f(n) = o(ϕ(n)) \\qquad \\hbox{(as $n → ∞$)}\n",
    "$$\n",
    "means\n",
    "$$\n",
    "\\lim_{n → ∞} {f(n) \\over ϕ(n)} = 0.\n",
    "$$\n",
    "\n",
    "**Definition (asymptotic to)** \n",
    "$$\n",
    "f(n) ∼ ϕ(n) \\qquad \\hbox{(as $n → ∞$)}\n",
    "$$\n",
    "means\n",
    "$$\n",
    "\\lim_{n → ∞} {f(n) \\over ϕ(n)} = 1.\n",
    "$$\n",
    "\n",
    "**Examples**\n",
    "$$\n",
    "{\\cos n \\over n^2 -1} = O(n^{-2})\n",
    "$$\n",
    "as\n",
    "$$\n",
    "\\left|{{\\cos n \\over n^2 -1} \\over n^{-2}} \\right| \\leq \\left| n^2 \\over n^2 -1 \\right|  \\leq 2\n",
    "$$\n",
    "for $n \\geq N_0 = 2$.\n",
    "$$\n",
    "\\log n = o(n)\n",
    "$$\n",
    "as\n",
    "$$\n",
    "lim_{n → ∞} {\\log n \\over n} = 0.\n",
    "$$\n",
    "$$\n",
    "n^2 + 1 ∼ n^2\n",
    "$$\n",
    "as\n",
    "$$\n",
    "{n^2 +1 \\over n^2} → 1.\n",
    "$$\n",
    "\n",
    "\n",
    "Note we sometimes write $f(O(ϕ(n)))$ for a function of the form\n",
    "$f(g(n))$ such that $g(n) = O(ϕ(n))$.\n",
    "\n",
    "### Rules\n",
    "\n",
    "We have some simple algebraic rules:\n",
    "\n",
    "**Proposition (Big-O rules)**\n",
    "$$\n",
    "\\begin{align*}\n",
    "O(ϕ(n))O(ψ(n)) = O(ϕ(n)ψ(n))  \\qquad \\hbox{(as $n → ∞$)} \\\\\n",
    "O(ϕ(n)) + O(ψ(n)) = O(|ϕ(n)| + |ψ(n)|)  \\qquad \\hbox{(as $n → ∞$)}.\n",
    "\\end{align*}\n",
    "$$\n",
    "\n",
    "\n",
    "## 2. Asymptotics as $x → x_0$\n",
    "\n",
    "We also have Big-O, little-o and \"asymptotic to\" at a point:\n",
    "\n",
    "**Definition (Big-O)** \n",
    "$$\n",
    "f(x) = O(ϕ(x)) \\qquad \\hbox{(as $x → x_0$)}\n",
    "$$\n",
    "means\n",
    "$$\n",
    "|f(x) \\over ϕ(x)|\n",
    "$$\n",
    "is bounded in a neighbourhood of $x_0$. That is,\n",
    "there exist constants $C$ and $r$ such \n",
    "that, for all $0 \\leq |x - x_0| \\leq r$, $|{f(x) \\over ϕ(x)}| \\leq C$.\n",
    "\n",
    "**Definition (little-O)** \n",
    "$$\n",
    "f(x) = o(ϕ(x)) \\qquad \\hbox{(as $x → x_0$)}\n",
    "$$\n",
    "means\n",
    "$$\n",
    "\\lim_{x → x_0} {f(x) \\over ϕ(x)} = 0.\n",
    "$$\n",
    "\n",
    "**Definition (asymptotic to)** \n",
    "$$\n",
    "f(x) ∼ ϕ(x) \\qquad \\hbox{(as $x → x_0$)}\n",
    "$$\n",
    "means\n",
    "$$\n",
    "\\lim_{x → x_0} {f(x) \\over ϕ(x)} = 1.\n",
    "$$\n",
    "\n",
    "**Example**\n",
    "$$\n",
    "\\exp x = 1 + x + O(x^2) \\qquad \\hbox{as $x → 0$}\n",
    "$$\n",
    "Since\n",
    "$$\n",
    "\\exp x = 1 + x + {\\exp t \\over 2} x^2\n",
    "$$\n",
    "for some $t \\in [0,x]$ and\n",
    "$$\n",
    "\\left|{{\\exp t \\over 2} x^2 \\over x^2}\\right| \\leq {3 \\over 2}\n",
    "$$\n",
    "provided $x \\leq 1$.\n",
    "\n",
    "\n",
    "## 3. Computational cost\n",
    "\n",
    "We will use Big-O notation to describe the computational cost of algorithms.\n",
    "Consider the following simple sum\n",
    "$$\n",
    "\\sum_{k=1}^n x_k^2\n",
    "$$\n",
    "which we might implement as:"
   ]
  },
  {
   "cell_type": "code",
   "execution_count": 1,
   "metadata": {
    "execution": {
     "iopub.execute_input": "2022-01-17T15:14:49.877989Z",
     "iopub.status.busy": "2022-01-17T15:14:49.425093Z",
     "iopub.status.idle": "2022-01-17T15:14:50.723390Z",
     "shell.execute_reply": "2022-01-17T15:14:50.722827Z"
    }
   },
   "outputs": [
    {
     "data": {
      "text/plain": [
       "119.25368773002963"
      ]
     },
     "execution_count": 1,
     "metadata": {},
     "output_type": "execute_result"
    }
   ],
   "source": [
    "function sumsq(x)\n",
    "    n = length(x)\n",
    "    ret = 0.0\n",
    "    for k = 1:n\n",
    "        ret = ret + x[k]^2\n",
    "    end\n",
    "    ret\n",
    "end\n",
    "\n",
    "n = 100\n",
    "x = randn(n)\n",
    "sumsq(x)"
   ]
  },
  {
   "cell_type": "markdown",
   "metadata": {},
   "source": [
    "Each step of this algorithm consists of one memory look-up (`z = x[k]`),\n",
    "one multiplication (`w = z*z`) and one addition (`ret = ret + w`).\n",
    "We will ignore the memory look-up in the following discussion.\n",
    "The number of CPU operations per step is therefore 2 (the addition and multiplication).\n",
    "Thus the total number of CPU operations is $2n$. But the constant $2$ here is\n",
    "misleading: we didn't count the memory look-up, thus it is more sensible to\n",
    "just talk about the asymptotic complexity, that is, the _computational cost_ is $O(n)$.\n",
    "\n",
    "Now consider a double sum like:\n",
    "$$\n",
    "\\sum_{k=1}^n \\sum_{j=1}^k x_j^2\n",
    "$$\n",
    "which we might implement as:"
   ]
  },
  {
   "cell_type": "code",
   "execution_count": 2,
   "metadata": {
    "execution": {
     "iopub.execute_input": "2022-01-17T15:14:50.726099Z",
     "iopub.status.busy": "2022-01-17T15:14:50.725220Z",
     "iopub.status.idle": "2022-01-17T15:14:50.738672Z",
     "shell.execute_reply": "2022-01-17T15:14:50.738224Z"
    }
   },
   "outputs": [
    {
     "data": {
      "text/plain": [
       "4602.502172339599"
      ]
     },
     "execution_count": 2,
     "metadata": {},
     "output_type": "execute_result"
    }
   ],
   "source": [
    "function sumsq2(x)\n",
    "    n = length(x)\n",
    "    ret = 0.0\n",
    "    for k = 1:n\n",
    "        for j = 1:k\n",
    "            ret = ret + x[j]^2\n",
    "        end\n",
    "    end\n",
    "    ret\n",
    "end\n",
    "\n",
    "n = 100\n",
    "x = randn(n)\n",
    "sumsq2(x)"
   ]
  },
  {
   "cell_type": "markdown",
   "metadata": {},
   "source": [
    "Now the inner loop is $O(1)$ operations (we don't try to count the precise number),\n",
    "which we do $k$ times for $O(k)$ operations as $k → ∞$. The outer loop therefore takes\n",
    "$$\n",
    "∑_{k = 1}^n O(k) = O\\left(∑_{k = 1}^n k\\right) = O\\left( {n (n+1) \\over 2} \\right) = O(n^2)\n",
    "$$\n",
    "operations."
   ]
  }
 ],
 "metadata": {
  "kernelspec": {
   "display_name": "Julia 1.7.0",
   "language": "julia",
   "name": "julia-1.7"
  },
  "language_info": {
   "file_extension": ".jl",
   "mimetype": "application/julia",
   "name": "julia",
   "version": "1.7.0"
  }
 },
 "nbformat": 4,
 "nbformat_minor": 2
}
