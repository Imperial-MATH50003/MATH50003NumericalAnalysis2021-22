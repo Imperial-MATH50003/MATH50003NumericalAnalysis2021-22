{
 "cells": [
  {
   "cell_type": "markdown",
   "metadata": {},
   "source": [
    "# Decompositions and least squares\n",
    "\n",
    "\n",
    "We now look at several decompositions (or factorisations) \n",
    "of a matrix into products of structured matrices, and their use in solving least squares problems and linear systems.\n",
    "For a square or rectangular matrix $A ∈ ℝ^{m × n}$ with more rows than columns ($m ≥ n$), we consider:\n",
    "1. The _QR decomposition_\n",
    "$$\n",
    "A = Q R = \\underbrace{\\begin{bmatrix} 𝐪_1 | \\cdots | 𝐪_m \\end{bmatrix}}_{m × m} \\underbrace{\\begin{bmatrix} × & \\cdots & × \\\\ & ⋱ & ⋮ \\\\ && × \\\\ &&0 \\\\ &&⋮ \\\\ && 0 \\end{bmatrix}}_{m × n}\n",
    "$$\n",
    "where $Q$ is orthogonal ($Q^⊤Q = I$, $𝐪_j ∈ ℝ^m$) and $R$ is _right triangular_, which means it \n",
    "is only nonzero on or to the right of the diagonal.\n",
    "\n",
    "2. The _reduced QR decomposition_\n",
    "$$\n",
    "A = Q̂ R̂ = \\underbrace{\\begin{bmatrix} 𝐪_1 | \\cdots | 𝐪_n \\end{bmatrix}}_{m × n} \\underbrace{\\begin{bmatrix} × & \\cdots & × \\\\ & ⋱ & ⋮ \\\\ && ×  \\end{bmatrix}}_{n × n}\n",
    "$$\n",
    "where $Q$ has orthogonal columns ($Q^⊤Q = I$, $𝐪_j ∈ ℝ^m$) and $R̂$ is upper triangular.\n",
    "\n",
    "For a square matrix we consider the _PLU decomposition_:\n",
    "$$\n",
    "A = P^⊤ LU\n",
    "$$\n",
    "where $P$ is a permutation matrix, $L$ is lower triangular and $U$ is upper triangular.\n",
    "\n",
    "Finally, for a square, _symmetric positive definite_ ($𝐱^⊤ A 𝐱 > 0$ for all $𝐱 ∈ ℝ^n$) \n",
    "matrix we consider the _Cholesky decomposition_:\n",
    "$$\n",
    "A = L L^⊤\n",
    "$$\n",
    "\n",
    "The importance of these decomposition for square matrices is that their component pieces are easy to invert on a computer:\n",
    "$$\n",
    "\\begin{align*}\n",
    "A = P^⊤ LU &\\Rightarrow\\qquad A^{-1}𝐛 = U^{-1} L^{-1} P 𝐛 \\\\\n",
    "A = QR &\\Rightarrow\\qquad A^{-1}𝐛 = R^{-1} Q^\\top 𝐛 \\\\\n",
    "A = L L^⊤ &\\Rightarrow\\qquad A^{-1}𝐛 = L^{-⊤} L^{-1} 𝐛\n",
    "\\end{align*}\n",
    "$$\n",
    "and we saw last lecture that triangular and orthogonal matrices are easy to invert when applied to a vector $𝐛$,\n",
    "e.g., using forward/back-substitution.\n",
    "For rectangular matrices we will see that they lead to efficient solutions to the _least squares problem_: find\n",
    "$𝐱$ that minimizes the 2-norm\n",
    "$$\n",
    "\\| A 𝐱 - 𝐛 \\|.\n",
    "$$\n",
    "\n",
    "In this lecture we discuss the followng:\n",
    "\n",
    "1. QR and least squares: We discuss the QR decomposition and its usage in solving least squares problems.\n",
    "2. Reduced QR and Gram–Schmidt: We discuss computation of the Reduced QR decomposition using Gram–Schmidt.\n",
    "3. Householder reflections and QR: We discuss comuting the  QR decomposition using Householder reflections.\n",
    "2. PLU decomposition: we discuss how the LU decomposition can be computed using Gaussian elimination, and the computation of\n",
    "the PLU decomposition via Gaussian elimination with pivoting.\n",
    "3. Cholesky decomposition: we introduce symmetric positive definite matrices and show that their LU decomposition can be re-interpreted\n",
    "as a Cholesky decomposition.\n",
    "4. Timings: we see the relative trade-off in speed between the different decompositions."
   ]
  },
  {
   "cell_type": "code",
   "execution_count": 1,
   "metadata": {
    "execution": {
     "iopub.execute_input": "2022-02-01T11:38:11.328010Z",
     "iopub.status.busy": "2022-02-01T11:38:10.938986Z",
     "iopub.status.idle": "2022-02-01T11:38:16.190408Z",
     "shell.execute_reply": "2022-02-01T11:38:16.189808Z"
    }
   },
   "outputs": [],
   "source": [
    "using LinearAlgebra, Plots, BenchmarkTools"
   ]
  },
  {
   "cell_type": "markdown",
   "metadata": {},
   "source": [
    "## 1. QR and least squares\n",
    "\n",
    "Here we consider rectangular matrices with more rows than columns.\n",
    "A QR decomposition decomposes a matrix into an orthogonal matrix $Q$ times a right triangular matrix $R$. \n",
    "Note the QR decomposition contains within it the reduced QR decomposition:\n",
    "$$\n",
    "A = QR = \\begin{bmatrix} Q̂ | 𝐪_{n+1} | ⋯ | 𝐪_m \\end{bmatrix} \\begin{bmatrix} R̂ \\\\  𝟎_{m-n × n} \\end{bmatrix} = Q̂ R̂.\n",
    "$$\n",
    "\n",
    "\n",
    "We can use it to solve a least squares problem using the norm-preserving property (see PS3) of orthogonal matrices:\n",
    "$$\n",
    "\\| A 𝐱 - 𝐛 \\| = \\| Q R 𝐱 - 𝐛 \\| = \\| R 𝐱 - Q^⊤ 𝐛 \\| = \\left \\| \n",
    "\\begin{bmatrix} R̂ \\\\ 𝟎_{m-n × n} \\end{bmatrix} 𝐱 - \\begin{bmatrix} Q̂^⊤ \\\\ 𝐪_{n+1}^⊤ \\\\ ⋮ \\\\ 𝐪_m^⊤ \\end{bmatrix}     𝐛 \\right \\|\n",
    "$$\n",
    "Now note that the rows $k > n$ are independent of $𝐱$ and are a fixed contribution. Thus to minimise this norm it suffices to\n",
    "drop them and minimise:\n",
    "$$\n",
    "\\| R̂ 𝐱 - Q̂^⊤ 𝐛 \\|\n",
    "$$\n",
    "This norm is minimisable if it is attained. Provided the column rank of $A$ is full, $R̂$ will be invertible (Exercise: why is this?).\n",
    "Thus we have the solution\n",
    "$$\n",
    "𝐱 = R̂^{-1} Q̂^⊤ 𝐛\n",
    "$$\n",
    "\n",
    "**Example (quadratic fit)** Suppose we want to fit noisy data by a quadratic\n",
    "$$\n",
    "p(x) = p₀ + p₁ x + p₂ x^2\n",
    "$$\n",
    "That is, we want to choose $p₀,p₁,p₂$ at data samples $x_1, \\ldots, x_m$ so that the following is true:\n",
    "$$\n",
    "p₀ + p₁ x_k + p₂ x_k^2 ≈ f_k\n",
    "$$\n",
    "where $f_k$ are given by data. We can reinterpret this as a least squares problem: minimise the norm\n",
    "$$\n",
    "\\left\\| \\begin{bmatrix} 1 & x_1 & x_1^2 \\\\ ⋮ & ⋮ & ⋮ \\\\ 1 & x_m & x_m^2 \\end{bmatrix}\n",
    "\\begin{bmatrix} p₀ \\\\ p₁ \\\\ p₂ \\end{bmatrix} - \\begin{bmatrix} f_1 \\\\ ⋮ \\\\ f_m \\end{bmatrix} \\right \\|\n",
    "$$\n",
    "We can solve this using the QR decomposition:"
   ]
  },
  {
   "cell_type": "code",
   "execution_count": 2,
   "metadata": {
    "execution": {
     "iopub.execute_input": "2022-02-01T11:38:17.108765Z",
     "iopub.status.busy": "2022-02-01T11:38:16.191752Z",
     "iopub.status.idle": "2022-02-01T11:38:19.759870Z",
     "shell.execute_reply": "2022-02-01T11:38:19.759272Z"
    }
   },
   "outputs": [
    {
     "data": {
      "text/plain": [
       "3-element Vector{Float64}:\n",
       " 2.0020823730946438\n",
       " 1.0164297831971307\n",
       " 1.9480305651560517"
      ]
     },
     "execution_count": 2,
     "metadata": {},
     "output_type": "execute_result"
    }
   ],
   "source": [
    "m,n = 100,3\n",
    "\n",
    "x = range(0,1; length=m) # 100 points\n",
    "f = 2 .+ x .+ 2x.^2 .+ 0.1 .* randn.() # Noisy quadratic\n",
    "\n",
    "A = x .^ (0:2)'  # 100 x 3 matrix, equivalent to [ones(m) x x.^2]\n",
    "Q,R̂ = qr(A)\n",
    "Q̂ = Q[:,1:n] # Q represents full orthogonal matrix so we take first 3 columns\n",
    "\n",
    "p₀,p₁,p₂ = R̂ \\ Q̂'f"
   ]
  },
  {
   "cell_type": "markdown",
   "metadata": {},
   "source": [
    "We can visualise the fit:"
   ]
  },
  {
   "cell_type": "code",
   "execution_count": 3,
   "metadata": {
    "execution": {
     "iopub.execute_input": "2022-02-01T11:38:19.762015Z",
     "iopub.status.busy": "2022-02-01T11:38:19.761494Z",
     "iopub.status.idle": "2022-02-01T11:38:28.251889Z",
     "shell.execute_reply": "2022-02-01T11:38:28.249883Z"
    }
   },
   "outputs": [
    {
     "data": {
      "image/svg+xml": [
       "<?xml version=\"1.0\" encoding=\"utf-8\"?>\n",
       "<svg xmlns=\"http://www.w3.org/2000/svg\" xmlns:xlink=\"http://www.w3.org/1999/xlink\" width=\"600\" height=\"400\" viewBox=\"0 0 2400 1600\">\n",
       "<defs>\n",
       "  <clipPath id=\"clip220\">\n",
       "    <rect x=\"0\" y=\"0\" width=\"2400\" height=\"1600\"/>\n",
       "  </clipPath>\n",
       "</defs>\n",
       "<path clip-path=\"url(#clip220)\" d=\"\n",
       "M0 1600 L2400 1600 L2400 0 L0 0  Z\n",
       "  \" fill=\"#ffffff\" fill-rule=\"evenodd\" fill-opacity=\"1\"/>\n",
       "<defs>\n",
       "  <clipPath id=\"clip221\">\n",
       "    <rect x=\"480\" y=\"0\" width=\"1681\" height=\"1600\"/>\n",
       "  </clipPath>\n",
       "</defs>\n",
       "<path clip-path=\"url(#clip220)\" d=\"\n",
       "M112.177 1486.45 L2352.76 1486.45 L2352.76 47.2441 L112.177 47.2441  Z\n",
       "  \" fill=\"#ffffff\" fill-rule=\"evenodd\" fill-opacity=\"1\"/>\n",
       "<defs>\n",
       "  <clipPath id=\"clip222\">\n",
       "    <rect x=\"112\" y=\"47\" width=\"2242\" height=\"1440\"/>\n",
       "  </clipPath>\n",
       "</defs>\n",
       "<polyline clip-path=\"url(#clip222)\" style=\"stroke:#000000; stroke-linecap:butt; stroke-linejoin:round; stroke-width:2; stroke-opacity:0.1; fill:none\" points=\"\n",
       "  175.59,1486.45 175.59,47.2441 \n",
       "  \"/>\n",
       "<polyline clip-path=\"url(#clip222)\" style=\"stroke:#000000; stroke-linecap:butt; stroke-linejoin:round; stroke-width:2; stroke-opacity:0.1; fill:none\" points=\"\n",
       "  704.028,1486.45 704.028,47.2441 \n",
       "  \"/>\n",
       "<polyline clip-path=\"url(#clip222)\" style=\"stroke:#000000; stroke-linecap:butt; stroke-linejoin:round; stroke-width:2; stroke-opacity:0.1; fill:none\" points=\"\n",
       "  1232.47,1486.45 1232.47,47.2441 \n",
       "  \"/>\n",
       "<polyline clip-path=\"url(#clip222)\" style=\"stroke:#000000; stroke-linecap:butt; stroke-linejoin:round; stroke-width:2; stroke-opacity:0.1; fill:none\" points=\"\n",
       "  1760.9,1486.45 1760.9,47.2441 \n",
       "  \"/>\n",
       "<polyline clip-path=\"url(#clip222)\" style=\"stroke:#000000; stroke-linecap:butt; stroke-linejoin:round; stroke-width:2; stroke-opacity:0.1; fill:none\" points=\"\n",
       "  2289.34,1486.45 2289.34,47.2441 \n",
       "  \"/>\n",
       "<polyline clip-path=\"url(#clip220)\" style=\"stroke:#000000; stroke-linecap:butt; stroke-linejoin:round; stroke-width:4; stroke-opacity:1; fill:none\" points=\"\n",
       "  112.177,1486.45 2352.76,1486.45 \n",
       "  \"/>\n",
       "<polyline clip-path=\"url(#clip220)\" style=\"stroke:#000000; stroke-linecap:butt; stroke-linejoin:round; stroke-width:4; stroke-opacity:1; fill:none\" points=\"\n",
       "  175.59,1486.45 175.59,1467.55 \n",
       "  \"/>\n",
       "<polyline clip-path=\"url(#clip220)\" style=\"stroke:#000000; stroke-linecap:butt; stroke-linejoin:round; stroke-width:4; stroke-opacity:1; fill:none\" points=\"\n",
       "  704.028,1486.45 704.028,1467.55 \n",
       "  \"/>\n",
       "<polyline clip-path=\"url(#clip220)\" style=\"stroke:#000000; stroke-linecap:butt; stroke-linejoin:round; stroke-width:4; stroke-opacity:1; fill:none\" points=\"\n",
       "  1232.47,1486.45 1232.47,1467.55 \n",
       "  \"/>\n",
       "<polyline clip-path=\"url(#clip220)\" style=\"stroke:#000000; stroke-linecap:butt; stroke-linejoin:round; stroke-width:4; stroke-opacity:1; fill:none\" points=\"\n",
       "  1760.9,1486.45 1760.9,1467.55 \n",
       "  \"/>\n",
       "<polyline clip-path=\"url(#clip220)\" style=\"stroke:#000000; stroke-linecap:butt; stroke-linejoin:round; stroke-width:4; stroke-opacity:1; fill:none\" points=\"\n",
       "  2289.34,1486.45 2289.34,1467.55 \n",
       "  \"/>\n",
       "<path clip-path=\"url(#clip220)\" d=\"M137.893 1517.37 Q134.282 1517.37 132.453 1520.93 Q130.648 1524.47 130.648 1531.6 Q130.648 1538.71 132.453 1542.27 Q134.282 1545.82 137.893 1545.82 Q141.527 1545.82 143.333 1542.27 Q145.162 1538.71 145.162 1531.6 Q145.162 1524.47 143.333 1520.93 Q141.527 1517.37 137.893 1517.37 M137.893 1513.66 Q143.703 1513.66 146.759 1518.27 Q149.838 1522.85 149.838 1531.6 Q149.838 1540.33 146.759 1544.94 Q143.703 1549.52 137.893 1549.52 Q132.083 1549.52 129.004 1544.94 Q125.949 1540.33 125.949 1531.6 Q125.949 1522.85 129.004 1518.27 Q132.083 1513.66 137.893 1513.66 Z\" fill=\"#000000\" fill-rule=\"evenodd\" fill-opacity=\"1\" /><path clip-path=\"url(#clip220)\" d=\"M158.055 1542.97 L162.939 1542.97 L162.939 1548.85 L158.055 1548.85 L158.055 1542.97 Z\" fill=\"#000000\" fill-rule=\"evenodd\" fill-opacity=\"1\" /><path clip-path=\"url(#clip220)\" d=\"M183.124 1517.37 Q179.513 1517.37 177.685 1520.93 Q175.879 1524.47 175.879 1531.6 Q175.879 1538.71 177.685 1542.27 Q179.513 1545.82 183.124 1545.82 Q186.759 1545.82 188.564 1542.27 Q190.393 1538.71 190.393 1531.6 Q190.393 1524.47 188.564 1520.93 Q186.759 1517.37 183.124 1517.37 M183.124 1513.66 Q188.935 1513.66 191.99 1518.27 Q195.069 1522.85 195.069 1531.6 Q195.069 1540.33 191.99 1544.94 Q188.935 1549.52 183.124 1549.52 Q177.314 1549.52 174.236 1544.94 Q171.18 1540.33 171.18 1531.6 Q171.18 1522.85 174.236 1518.27 Q177.314 1513.66 183.124 1513.66 Z\" fill=\"#000000\" fill-rule=\"evenodd\" fill-opacity=\"1\" /><path clip-path=\"url(#clip220)\" d=\"M213.286 1517.37 Q209.675 1517.37 207.847 1520.93 Q206.041 1524.47 206.041 1531.6 Q206.041 1538.71 207.847 1542.27 Q209.675 1545.82 213.286 1545.82 Q216.921 1545.82 218.726 1542.27 Q220.555 1538.71 220.555 1531.6 Q220.555 1524.47 218.726 1520.93 Q216.921 1517.37 213.286 1517.37 M213.286 1513.66 Q219.096 1513.66 222.152 1518.27 Q225.231 1522.85 225.231 1531.6 Q225.231 1540.33 222.152 1544.94 Q219.096 1549.52 213.286 1549.52 Q207.476 1549.52 204.397 1544.94 Q201.342 1540.33 201.342 1531.6 Q201.342 1522.85 204.397 1518.27 Q207.476 1513.66 213.286 1513.66 Z\" fill=\"#000000\" fill-rule=\"evenodd\" fill-opacity=\"1\" /><path clip-path=\"url(#clip220)\" d=\"M666.829 1517.37 Q663.218 1517.37 661.39 1520.93 Q659.584 1524.47 659.584 1531.6 Q659.584 1538.71 661.39 1542.27 Q663.218 1545.82 666.829 1545.82 Q670.464 1545.82 672.269 1542.27 Q674.098 1538.71 674.098 1531.6 Q674.098 1524.47 672.269 1520.93 Q670.464 1517.37 666.829 1517.37 M666.829 1513.66 Q672.639 1513.66 675.695 1518.27 Q678.774 1522.85 678.774 1531.6 Q678.774 1540.33 675.695 1544.94 Q672.639 1549.52 666.829 1549.52 Q661.019 1549.52 657.94 1544.94 Q654.885 1540.33 654.885 1531.6 Q654.885 1522.85 657.94 1518.27 Q661.019 1513.66 666.829 1513.66 Z\" fill=\"#000000\" fill-rule=\"evenodd\" fill-opacity=\"1\" /><path clip-path=\"url(#clip220)\" d=\"M686.991 1542.97 L691.875 1542.97 L691.875 1548.85 L686.991 1548.85 L686.991 1542.97 Z\" fill=\"#000000\" fill-rule=\"evenodd\" fill-opacity=\"1\" /><path clip-path=\"url(#clip220)\" d=\"M706.088 1544.91 L722.408 1544.91 L722.408 1548.85 L700.463 1548.85 L700.463 1544.91 Q703.125 1542.16 707.709 1537.53 Q712.315 1532.88 713.496 1531.53 Q715.741 1529.01 716.621 1527.27 Q717.523 1525.51 717.523 1523.82 Q717.523 1521.07 715.579 1519.33 Q713.658 1517.6 710.556 1517.6 Q708.357 1517.6 705.903 1518.36 Q703.473 1519.13 700.695 1520.68 L700.695 1515.95 Q703.519 1514.82 705.973 1514.24 Q708.426 1513.66 710.463 1513.66 Q715.834 1513.66 719.028 1516.35 Q722.223 1519.03 722.223 1523.52 Q722.223 1525.65 721.412 1527.57 Q720.625 1529.47 718.519 1532.07 Q717.94 1532.74 714.838 1535.95 Q711.736 1539.15 706.088 1544.91 Z\" fill=\"#000000\" fill-rule=\"evenodd\" fill-opacity=\"1\" /><path clip-path=\"url(#clip220)\" d=\"M732.269 1514.29 L750.625 1514.29 L750.625 1518.22 L736.551 1518.22 L736.551 1526.7 Q737.57 1526.35 738.588 1526.19 Q739.607 1526 740.625 1526 Q746.412 1526 749.792 1529.17 Q753.171 1532.34 753.171 1537.76 Q753.171 1543.34 749.699 1546.44 Q746.227 1549.52 739.908 1549.52 Q737.732 1549.52 735.463 1549.15 Q733.218 1548.78 730.81 1548.04 L730.81 1543.34 Q732.894 1544.47 735.116 1545.03 Q737.338 1545.58 739.815 1545.58 Q743.82 1545.58 746.158 1543.48 Q748.496 1541.37 748.496 1537.76 Q748.496 1534.15 746.158 1532.04 Q743.82 1529.94 739.815 1529.94 Q737.94 1529.94 736.065 1530.35 Q734.213 1530.77 732.269 1531.65 L732.269 1514.29 Z\" fill=\"#000000\" fill-rule=\"evenodd\" fill-opacity=\"1\" /><path clip-path=\"url(#clip220)\" d=\"M1194.77 1517.37 Q1191.16 1517.37 1189.33 1520.93 Q1187.52 1524.47 1187.52 1531.6 Q1187.52 1538.71 1189.33 1542.27 Q1191.16 1545.82 1194.77 1545.82 Q1198.4 1545.82 1200.21 1542.27 Q1202.04 1538.71 1202.04 1531.6 Q1202.04 1524.47 1200.21 1520.93 Q1198.4 1517.37 1194.77 1517.37 M1194.77 1513.66 Q1200.58 1513.66 1203.64 1518.27 Q1206.71 1522.85 1206.71 1531.6 Q1206.71 1540.33 1203.64 1544.94 Q1200.58 1549.52 1194.77 1549.52 Q1188.96 1549.52 1185.88 1544.94 Q1182.83 1540.33 1182.83 1531.6 Q1182.83 1522.85 1185.88 1518.27 Q1188.96 1513.66 1194.77 1513.66 Z\" fill=\"#000000\" fill-rule=\"evenodd\" fill-opacity=\"1\" /><path clip-path=\"url(#clip220)\" d=\"M1214.93 1542.97 L1219.82 1542.97 L1219.82 1548.85 L1214.93 1548.85 L1214.93 1542.97 Z\" fill=\"#000000\" fill-rule=\"evenodd\" fill-opacity=\"1\" /><path clip-path=\"url(#clip220)\" d=\"M1230.05 1514.29 L1248.4 1514.29 L1248.4 1518.22 L1234.33 1518.22 L1234.33 1526.7 Q1235.35 1526.35 1236.37 1526.19 Q1237.39 1526 1238.4 1526 Q1244.19 1526 1247.57 1529.17 Q1250.95 1532.34 1250.95 1537.76 Q1250.95 1543.34 1247.48 1546.44 Q1244.01 1549.52 1237.69 1549.52 Q1235.51 1549.52 1233.24 1549.15 Q1231 1548.78 1228.59 1548.04 L1228.59 1543.34 Q1230.67 1544.47 1232.89 1545.03 Q1235.12 1545.58 1237.59 1545.58 Q1241.6 1545.58 1243.94 1543.48 Q1246.27 1541.37 1246.27 1537.76 Q1246.27 1534.15 1243.94 1532.04 Q1241.6 1529.94 1237.59 1529.94 Q1235.72 1529.94 1233.84 1530.35 Q1231.99 1530.77 1230.05 1531.65 L1230.05 1514.29 Z\" fill=\"#000000\" fill-rule=\"evenodd\" fill-opacity=\"1\" /><path clip-path=\"url(#clip220)\" d=\"M1270.16 1517.37 Q1266.55 1517.37 1264.72 1520.93 Q1262.92 1524.47 1262.92 1531.6 Q1262.92 1538.71 1264.72 1542.27 Q1266.55 1545.82 1270.16 1545.82 Q1273.8 1545.82 1275.6 1542.27 Q1277.43 1538.71 1277.43 1531.6 Q1277.43 1524.47 1275.6 1520.93 Q1273.8 1517.37 1270.16 1517.37 M1270.16 1513.66 Q1275.97 1513.66 1279.03 1518.27 Q1282.11 1522.85 1282.11 1531.6 Q1282.11 1540.33 1279.03 1544.94 Q1275.97 1549.52 1270.16 1549.52 Q1264.35 1549.52 1261.27 1544.94 Q1258.22 1540.33 1258.22 1531.6 Q1258.22 1522.85 1261.27 1518.27 Q1264.35 1513.66 1270.16 1513.66 Z\" fill=\"#000000\" fill-rule=\"evenodd\" fill-opacity=\"1\" /><path clip-path=\"url(#clip220)\" d=\"M1723.71 1517.37 Q1720.09 1517.37 1718.27 1520.93 Q1716.46 1524.47 1716.46 1531.6 Q1716.46 1538.71 1718.27 1542.27 Q1720.09 1545.82 1723.71 1545.82 Q1727.34 1545.82 1729.15 1542.27 Q1730.97 1538.71 1730.97 1531.6 Q1730.97 1524.47 1729.15 1520.93 Q1727.34 1517.37 1723.71 1517.37 M1723.71 1513.66 Q1729.52 1513.66 1732.57 1518.27 Q1735.65 1522.85 1735.65 1531.6 Q1735.65 1540.33 1732.57 1544.94 Q1729.52 1549.52 1723.71 1549.52 Q1717.9 1549.52 1714.82 1544.94 Q1711.76 1540.33 1711.76 1531.6 Q1711.76 1522.85 1714.82 1518.27 Q1717.9 1513.66 1723.71 1513.66 Z\" fill=\"#000000\" fill-rule=\"evenodd\" fill-opacity=\"1\" /><path clip-path=\"url(#clip220)\" d=\"M1743.87 1542.97 L1748.75 1542.97 L1748.75 1548.85 L1743.87 1548.85 L1743.87 1542.97 Z\" fill=\"#000000\" fill-rule=\"evenodd\" fill-opacity=\"1\" /><path clip-path=\"url(#clip220)\" d=\"M1757.76 1514.29 L1779.98 1514.29 L1779.98 1516.28 L1767.43 1548.85 L1762.55 1548.85 L1774.35 1518.22 L1757.76 1518.22 L1757.76 1514.29 Z\" fill=\"#000000\" fill-rule=\"evenodd\" fill-opacity=\"1\" /><path clip-path=\"url(#clip220)\" d=\"M1789.15 1514.29 L1807.5 1514.29 L1807.5 1518.22 L1793.43 1518.22 L1793.43 1526.7 Q1794.45 1526.35 1795.46 1526.19 Q1796.48 1526 1797.5 1526 Q1803.29 1526 1806.67 1529.17 Q1810.05 1532.34 1810.05 1537.76 Q1810.05 1543.34 1806.58 1546.44 Q1803.1 1549.52 1796.78 1549.52 Q1794.61 1549.52 1792.34 1549.15 Q1790.09 1548.78 1787.69 1548.04 L1787.69 1543.34 Q1789.77 1544.47 1791.99 1545.03 Q1794.21 1545.58 1796.69 1545.58 Q1800.7 1545.58 1803.03 1543.48 Q1805.37 1541.37 1805.37 1537.76 Q1805.37 1534.15 1803.03 1532.04 Q1800.7 1529.94 1796.69 1529.94 Q1794.82 1529.94 1792.94 1530.35 Q1791.09 1530.77 1789.15 1531.65 L1789.15 1514.29 Z\" fill=\"#000000\" fill-rule=\"evenodd\" fill-opacity=\"1\" /><path clip-path=\"url(#clip220)\" d=\"M2241.42 1544.91 L2249.05 1544.91 L2249.05 1518.55 L2240.74 1520.21 L2240.74 1515.95 L2249.01 1514.29 L2253.68 1514.29 L2253.68 1544.91 L2261.32 1544.91 L2261.32 1548.85 L2241.42 1548.85 L2241.42 1544.91 Z\" fill=\"#000000\" fill-rule=\"evenodd\" fill-opacity=\"1\" /><path clip-path=\"url(#clip220)\" d=\"M2270.77 1542.97 L2275.65 1542.97 L2275.65 1548.85 L2270.77 1548.85 L2270.77 1542.97 Z\" fill=\"#000000\" fill-rule=\"evenodd\" fill-opacity=\"1\" /><path clip-path=\"url(#clip220)\" d=\"M2295.84 1517.37 Q2292.23 1517.37 2290.4 1520.93 Q2288.59 1524.47 2288.59 1531.6 Q2288.59 1538.71 2290.4 1542.27 Q2292.23 1545.82 2295.84 1545.82 Q2299.47 1545.82 2301.28 1542.27 Q2303.1 1538.71 2303.1 1531.6 Q2303.1 1524.47 2301.28 1520.93 Q2299.47 1517.37 2295.84 1517.37 M2295.84 1513.66 Q2301.65 1513.66 2304.7 1518.27 Q2307.78 1522.85 2307.78 1531.6 Q2307.78 1540.33 2304.7 1544.94 Q2301.65 1549.52 2295.84 1549.52 Q2290.03 1549.52 2286.95 1544.94 Q2283.89 1540.33 2283.89 1531.6 Q2283.89 1522.85 2286.95 1518.27 Q2290.03 1513.66 2295.84 1513.66 Z\" fill=\"#000000\" fill-rule=\"evenodd\" fill-opacity=\"1\" /><path clip-path=\"url(#clip220)\" d=\"M2326 1517.37 Q2322.39 1517.37 2320.56 1520.93 Q2318.75 1524.47 2318.75 1531.6 Q2318.75 1538.71 2320.56 1542.27 Q2322.39 1545.82 2326 1545.82 Q2329.63 1545.82 2331.44 1542.27 Q2333.27 1538.71 2333.27 1531.6 Q2333.27 1524.47 2331.44 1520.93 Q2329.63 1517.37 2326 1517.37 M2326 1513.66 Q2331.81 1513.66 2334.86 1518.27 Q2337.94 1522.85 2337.94 1531.6 Q2337.94 1540.33 2334.86 1544.94 Q2331.81 1549.52 2326 1549.52 Q2320.19 1549.52 2317.11 1544.94 Q2314.05 1540.33 2314.05 1531.6 Q2314.05 1522.85 2317.11 1518.27 Q2320.19 1513.66 2326 1513.66 Z\" fill=\"#000000\" fill-rule=\"evenodd\" fill-opacity=\"1\" /><polyline clip-path=\"url(#clip222)\" style=\"stroke:#000000; stroke-linecap:butt; stroke-linejoin:round; stroke-width:2; stroke-opacity:0.1; fill:none\" points=\"\n",
       "  112.177,1429.15 2352.76,1429.15 \n",
       "  \"/>\n",
       "<polyline clip-path=\"url(#clip222)\" style=\"stroke:#000000; stroke-linecap:butt; stroke-linejoin:round; stroke-width:2; stroke-opacity:0.1; fill:none\" points=\"\n",
       "  112.177,982.168 2352.76,982.168 \n",
       "  \"/>\n",
       "<polyline clip-path=\"url(#clip222)\" style=\"stroke:#000000; stroke-linecap:butt; stroke-linejoin:round; stroke-width:2; stroke-opacity:0.1; fill:none\" points=\"\n",
       "  112.177,535.189 2352.76,535.189 \n",
       "  \"/>\n",
       "<polyline clip-path=\"url(#clip222)\" style=\"stroke:#000000; stroke-linecap:butt; stroke-linejoin:round; stroke-width:2; stroke-opacity:0.1; fill:none\" points=\"\n",
       "  112.177,88.2096 2352.76,88.2096 \n",
       "  \"/>\n",
       "<polyline clip-path=\"url(#clip220)\" style=\"stroke:#000000; stroke-linecap:butt; stroke-linejoin:round; stroke-width:4; stroke-opacity:1; fill:none\" points=\"\n",
       "  112.177,1486.45 112.177,47.2441 \n",
       "  \"/>\n",
       "<polyline clip-path=\"url(#clip220)\" style=\"stroke:#000000; stroke-linecap:butt; stroke-linejoin:round; stroke-width:4; stroke-opacity:1; fill:none\" points=\"\n",
       "  112.177,1429.15 131.075,1429.15 \n",
       "  \"/>\n",
       "<polyline clip-path=\"url(#clip220)\" style=\"stroke:#000000; stroke-linecap:butt; stroke-linejoin:round; stroke-width:4; stroke-opacity:1; fill:none\" points=\"\n",
       "  112.177,982.168 131.075,982.168 \n",
       "  \"/>\n",
       "<polyline clip-path=\"url(#clip220)\" style=\"stroke:#000000; stroke-linecap:butt; stroke-linejoin:round; stroke-width:4; stroke-opacity:1; fill:none\" points=\"\n",
       "  112.177,535.189 131.075,535.189 \n",
       "  \"/>\n",
       "<polyline clip-path=\"url(#clip220)\" style=\"stroke:#000000; stroke-linecap:butt; stroke-linejoin:round; stroke-width:4; stroke-opacity:1; fill:none\" points=\"\n",
       "  112.177,88.2096 131.075,88.2096 \n",
       "  \"/>\n",
       "<path clip-path=\"url(#clip220)\" d=\"M59.8578 1442.49 L76.1772 1442.49 L76.1772 1446.43 L54.2328 1446.43 L54.2328 1442.49 Q56.8949 1439.74 61.4782 1435.11 Q66.0846 1430.46 67.2652 1429.11 Q69.5105 1426.59 70.3902 1424.85 Q71.2929 1423.09 71.2929 1421.4 Q71.2929 1418.65 69.3485 1416.91 Q67.4272 1415.18 64.3254 1415.18 Q62.1263 1415.18 59.6726 1415.94 Q57.2421 1416.71 54.4643 1418.26 L54.4643 1413.53 Q57.2884 1412.4 59.7421 1411.82 Q62.1958 1411.24 64.2328 1411.24 Q69.6031 1411.24 72.7976 1413.93 Q75.992 1416.61 75.992 1421.1 Q75.992 1423.23 75.1818 1425.15 Q74.3948 1427.05 72.2883 1429.64 Q71.7096 1430.32 68.6078 1433.53 Q65.5059 1436.73 59.8578 1442.49 Z\" fill=\"#000000\" fill-rule=\"evenodd\" fill-opacity=\"1\" /><path clip-path=\"url(#clip220)\" d=\"M69.0476 980.814 Q72.404 981.531 74.279 983.8 Q76.1772 986.068 76.1772 989.402 Q76.1772 994.517 72.6587 997.318 Q69.1402 1000.12 62.6587 1000.12 Q60.4828 1000.12 58.168 999.679 Q55.8764 999.263 53.4227 998.406 L53.4227 993.892 Q55.3671 995.027 57.6819 995.605 Q59.9967 996.184 62.5198 996.184 Q66.918 996.184 69.2096 994.448 Q71.5244 992.712 71.5244 989.402 Q71.5244 986.346 69.3717 984.633 Q67.242 982.897 63.4226 982.897 L59.3949 982.897 L59.3949 979.055 L63.6078 979.055 Q67.0569 979.055 68.8855 977.689 Q70.7142 976.3 70.7142 973.707 Q70.7142 971.045 68.8161 969.633 Q66.9411 968.198 63.4226 968.198 Q61.5013 968.198 59.3023 968.615 Q57.1032 969.031 54.4643 969.911 L54.4643 965.744 Q57.1264 965.004 59.4412 964.633 Q61.7791 964.263 63.8393 964.263 Q69.1633 964.263 72.2652 966.694 Q75.367 969.101 75.367 973.221 Q75.367 976.092 73.7235 978.082 Q72.08 980.05 69.0476 980.814 Z\" fill=\"#000000\" fill-rule=\"evenodd\" fill-opacity=\"1\" /><path clip-path=\"url(#clip220)\" d=\"M66.5939 521.983 L54.7884 540.432 L66.5939 540.432 L66.5939 521.983 M65.367 517.909 L71.2466 517.909 L71.2466 540.432 L76.1772 540.432 L76.1772 544.321 L71.2466 544.321 L71.2466 552.469 L66.5939 552.469 L66.5939 544.321 L50.9921 544.321 L50.9921 539.807 L65.367 517.909 Z\" fill=\"#000000\" fill-rule=\"evenodd\" fill-opacity=\"1\" /><path clip-path=\"url(#clip220)\" d=\"M55.2745 70.9296 L73.6309 70.9296 L73.6309 74.8647 L59.5569 74.8647 L59.5569 83.3369 Q60.5754 82.9897 61.5939 82.8277 Q62.6124 82.6425 63.6309 82.6425 Q69.418 82.6425 72.7976 85.8138 Q76.1772 88.985 76.1772 94.4017 Q76.1772 99.9804 72.705 103.082 Q69.2328 106.161 62.9134 106.161 Q60.7374 106.161 58.4689 105.791 Q56.2236 105.42 53.8162 104.679 L53.8162 99.9804 Q55.8995 101.115 58.1217 101.67 Q60.3439 102.226 62.8208 102.226 Q66.8254 102.226 69.1633 100.119 Q71.5013 98.0128 71.5013 94.4017 Q71.5013 90.7906 69.1633 88.6841 Q66.8254 86.5777 62.8208 86.5777 Q60.9458 86.5777 59.0708 86.9943 Q57.2189 87.411 55.2745 88.2906 L55.2745 70.9296 Z\" fill=\"#000000\" fill-rule=\"evenodd\" fill-opacity=\"1\" /><circle clip-path=\"url(#clip222)\" cx=\"175.59\" cy=\"1442.91\" r=\"14\" fill=\"#009af9\" fill-rule=\"evenodd\" fill-opacity=\"1\" stroke=\"#000000\" stroke-opacity=\"1\" stroke-width=\"3.2\"/>\n",
       "<circle clip-path=\"url(#clip222)\" cx=\"196.941\" cy=\"1445.72\" r=\"14\" fill=\"#009af9\" fill-rule=\"evenodd\" fill-opacity=\"1\" stroke=\"#000000\" stroke-opacity=\"1\" stroke-width=\"3.2\"/>\n",
       "<circle clip-path=\"url(#clip222)\" cx=\"218.292\" cy=\"1419.82\" r=\"14\" fill=\"#009af9\" fill-rule=\"evenodd\" fill-opacity=\"1\" stroke=\"#000000\" stroke-opacity=\"1\" stroke-width=\"3.2\"/>\n",
       "<circle clip-path=\"url(#clip222)\" cx=\"239.643\" cy=\"1405.51\" r=\"14\" fill=\"#009af9\" fill-rule=\"evenodd\" fill-opacity=\"1\" stroke=\"#000000\" stroke-opacity=\"1\" stroke-width=\"3.2\"/>\n",
       "<circle clip-path=\"url(#clip222)\" cx=\"260.994\" cy=\"1386.92\" r=\"14\" fill=\"#009af9\" fill-rule=\"evenodd\" fill-opacity=\"1\" stroke=\"#000000\" stroke-opacity=\"1\" stroke-width=\"3.2\"/>\n",
       "<circle clip-path=\"url(#clip222)\" cx=\"282.345\" cy=\"1381.72\" r=\"14\" fill=\"#009af9\" fill-rule=\"evenodd\" fill-opacity=\"1\" stroke=\"#000000\" stroke-opacity=\"1\" stroke-width=\"3.2\"/>\n",
       "<circle clip-path=\"url(#clip222)\" cx=\"303.696\" cy=\"1323.38\" r=\"14\" fill=\"#009af9\" fill-rule=\"evenodd\" fill-opacity=\"1\" stroke=\"#000000\" stroke-opacity=\"1\" stroke-width=\"3.2\"/>\n",
       "<circle clip-path=\"url(#clip222)\" cx=\"325.047\" cy=\"1387.67\" r=\"14\" fill=\"#009af9\" fill-rule=\"evenodd\" fill-opacity=\"1\" stroke=\"#000000\" stroke-opacity=\"1\" stroke-width=\"3.2\"/>\n",
       "<circle clip-path=\"url(#clip222)\" cx=\"346.398\" cy=\"1366.51\" r=\"14\" fill=\"#009af9\" fill-rule=\"evenodd\" fill-opacity=\"1\" stroke=\"#000000\" stroke-opacity=\"1\" stroke-width=\"3.2\"/>\n",
       "<circle clip-path=\"url(#clip222)\" cx=\"367.749\" cy=\"1437.4\" r=\"14\" fill=\"#009af9\" fill-rule=\"evenodd\" fill-opacity=\"1\" stroke=\"#000000\" stroke-opacity=\"1\" stroke-width=\"3.2\"/>\n",
       "<circle clip-path=\"url(#clip222)\" cx=\"389.1\" cy=\"1352.39\" r=\"14\" fill=\"#009af9\" fill-rule=\"evenodd\" fill-opacity=\"1\" stroke=\"#000000\" stroke-opacity=\"1\" stroke-width=\"3.2\"/>\n",
       "<circle clip-path=\"url(#clip222)\" cx=\"410.451\" cy=\"1343.86\" r=\"14\" fill=\"#009af9\" fill-rule=\"evenodd\" fill-opacity=\"1\" stroke=\"#000000\" stroke-opacity=\"1\" stroke-width=\"3.2\"/>\n",
       "<circle clip-path=\"url(#clip222)\" cx=\"431.802\" cy=\"1408.3\" r=\"14\" fill=\"#009af9\" fill-rule=\"evenodd\" fill-opacity=\"1\" stroke=\"#000000\" stroke-opacity=\"1\" stroke-width=\"3.2\"/>\n",
       "<circle clip-path=\"url(#clip222)\" cx=\"453.153\" cy=\"1373.24\" r=\"14\" fill=\"#009af9\" fill-rule=\"evenodd\" fill-opacity=\"1\" stroke=\"#000000\" stroke-opacity=\"1\" stroke-width=\"3.2\"/>\n",
       "<circle clip-path=\"url(#clip222)\" cx=\"474.504\" cy=\"1345.91\" r=\"14\" fill=\"#009af9\" fill-rule=\"evenodd\" fill-opacity=\"1\" stroke=\"#000000\" stroke-opacity=\"1\" stroke-width=\"3.2\"/>\n",
       "<circle clip-path=\"url(#clip222)\" cx=\"495.855\" cy=\"1322.53\" r=\"14\" fill=\"#009af9\" fill-rule=\"evenodd\" fill-opacity=\"1\" stroke=\"#000000\" stroke-opacity=\"1\" stroke-width=\"3.2\"/>\n",
       "<circle clip-path=\"url(#clip222)\" cx=\"517.207\" cy=\"1341.67\" r=\"14\" fill=\"#009af9\" fill-rule=\"evenodd\" fill-opacity=\"1\" stroke=\"#000000\" stroke-opacity=\"1\" stroke-width=\"3.2\"/>\n",
       "<circle clip-path=\"url(#clip222)\" cx=\"538.558\" cy=\"1287.47\" r=\"14\" fill=\"#009af9\" fill-rule=\"evenodd\" fill-opacity=\"1\" stroke=\"#000000\" stroke-opacity=\"1\" stroke-width=\"3.2\"/>\n",
       "<circle clip-path=\"url(#clip222)\" cx=\"559.909\" cy=\"1359.32\" r=\"14\" fill=\"#009af9\" fill-rule=\"evenodd\" fill-opacity=\"1\" stroke=\"#000000\" stroke-opacity=\"1\" stroke-width=\"3.2\"/>\n",
       "<circle clip-path=\"url(#clip222)\" cx=\"581.26\" cy=\"1327.99\" r=\"14\" fill=\"#009af9\" fill-rule=\"evenodd\" fill-opacity=\"1\" stroke=\"#000000\" stroke-opacity=\"1\" stroke-width=\"3.2\"/>\n",
       "<circle clip-path=\"url(#clip222)\" cx=\"602.611\" cy=\"1361.93\" r=\"14\" fill=\"#009af9\" fill-rule=\"evenodd\" fill-opacity=\"1\" stroke=\"#000000\" stroke-opacity=\"1\" stroke-width=\"3.2\"/>\n",
       "<circle clip-path=\"url(#clip222)\" cx=\"623.962\" cy=\"1266.31\" r=\"14\" fill=\"#009af9\" fill-rule=\"evenodd\" fill-opacity=\"1\" stroke=\"#000000\" stroke-opacity=\"1\" stroke-width=\"3.2\"/>\n",
       "<circle clip-path=\"url(#clip222)\" cx=\"645.313\" cy=\"1289.74\" r=\"14\" fill=\"#009af9\" fill-rule=\"evenodd\" fill-opacity=\"1\" stroke=\"#000000\" stroke-opacity=\"1\" stroke-width=\"3.2\"/>\n",
       "<circle clip-path=\"url(#clip222)\" cx=\"666.664\" cy=\"1342.19\" r=\"14\" fill=\"#009af9\" fill-rule=\"evenodd\" fill-opacity=\"1\" stroke=\"#000000\" stroke-opacity=\"1\" stroke-width=\"3.2\"/>\n",
       "<circle clip-path=\"url(#clip222)\" cx=\"688.015\" cy=\"1297.83\" r=\"14\" fill=\"#009af9\" fill-rule=\"evenodd\" fill-opacity=\"1\" stroke=\"#000000\" stroke-opacity=\"1\" stroke-width=\"3.2\"/>\n",
       "<circle clip-path=\"url(#clip222)\" cx=\"709.366\" cy=\"1315.26\" r=\"14\" fill=\"#009af9\" fill-rule=\"evenodd\" fill-opacity=\"1\" stroke=\"#000000\" stroke-opacity=\"1\" stroke-width=\"3.2\"/>\n",
       "<circle clip-path=\"url(#clip222)\" cx=\"730.717\" cy=\"1220.8\" r=\"14\" fill=\"#009af9\" fill-rule=\"evenodd\" fill-opacity=\"1\" stroke=\"#000000\" stroke-opacity=\"1\" stroke-width=\"3.2\"/>\n",
       "<circle clip-path=\"url(#clip222)\" cx=\"752.068\" cy=\"1191.91\" r=\"14\" fill=\"#009af9\" fill-rule=\"evenodd\" fill-opacity=\"1\" stroke=\"#000000\" stroke-opacity=\"1\" stroke-width=\"3.2\"/>\n",
       "<circle clip-path=\"url(#clip222)\" cx=\"773.419\" cy=\"1248.41\" r=\"14\" fill=\"#009af9\" fill-rule=\"evenodd\" fill-opacity=\"1\" stroke=\"#000000\" stroke-opacity=\"1\" stroke-width=\"3.2\"/>\n",
       "<circle clip-path=\"url(#clip222)\" cx=\"794.77\" cy=\"1186.69\" r=\"14\" fill=\"#009af9\" fill-rule=\"evenodd\" fill-opacity=\"1\" stroke=\"#000000\" stroke-opacity=\"1\" stroke-width=\"3.2\"/>\n",
       "<circle clip-path=\"url(#clip222)\" cx=\"816.121\" cy=\"1289.55\" r=\"14\" fill=\"#009af9\" fill-rule=\"evenodd\" fill-opacity=\"1\" stroke=\"#000000\" stroke-opacity=\"1\" stroke-width=\"3.2\"/>\n",
       "<circle clip-path=\"url(#clip222)\" cx=\"837.472\" cy=\"1128.24\" r=\"14\" fill=\"#009af9\" fill-rule=\"evenodd\" fill-opacity=\"1\" stroke=\"#000000\" stroke-opacity=\"1\" stroke-width=\"3.2\"/>\n",
       "<circle clip-path=\"url(#clip222)\" cx=\"858.823\" cy=\"1120.76\" r=\"14\" fill=\"#009af9\" fill-rule=\"evenodd\" fill-opacity=\"1\" stroke=\"#000000\" stroke-opacity=\"1\" stroke-width=\"3.2\"/>\n",
       "<circle clip-path=\"url(#clip222)\" cx=\"880.174\" cy=\"1135.37\" r=\"14\" fill=\"#009af9\" fill-rule=\"evenodd\" fill-opacity=\"1\" stroke=\"#000000\" stroke-opacity=\"1\" stroke-width=\"3.2\"/>\n",
       "<circle clip-path=\"url(#clip222)\" cx=\"901.525\" cy=\"1091.22\" r=\"14\" fill=\"#009af9\" fill-rule=\"evenodd\" fill-opacity=\"1\" stroke=\"#000000\" stroke-opacity=\"1\" stroke-width=\"3.2\"/>\n",
       "<circle clip-path=\"url(#clip222)\" cx=\"922.876\" cy=\"1245\" r=\"14\" fill=\"#009af9\" fill-rule=\"evenodd\" fill-opacity=\"1\" stroke=\"#000000\" stroke-opacity=\"1\" stroke-width=\"3.2\"/>\n",
       "<circle clip-path=\"url(#clip222)\" cx=\"944.227\" cy=\"1177.83\" r=\"14\" fill=\"#009af9\" fill-rule=\"evenodd\" fill-opacity=\"1\" stroke=\"#000000\" stroke-opacity=\"1\" stroke-width=\"3.2\"/>\n",
       "<circle clip-path=\"url(#clip222)\" cx=\"965.578\" cy=\"1135.91\" r=\"14\" fill=\"#009af9\" fill-rule=\"evenodd\" fill-opacity=\"1\" stroke=\"#000000\" stroke-opacity=\"1\" stroke-width=\"3.2\"/>\n",
       "<circle clip-path=\"url(#clip222)\" cx=\"986.93\" cy=\"1056.28\" r=\"14\" fill=\"#009af9\" fill-rule=\"evenodd\" fill-opacity=\"1\" stroke=\"#000000\" stroke-opacity=\"1\" stroke-width=\"3.2\"/>\n",
       "<circle clip-path=\"url(#clip222)\" cx=\"1008.28\" cy=\"1159.12\" r=\"14\" fill=\"#009af9\" fill-rule=\"evenodd\" fill-opacity=\"1\" stroke=\"#000000\" stroke-opacity=\"1\" stroke-width=\"3.2\"/>\n",
       "<circle clip-path=\"url(#clip222)\" cx=\"1029.63\" cy=\"1127.89\" r=\"14\" fill=\"#009af9\" fill-rule=\"evenodd\" fill-opacity=\"1\" stroke=\"#000000\" stroke-opacity=\"1\" stroke-width=\"3.2\"/>\n",
       "<circle clip-path=\"url(#clip222)\" cx=\"1050.98\" cy=\"1060.09\" r=\"14\" fill=\"#009af9\" fill-rule=\"evenodd\" fill-opacity=\"1\" stroke=\"#000000\" stroke-opacity=\"1\" stroke-width=\"3.2\"/>\n",
       "<circle clip-path=\"url(#clip222)\" cx=\"1072.33\" cy=\"1093.73\" r=\"14\" fill=\"#009af9\" fill-rule=\"evenodd\" fill-opacity=\"1\" stroke=\"#000000\" stroke-opacity=\"1\" stroke-width=\"3.2\"/>\n",
       "<circle clip-path=\"url(#clip222)\" cx=\"1093.68\" cy=\"1110.52\" r=\"14\" fill=\"#009af9\" fill-rule=\"evenodd\" fill-opacity=\"1\" stroke=\"#000000\" stroke-opacity=\"1\" stroke-width=\"3.2\"/>\n",
       "<circle clip-path=\"url(#clip222)\" cx=\"1115.04\" cy=\"1046.84\" r=\"14\" fill=\"#009af9\" fill-rule=\"evenodd\" fill-opacity=\"1\" stroke=\"#000000\" stroke-opacity=\"1\" stroke-width=\"3.2\"/>\n",
       "<circle clip-path=\"url(#clip222)\" cx=\"1136.39\" cy=\"1015.66\" r=\"14\" fill=\"#009af9\" fill-rule=\"evenodd\" fill-opacity=\"1\" stroke=\"#000000\" stroke-opacity=\"1\" stroke-width=\"3.2\"/>\n",
       "<circle clip-path=\"url(#clip222)\" cx=\"1157.74\" cy=\"1058.19\" r=\"14\" fill=\"#009af9\" fill-rule=\"evenodd\" fill-opacity=\"1\" stroke=\"#000000\" stroke-opacity=\"1\" stroke-width=\"3.2\"/>\n",
       "<circle clip-path=\"url(#clip222)\" cx=\"1179.09\" cy=\"1030.47\" r=\"14\" fill=\"#009af9\" fill-rule=\"evenodd\" fill-opacity=\"1\" stroke=\"#000000\" stroke-opacity=\"1\" stroke-width=\"3.2\"/>\n",
       "<circle clip-path=\"url(#clip222)\" cx=\"1200.44\" cy=\"923.509\" r=\"14\" fill=\"#009af9\" fill-rule=\"evenodd\" fill-opacity=\"1\" stroke=\"#000000\" stroke-opacity=\"1\" stroke-width=\"3.2\"/>\n",
       "<circle clip-path=\"url(#clip222)\" cx=\"1221.79\" cy=\"972.951\" r=\"14\" fill=\"#009af9\" fill-rule=\"evenodd\" fill-opacity=\"1\" stroke=\"#000000\" stroke-opacity=\"1\" stroke-width=\"3.2\"/>\n",
       "<circle clip-path=\"url(#clip222)\" cx=\"1243.14\" cy=\"932.734\" r=\"14\" fill=\"#009af9\" fill-rule=\"evenodd\" fill-opacity=\"1\" stroke=\"#000000\" stroke-opacity=\"1\" stroke-width=\"3.2\"/>\n",
       "<circle clip-path=\"url(#clip222)\" cx=\"1264.49\" cy=\"956.681\" r=\"14\" fill=\"#009af9\" fill-rule=\"evenodd\" fill-opacity=\"1\" stroke=\"#000000\" stroke-opacity=\"1\" stroke-width=\"3.2\"/>\n",
       "<circle clip-path=\"url(#clip222)\" cx=\"1285.84\" cy=\"1003.43\" r=\"14\" fill=\"#009af9\" fill-rule=\"evenodd\" fill-opacity=\"1\" stroke=\"#000000\" stroke-opacity=\"1\" stroke-width=\"3.2\"/>\n",
       "<circle clip-path=\"url(#clip222)\" cx=\"1307.2\" cy=\"981.589\" r=\"14\" fill=\"#009af9\" fill-rule=\"evenodd\" fill-opacity=\"1\" stroke=\"#000000\" stroke-opacity=\"1\" stroke-width=\"3.2\"/>\n",
       "<circle clip-path=\"url(#clip222)\" cx=\"1328.55\" cy=\"897.403\" r=\"14\" fill=\"#009af9\" fill-rule=\"evenodd\" fill-opacity=\"1\" stroke=\"#000000\" stroke-opacity=\"1\" stroke-width=\"3.2\"/>\n",
       "<circle clip-path=\"url(#clip222)\" cx=\"1349.9\" cy=\"970.21\" r=\"14\" fill=\"#009af9\" fill-rule=\"evenodd\" fill-opacity=\"1\" stroke=\"#000000\" stroke-opacity=\"1\" stroke-width=\"3.2\"/>\n",
       "<circle clip-path=\"url(#clip222)\" cx=\"1371.25\" cy=\"889.161\" r=\"14\" fill=\"#009af9\" fill-rule=\"evenodd\" fill-opacity=\"1\" stroke=\"#000000\" stroke-opacity=\"1\" stroke-width=\"3.2\"/>\n",
       "<circle clip-path=\"url(#clip222)\" cx=\"1392.6\" cy=\"859.145\" r=\"14\" fill=\"#009af9\" fill-rule=\"evenodd\" fill-opacity=\"1\" stroke=\"#000000\" stroke-opacity=\"1\" stroke-width=\"3.2\"/>\n",
       "<circle clip-path=\"url(#clip222)\" cx=\"1413.95\" cy=\"837.692\" r=\"14\" fill=\"#009af9\" fill-rule=\"evenodd\" fill-opacity=\"1\" stroke=\"#000000\" stroke-opacity=\"1\" stroke-width=\"3.2\"/>\n",
       "<circle clip-path=\"url(#clip222)\" cx=\"1435.3\" cy=\"760.399\" r=\"14\" fill=\"#009af9\" fill-rule=\"evenodd\" fill-opacity=\"1\" stroke=\"#000000\" stroke-opacity=\"1\" stroke-width=\"3.2\"/>\n",
       "<circle clip-path=\"url(#clip222)\" cx=\"1456.65\" cy=\"768.945\" r=\"14\" fill=\"#009af9\" fill-rule=\"evenodd\" fill-opacity=\"1\" stroke=\"#000000\" stroke-opacity=\"1\" stroke-width=\"3.2\"/>\n",
       "<circle clip-path=\"url(#clip222)\" cx=\"1478\" cy=\"852.489\" r=\"14\" fill=\"#009af9\" fill-rule=\"evenodd\" fill-opacity=\"1\" stroke=\"#000000\" stroke-opacity=\"1\" stroke-width=\"3.2\"/>\n",
       "<circle clip-path=\"url(#clip222)\" cx=\"1499.35\" cy=\"857.666\" r=\"14\" fill=\"#009af9\" fill-rule=\"evenodd\" fill-opacity=\"1\" stroke=\"#000000\" stroke-opacity=\"1\" stroke-width=\"3.2\"/>\n",
       "<circle clip-path=\"url(#clip222)\" cx=\"1520.71\" cy=\"767.803\" r=\"14\" fill=\"#009af9\" fill-rule=\"evenodd\" fill-opacity=\"1\" stroke=\"#000000\" stroke-opacity=\"1\" stroke-width=\"3.2\"/>\n",
       "<circle clip-path=\"url(#clip222)\" cx=\"1542.06\" cy=\"724.67\" r=\"14\" fill=\"#009af9\" fill-rule=\"evenodd\" fill-opacity=\"1\" stroke=\"#000000\" stroke-opacity=\"1\" stroke-width=\"3.2\"/>\n",
       "<circle clip-path=\"url(#clip222)\" cx=\"1563.41\" cy=\"907.128\" r=\"14\" fill=\"#009af9\" fill-rule=\"evenodd\" fill-opacity=\"1\" stroke=\"#000000\" stroke-opacity=\"1\" stroke-width=\"3.2\"/>\n",
       "<circle clip-path=\"url(#clip222)\" cx=\"1584.76\" cy=\"680.353\" r=\"14\" fill=\"#009af9\" fill-rule=\"evenodd\" fill-opacity=\"1\" stroke=\"#000000\" stroke-opacity=\"1\" stroke-width=\"3.2\"/>\n",
       "<circle clip-path=\"url(#clip222)\" cx=\"1606.11\" cy=\"729.757\" r=\"14\" fill=\"#009af9\" fill-rule=\"evenodd\" fill-opacity=\"1\" stroke=\"#000000\" stroke-opacity=\"1\" stroke-width=\"3.2\"/>\n",
       "<circle clip-path=\"url(#clip222)\" cx=\"1627.46\" cy=\"719.018\" r=\"14\" fill=\"#009af9\" fill-rule=\"evenodd\" fill-opacity=\"1\" stroke=\"#000000\" stroke-opacity=\"1\" stroke-width=\"3.2\"/>\n",
       "<circle clip-path=\"url(#clip222)\" cx=\"1648.81\" cy=\"655.34\" r=\"14\" fill=\"#009af9\" fill-rule=\"evenodd\" fill-opacity=\"1\" stroke=\"#000000\" stroke-opacity=\"1\" stroke-width=\"3.2\"/>\n",
       "<circle clip-path=\"url(#clip222)\" cx=\"1670.16\" cy=\"753.732\" r=\"14\" fill=\"#009af9\" fill-rule=\"evenodd\" fill-opacity=\"1\" stroke=\"#000000\" stroke-opacity=\"1\" stroke-width=\"3.2\"/>\n",
       "<circle clip-path=\"url(#clip222)\" cx=\"1691.51\" cy=\"628.572\" r=\"14\" fill=\"#009af9\" fill-rule=\"evenodd\" fill-opacity=\"1\" stroke=\"#000000\" stroke-opacity=\"1\" stroke-width=\"3.2\"/>\n",
       "<circle clip-path=\"url(#clip222)\" cx=\"1712.87\" cy=\"587.092\" r=\"14\" fill=\"#009af9\" fill-rule=\"evenodd\" fill-opacity=\"1\" stroke=\"#000000\" stroke-opacity=\"1\" stroke-width=\"3.2\"/>\n",
       "<circle clip-path=\"url(#clip222)\" cx=\"1734.22\" cy=\"581.065\" r=\"14\" fill=\"#009af9\" fill-rule=\"evenodd\" fill-opacity=\"1\" stroke=\"#000000\" stroke-opacity=\"1\" stroke-width=\"3.2\"/>\n",
       "<circle clip-path=\"url(#clip222)\" cx=\"1755.57\" cy=\"594.71\" r=\"14\" fill=\"#009af9\" fill-rule=\"evenodd\" fill-opacity=\"1\" stroke=\"#000000\" stroke-opacity=\"1\" stroke-width=\"3.2\"/>\n",
       "<circle clip-path=\"url(#clip222)\" cx=\"1776.92\" cy=\"554.659\" r=\"14\" fill=\"#009af9\" fill-rule=\"evenodd\" fill-opacity=\"1\" stroke=\"#000000\" stroke-opacity=\"1\" stroke-width=\"3.2\"/>\n",
       "<circle clip-path=\"url(#clip222)\" cx=\"1798.27\" cy=\"620.509\" r=\"14\" fill=\"#009af9\" fill-rule=\"evenodd\" fill-opacity=\"1\" stroke=\"#000000\" stroke-opacity=\"1\" stroke-width=\"3.2\"/>\n",
       "<circle clip-path=\"url(#clip222)\" cx=\"1819.62\" cy=\"586.355\" r=\"14\" fill=\"#009af9\" fill-rule=\"evenodd\" fill-opacity=\"1\" stroke=\"#000000\" stroke-opacity=\"1\" stroke-width=\"3.2\"/>\n",
       "<circle clip-path=\"url(#clip222)\" cx=\"1840.97\" cy=\"558.201\" r=\"14\" fill=\"#009af9\" fill-rule=\"evenodd\" fill-opacity=\"1\" stroke=\"#000000\" stroke-opacity=\"1\" stroke-width=\"3.2\"/>\n",
       "<circle clip-path=\"url(#clip222)\" cx=\"1862.32\" cy=\"507.345\" r=\"14\" fill=\"#009af9\" fill-rule=\"evenodd\" fill-opacity=\"1\" stroke=\"#000000\" stroke-opacity=\"1\" stroke-width=\"3.2\"/>\n",
       "<circle clip-path=\"url(#clip222)\" cx=\"1883.67\" cy=\"491.103\" r=\"14\" fill=\"#009af9\" fill-rule=\"evenodd\" fill-opacity=\"1\" stroke=\"#000000\" stroke-opacity=\"1\" stroke-width=\"3.2\"/>\n",
       "<circle clip-path=\"url(#clip222)\" cx=\"1905.02\" cy=\"470.994\" r=\"14\" fill=\"#009af9\" fill-rule=\"evenodd\" fill-opacity=\"1\" stroke=\"#000000\" stroke-opacity=\"1\" stroke-width=\"3.2\"/>\n",
       "<circle clip-path=\"url(#clip222)\" cx=\"1926.38\" cy=\"403.204\" r=\"14\" fill=\"#009af9\" fill-rule=\"evenodd\" fill-opacity=\"1\" stroke=\"#000000\" stroke-opacity=\"1\" stroke-width=\"3.2\"/>\n",
       "<circle clip-path=\"url(#clip222)\" cx=\"1947.73\" cy=\"501.75\" r=\"14\" fill=\"#009af9\" fill-rule=\"evenodd\" fill-opacity=\"1\" stroke=\"#000000\" stroke-opacity=\"1\" stroke-width=\"3.2\"/>\n",
       "<circle clip-path=\"url(#clip222)\" cx=\"1969.08\" cy=\"428.283\" r=\"14\" fill=\"#009af9\" fill-rule=\"evenodd\" fill-opacity=\"1\" stroke=\"#000000\" stroke-opacity=\"1\" stroke-width=\"3.2\"/>\n",
       "<circle clip-path=\"url(#clip222)\" cx=\"1990.43\" cy=\"362.61\" r=\"14\" fill=\"#009af9\" fill-rule=\"evenodd\" fill-opacity=\"1\" stroke=\"#000000\" stroke-opacity=\"1\" stroke-width=\"3.2\"/>\n",
       "<circle clip-path=\"url(#clip222)\" cx=\"2011.78\" cy=\"431.405\" r=\"14\" fill=\"#009af9\" fill-rule=\"evenodd\" fill-opacity=\"1\" stroke=\"#000000\" stroke-opacity=\"1\" stroke-width=\"3.2\"/>\n",
       "<circle clip-path=\"url(#clip222)\" cx=\"2033.13\" cy=\"307.527\" r=\"14\" fill=\"#009af9\" fill-rule=\"evenodd\" fill-opacity=\"1\" stroke=\"#000000\" stroke-opacity=\"1\" stroke-width=\"3.2\"/>\n",
       "<circle clip-path=\"url(#clip222)\" cx=\"2054.48\" cy=\"420.366\" r=\"14\" fill=\"#009af9\" fill-rule=\"evenodd\" fill-opacity=\"1\" stroke=\"#000000\" stroke-opacity=\"1\" stroke-width=\"3.2\"/>\n",
       "<circle clip-path=\"url(#clip222)\" cx=\"2075.83\" cy=\"265.364\" r=\"14\" fill=\"#009af9\" fill-rule=\"evenodd\" fill-opacity=\"1\" stroke=\"#000000\" stroke-opacity=\"1\" stroke-width=\"3.2\"/>\n",
       "<circle clip-path=\"url(#clip222)\" cx=\"2097.18\" cy=\"269.617\" r=\"14\" fill=\"#009af9\" fill-rule=\"evenodd\" fill-opacity=\"1\" stroke=\"#000000\" stroke-opacity=\"1\" stroke-width=\"3.2\"/>\n",
       "<circle clip-path=\"url(#clip222)\" cx=\"2118.53\" cy=\"257.121\" r=\"14\" fill=\"#009af9\" fill-rule=\"evenodd\" fill-opacity=\"1\" stroke=\"#000000\" stroke-opacity=\"1\" stroke-width=\"3.2\"/>\n",
       "<circle clip-path=\"url(#clip222)\" cx=\"2139.89\" cy=\"324.288\" r=\"14\" fill=\"#009af9\" fill-rule=\"evenodd\" fill-opacity=\"1\" stroke=\"#000000\" stroke-opacity=\"1\" stroke-width=\"3.2\"/>\n",
       "<circle clip-path=\"url(#clip222)\" cx=\"2161.24\" cy=\"223.572\" r=\"14\" fill=\"#009af9\" fill-rule=\"evenodd\" fill-opacity=\"1\" stroke=\"#000000\" stroke-opacity=\"1\" stroke-width=\"3.2\"/>\n",
       "<circle clip-path=\"url(#clip222)\" cx=\"2182.59\" cy=\"186.992\" r=\"14\" fill=\"#009af9\" fill-rule=\"evenodd\" fill-opacity=\"1\" stroke=\"#000000\" stroke-opacity=\"1\" stroke-width=\"3.2\"/>\n",
       "<circle clip-path=\"url(#clip222)\" cx=\"2203.94\" cy=\"157.517\" r=\"14\" fill=\"#009af9\" fill-rule=\"evenodd\" fill-opacity=\"1\" stroke=\"#000000\" stroke-opacity=\"1\" stroke-width=\"3.2\"/>\n",
       "<circle clip-path=\"url(#clip222)\" cx=\"2225.29\" cy=\"233.95\" r=\"14\" fill=\"#009af9\" fill-rule=\"evenodd\" fill-opacity=\"1\" stroke=\"#000000\" stroke-opacity=\"1\" stroke-width=\"3.2\"/>\n",
       "<circle clip-path=\"url(#clip222)\" cx=\"2246.64\" cy=\"90.8351\" r=\"14\" fill=\"#009af9\" fill-rule=\"evenodd\" fill-opacity=\"1\" stroke=\"#000000\" stroke-opacity=\"1\" stroke-width=\"3.2\"/>\n",
       "<circle clip-path=\"url(#clip222)\" cx=\"2267.99\" cy=\"135.854\" r=\"14\" fill=\"#009af9\" fill-rule=\"evenodd\" fill-opacity=\"1\" stroke=\"#000000\" stroke-opacity=\"1\" stroke-width=\"3.2\"/>\n",
       "<circle clip-path=\"url(#clip222)\" cx=\"2289.34\" cy=\"87.9763\" r=\"14\" fill=\"#009af9\" fill-rule=\"evenodd\" fill-opacity=\"1\" stroke=\"#000000\" stroke-opacity=\"1\" stroke-width=\"3.2\"/>\n",
       "<polyline clip-path=\"url(#clip222)\" style=\"stroke:#e26f46; stroke-linecap:butt; stroke-linejoin:round; stroke-width:4; stroke-opacity:1; fill:none\" points=\"\n",
       "  175.59,1428.22 196.941,1423.54 218.292,1418.68 239.643,1413.65 260.994,1408.44 282.345,1403.05 303.696,1397.48 325.047,1391.74 346.398,1385.82 367.749,1379.72 \n",
       "  389.1,1373.44 410.451,1366.99 431.802,1360.35 453.153,1353.54 474.504,1346.56 495.855,1339.39 517.207,1332.05 538.558,1324.53 559.909,1316.83 581.26,1308.95 \n",
       "  602.611,1300.9 623.962,1292.67 645.313,1284.26 666.664,1275.67 688.015,1266.91 709.366,1257.96 730.717,1248.84 752.068,1239.55 773.419,1230.07 794.77,1220.42 \n",
       "  816.121,1210.59 837.472,1200.58 858.823,1190.39 880.174,1180.03 901.525,1169.49 922.876,1158.77 944.227,1147.87 965.578,1136.8 986.93,1125.54 1008.28,1114.11 \n",
       "  1029.63,1102.51 1050.98,1090.72 1072.33,1078.76 1093.68,1066.62 1115.04,1054.3 1136.39,1041.8 1157.74,1029.13 1179.09,1016.28 1200.44,1003.25 1221.79,990.043 \n",
       "  1243.14,976.658 1264.49,963.096 1285.84,949.356 1307.2,935.439 1328.55,921.344 1349.9,907.071 1371.25,892.621 1392.6,877.993 1413.95,863.187 1435.3,848.203 \n",
       "  1456.65,833.042 1478,817.703 1499.35,802.187 1520.71,786.492 1542.06,770.621 1563.41,754.571 1584.76,738.344 1606.11,721.939 1627.46,705.356 1648.81,688.596 \n",
       "  1670.16,671.658 1691.51,654.542 1712.87,637.249 1734.22,619.778 1755.57,602.129 1776.92,584.303 1798.27,566.298 1819.62,548.117 1840.97,529.757 1862.32,511.22 \n",
       "  1883.67,492.505 1905.02,473.613 1926.38,454.543 1947.73,435.295 1969.08,415.869 1990.43,396.266 2011.78,376.485 2033.13,356.527 2054.48,336.39 2075.83,316.076 \n",
       "  2097.18,295.585 2118.53,274.915 2139.89,254.068 2161.24,233.044 2182.59,211.841 2203.94,190.461 2225.29,168.904 2246.64,147.168 2267.99,125.255 2289.34,103.164 \n",
       "  \n",
       "  \"/>\n",
       "<path clip-path=\"url(#clip220)\" d=\"\n",
       "M1809.03 1438.47 L2278.07 1438.47 L2278.07 1282.95 L1809.03 1282.95  Z\n",
       "  \" fill=\"#ffffff\" fill-rule=\"evenodd\" fill-opacity=\"1\"/>\n",
       "<polyline clip-path=\"url(#clip220)\" style=\"stroke:#000000; stroke-linecap:butt; stroke-linejoin:round; stroke-width:4; stroke-opacity:1; fill:none\" points=\"\n",
       "  1809.03,1438.47 2278.07,1438.47 2278.07,1282.95 1809.03,1282.95 1809.03,1438.47 \n",
       "  \"/>\n",
       "<circle clip-path=\"url(#clip220)\" cx=\"1908.61\" cy=\"1334.79\" r=\"23\" fill=\"#009af9\" fill-rule=\"evenodd\" fill-opacity=\"1\" stroke=\"#000000\" stroke-opacity=\"1\" stroke-width=\"5.12\"/>\n",
       "<path clip-path=\"url(#clip220)\" d=\"M2026.61 1326.91 L2026.61 1330.94 Q2024.81 1330.01 2022.86 1329.55 Q2020.92 1329.09 2018.84 1329.09 Q2015.66 1329.09 2014.07 1330.06 Q2012.49 1331.03 2012.49 1332.98 Q2012.49 1334.46 2013.63 1335.32 Q2014.76 1336.15 2018.19 1336.91 L2019.65 1337.24 Q2024.18 1338.21 2026.08 1339.99 Q2028 1341.75 2028 1344.92 Q2028 1348.53 2025.13 1350.64 Q2022.29 1352.75 2017.29 1352.75 Q2015.2 1352.75 2012.93 1352.33 Q2010.69 1351.94 2008.19 1351.13 L2008.19 1346.73 Q2010.55 1347.95 2012.84 1348.58 Q2015.13 1349.18 2017.38 1349.18 Q2020.39 1349.18 2022.01 1348.16 Q2023.63 1347.12 2023.63 1345.25 Q2023.63 1343.51 2022.45 1342.58 Q2021.29 1341.66 2017.33 1340.8 L2015.85 1340.45 Q2011.89 1339.62 2010.13 1337.91 Q2008.37 1336.17 2008.37 1333.16 Q2008.37 1329.51 2010.97 1327.51 Q2013.56 1325.52 2018.33 1325.52 Q2020.69 1325.52 2022.77 1325.87 Q2024.85 1326.22 2026.61 1326.91 Z\" fill=\"#000000\" fill-rule=\"evenodd\" fill-opacity=\"1\" /><path clip-path=\"url(#clip220)\" d=\"M2046.57 1339.04 Q2041.41 1339.04 2039.41 1340.22 Q2037.42 1341.4 2037.42 1344.25 Q2037.42 1346.52 2038.91 1347.86 Q2040.41 1349.18 2042.98 1349.18 Q2046.52 1349.18 2048.65 1346.68 Q2050.8 1344.16 2050.8 1339.99 L2050.8 1339.04 L2046.57 1339.04 M2055.06 1337.28 L2055.06 1352.07 L2050.8 1352.07 L2050.8 1348.14 Q2049.35 1350.5 2047.17 1351.63 Q2044.99 1352.75 2041.85 1352.75 Q2037.86 1352.75 2035.5 1350.52 Q2033.16 1348.28 2033.16 1344.53 Q2033.16 1340.15 2036.08 1337.93 Q2039.02 1335.71 2044.83 1335.71 L2050.8 1335.71 L2050.8 1335.29 Q2050.8 1332.35 2048.86 1330.76 Q2046.94 1329.13 2043.44 1329.13 Q2041.22 1329.13 2039.11 1329.67 Q2037.01 1330.2 2035.06 1331.26 L2035.06 1327.33 Q2037.4 1326.43 2039.6 1325.99 Q2041.8 1325.52 2043.88 1325.52 Q2049.51 1325.52 2052.28 1328.44 Q2055.06 1331.36 2055.06 1337.28 Z\" fill=\"#000000\" fill-rule=\"evenodd\" fill-opacity=\"1\" /><path clip-path=\"url(#clip220)\" d=\"M2084.02 1331.13 Q2085.62 1328.26 2087.84 1326.89 Q2090.06 1325.52 2093.07 1325.52 Q2097.12 1325.52 2099.32 1328.37 Q2101.52 1331.19 2101.52 1336.43 L2101.52 1352.07 L2097.24 1352.07 L2097.24 1336.57 Q2097.24 1332.84 2095.92 1331.03 Q2094.6 1329.23 2091.89 1329.23 Q2088.58 1329.23 2086.66 1331.43 Q2084.74 1333.63 2084.74 1337.42 L2084.74 1352.07 L2080.46 1352.07 L2080.46 1336.57 Q2080.46 1332.82 2079.14 1331.03 Q2077.82 1329.23 2075.06 1329.23 Q2071.8 1329.23 2069.88 1331.45 Q2067.96 1333.65 2067.96 1337.42 L2067.96 1352.07 L2063.67 1352.07 L2063.67 1326.15 L2067.96 1326.15 L2067.96 1330.18 Q2069.41 1327.79 2071.45 1326.66 Q2073.49 1325.52 2076.29 1325.52 Q2079.11 1325.52 2081.08 1326.96 Q2083.07 1328.39 2084.02 1331.13 Z\" fill=\"#000000\" fill-rule=\"evenodd\" fill-opacity=\"1\" /><path clip-path=\"url(#clip220)\" d=\"M2114.14 1348.19 L2114.14 1361.94 L2109.85 1361.94 L2109.85 1326.15 L2114.14 1326.15 L2114.14 1330.08 Q2115.48 1327.77 2117.52 1326.66 Q2119.58 1325.52 2122.42 1325.52 Q2127.15 1325.52 2130.09 1329.27 Q2133.05 1333.02 2133.05 1339.13 Q2133.05 1345.25 2130.09 1349 Q2127.15 1352.75 2122.42 1352.75 Q2119.58 1352.75 2117.52 1351.63 Q2115.48 1350.5 2114.14 1348.19 M2128.63 1339.13 Q2128.63 1334.44 2126.68 1331.77 Q2124.76 1329.09 2121.38 1329.09 Q2118 1329.09 2116.06 1331.77 Q2114.14 1334.44 2114.14 1339.13 Q2114.14 1343.83 2116.06 1346.52 Q2118 1349.18 2121.38 1349.18 Q2124.76 1349.18 2126.68 1346.52 Q2128.63 1343.83 2128.63 1339.13 Z\" fill=\"#000000\" fill-rule=\"evenodd\" fill-opacity=\"1\" /><path clip-path=\"url(#clip220)\" d=\"M2140.11 1316.06 L2144.37 1316.06 L2144.37 1352.07 L2140.11 1352.07 L2140.11 1316.06 Z\" fill=\"#000000\" fill-rule=\"evenodd\" fill-opacity=\"1\" /><path clip-path=\"url(#clip220)\" d=\"M2175.46 1338.05 L2175.46 1340.13 L2155.87 1340.13 Q2156.15 1344.53 2158.51 1346.84 Q2160.9 1349.13 2165.13 1349.13 Q2167.59 1349.13 2169.88 1348.53 Q2172.19 1347.93 2174.46 1346.73 L2174.46 1350.75 Q2172.17 1351.73 2169.76 1352.24 Q2167.35 1352.75 2164.88 1352.75 Q2158.67 1352.75 2155.04 1349.13 Q2151.43 1345.52 2151.43 1339.37 Q2151.43 1333 2154.85 1329.27 Q2158.3 1325.52 2164.14 1325.52 Q2169.37 1325.52 2172.4 1328.9 Q2175.46 1332.26 2175.46 1338.05 M2171.2 1336.8 Q2171.15 1333.3 2169.23 1331.22 Q2167.33 1329.13 2164.18 1329.13 Q2160.62 1329.13 2158.46 1331.15 Q2156.34 1333.16 2156.01 1336.82 L2171.2 1336.8 Z\" fill=\"#000000\" fill-rule=\"evenodd\" fill-opacity=\"1\" /><path clip-path=\"url(#clip220)\" d=\"M2198.97 1326.91 L2198.97 1330.94 Q2197.17 1330.01 2195.22 1329.55 Q2193.28 1329.09 2191.2 1329.09 Q2188.02 1329.09 2186.43 1330.06 Q2184.85 1331.03 2184.85 1332.98 Q2184.85 1334.46 2185.99 1335.32 Q2187.12 1336.15 2190.55 1336.91 L2192.01 1337.24 Q2196.54 1338.21 2198.44 1339.99 Q2200.36 1341.75 2200.36 1344.92 Q2200.36 1348.53 2197.49 1350.64 Q2194.65 1352.75 2189.65 1352.75 Q2187.56 1352.75 2185.29 1352.33 Q2183.05 1351.94 2180.55 1351.13 L2180.55 1346.73 Q2182.91 1347.95 2185.2 1348.58 Q2187.49 1349.18 2189.74 1349.18 Q2192.75 1349.18 2194.37 1348.16 Q2195.99 1347.12 2195.99 1345.25 Q2195.99 1343.51 2194.81 1342.58 Q2193.65 1341.66 2189.69 1340.8 L2188.21 1340.45 Q2184.25 1339.62 2182.49 1337.91 Q2180.73 1336.17 2180.73 1333.16 Q2180.73 1329.51 2183.33 1327.51 Q2185.92 1325.52 2190.69 1325.52 Q2193.05 1325.52 2195.13 1325.87 Q2197.21 1326.22 2198.97 1326.91 Z\" fill=\"#000000\" fill-rule=\"evenodd\" fill-opacity=\"1\" /><polyline clip-path=\"url(#clip220)\" style=\"stroke:#e26f46; stroke-linecap:butt; stroke-linejoin:round; stroke-width:4; stroke-opacity:1; fill:none\" points=\"\n",
       "  1833.92,1386.63 1983.29,1386.63 \n",
       "  \"/>\n",
       "<path clip-path=\"url(#clip220)\" d=\"M2012.59 1390.97 Q2012.59 1395.67 2014.51 1398.36 Q2016.45 1401.02 2019.83 1401.02 Q2023.21 1401.02 2025.16 1398.36 Q2027.1 1395.67 2027.1 1390.97 Q2027.1 1386.28 2025.16 1383.61 Q2023.21 1380.93 2019.83 1380.93 Q2016.45 1380.93 2014.51 1383.61 Q2012.59 1386.28 2012.59 1390.97 M2027.1 1400.03 Q2025.76 1402.34 2023.7 1403.47 Q2021.66 1404.59 2018.79 1404.59 Q2014.09 1404.59 2011.13 1400.84 Q2008.19 1397.09 2008.19 1390.97 Q2008.19 1384.86 2011.13 1381.11 Q2014.09 1377.36 2018.79 1377.36 Q2021.66 1377.36 2023.7 1378.5 Q2025.76 1379.61 2027.1 1381.92 L2027.1 1377.99 L2031.36 1377.99 L2031.36 1413.78 L2027.1 1413.78 L2027.1 1400.03 Z\" fill=\"#000000\" fill-rule=\"evenodd\" fill-opacity=\"1\" /><path clip-path=\"url(#clip220)\" d=\"M2039.69 1393.68 L2039.69 1377.99 L2043.95 1377.99 L2043.95 1393.52 Q2043.95 1397.2 2045.39 1399.05 Q2046.82 1400.88 2049.69 1400.88 Q2053.14 1400.88 2055.13 1398.68 Q2057.15 1396.48 2057.15 1392.69 L2057.15 1377.99 L2061.41 1377.99 L2061.41 1403.91 L2057.15 1403.91 L2057.15 1399.93 Q2055.6 1402.29 2053.53 1403.45 Q2051.5 1404.59 2048.79 1404.59 Q2044.32 1404.59 2042.01 1401.81 Q2039.69 1399.03 2039.69 1393.68 M2050.41 1377.36 L2050.41 1377.36 Z\" fill=\"#000000\" fill-rule=\"evenodd\" fill-opacity=\"1\" /><path clip-path=\"url(#clip220)\" d=\"M2081.96 1390.88 Q2076.8 1390.88 2074.81 1392.06 Q2072.82 1393.24 2072.82 1396.09 Q2072.82 1398.36 2074.3 1399.7 Q2075.8 1401.02 2078.37 1401.02 Q2081.91 1401.02 2084.04 1398.52 Q2086.2 1396 2086.2 1391.83 L2086.2 1390.88 L2081.96 1390.88 M2090.46 1389.12 L2090.46 1403.91 L2086.2 1403.91 L2086.2 1399.98 Q2084.74 1402.34 2082.56 1403.47 Q2080.39 1404.59 2077.24 1404.59 Q2073.26 1404.59 2070.9 1402.36 Q2068.56 1400.12 2068.56 1396.37 Q2068.56 1391.99 2071.47 1389.77 Q2074.41 1387.55 2080.22 1387.55 L2086.2 1387.55 L2086.2 1387.13 Q2086.2 1384.19 2084.25 1382.6 Q2082.33 1380.97 2078.84 1380.97 Q2076.61 1380.97 2074.51 1381.51 Q2072.4 1382.04 2070.46 1383.1 L2070.46 1379.17 Q2072.79 1378.27 2074.99 1377.83 Q2077.19 1377.36 2079.28 1377.36 Q2084.9 1377.36 2087.68 1380.28 Q2090.46 1383.2 2090.46 1389.12 Z\" fill=\"#000000\" fill-rule=\"evenodd\" fill-opacity=\"1\" /><path clip-path=\"url(#clip220)\" d=\"M2116.29 1381.92 L2116.29 1367.9 L2120.55 1367.9 L2120.55 1403.91 L2116.29 1403.91 L2116.29 1400.03 Q2114.95 1402.34 2112.89 1403.47 Q2110.85 1404.59 2107.98 1404.59 Q2103.28 1404.59 2100.32 1400.84 Q2097.38 1397.09 2097.38 1390.97 Q2097.38 1384.86 2100.32 1381.11 Q2103.28 1377.36 2107.98 1377.36 Q2110.85 1377.36 2112.89 1378.5 Q2114.95 1379.61 2116.29 1381.92 M2101.78 1390.97 Q2101.78 1395.67 2103.7 1398.36 Q2105.64 1401.02 2109.02 1401.02 Q2112.4 1401.02 2114.34 1398.36 Q2116.29 1395.67 2116.29 1390.97 Q2116.29 1386.28 2114.34 1383.61 Q2112.4 1380.93 2109.02 1380.93 Q2105.64 1380.93 2103.7 1383.61 Q2101.78 1386.28 2101.78 1390.97 Z\" fill=\"#000000\" fill-rule=\"evenodd\" fill-opacity=\"1\" /><path clip-path=\"url(#clip220)\" d=\"M2144.34 1381.97 Q2143.63 1381.55 2142.77 1381.37 Q2141.94 1381.16 2140.92 1381.16 Q2137.31 1381.16 2135.36 1383.52 Q2133.44 1385.86 2133.44 1390.26 L2133.44 1403.91 L2129.16 1403.91 L2129.16 1377.99 L2133.44 1377.99 L2133.44 1382.02 Q2134.78 1379.66 2136.94 1378.52 Q2139.09 1377.36 2142.17 1377.36 Q2142.61 1377.36 2143.14 1377.43 Q2143.67 1377.48 2144.32 1377.6 L2144.34 1381.97 Z\" fill=\"#000000\" fill-rule=\"evenodd\" fill-opacity=\"1\" /><path clip-path=\"url(#clip220)\" d=\"M2160.59 1390.88 Q2155.43 1390.88 2153.44 1392.06 Q2151.45 1393.24 2151.45 1396.09 Q2151.45 1398.36 2152.93 1399.7 Q2154.44 1401.02 2157.01 1401.02 Q2160.55 1401.02 2162.68 1398.52 Q2164.83 1396 2164.83 1391.83 L2164.83 1390.88 L2160.59 1390.88 M2169.09 1389.12 L2169.09 1403.91 L2164.83 1403.91 L2164.83 1399.98 Q2163.37 1402.34 2161.2 1403.47 Q2159.02 1404.59 2155.87 1404.59 Q2151.89 1404.59 2149.53 1402.36 Q2147.19 1400.12 2147.19 1396.37 Q2147.19 1391.99 2150.11 1389.77 Q2153.05 1387.55 2158.86 1387.55 L2164.83 1387.55 L2164.83 1387.13 Q2164.83 1384.19 2162.89 1382.6 Q2160.96 1380.97 2157.47 1380.97 Q2155.25 1380.97 2153.14 1381.51 Q2151.03 1382.04 2149.09 1383.1 L2149.09 1379.17 Q2151.43 1378.27 2153.63 1377.83 Q2155.83 1377.36 2157.91 1377.36 Q2163.53 1377.36 2166.31 1380.28 Q2169.09 1383.2 2169.09 1389.12 Z\" fill=\"#000000\" fill-rule=\"evenodd\" fill-opacity=\"1\" /><path clip-path=\"url(#clip220)\" d=\"M2182.08 1370.63 L2182.08 1377.99 L2190.85 1377.99 L2190.85 1381.3 L2182.08 1381.3 L2182.08 1395.37 Q2182.08 1398.54 2182.93 1399.45 Q2183.81 1400.35 2186.47 1400.35 L2190.85 1400.35 L2190.85 1403.91 L2186.47 1403.91 Q2181.54 1403.91 2179.67 1402.09 Q2177.79 1400.23 2177.79 1395.37 L2177.79 1381.3 L2174.67 1381.3 L2174.67 1377.99 L2177.79 1377.99 L2177.79 1370.63 L2182.08 1370.63 Z\" fill=\"#000000\" fill-rule=\"evenodd\" fill-opacity=\"1\" /><path clip-path=\"url(#clip220)\" d=\"M2196.45 1377.99 L2200.71 1377.99 L2200.71 1403.91 L2196.45 1403.91 L2196.45 1377.99 M2196.45 1367.9 L2200.71 1367.9 L2200.71 1373.29 L2196.45 1373.29 L2196.45 1367.9 Z\" fill=\"#000000\" fill-rule=\"evenodd\" fill-opacity=\"1\" /><path clip-path=\"url(#clip220)\" d=\"M2228.28 1378.98 L2228.28 1382.97 Q2226.47 1381.97 2224.65 1381.48 Q2222.84 1380.97 2220.99 1380.97 Q2216.84 1380.97 2214.55 1383.61 Q2212.26 1386.23 2212.26 1390.97 Q2212.26 1395.72 2214.55 1398.36 Q2216.84 1400.97 2220.99 1400.97 Q2222.84 1400.97 2224.65 1400.49 Q2226.47 1399.98 2228.28 1398.98 L2228.28 1402.92 Q2226.5 1403.75 2224.58 1404.17 Q2222.68 1404.59 2220.52 1404.59 Q2214.67 1404.59 2211.22 1400.91 Q2207.77 1397.22 2207.77 1390.97 Q2207.77 1384.63 2211.24 1381 Q2214.74 1377.36 2220.8 1377.36 Q2222.77 1377.36 2224.65 1377.78 Q2226.52 1378.17 2228.28 1378.98 Z\" fill=\"#000000\" fill-rule=\"evenodd\" fill-opacity=\"1\" /></svg>\n"
      ]
     },
     "execution_count": 3,
     "metadata": {},
     "output_type": "execute_result"
    }
   ],
   "source": [
    "p = x -> p₀ + p₁*x + p₂*x^2\n",
    "\n",
    "scatter(x, f; label=\"samples\", legend=:bottomright)\n",
    "plot!(x, p.(x); label=\"quadratic\")"
   ]
  },
  {
   "cell_type": "markdown",
   "metadata": {},
   "source": [
    "Note that `\\` with a rectangular system does least squares by default:"
   ]
  },
  {
   "cell_type": "code",
   "execution_count": 4,
   "metadata": {
    "execution": {
     "iopub.execute_input": "2022-02-01T11:38:28.254428Z",
     "iopub.status.busy": "2022-02-01T11:38:28.253527Z",
     "iopub.status.idle": "2022-02-01T11:38:28.257595Z",
     "shell.execute_reply": "2022-02-01T11:38:28.256739Z"
    }
   },
   "outputs": [
    {
     "data": {
      "text/plain": [
       "3-element Vector{Float64}:\n",
       " 2.002082373094645\n",
       " 1.0164297831971287\n",
       " 1.9480305651560528"
      ]
     },
     "execution_count": 4,
     "metadata": {},
     "output_type": "execute_result"
    }
   ],
   "source": [
    "A \\ f"
   ]
  },
  {
   "cell_type": "markdown",
   "metadata": {},
   "source": [
    "## 2. Reduced QR and Gram–Schmidt\n",
    "\n",
    "\n",
    "How do we compute the QR decomposition? We begin with a method\n",
    "you may have seen before in another guise. Write\n",
    "$$\n",
    "A = \\begin{bmatrix} 𝐚_1 | \\dots | 𝐚_n \\end{bmatrix}\n",
    "$$\n",
    "where $𝐚_k \\in  ℝ^m$ and assume they are linearly independent ($A$ has full column rank).\n",
    "Note that the column span of the first $j$ columns of $A$\n",
    "will be the same as the first $j$ columns of $Q̂$, as\n",
    "$R̂$ must be non-singular:\n",
    "$$\n",
    "\\hbox{span}(𝐚_1,\\ldots,𝐚_j) = \\hbox{span}(𝐪_1,\\ldots,𝐪_j)\n",
    "$$\n",
    "In other words: the columns of $Q̂$ are an orthogonal basis\n",
    "of the column span of $A$.\n",
    "To see this note that since `R̂` is triangular we have\n",
    "$$\n",
    "\\begin{bmatrix} 𝐚_1 | \\dots | 𝐚_j \\end{bmatrix} = \\begin{bmatrix} 𝐪_1 | \\dots | 𝐪_j \\end{bmatrix}  R̂[1:j,1:j]\n",
    "$$\n",
    "for all $j$. That is, if $𝐯 ∈ \\hbox{span}(𝐚_1,\\ldots,𝐚_j)$ we have for $𝐜 ∈ ℝ^j$\n",
    "$$\n",
    "𝐯 = \\begin{bmatrix} 𝐚_1 | \\dots | 𝐚_j \\end{bmatrix} 𝐜 = \\begin{bmatrix} 𝐪_1 | \\dots | 𝐪_j \\end{bmatrix}  R̂[1:j,1:j] 𝐜 ∈ \\hbox{span}(𝐪_1,\\ldots,𝐪_j)\n",
    "$$\n",
    " while if $𝐰 ∈ \\hbox{span}(𝐪_1,\\ldots,𝐪_j)$ we have for $𝐝 ∈ ℝ^j$\n",
    "$$\n",
    "𝐰 = \\begin{bmatrix} 𝐪_1 | \\dots | 𝐪_j \\end{bmatrix} 𝐝  =  \\begin{bmatrix} 𝐚_1 | \\dots | 𝐚_j \\end{bmatrix} R̂[1:j,1:j]^{-1} 𝐝 ∈  \\hbox{span}(𝐚_1,\\ldots,𝐚_j).\n",
    "$$\n",
    "\n",
    " \n",
    "It is possible to find an orthogonal basis using the _Gram–Schmidt algorithm_,\n",
    "We construct it via induction:\n",
    "assume that\n",
    "$$\n",
    "\\hbox{span}(𝐚_1,\\ldots,𝐚_{j-1}) = \\hbox{span}(𝐪_1,\\ldots,𝐪_{j-1})\n",
    "$$\n",
    "where $𝐪_1,\\ldots,𝐪_{j-1}$ are orthogonal:\n",
    "$$\n",
    "𝐪_k^\\top 𝐪_ℓ = δ_{kℓ} = \\begin{cases} 1 & k = ℓ \\\\\n",
    "                                            0 & \\hbox{otherwise} \\end{cases}.\n",
    "$$\n",
    "for $k,ℓ < j$.\n",
    "Define\n",
    "$$\n",
    "𝐯_j := 𝐚_j - \\sum_{k=1}^{j-1} \\underbrace{𝐪_k^\\top 𝐚_j}_{r_{kj}} 𝐪_k\n",
    "$$\n",
    "so that for $k < j$\n",
    "$$\n",
    "𝐪_k^\\top 𝐯_j = 𝐪_k^\\top 𝐚_j - \\sum_{k=1}^{j-1} \\underbrace{𝐪_k^\\top 𝐚_j}_{r_{kj}} 𝐪_k^\\top 𝐪_k = 0.\n",
    "$$\n",
    "Then we define\n",
    "$$\n",
    "𝐪_j := {𝐯_j \\over \\|𝐯_j\\|}.\n",
    "$$\n",
    "which sastisfies $𝐪_k^\\top 𝐪_j =δ_{kj}$ for $k \\leq j$.\n",
    "\n",
    "We now reinterpret this construction as a reduced QR decomposition.\n",
    "Define\n",
    "$\n",
    "r_{jj} := {\\|𝐯_j\\|}\n",
    "$\n",
    "Then rearrange the definition we have\n",
    "$$\n",
    "𝐚_j = \\begin{bmatrix} 𝐪_1|\\cdots|𝐪_j \\end{bmatrix} \\begin{bmatrix} r_{1j} \\\\ ⋮ \\\\ r_{jj} \\end{bmatrix}\n",
    "$$\n",
    "Thus\n",
    "$$\n",
    "\\begin{bmatrix} 𝐚_1|\\cdots|𝐚_j \\end{bmatrix} \n",
    "\\begin{bmatrix} r_{11} & \\cdots & r_{1j} \\\\ & ⋱ & ⋮ \\\\ && r_{jj} \\end{bmatrix}\n",
    "$$\n",
    "That is, we are computing the reduced QR decomposition column-by-column. \n",
    "Running this algorithm to $j = n$ completes the decomposition.\n",
    "\n",
    "### Gram–Schmidt in action\n",
    "\n",
    "We are going to compute the reduced QR of a random matrix"
   ]
  },
  {
   "cell_type": "code",
   "execution_count": 5,
   "metadata": {
    "execution": {
     "iopub.execute_input": "2022-02-01T11:38:28.259799Z",
     "iopub.status.busy": "2022-02-01T11:38:28.259246Z",
     "iopub.status.idle": "2022-02-01T11:38:28.755222Z",
     "shell.execute_reply": "2022-02-01T11:38:28.754805Z"
    }
   },
   "outputs": [
    {
     "data": {
      "text/plain": [
       "5×4 Matrix{Float64}:\n",
       " -0.640643   -0.0823157  -0.22609     0.728861\n",
       " -0.0996754  -0.285725    0.575686    0.0805714\n",
       "  0.490733   -0.793914   -0.166541    0.285984\n",
       " -0.580068   -0.530002   -0.0540479  -0.591485\n",
       " -0.0484121  -0.0195648   0.766036    0.175009"
      ]
     },
     "execution_count": 5,
     "metadata": {},
     "output_type": "execute_result"
    }
   ],
   "source": [
    "m,n = 5,4\n",
    "A = randn(m,n)\n",
    "Q,R̂ = qr(A)\n",
    "Q̂ = Q[:,1:n]"
   ]
  },
  {
   "cell_type": "markdown",
   "metadata": {},
   "source": [
    "The first column of `Q̂` is indeed a normalised first column of `A`:"
   ]
  },
  {
   "cell_type": "code",
   "execution_count": 6,
   "metadata": {
    "execution": {
     "iopub.execute_input": "2022-02-01T11:38:28.757539Z",
     "iopub.status.busy": "2022-02-01T11:38:28.757011Z",
     "iopub.status.idle": "2022-02-01T11:38:28.928212Z",
     "shell.execute_reply": "2022-02-01T11:38:28.927782Z"
    }
   },
   "outputs": [
    {
     "data": {
      "text/plain": [
       "5-element Vector{Float64}:\n",
       " -0.6406428105326175\n",
       " -0.09967542686075603\n",
       "  0.49073256021653416\n",
       " -0.5800684602848314\n",
       " -0.04841212987574009"
      ]
     },
     "execution_count": 6,
     "metadata": {},
     "output_type": "execute_result"
    }
   ],
   "source": [
    "R = zeros(n,n)\n",
    "Q = zeros(m,n)\n",
    "R[1,1] = norm(A[:,1])\n",
    "Q[:,1] = A[:,1]/R[1,1]"
   ]
  },
  {
   "cell_type": "markdown",
   "metadata": {},
   "source": [
    "We now determine the next entries as"
   ]
  },
  {
   "cell_type": "code",
   "execution_count": 7,
   "metadata": {
    "execution": {
     "iopub.execute_input": "2022-02-01T11:38:28.930016Z",
     "iopub.status.busy": "2022-02-01T11:38:28.929528Z",
     "iopub.status.idle": "2022-02-01T11:38:29.025332Z",
     "shell.execute_reply": "2022-02-01T11:38:29.024892Z"
    }
   },
   "outputs": [
    {
     "data": {
      "text/plain": [
       "5-element Vector{Float64}:\n",
       " -0.08231573808619484\n",
       " -0.2857251402909879\n",
       " -0.7939143184765172\n",
       " -0.5300023946604269\n",
       " -0.01956476529889328"
      ]
     },
     "execution_count": 7,
     "metadata": {},
     "output_type": "execute_result"
    }
   ],
   "source": [
    "R[1,2] = Q[:,1]'A[:,2]\n",
    "v = A[:,2] - Q[:,1]*R[1,2]\n",
    "R[2,2] = norm(v)\n",
    "Q[:,2] = v/R[2,2]"
   ]
  },
  {
   "cell_type": "markdown",
   "metadata": {},
   "source": [
    "And the third column is then:"
   ]
  },
  {
   "cell_type": "code",
   "execution_count": 8,
   "metadata": {
    "execution": {
     "iopub.execute_input": "2022-02-01T11:38:29.027262Z",
     "iopub.status.busy": "2022-02-01T11:38:29.026734Z",
     "iopub.status.idle": "2022-02-01T11:38:29.078575Z",
     "shell.execute_reply": "2022-02-01T11:38:29.078201Z"
    }
   },
   "outputs": [
    {
     "data": {
      "text/plain": [
       "5-element Vector{Float64}:\n",
       "  0.22608968882009056\n",
       " -0.575686495796397\n",
       "  0.16654081939416812\n",
       "  0.05404794982633636\n",
       " -0.7660362170041234"
      ]
     },
     "execution_count": 8,
     "metadata": {},
     "output_type": "execute_result"
    }
   ],
   "source": [
    "R[1,3] = Q[:,1]'A[:,3]\n",
    "R[2,3] = Q[:,2]'A[:,3]\n",
    "v = A[:,3] - Q[:,1:2]*R[1:2,3]\n",
    "R[3,3] = norm(v)\n",
    "Q[:,3] = v/R[3,3]"
   ]
  },
  {
   "cell_type": "markdown",
   "metadata": {},
   "source": [
    "(Note the signs may not necessarily match.)\n",
    "\n",
    "We can clean this up as a simple algorithm:"
   ]
  },
  {
   "cell_type": "code",
   "execution_count": 9,
   "metadata": {
    "execution": {
     "iopub.execute_input": "2022-02-01T11:38:29.080675Z",
     "iopub.status.busy": "2022-02-01T11:38:29.080067Z",
     "iopub.status.idle": "2022-02-01T11:38:30.117439Z",
     "shell.execute_reply": "2022-02-01T11:38:30.116914Z"
    }
   },
   "outputs": [
    {
     "data": {
      "text/plain": [
       "2.4873781269328544e-16"
      ]
     },
     "execution_count": 9,
     "metadata": {},
     "output_type": "execute_result"
    }
   ],
   "source": [
    "function gramschmidt(A)\n",
    "    m,n = size(A)\n",
    "    m ≥ n || error(\"Not supported\")\n",
    "    R = zeros(n,n)\n",
    "    Q = zeros(m,n)\n",
    "    for j = 1:n\n",
    "        for k = 1:j-1\n",
    "            R[k,j] = Q[:,k]'*A[:,j]\n",
    "        end\n",
    "        v = A[:,j] - Q[:,1:j-1]*R[1:j-1,j]\n",
    "        R[j,j] = norm(v)\n",
    "        Q[:,j] = v/R[j,j]\n",
    "    end\n",
    "    Q,R\n",
    "end\n",
    "\n",
    "Q,R = gramschmidt(A)\n",
    "norm(A - Q*R)"
   ]
  },
  {
   "cell_type": "markdown",
   "metadata": {},
   "source": [
    "### Complexity and stability\n",
    "\n",
    "We see within the `for j = 1:n` loop that we have $O(mj)$ operations. Thus the \n",
    "total complexity is $O(m n^2)$ operations.\n",
    "\n",
    "\n",
    "Unfortunately, the Gram–Schmidt algorithm is _unstable_: the rounding errors when implemented in floating point\n",
    "accumulate in a way that we lose orthogonality:"
   ]
  },
  {
   "cell_type": "code",
   "execution_count": 10,
   "metadata": {
    "execution": {
     "iopub.execute_input": "2022-02-01T11:38:30.119784Z",
     "iopub.status.busy": "2022-02-01T11:38:30.119059Z",
     "iopub.status.idle": "2022-02-01T11:38:30.406698Z",
     "shell.execute_reply": "2022-02-01T11:38:30.406291Z"
    }
   },
   "outputs": [
    {
     "data": {
      "text/plain": [
       "3.5531891494246798e-12"
      ]
     },
     "execution_count": 10,
     "metadata": {},
     "output_type": "execute_result"
    }
   ],
   "source": [
    "A = randn(300,300)\n",
    "Q,R = gramschmidt(A)\n",
    "norm(Q'Q-I)"
   ]
  },
  {
   "cell_type": "markdown",
   "metadata": {},
   "source": [
    "## 3. Householder reflections and QR\n",
    "\n",
    "As an alternative, we will consider using Householder reflections to introduce zeros below\n",
    "the diagonal.\n",
    "Thus, if Gram–Schmidt is a process of _triangular orthogonalisation_ (using triangular matrices\n",
    "to orthogonalise), Householder reflections is a process of _orthogonal triangularisation_ \n",
    "(using orthogonal matrices to triangularise).\n",
    "\n",
    "Consider multiplication by the Householder reflection corresponding to the first column,\n",
    "that is, for\n",
    "$$\n",
    "Q_1 := Q_{𝐚_1}^{\\rm H},\n",
    "$$\n",
    "consider\n",
    "$$\n",
    "Q_1 A = \\begin{bmatrix} \\times & \\times & \\cdots & \\times \\\\\n",
    "& \\times & \\cdots & \\times \\\\\n",
    "                    & ⋮ & ⋱ & ⋮ \\\\\n",
    "                    & \\times & \\cdots & \\times \\end{bmatrix} = \n",
    "\\begin{bmatrix} r_{11} & r_{12} & \\cdots & r_{1n} \\\\ \n",
    "& 𝐚_2^1 & \\cdots & 𝐚_n^1   \\end{bmatrix}\n",
    "$$\n",
    "where \n",
    "$$\n",
    "r_{1j} :=  (Q_1 𝐚_j)[1] \\qquad \\hbox{and} \\qquad 𝐚_j^1 := (Q_1 𝐚_j)[2:m],\n",
    "$$\n",
    "noting $r_{11} = -\\hbox{sign}(a_{11})\\|𝐚_1\\|$ and all entries of $𝐚_1^1$ are zero (thus not included).\n",
    "That is, we have made the first column triangular.\n",
    "\n",
    "But now consider\n",
    "$$\n",
    "Q_2 := \\begin{bmatrix} 1  \\\\ & Q_{𝐚_2^1}^{\\rm H} \\end{bmatrix} = Q_{\\begin{bmatrix} 0 \\\\ 𝐚_2^1 \\end{bmatrix}}^H\n",
    "$$\n",
    "so that\n",
    "$$\n",
    "Q_2 Q_1A = \\begin{bmatrix} \\times & \\times & \\times & \\cdots & \\times \\\\\n",
    "& \\times & \\times  & \\cdots & \\times \\\\\n",
    "                    && ⋮ & ⋱ & ⋮ \\\\\n",
    "                    && \\times & \\cdots & \\times \\end{bmatrix}  =  \\begin{bmatrix} r_{11} & r_{12} & r_{13} & \\cdots & r_{1n} \\\\ \n",
    "    & r_{22} & r_{23} & \\cdots & r_{2n} \\\\\n",
    "&& 𝐚_3^2 & \\cdots & 𝐚_n^2   \\end{bmatrix}\n",
    "$$\n",
    "where \n",
    "$$\n",
    "r_{2j} :=  (Q_2 𝐚_j^1)[1] \\qquad \\hbox{and} \\qquad 𝐚_j^2 := (Q_2 𝐚_j^1)[2:m-1]\n",
    "$$\n",
    "Thus the first two columns are triangular. \n",
    "\n",
    "The inductive construction is thus clear. If we define $𝐚_j^0 := 𝐚_j$ we\n",
    "have the construction\n",
    "$$\n",
    "\\begin{align*}\n",
    "Q_j &:= \\begin{bmatrix} I_{j-1 \\times j-1}  \\\\ & Q_{𝐚_j^j}^{±,\\rm H} \\end{bmatrix} \\\\\n",
    "𝐚_j^k &:= (Q_k 𝐚_j^{k-1})[2:m-k+1] \\\\\n",
    "r_{kj} &:= (Q_k 𝐚_j^{k-1})[1]\n",
    "\\end{align*}\n",
    "$$\n",
    "Then\n",
    "$$\n",
    "Q_n \\cdots Q_1 A = \\underbrace{\\begin{bmatrix} \n",
    "r_{11} & \\cdots & r_{1n} \\\\ & ⋱ & ⋮\\\\\n",
    "                                        && r_{nn} \\\\&& 0 \\\\ && ⋮ \\\\ && 0 \\end{bmatrix}}_R\n",
    "$$\n",
    "i.e.\n",
    "$$\n",
    "A = \\underbrace{Q_n \\cdots Q_1}_Q R.\n",
    "$$\n",
    "\n",
    "The implementation is cleaner. We do a naive implementation here:"
   ]
  },
  {
   "cell_type": "code",
   "execution_count": 11,
   "metadata": {
    "execution": {
     "iopub.execute_input": "2022-02-01T11:38:30.408538Z",
     "iopub.status.busy": "2022-02-01T11:38:30.407979Z",
     "iopub.status.idle": "2022-02-01T11:38:30.862571Z",
     "shell.execute_reply": "2022-02-01T11:38:30.862188Z"
    }
   },
   "outputs": [
    {
     "data": {
      "text/plain": [
       "true"
      ]
     },
     "execution_count": 11,
     "metadata": {},
     "output_type": "execute_result"
    }
   ],
   "source": [
    "function householderreflection(x)\n",
    "    y = copy(x)\n",
    "    # we cannot use sign(x[1]) in case x[1] == 0\n",
    "    y[1] += (x[1] ≥ 0 ? 1 : -1)*norm(x) \n",
    "    w = y/norm(y)\n",
    "    I - 2*w*w'\n",
    "end\n",
    "function householderqr(A)\n",
    "    m,n = size(A)\n",
    "    R = copy(A)\n",
    "    Q = Matrix(1.0I, m, m)\n",
    "    for j = 1:n\n",
    "        Qⱼ = householderreflection(R[j:end,j])\n",
    "        R[j:end,:] = Qⱼ*R[j:end,:]\n",
    "        Q[:,j:end] = Q[:,j:end]*Qⱼ\n",
    "    end\n",
    "    Q,R\n",
    "end\n",
    "\n",
    "m,n = 7,5\n",
    "A = randn(m, n)\n",
    "Q,R = householderqr(A)\n",
    "Q*R ≈ A"
   ]
  },
  {
   "cell_type": "markdown",
   "metadata": {},
   "source": [
    "Note because we are forming a full matrix representation of each Householder\n",
    "reflection this is a slow algorithm, taking $O(n^4)$ operations. The problem sheet\n",
    "will consider a better implementation that takes $O(n^3)$ operations.\n",
    "\n",
    "\n",
    "**Example** We will now do an example by hand. Consider the $4 \\times 3$ matrix\n",
    "$$\n",
    "A = \\begin{bmatrix} \n",
    "1 & 2 & -1 \\\\ \n",
    "0 & 15 & 18 \\\\\n",
    "-2 & -4 & -4 \\\\\n",
    "-2 & -4 & -10\n",
    "\\end{bmatrix}\n",
    "$$\n",
    "For the first column we have\n",
    "$$\n",
    "Q_1 = I - {1 \\over 12} \\begin{bmatrix} 4 \\\\ 0 \\\\ -2 \\\\ -2 \\end{bmatrix} \\begin{bmatrix} 4 & 0 & -2 & -2 \\end{bmatrix} =\n",
    "{1 \\over 3} \\begin{bmatrix}\n",
    "-1 & 0 & 2 & 2 \\\\\n",
    "0 & 3 & 0 & 0 \\\\\n",
    "2 & 0 & 2 & -1 \\\\\n",
    "2 & 0 & -1 &2\n",
    "\\end{bmatrix}\n",
    "$$\n",
    "so that\n",
    "$$\n",
    "Q_1 A = \\begin{bmatrix} -3 & -6 & -9 \\\\\n",
    " & 15 & 18 \\\\\n",
    "  & 0 & 0 \\\\\n",
    "& 0 & -6\n",
    "\\end{bmatrix}\n",
    "$$\n",
    "In this example the next column is already upper-triangular,\n",
    "but because of our choice of reflection we will end up swapping the sign, that is\n",
    "$$\n",
    "Q_2 = \\begin{bmatrix} 1 \\\\ & -1 \\\\ && 1 \\\\ &&& 1 \\end{bmatrix}\n",
    "$$\n",
    "so that\n",
    "$$\n",
    "Q_2 Q_1 A = \\begin{bmatrix} -3 & -6 & -9 \\\\\n",
    " & -15 & -18 \\\\\n",
    "  & 0 & 0 \\\\\n",
    "& 0 & -6\n",
    "\\end{bmatrix}\n",
    "$$\n",
    "The final reflection is\n",
    "$$\n",
    "Q_3 = \\begin{bmatrix} I_{2 \\times 2} \\\\ &  I - \\begin{bmatrix} 1 \\\\ -1 \\end{bmatrix} \\begin{bmatrix} 1 & -1 \\end{bmatrix} \n",
    "\\end{bmatrix} = \\begin{bmatrix} å1 \\\\ & 1 \\\\ & & 0 & 1 \\\\ & & 1 & 0 \\end{bmatrix}\n",
    "$$\n",
    "giving us\n",
    "$$\n",
    "Q_3 Q_2 Q_1 A = \\underbrace{\\begin{bmatrix} -3 & -6 & -9 \\\\\n",
    " & -15 & -18 \\\\\n",
    "  &  & -6 \\\\\n",
    "&  & 0\n",
    "\\end{bmatrix}}_R\n",
    "$$\n",
    "That is,\n",
    "$$\n",
    "A = Q_1 Q_2 Q_3 R = \\underbrace{{1 \\over 3} \\begin{bmatrix}\n",
    "-1 & 0 & 2 & 2 \\\\\n",
    "0 & 3 & 0 & 0 \\\\\n",
    "2 & 0 & -1 & 2 \\\\\n",
    "2 & 0 & 2 &-1\n",
    "\\end{bmatrix}}_Q \\underbrace{\\begin{bmatrix} -3 & -6 & -9 \\\\\n",
    " & -15 & -18 \\\\\n",
    "  &  & -6 \\\\\n",
    "&  & 0\n",
    "\\end{bmatrix}}_R = \\underbrace{{1 \\over 3} \\begin{bmatrix}\n",
    "-1 & 0 & 2  \\\\\n",
    "0 & 3 & 0  \\\\\n",
    "2 & 0 & -1  \\\\\n",
    "2 & 0 & 2 \n",
    "\\end{bmatrix}}_Q̂  \\underbrace{\\begin{bmatrix} -3 & -6 & -9 \\\\\n",
    " & -15 & -18 \\\\\n",
    "  &  & -6 \n",
    "\\end{bmatrix}}_R̂\n",
    "$$\n",
    "\n",
    "\n",
    "\n",
    "## 2. PLU Decomposition\n",
    "\n",
    "Just as Gram–Schmidt can be reinterpreted as a reduced QR decomposition,\n",
    "Gaussian elimination with pivoting can be interpreted as a PLU decomposition.\n",
    "\n",
    "\n",
    "### Special \"one-column\" lower triangular matrices\n",
    "\n",
    "\n",
    "Consider the following set of $n × n$ lower triangular\n",
    "matrices which equals identity apart from one-column:\n",
    "$$\n",
    "{\\cal L}_j := \\left\\{I + \\begin{bmatrix} 𝟎_j \\\\ 𝐥_j \\end{bmatrix} 𝐞_j^⊤ : 𝐥_j ∈ ℝ^{n-j} \\right\\}\n",
    "$$\n",
    "where  $𝟎_j$ denotes the zero vector of length $j$. \n",
    "That is, if $L_j ∈ {\\cal L}_j$ then it is equal to the identity matrix apart from in the $j$ th column:\n",
    "$$\n",
    "L_j = \\begin{bmatrix}\n",
    "        1 \\\\ & {⋱} \\\\ && 1 \\\\\n",
    "                    && ℓ_{j+1,j} & 1 \\\\\n",
    "                    && ⋮ && \\dots \\\\\n",
    "                    && ℓ_{n,j} & & & 1 \\end{bmatrix} = \n",
    "$$\n",
    "\n",
    "These satisify the following special properties:\n",
    "\n",
    "**Proposition (one-column lower triangular inverse)**\n",
    "If $L_j \\in {\\cal L}_j$ then\n",
    "$$\n",
    "L_j^{-1}  = I - \\begin{bmatrix} 𝟎_j \\\\ 𝐥_j \\end{bmatrix} 𝐞_j^⊤ = \\begin{bmatrix}\n",
    "        1 \\\\ & ⋱ \\\\ && 1 \\\\\n",
    "                    &&-ℓ_{j+1,j} & 1 \\\\\n",
    "                    &&⋮ && \\dots \\\\\n",
    "                    &&-ℓ_{n,j} & & & 1 \\end{bmatrix} ∈ {\\cal L}_j.\n",
    "$$\n",
    "\n",
    "\n",
    "**Proposition (one-column lower triangular multiplication)**\n",
    "If $L_j \\in {\\cal L}_j$ and $L_k \\in {\\cal L}_k$ for $k ≥ j$ then\n",
    "$$\n",
    "L_j L_k =  I + \\begin{bmatrix} 𝟎_j \\\\ 𝐥_j \\end{bmatrix} 𝐞_j^⊤ +  \\begin{bmatrix} 𝟎_k \\\\ 𝐥_k \\end{bmatrix} 𝐞_k^⊤\n",
    "$$\n",
    "\n",
    "\n",
    "**Lemma (one-column lower triangular with pivoting)**\n",
    "If $σ$ is a permutation that leaves the first $j$\n",
    "rows fixed (that is, $σ_ℓ = ℓ$ for $ℓ ≤ j$) and $L_j ∈ {\\cal L}_j$ then\n",
    "$$\n",
    "P_σ L_j=  \\tilde L_j P_σ\n",
    "$$\n",
    "where $\\tilde L_j ∈ {\\cal L}_j$.\n",
    "\n",
    "**Proof**\n",
    "Write\n",
    "$$\n",
    "P_σ = \\begin{bmatrix} I_j \\\\ & P_τ \\end{bmatrix}\n",
    "$$\n",
    "where $τ$ is the permutation with Cauchy notation\n",
    "$$\n",
    "\\begin{pmatrix}\n",
    "1 & \\cdots & n-j \\\\\n",
    "σ_{j+1}-j & ⋯ & σ_n-j\n",
    "\\end{pmatrix}\n",
    "$$\n",
    "Then we have\n",
    "$$\n",
    "P_σ L_j = P_σ + \\begin{bmatrix} 𝟎_j \\\\ P_τ 𝐥_j \\end{bmatrix} 𝐞_j^⊤ =\n",
    "\\underbrace{(I +  \\begin{bmatrix} 𝟎_j \\\\ P_τ 𝐥_j \\end{bmatrix} 𝐞_j^⊤)}_{\\tilde L_j} P_σ\n",
    "$$\n",
    "noting that $𝐞_j^⊤ P_σ = 𝐞_j^⊤$ (as $σ_j = j$). \n",
    "∎\n",
    "\n",
    "\n",
    "### LU Decomposition\n",
    "\n",
    "Before discussing pivoting, consider standard Gaussian elimation where one row-reduces\n",
    "to introduce zeros column-by-column. We will mimick the computation of the QR decomposition\n",
    "to view this as a _triangular triangularisation_.\n",
    "\n",
    "\n",
    "Consider the matrix\n",
    "$$\n",
    "L_1 = \\begin{bmatrix} 1 \\\\ -{a_{21} \\over a_{11}} & 1 \\\\ ⋮ &&⋱ \\\\\n",
    "                -{a_{n1} \\over a_{11}}  &&& 1\n",
    "                \\end{bmatrix} = I - \\begin{bmatrix} 0 \\\\ {𝐚_1[2:n] \\over 𝐚_1[1]} \\end{bmatrix}  𝐞_1^\\top.\n",
    "$$\n",
    "We then have\n",
    "$$\n",
    "L_1 A =  \\begin{bmatrix} u_{11} & u_{12} & \\cdots & u_{1n} \\\\ \n",
    "& 𝐚_2^1 & \\cdots & 𝐚_n^1   \\end{bmatrix}\n",
    "$$\n",
    "where $𝐚_j^1 := (L_1 𝐚_j)[2:n]$ and $u_{1j} = a_{1j}$. But now consider\n",
    "$$\n",
    "L_2 := I - \\begin{bmatrix} 0 \\\\ {𝐚_2^1[2:n-1] \\over 𝐚_2^1[1]} \\end{bmatrix}  𝐞_1^\\top.\n",
    "$$\n",
    "Then\n",
    "$$\n",
    "L_2 L_1 A = \\begin{bmatrix} u_{11} & u_{12} & u_{13} & \\cdots & u_{1n} \\\\ \n",
    "    & u_{22} & u_{23} & \\cdots & u_{2n} \\\\\n",
    "&& 𝐚_3^2 & \\cdots & 𝐚_n^2   \\end{bmatrix}\n",
    "$$\n",
    "where \n",
    "$$\n",
    "u_{2j} :=  (𝐚_j^1)[1] \\qquad \\hbox{and} \\qquad 𝐚_j^2 := (L_2 𝐚_j^1)[2:n-1]\n",
    "$$\n",
    "Thus the first two columns are triangular. \n",
    "\n",
    "The inductive construction is again clear. If we define $𝐚_j^0 := 𝐚_j$ we\n",
    "have the construction\n",
    "$$\n",
    "\\begin{align*}\n",
    "L_j &:= I + \\begin{bmatrix} 𝟎_j \\\\ {𝐚_{j+1}^j[2:n-j] \\over 𝐚_{j+1}^j[1]} \\end{bmatrix} 𝐞_j^⊤ \\\\\n",
    "𝐚_j^k &:= (L_k 𝐚_j^{k-1})[2:n-k+1]\n",
    " \\\\\n",
    "u_{kj} &:= (L_k 𝐚_j^{k-1})[1]\n",
    "\\end{align*}\n",
    "$$\n",
    "Then\n",
    "$$\n",
    "L_{n-1} \\cdots L_1 A = \\underbrace{\\begin{bmatrix} \n",
    "u_{11} & \\cdots & u_{1n} \\\\ & ⋱ & ⋮\\\\\n",
    "                                        && u_{nn}\\end{bmatrix}}_U\n",
    "$$\n",
    "i.e.\n",
    "$$\n",
    "A = \\underbrace{L_{n-1}^{-1} \\cdots L_1^{-1}}_L U.\n",
    "$$\n",
    "\n",
    "Writing\n",
    "$$\n",
    "L_j = I + \\begin{bmatrix} 𝟎_j \\\\ \\ell_{j+1,j} \\\\ ⋮ \\\\ \\ell_{n,j} \\end{bmatrix} 𝐞_j^\\top\n",
    "$$\n",
    "and using the properties of inversion and multiplication we therefore deduce\n",
    "$$\n",
    "L = \\begin{bmatrix} 1 \\\\ -\\ell_{21} & 1 \\\\\n",
    "-\\ell_{31} & -\\ell_{32} & 1 \\\\\n",
    " ⋮ & ⋮ & ⋱ & ⋱ \\\\\n",
    "    -\\ell_{n1} & -\\ell_{n2} & \\cdots & -\\ell_{n,n-1} & 1\n",
    "    \\end{bmatrix}\n",
    "$$\n",
    "\n",
    "\n",
    "\n",
    "\n",
    "**Example (computer)**\n",
    "We will do a numerical example (by-hand is equivalent to Gaussian elimination).\n",
    "The first lower triangular matrix is:"
   ]
  },
  {
   "cell_type": "code",
   "execution_count": 12,
   "metadata": {
    "execution": {
     "iopub.execute_input": "2022-02-01T11:38:30.864546Z",
     "iopub.status.busy": "2022-02-01T11:38:30.864055Z",
     "iopub.status.idle": "2022-02-01T11:38:31.171096Z",
     "shell.execute_reply": "2022-02-01T11:38:31.170650Z"
    }
   },
   "outputs": [
    {
     "data": {
      "text/plain": [
       "4×4 Matrix{Float64}:\n",
       "  1.0        -0.0  -0.0  -0.0\n",
       "  1.15995     1.0  -0.0  -0.0\n",
       " -0.0724294  -0.0   1.0  -0.0\n",
       "  0.400929   -0.0  -0.0   1.0"
      ]
     },
     "execution_count": 12,
     "metadata": {},
     "output_type": "execute_result"
    }
   ],
   "source": [
    "n = 4\n",
    "A = randn(n,n)\n",
    "L₁ = I -[0; A[2:end,1]/A[1,1]] * [1 zeros(1,n-1)]"
   ]
  },
  {
   "cell_type": "markdown",
   "metadata": {},
   "source": [
    "Which indeed introduces zeros in the first column:"
   ]
  },
  {
   "cell_type": "code",
   "execution_count": 13,
   "metadata": {
    "execution": {
     "iopub.execute_input": "2022-02-01T11:38:31.173012Z",
     "iopub.status.busy": "2022-02-01T11:38:31.172524Z",
     "iopub.status.idle": "2022-02-01T11:38:31.175428Z",
     "shell.execute_reply": "2022-02-01T11:38:31.174891Z"
    }
   },
   "outputs": [
    {
     "data": {
      "text/plain": [
       "4×4 Matrix{Float64}:\n",
       "  1.16946      -1.77156     1.27168  -0.519889\n",
       "  0.0          -0.528188    1.18052  -0.312403\n",
       "  0.0          -0.00625178  1.14613  -0.195066\n",
       " -5.55112e-17  -0.57422     1.64806  -0.917347"
      ]
     },
     "execution_count": 13,
     "metadata": {},
     "output_type": "execute_result"
    }
   ],
   "source": [
    "A₁ = L₁*A"
   ]
  },
  {
   "cell_type": "markdown",
   "metadata": {},
   "source": [
    "Now we make the next lower triangular operator:"
   ]
  },
  {
   "cell_type": "code",
   "execution_count": 14,
   "metadata": {
    "execution": {
     "iopub.execute_input": "2022-02-01T11:38:31.177552Z",
     "iopub.status.busy": "2022-02-01T11:38:31.176956Z",
     "iopub.status.idle": "2022-02-01T11:38:31.266815Z",
     "shell.execute_reply": "2022-02-01T11:38:31.266352Z"
    }
   },
   "outputs": [
    {
     "data": {
      "text/plain": [
       "4×4 Matrix{Float64}:\n",
       "  1.0  -0.0        -0.0  -0.0\n",
       " -0.0   1.0        -0.0  -0.0\n",
       " -0.0  -0.0118363   1.0  -0.0\n",
       " -0.0  -1.08715    -0.0   1.0"
      ]
     },
     "execution_count": 14,
     "metadata": {},
     "output_type": "execute_result"
    }
   ],
   "source": [
    "L₂ = I - [0; 0; A₁[3:end,2]/A₁[2,2]] * [0 1 zeros(1,n-2)]"
   ]
  },
  {
   "cell_type": "markdown",
   "metadata": {},
   "source": [
    "So that"
   ]
  },
  {
   "cell_type": "code",
   "execution_count": 15,
   "metadata": {
    "execution": {
     "iopub.execute_input": "2022-02-01T11:38:31.269302Z",
     "iopub.status.busy": "2022-02-01T11:38:31.268573Z",
     "iopub.status.idle": "2022-02-01T11:38:31.280238Z",
     "shell.execute_reply": "2022-02-01T11:38:31.279722Z"
    }
   },
   "outputs": [
    {
     "data": {
      "text/plain": [
       "4×4 Matrix{Float64}:\n",
       "  1.16946      -1.77156      1.27168   -0.519889\n",
       "  0.0          -0.528188     1.18052   -0.312403\n",
       "  0.0           0.0          1.13216   -0.191368\n",
       " -5.55112e-17  -5.55112e-17  0.364656  -0.577719"
      ]
     },
     "execution_count": 15,
     "metadata": {},
     "output_type": "execute_result"
    }
   ],
   "source": [
    "A₂ = L₂*L₁*A"
   ]
  },
  {
   "cell_type": "markdown",
   "metadata": {},
   "source": [
    "The last one is:"
   ]
  },
  {
   "cell_type": "code",
   "execution_count": 16,
   "metadata": {
    "execution": {
     "iopub.execute_input": "2022-02-01T11:38:31.282140Z",
     "iopub.status.busy": "2022-02-01T11:38:31.281625Z",
     "iopub.status.idle": "2022-02-01T11:38:31.404177Z",
     "shell.execute_reply": "2022-02-01T11:38:31.403788Z"
    }
   },
   "outputs": [
    {
     "data": {
      "text/plain": [
       "4×4 Matrix{Float64}:\n",
       "  1.0  -0.0  -0.0       -0.0\n",
       " -0.0   1.0  -0.0       -0.0\n",
       " -0.0  -0.0   1.0       -0.0\n",
       " -0.0  -0.0  -0.322089   1.0"
      ]
     },
     "execution_count": 16,
     "metadata": {},
     "output_type": "execute_result"
    }
   ],
   "source": [
    "L₃ = I - [0; 0; 0; A₂[4:end,3]/A₂[3,3]] * [0 0 1 zeros(1,n-3)]"
   ]
  },
  {
   "cell_type": "markdown",
   "metadata": {},
   "source": [
    "Giving us"
   ]
  },
  {
   "cell_type": "code",
   "execution_count": 17,
   "metadata": {
    "execution": {
     "iopub.execute_input": "2022-02-01T11:38:31.406333Z",
     "iopub.status.busy": "2022-02-01T11:38:31.405767Z",
     "iopub.status.idle": "2022-02-01T11:38:31.432732Z",
     "shell.execute_reply": "2022-02-01T11:38:31.432326Z"
    }
   },
   "outputs": [
    {
     "data": {
      "text/plain": [
       "4×4 Matrix{Float64}:\n",
       "  1.16946      -1.77156      1.27168      -0.519889\n",
       "  0.0          -0.528188     1.18052      -0.312403\n",
       "  0.0           0.0          1.13216      -0.191368\n",
       " -5.55112e-17  -1.11022e-16  2.22045e-16  -0.516081"
      ]
     },
     "execution_count": 17,
     "metadata": {},
     "output_type": "execute_result"
    }
   ],
   "source": [
    "U = L₃*L₂*L₁*A"
   ]
  },
  {
   "cell_type": "markdown",
   "metadata": {},
   "source": [
    "and"
   ]
  },
  {
   "cell_type": "code",
   "execution_count": 18,
   "metadata": {
    "execution": {
     "iopub.execute_input": "2022-02-01T11:38:31.435279Z",
     "iopub.status.busy": "2022-02-01T11:38:31.434517Z",
     "iopub.status.idle": "2022-02-01T11:38:31.513363Z",
     "shell.execute_reply": "2022-02-01T11:38:31.512903Z"
    }
   },
   "outputs": [
    {
     "data": {
      "text/plain": [
       "4×4 Matrix{Float64}:\n",
       "  1.0        0.0        0.0       0.0\n",
       " -1.15995    1.0        0.0       0.0\n",
       "  0.0724294  0.0118363  1.0       0.0\n",
       " -0.400929   1.08715    0.322089  1.0"
      ]
     },
     "execution_count": 18,
     "metadata": {},
     "output_type": "execute_result"
    }
   ],
   "source": [
    "L = inv(L₁)*inv(L₂)*inv(L₃)"
   ]
  },
  {
   "cell_type": "markdown",
   "metadata": {},
   "source": [
    "Note how the entries of `L` are indeed identical to the negative\n",
    "lower entries of `L₁`, `L₂` and `L₃`.\n",
    "\n",
    "**Example (by-hand)**\n",
    "\n",
    "Consider the matrix\n",
    "$$\n",
    "A = \\begin{bmatrix} 1 & 1 & 1 \\\\\n",
    "                    2 & 4 & 8 \\\\\n",
    "                    1 & 4 & 9\n",
    "                    \\end{bmatrix}\n",
    "$$\n",
    "We have\n",
    "$$\n",
    "L_2 L_1 A = L_2 \\begin{bmatrix}1 \\\\ \n",
    "                        -2 & 1 \\\\ -1 &  & 1 \\end{bmatrix} \\begin{bmatrix} 1 & 1 & 1 \\\\\n",
    "                    2 & 4 & 8 \\\\\n",
    "                    1 & 4 & 9\n",
    "                    \\end{bmatrix}\n",
    "    = \\begin{bmatrix}1 \\\\ & 1\\\\ & -{3 \\over 2} & 1 \n",
    "    \\end{bmatrix} \\begin{bmatrix} 1 & 1 & 1 \\\\\n",
    "                         & 2 & 6 \\\\\n",
    "                         & 3 & 8 \\end{bmatrix}\n",
    "    = \\underbrace{\\begin{bmatrix} 1 & 1 & 1 \\\\\n",
    "                         & 2 & 6 \\\\\n",
    "                         &  & -1 \\end{bmatrix}}_U\n",
    "$$\n",
    "We then deduce $L$ by taking the negative of the lower \n",
    "entries of $L_1,L_2$:\n",
    "$$\n",
    "L = \\begin{bmatrix} 1 \\\\ 2 & 1 \\\\ 1 &{3 \\over 2} & 1\n",
    "\\end{bmatrix}.\n",
    "$$\n",
    "\n",
    "\n",
    "### PLU Decomposition\n",
    "\n",
    "We learned in first year linear algebra that if a diagonal entry is zero\n",
    "when doing Gaussian elimnation one has to _row pivot_. For stability, \n",
    "in implementation one _always_ pivots: swap the largest in magnitude entry for the entry on the diagonal.\n",
    "In terms of a decomposition, this leads to \n",
    "$$\n",
    "L_{n-1} P_{n-1} \\cdots P_2 L_1 P_1 A = U\n",
    "$$\n",
    "where $P_j$ is a permutation that leaves rows 1 through $j-1$ fixed,\n",
    "and swaps row $j$ with a row $k \\geq j$ whose entry is maximal in absolute value.\n",
    "\n",
    "Thus we can deduce that \n",
    "$$\n",
    "L_{n-1} P_{n-1} \\cdots P_2 L_1 P_1 = \\underbrace{L_{n-1} \\tilde L_{n-2} \\cdots  \\tilde L_1}_{L^{-1}}  \\underbrace{P_{n-1} \\cdots P_2 P_1}_P.\n",
    "$$\n",
    "where the tilde denotes the combined actions of swapping the permutation and lower-triangular matrices, that is,\n",
    "$$\n",
    "P_{n-1}\\cdots P_{j+1} L_j = \\tilde L_j P_{n-1}\\cdots P_{j+1}.\n",
    "$$\n",
    "where $\\tilde L_j \\in {\\cal L}_j$.\n",
    "The entries of $L$ are then again the negative of the entries below the diagonal of $L_{n-1}, \\tilde L_{n-2}, \\ldots,\\tilde L_1$.\n",
    "\n",
    "\n",
    "Writing\n",
    "$$\n",
    "\\tilde L_j = I + \\begin{bmatrix} 𝟎_j \\\\ \\tilde \\ell_{j+1,j} \\\\ ⋮ \\\\ \\tilde \\ell_{n,j} \\end{bmatrix} 𝐞_j^\\top\n",
    "$$\n",
    "and using the properties of inversion and multiplication we therefore deduce\n",
    "$$\n",
    "L = \\begin{bmatrix} \n",
    "1 \\\\ \n",
    "-\\tilde \\ell_{21} & 1 \\\\\n",
    "-\\tilde \\ell_{31} & -\\tilde \\ell_{32} & 1 \\\\\n",
    " ⋮ & ⋮ & ⋱ & ⋱ \\\\\n",
    " -\\tilde \\ell_{n-1,1} & -\\tilde \\ell_{n-1,2} & \\cdots &  - \\tilde \\ell_{n-1,n-2} & 1 \\\\\n",
    "    -\\tilde \\ell_{n1} & -\\tilde \\ell_{n2} & \\cdots &  - \\tilde \\ell_{n,n-2} &  -\\ell_{n,n-1} & 1\n",
    "\\end{bmatrix}\n",
    "$$\n",
    "\n",
    "\n",
    "\n",
    "**Example**\n",
    "\n",
    "Again we consider the matrix\n",
    "$$\n",
    "A = \\begin{bmatrix} 1 & 1 & 1 \\\\\n",
    "                    2 & 4 & 8 \\\\\n",
    "                    1 & 4 & 9\n",
    "                    \\end{bmatrix}\n",
    "$$\n",
    "Even though $a_{11} = 1 \\neq 0$, we still pivot: placing \n",
    "the maximum entry on the diagonal to mitigate numerical errors.\n",
    "That is, we first pivot and upper triangularise the first column:\n",
    "$$\n",
    " L_1 P_1 A =  L_1\\begin{bmatrix} 0 & 1 \\\\ 1 & 0 \\\\ && 1 \\end{bmatrix}\n",
    "\\begin{bmatrix} 1 & 1 & 1 \\\\\n",
    "                    2 & 4 & 8 \\\\\n",
    "                    1 & 4 & 9\n",
    "                    \\end{bmatrix} = \n",
    "                     \\begin{bmatrix}1 \\\\ -{1 \\over 2} & 1 \\\\ -{1 \\over 2} && 1 \\end{bmatrix}\n",
    "\\begin{bmatrix} 2 & 4 & 8 \\\\\n",
    "                1 & 1 & 1 \\\\\n",
    "                    1 & 4 & 9\n",
    "                    \\end{bmatrix}\n",
    "$$\n",
    "We now pivot and upper triangularise the second column:\n",
    "$$\n",
    "  L_2 P_2 L_1 P_1 A = \n",
    "                    L_2 \\begin{bmatrix}\n",
    "                    1 \\\\ &0 & 1 \\\\ &1 & 0 \\end{bmatrix}\n",
    "\\begin{bmatrix} 2 & 4 & 8 \\\\\n",
    "                0 & -1 & -3 \\\\\n",
    "                    0 & 2 & 5\n",
    "                    \\end{bmatrix}\n",
    "                    = \\begin{bmatrix} 1\\\\ & 1 \\\\ & {1 \\over 2} & 1 \\end{bmatrix}\n",
    "\\begin{bmatrix} 2 & 4 & 8 \\\\\n",
    "                0 & 2 & 5 \\\\\n",
    "                0 & -1 & -3 \n",
    "                    \\end{bmatrix} = \n",
    "                    \\underbrace{\\begin{bmatrix} 2 & 4 & 8 \\\\\n",
    "                0 & 2 & 5 \\\\\n",
    "                0 & 0 & -{1 \\over 2}\n",
    "                    \\end{bmatrix}}_U\n",
    "$$\n",
    "We now move $P_2$ to the right:\n",
    "$$\n",
    "L_2 P_2 L_1 P_1 = \\underbrace{\\begin{bmatrix} 1\\\\ -{1 \\over 2} & 1 \\\\  -{1 \\over 2}  & {1 \\over 2} & 1 \\end{bmatrix}}_{L_2 \\tilde L_1} \\underbrace{\\begin{bmatrix} 0 & 1 & 0 \\\\ 0 & 0 & 1 \\\\ 1 & 0 & 0 \\end{bmatrix}}_P\n",
    "$$\n",
    "That is\n",
    "$$\n",
    "L = \\begin{bmatrix} 1\\\\ {1 \\over 2} & 1 \\\\  {1 \\over 2}  & -{1 \\over 2} & 1 \\end{bmatrix}\n",
    "$$\n",
    "\n",
    "We see how this example is done on a computer:"
   ]
  },
  {
   "cell_type": "code",
   "execution_count": 19,
   "metadata": {
    "execution": {
     "iopub.execute_input": "2022-02-01T11:38:31.515340Z",
     "iopub.status.busy": "2022-02-01T11:38:31.514783Z",
     "iopub.status.idle": "2022-02-01T11:38:31.923400Z",
     "shell.execute_reply": "2022-02-01T11:38:31.922938Z"
    }
   },
   "outputs": [
    {
     "data": {
      "text/plain": [
       "LU{Float64, Matrix{Float64}}\n",
       "L factor:\n",
       "3×3 Matrix{Float64}:\n",
       " 1.0   0.0  0.0\n",
       " 0.5   1.0  0.0\n",
       " 0.5  -0.5  1.0\n",
       "U factor:\n",
       "3×3 Matrix{Float64}:\n",
       " 2.0  4.0   8.0\n",
       " 0.0  2.0   5.0\n",
       " 0.0  0.0  -0.5"
      ]
     },
     "execution_count": 19,
     "metadata": {},
     "output_type": "execute_result"
    }
   ],
   "source": [
    "A = [1 1 1;\n",
    "     2 4 8;\n",
    "     1 4 9]\n",
    "L,U,σ = lu(A) # σ is a vector encoding the permutation"
   ]
  },
  {
   "cell_type": "markdown",
   "metadata": {},
   "source": [
    "The permutation is"
   ]
  },
  {
   "cell_type": "code",
   "execution_count": 20,
   "metadata": {
    "execution": {
     "iopub.execute_input": "2022-02-01T11:38:31.925379Z",
     "iopub.status.busy": "2022-02-01T11:38:31.924893Z",
     "iopub.status.idle": "2022-02-01T11:38:32.339865Z",
     "shell.execute_reply": "2022-02-01T11:38:32.339275Z"
    }
   },
   "outputs": [
    {
     "data": {
      "text/plain": [
       "3-element Vector{Int64}:\n",
       " 2\n",
       " 3\n",
       " 1"
      ]
     },
     "execution_count": 20,
     "metadata": {},
     "output_type": "execute_result"
    }
   ],
   "source": [
    "σ"
   ]
  },
  {
   "cell_type": "markdown",
   "metadata": {},
   "source": [
    "Thus to invert a system we can do:"
   ]
  },
  {
   "cell_type": "code",
   "execution_count": 21,
   "metadata": {
    "execution": {
     "iopub.execute_input": "2022-02-01T11:38:32.342080Z",
     "iopub.status.busy": "2022-02-01T11:38:32.341562Z",
     "iopub.status.idle": "2022-02-01T11:38:32.693671Z",
     "shell.execute_reply": "2022-02-01T11:38:32.693258Z"
    }
   },
   "outputs": [
    {
     "data": {
      "text/plain": [
       "true"
      ]
     },
     "execution_count": 21,
     "metadata": {},
     "output_type": "execute_result"
    }
   ],
   "source": [
    "b = randn(3)\n",
    "U\\(L\\b[σ]) == A\\b"
   ]
  },
  {
   "cell_type": "markdown",
   "metadata": {},
   "source": [
    "Note the entries match exactly because this precisely what `\\` is using.\n",
    "\n",
    "## 3. Cholesky Decomposition\n",
    "\n",
    "Cholesky Decomposition is a form of Gaussian elimination (without pivoting)\n",
    "that exploits symmetry in the problem, resulting in a substantial speedup. \n",
    "It is only relevant for _symmetric positive definite_\n",
    "matrices.\n",
    "\n",
    "**Definition (positive definite)** A square matrix $A \\in ℝ^{n \\times n}$ is _positive definite_ if\n",
    "for all $𝐱 \\in ℝ^n$ we have\n",
    "$$\n",
    "𝐱^\\top A 𝐱 > 0\n",
    "$$\n",
    "\n",
    "First we establish some basic properties of positive definite matrices:\n",
    "\n",
    "**Proposition (conj. pos. def.)** If  $A \\in ℝ^{n \\times n}$ is positive definite and \n",
    "$V \\in ℝ^{n \\times n}$ is non-singular then\n",
    "$$\n",
    "V^\\top A V\n",
    "$$\n",
    "is positive definite.\n",
    "\n",
    "**Proposition (diag positivity)** If $A \\in ℝ^{n \\times n}$ is positive definite\n",
    "then its diagonal entries are positive: $a_{kk} > 0$.\n",
    "\n",
    "\n",
    "**Theorem (subslice pos. def.)** If $A \\in ℝ^{n \\times n}$ is positive definite\n",
    "and $𝐤 \\in \\{1,\\ldots,n\\}^n$ where any integer appears only once then $A[𝐤,𝐤]$ is also\n",
    "positive definite.\n",
    "\n",
    "\n",
    "\n",
    "We leave the proofs to the problem sheets. Here is the key result:\n",
    "\n",
    "\n",
    "**Theorem (Cholesky and sym. pos. def.)** A matrix $A$ is symmetric positive definite if and only if it has a Cholesky decomposition\n",
    "$$\n",
    "A = L L^⊤\n",
    "$$\n",
    "where the diagonals of $L$ are positive.\n",
    "\n",
    "**Proof** If $A$ has a Cholesky decomposition it is symmetric ($A^⊤ = (L L^⊤)^⊤ = A$) and for $𝐱 ≠ 0$ we have\n",
    "$$\n",
    "𝐱^⊤ A 𝐱 = (L𝐱)^⊤ L 𝐱 = \\|L𝐱\\|^2 > 0\n",
    "$$\n",
    "where we use the fact that $L$ is non-singular.\n",
    "\n",
    "For the other direction we will prove it by induction, with the $1 × 1$ case being trivial. \n",
    "Write\n",
    "$$\n",
    "A = \\begin{bmatrix} α & 𝐯^\\top \\\\\n",
    "                    𝐯   & K\n",
    "                    \\end{bmatrix} = \\underbrace{\\begin{bmatrix} \\sqrt{α} \\\\ \n",
    "                                    {𝐯 \\over \\sqrt{α}} & I \\end{bmatrix}}_{L_1}\n",
    "                                    \\underbrace{\\begin{bmatrix} 1  \\\\ & K - {𝐯 𝐯^\\top \\over α} \\end{bmatrix}}_{A_1}\n",
    "                                    \\underbrace{\\begin{bmatrix} \\sqrt{α} & {𝐯^\\top \\over \\sqrt{α}} \\\\\n",
    "                                     & I \\end{bmatrix}}_{L_1^\\top}.\n",
    "$$\n",
    "Note that $K - {𝐯 𝐯^\\top \\over α}$ is a subslice of $A_1 = L_1^{-1} A L_1^{-⊤}$, hence by the previous propositions is\n",
    "itself symmetric positive definite. Thus we can write \n",
    "$$\n",
    "K - {𝐯 𝐯^\\top \\over α} = \\tilde L \\tilde L^⊤\n",
    "$$\n",
    "and hence $A = L L^⊤$ for\n",
    "$$\n",
    "L= L_1 \\begin{bmatrix}1 \\\\ & \\tilde L \\end{bmatrix}.\n",
    "$$\n",
    "satisfies $A = L L^⊤$.\n",
    "∎\n",
    "\n",
    "\n",
    "Note hidden in this proof is a simple algorithm form computing the Cholesky decomposition.\n",
    "We define\n",
    "$$\n",
    "\\begin{align*}\n",
    "A_1 &:= A \\\\\n",
    "𝐯_k &:= A_k[2:n-k+1,1] \\\\\n",
    "α_k &:= A_k[1,1] \\\\\n",
    "A_{k+1} &:= A_k[2:n-k+1,2:n-k+1] - {𝐯_k 𝐯_k^⊤ \\over α_k}.\n",
    "\\end{align*}\n",
    "$$\n",
    "Then\n",
    "$$\n",
    "L = \\begin{bmatrix} \\sqrt{α_1} \\\\\n",
    "    {𝐯_1[1] \\over \\sqrt{α_1}}  &  \\sqrt{α_2} \\\\\n",
    "    {𝐯_1[2] \\over \\sqrt{α_1}}  & {𝐯_2[1] \\over \\sqrt{α_2}} &  \\sqrt{α_2} \\\\\n",
    "    ⋮ & ⋮ & ⋱ & ⋱ \\\\\n",
    "    {𝐯_1[n-1] \\over \\sqrt{α_1}} &{𝐯_2[n-2] \\over \\sqrt{α_2}} & ⋯ & {𝐯_{n-1}[1] \\over \\sqrt{α_{n-1}}} & \\sqrt{α_{n}}\n",
    "    \\end{bmatrix}\n",
    "$$\n",
    "\n",
    "This algorithm succeeds if and only if $A$ is symmetric positive definite.\n",
    "\n",
    "**Example** Consider the matrix\n",
    "$$\n",
    "A_0 = A = \\begin{bmatrix}\n",
    "2 &1 &1 &1 \\\\\n",
    "1 & 2 & 1 & 1 \\\\\n",
    "1 & 1 & 2 & 1 \\\\\n",
    "1 & 1 & 1 & 2\n",
    "\\end{bmatrix}\n",
    "$$\n",
    "Then\n",
    "$$\n",
    "A_1 = \\begin{bmatrix}\n",
    "2 &1 &1 \\\\\n",
    "1 & 2 & 1 \\\\\n",
    "1 & 1 & 2 \n",
    "\\end{bmatrix} - {1 \\over 2} \\begin{bmatrix} 1 \\\\ 1 \\\\ 1 \\end{bmatrix} \\begin{bmatrix} 1 & 1 & 1 \\end{bmatrix} =\n",
    "{1 \\over 2} \\begin{bmatrix}\n",
    "3 & 1 & 1 \\\\\n",
    "1 & 3 & 1 \\\\\n",
    "1 & 1 & 3 \n",
    "\\end{bmatrix}\n",
    "$$\n",
    "Continuing, we have \n",
    "$$\n",
    "A_2 = {1 \\over 2} \\left( \\begin{bmatrix}\n",
    "3 & 1 \\\\ 1 & 3\n",
    "\\end{bmatrix} - {1 \\over 3} \\begin{bmatrix} 1 \\\\ 1  \\end{bmatrix} \\begin{bmatrix} 1 & 1  \\end{bmatrix}\n",
    "\\right)\n",
    "= {1 \\over 3} \\begin{bmatrix} 4 & 1 \\\\ 1 & 4 \\end{bmatrix}\n",
    "$$\n",
    "Finally\n",
    "$$\n",
    "A_3 = {5 \\over 4}.\n",
    "$$\n",
    "Thus we get\n",
    "$$\n",
    "L= L_1 L_2 L_3 = \\begin{bmatrix} \\sqrt{2} \\\\ {1 \\over \\sqrt{2}} & {\\sqrt{3} \\over 2} \\\\ \n",
    "{1 \\over \\sqrt{2}} & {1 \\over \\sqrt 6} & {2 \\over \\sqrt{3}} \\\\\n",
    "{1 \\over \\sqrt{2}} & {1 \\over \\sqrt 6} & {1 \\over \\sqrt{12}} & {\\sqrt{5} \\over 2}\n",
    "\\end{bmatrix}\n",
    "$$\n",
    "\n",
    "\n",
    "# 4. Timings\n",
    "\n",
    "The different decompositions have trade-offs between speed and stability.\n",
    "First we compare the speed of the different decompositions on a symmetric positive\n",
    "definite matrix, from fastest to slowest:"
   ]
  },
  {
   "cell_type": "code",
   "execution_count": 22,
   "metadata": {
    "execution": {
     "iopub.execute_input": "2022-02-01T11:38:32.695631Z",
     "iopub.status.busy": "2022-02-01T11:38:32.695085Z",
     "iopub.status.idle": "2022-02-01T11:38:56.670028Z",
     "shell.execute_reply": "2022-02-01T11:38:56.669523Z"
    }
   },
   "outputs": [
    {
     "name": "stdout",
     "output_type": "stream",
     "text": [
      "  28.524 μs (5 allocations: 78.25 KiB)\n",
      "  55.173 μs (4 allocations: 79.08 KiB)\n",
      "  221.079 μs (7 allocations: 134.55 KiB)\n"
     ]
    }
   ],
   "source": [
    "n = 100\n",
    "A = Symmetric(rand(n,n)) + 100I # shift by 10 ensures positivity\n",
    "@btime cholesky(A);\n",
    "@btime lu(A);\n",
    "@btime qr(A);"
   ]
  },
  {
   "cell_type": "markdown",
   "metadata": {},
   "source": [
    "On my machine, `cholesky` is ~1.5x faster than `lu`,  \n",
    "which is ~2x faster than QR. \n",
    "\n",
    "\n",
    "\n",
    "In terms of stability, QR computed with Householder reflections\n",
    "(and Cholesky for positive definite matrices) are stable, \n",
    "whereas LU is usually unstable (unless the matrix\n",
    "is diagonally dominant). PLU is a very complicated story: in theory it is unstable,\n",
    "but the set of matrices for which it is unstable is extremely small, so small one does not\n",
    "normally run into them.\n",
    "\n",
    "Here is an example matrix that is in this set."
   ]
  },
  {
   "cell_type": "code",
   "execution_count": 23,
   "metadata": {
    "execution": {
     "iopub.execute_input": "2022-02-01T11:38:56.671868Z",
     "iopub.status.busy": "2022-02-01T11:38:56.671296Z",
     "iopub.status.idle": "2022-02-01T11:38:57.078662Z",
     "shell.execute_reply": "2022-02-01T11:38:57.077926Z"
    }
   },
   "outputs": [
    {
     "data": {
      "text/plain": [
       "5×5 Matrix{Int64}:\n",
       "  1   0   0   0  1\n",
       " -1   1   0   0  1\n",
       " -1  -1   1   0  1\n",
       " -1  -1  -1   1  1\n",
       " -1  -1  -1  -1  1"
      ]
     },
     "execution_count": 23,
     "metadata": {},
     "output_type": "execute_result"
    }
   ],
   "source": [
    "function badmatrix(n)\n",
    "    A = Matrix(1I, n, n)\n",
    "    A[:,end] .= 1\n",
    "    for j = 1:n-1\n",
    "        A[j+1:end,j] .= -1\n",
    "    end\n",
    "    A\n",
    "end\n",
    "A = badmatrix(5)"
   ]
  },
  {
   "cell_type": "markdown",
   "metadata": {},
   "source": [
    "Note that pivoting will not occur (we do not pivot as the entries below the diagonal are the same magnitude as the diagonal), thus the PLU Decomposition is equivalent to an LU decomposition:"
   ]
  },
  {
   "cell_type": "code",
   "execution_count": 24,
   "metadata": {
    "execution": {
     "iopub.execute_input": "2022-02-01T11:38:57.080754Z",
     "iopub.status.busy": "2022-02-01T11:38:57.080244Z",
     "iopub.status.idle": "2022-02-01T11:38:57.085429Z",
     "shell.execute_reply": "2022-02-01T11:38:57.085051Z"
    }
   },
   "outputs": [
    {
     "data": {
      "text/plain": [
       "LU{Float64, Matrix{Float64}}\n",
       "L factor:\n",
       "5×5 Matrix{Float64}:\n",
       "  1.0   0.0   0.0   0.0  0.0\n",
       " -1.0   1.0   0.0   0.0  0.0\n",
       " -1.0  -1.0   1.0   0.0  0.0\n",
       " -1.0  -1.0  -1.0   1.0  0.0\n",
       " -1.0  -1.0  -1.0  -1.0  1.0\n",
       "U factor:\n",
       "5×5 Matrix{Float64}:\n",
       " 1.0  0.0  0.0  0.0   1.0\n",
       " 0.0  1.0  0.0  0.0   2.0\n",
       " 0.0  0.0  1.0  0.0   4.0\n",
       " 0.0  0.0  0.0  1.0   8.0\n",
       " 0.0  0.0  0.0  0.0  16.0"
      ]
     },
     "execution_count": 24,
     "metadata": {},
     "output_type": "execute_result"
    }
   ],
   "source": [
    "L,U = lu(A)"
   ]
  },
  {
   "cell_type": "markdown",
   "metadata": {},
   "source": [
    "But here we see an issue: the last column of `U` is growing exponentially fast! Thus when `n` is large\n",
    "we get very large errors:"
   ]
  },
  {
   "cell_type": "code",
   "execution_count": 25,
   "metadata": {
    "execution": {
     "iopub.execute_input": "2022-02-01T11:38:57.087425Z",
     "iopub.status.busy": "2022-02-01T11:38:57.086827Z",
     "iopub.status.idle": "2022-02-01T11:38:57.187616Z",
     "shell.execute_reply": "2022-02-01T11:38:57.187234Z"
    }
   },
   "outputs": [
    {
     "data": {
      "text/plain": [
       "1182.3234752106287"
      ]
     },
     "execution_count": 25,
     "metadata": {},
     "output_type": "execute_result"
    }
   ],
   "source": [
    "n = 100\n",
    "b = randn(n)\n",
    "A = badmatrix(n)\n",
    "norm(A\\b - qr(A)\\b) # A \\ b still uses lu"
   ]
  },
  {
   "cell_type": "markdown",
   "metadata": {},
   "source": [
    "Note `qr` is completely fine:"
   ]
  },
  {
   "cell_type": "code",
   "execution_count": 26,
   "metadata": {
    "execution": {
     "iopub.execute_input": "2022-02-01T11:38:57.189590Z",
     "iopub.status.busy": "2022-02-01T11:38:57.189016Z",
     "iopub.status.idle": "2022-02-01T11:38:59.204139Z",
     "shell.execute_reply": "2022-02-01T11:38:59.203630Z"
    }
   },
   "outputs": [
    {
     "data": {
      "text/plain": [
       "1.564181439435552377841496863828712312328754652247992940343369886191340642507706e-14"
      ]
     },
     "execution_count": 26,
     "metadata": {},
     "output_type": "execute_result"
    }
   ],
   "source": [
    "norm(qr(A)\\b - qr(big.(A)) \\b) # roughly machine precision"
   ]
  },
  {
   "cell_type": "markdown",
   "metadata": {},
   "source": [
    "Amazingly, PLU is fine if applied to a small perturbation of `A`:"
   ]
  },
  {
   "cell_type": "code",
   "execution_count": 27,
   "metadata": {
    "execution": {
     "iopub.execute_input": "2022-02-01T11:38:59.207737Z",
     "iopub.status.busy": "2022-02-01T11:38:59.207005Z",
     "iopub.status.idle": "2022-02-01T11:38:59.286122Z",
     "shell.execute_reply": "2022-02-01T11:38:59.285689Z"
    }
   },
   "outputs": [
    {
     "data": {
      "text/plain": [
       "8.78477899875885e-15"
      ]
     },
     "execution_count": 27,
     "metadata": {},
     "output_type": "execute_result"
    }
   ],
   "source": [
    "ε = 0.000001\n",
    "Aε = A .+ ε .* randn.()\n",
    "norm(Aε \\ b - qr(Aε) \\ b) # Now it matches!"
   ]
  },
  {
   "cell_type": "markdown",
   "metadata": {},
   "source": [
    "The big _open problem_ in numerical linear algebra is to prove that the set of matrices\n",
    "for which PLU fails has extremely small measure."
   ]
  }
 ],
 "metadata": {
  "kernelspec": {
   "display_name": "Julia 1.7.0",
   "language": "julia",
   "name": "julia-1.7"
  },
  "language_info": {
   "file_extension": ".jl",
   "mimetype": "application/julia",
   "name": "julia",
   "version": "1.7.1"
  }
 },
 "nbformat": 4,
 "nbformat_minor": 2
}
