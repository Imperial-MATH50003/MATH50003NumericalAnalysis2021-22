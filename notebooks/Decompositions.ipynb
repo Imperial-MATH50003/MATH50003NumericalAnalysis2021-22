{
 "cells": [
  {
   "cell_type": "markdown",
   "metadata": {},
   "source": [
    "# Decompositions and least squares\n",
    "\n",
    "\n",
    "We now look at several decompositions (or factorisations) \n",
    "of a matrix into products of structured matrices, and their use in solving least squares problems and linear systems.\n",
    "For a square or rectangular matrix $A ∈ ℝ^{m × n}$ with more rows than columns ($m ≥ n$), we consider:\n",
    "1. The _QR decomposition_\n",
    "$$\n",
    "A = Q R = \\underbrace{\\begin{bmatrix} 𝐪_1 | \\cdots | 𝐪_m \\end{bmatrix}}_{m × m} \\underbrace{\\begin{bmatrix} × & \\cdots & × \\\\ & ⋱ & ⋮ \\\\ && × \\\\ &&0 \\\\ &&⋮ \\\\ && 0 \\end{bmatrix}}_{m × n}\n",
    "$$\n",
    "where $Q$ is orthogonal ($Q^⊤Q = I$, $𝐪_j ∈ ℝ^m$) and $R$ is _right triangular_, which means it \n",
    "is only nonzero on or to the right of the diagonal.\n",
    "\n",
    "2. The _reduced QR decomposition_\n",
    "$$\n",
    "A = Q̂ R̂ = \\underbrace{\\begin{bmatrix} 𝐪_1 | \\cdots | 𝐪_n \\end{bmatrix}}_{m × n} \\underbrace{\\begin{bmatrix} × & \\cdots & × \\\\ & ⋱ & ⋮ \\\\ && ×  \\end{bmatrix}}_{n × n}\n",
    "$$\n",
    "where $Q$ has orthogonal columns ($Q^⊤Q = I$, $𝐪_j ∈ ℝ^m$) and $R̂$ is upper triangular.\n",
    "\n",
    "For a square matrix we consider the _PLU decomposition_:\n",
    "$$\n",
    "A = P^⊤ LU\n",
    "$$\n",
    "where $P$ is a permutation matrix, $L$ is lower triangular and $U$ is upper triangular.\n",
    "\n",
    "Finally, for a square, _symmetric positive definite_ ($𝐱^⊤ A 𝐱 > 0$ for all $𝐱 ∈ ℝ^n$, $𝐱 \\neq 0$) \n",
    "matrix we consider the _Cholesky decomposition_:\n",
    "$$\n",
    "A = L L^⊤\n",
    "$$\n",
    "\n",
    "The importance of these decomposition for square matrices is that their component pieces are easy to invert on a computer:\n",
    "$$\n",
    "\\begin{align*}\n",
    "A = P^⊤ LU &\\Rightarrow\\qquad A^{-1}𝐛 = U^{-1} L^{-1} P 𝐛 \\\\\n",
    "A = QR &\\Rightarrow\\qquad A^{-1}𝐛 = R^{-1} Q^\\top 𝐛 \\\\\n",
    "A = L L^⊤ &\\Rightarrow\\qquad A^{-1}𝐛 = L^{-⊤} L^{-1} 𝐛\n",
    "\\end{align*}\n",
    "$$\n",
    "and we saw last lecture that triangular and orthogonal matrices are easy to invert when applied to a vector $𝐛$,\n",
    "e.g., using forward/back-substitution.\n",
    "For rectangular matrices we will see that they lead to efficient solutions to the _least squares problem_: find\n",
    "$𝐱$ that minimizes the 2-norm\n",
    "$$\n",
    "\\| A 𝐱 - 𝐛 \\|.\n",
    "$$\n",
    "\n",
    "In this lecture we discuss the followng:\n",
    "\n",
    "1. QR and least squares: We discuss the QR decomposition and its usage in solving least squares problems.\n",
    "2. Reduced QR and Gram–Schmidt: We discuss computation of the Reduced QR decomposition using Gram–Schmidt.\n",
    "3. Householder reflections and QR: We discuss comuting the  QR decomposition using Householder reflections.\n",
    "2. PLU decomposition: we discuss how the LU decomposition can be computed using Gaussian elimination, and the computation of\n",
    "the PLU decomposition via Gaussian elimination with pivoting.\n",
    "3. Cholesky decomposition: we introduce symmetric positive definite matrices and show that their LU decomposition can be re-interpreted\n",
    "as a Cholesky decomposition.\n",
    "4. Timings: we see the relative trade-off in speed between the different decompositions."
   ]
  },
  {
   "cell_type": "code",
   "execution_count": 1,
   "metadata": {
    "execution": {
     "iopub.execute_input": "2022-02-15T09:33:07.876507Z",
     "iopub.status.busy": "2022-02-15T09:33:07.390100Z",
     "iopub.status.idle": "2022-02-15T09:33:13.835580Z",
     "shell.execute_reply": "2022-02-15T09:33:13.834737Z"
    }
   },
   "outputs": [],
   "source": [
    "using LinearAlgebra, Plots, BenchmarkTools"
   ]
  },
  {
   "cell_type": "markdown",
   "metadata": {},
   "source": [
    "## 1. QR and least squares\n",
    "\n",
    "Here we consider rectangular matrices with more rows than columns.\n",
    "A QR decomposition decomposes a matrix into an orthogonal matrix $Q$ times a right triangular matrix $R$. \n",
    "Note the QR decomposition contains within it the reduced QR decomposition:\n",
    "$$\n",
    "A = QR = \\begin{bmatrix} Q̂ | 𝐪_{n+1} | ⋯ | 𝐪_m \\end{bmatrix} \\begin{bmatrix} R̂ \\\\  𝟎_{m-n × n} \\end{bmatrix} = Q̂ R̂.\n",
    "$$\n",
    "\n",
    "\n",
    "We can use it to solve a least squares problem using the norm-preserving property (see PS3) of orthogonal matrices:\n",
    "$$\n",
    "\\| A 𝐱 - 𝐛 \\| = \\| Q R 𝐱 - 𝐛 \\| = \\| R 𝐱 - Q^⊤ 𝐛 \\| = \\left \\| \n",
    "\\begin{bmatrix} R̂ \\\\ 𝟎_{m-n × n} \\end{bmatrix} 𝐱 - \\begin{bmatrix} Q̂^⊤ \\\\ 𝐪_{n+1}^⊤ \\\\ ⋮ \\\\ 𝐪_m^⊤ \\end{bmatrix}     𝐛 \\right \\|\n",
    "$$\n",
    "Now note that the rows $k > n$ are independent of $𝐱$ and are a fixed contribution. Thus to minimise this norm it suffices to\n",
    "drop them and minimise:\n",
    "$$\n",
    "\\| R̂ 𝐱 - Q̂^⊤ 𝐛 \\|\n",
    "$$\n",
    "This norm is minimisable if it is attained. Provided the column rank of $A$ is full, $R̂$ will be invertible (Exercise: why is this?).\n",
    "Thus we have the solution\n",
    "$$\n",
    "𝐱 = R̂^{-1} Q̂^⊤ 𝐛\n",
    "$$\n",
    "\n",
    "**Example (quadratic fit)** Suppose we want to fit noisy data by a quadratic\n",
    "$$\n",
    "p(x) = p₀ + p₁ x + p₂ x^2\n",
    "$$\n",
    "That is, we want to choose $p₀,p₁,p₂$ at data samples $x_1, \\ldots, x_m$ so that the following is true:\n",
    "$$\n",
    "p₀ + p₁ x_k + p₂ x_k^2 ≈ f_k\n",
    "$$\n",
    "where $f_k$ are given by data. We can reinterpret this as a least squares problem: minimise the norm\n",
    "$$\n",
    "\\left\\| \\begin{bmatrix} 1 & x_1 & x_1^2 \\\\ ⋮ & ⋮ & ⋮ \\\\ 1 & x_m & x_m^2 \\end{bmatrix}\n",
    "\\begin{bmatrix} p₀ \\\\ p₁ \\\\ p₂ \\end{bmatrix} - \\begin{bmatrix} f_1 \\\\ ⋮ \\\\ f_m \\end{bmatrix} \\right \\|\n",
    "$$\n",
    "We can solve this using the QR decomposition:"
   ]
  },
  {
   "cell_type": "code",
   "execution_count": 2,
   "metadata": {
    "execution": {
     "iopub.execute_input": "2022-02-15T09:33:15.250226Z",
     "iopub.status.busy": "2022-02-15T09:33:13.861868Z",
     "iopub.status.idle": "2022-02-15T09:33:18.232936Z",
     "shell.execute_reply": "2022-02-15T09:33:18.232078Z"
    }
   },
   "outputs": [
    {
     "data": {
      "text/plain": [
       "3-element Vector{Float64}:\n",
       " 1.991302234012823\n",
       " 1.101309857098941\n",
       " 1.8903486392901003"
      ]
     },
     "execution_count": 2,
     "metadata": {},
     "output_type": "execute_result"
    }
   ],
   "source": [
    "m,n = 100,3\n",
    "\n",
    "x = range(0,1; length=m) # 100 points\n",
    "f = 2 .+ x .+ 2x.^2 .+ 0.1 .* randn.() # Noisy quadratic\n",
    "\n",
    "A = x .^ (0:2)'  # 100 x 3 matrix, equivalent to [ones(m) x x.^2]\n",
    "Q,R̂ = qr(A)\n",
    "Q̂ = Q[:,1:n] # Q represents full orthogonal matrix so we take first 3 columns\n",
    "\n",
    "p₀,p₁,p₂ = R̂ \\ Q̂'f"
   ]
  },
  {
   "cell_type": "markdown",
   "metadata": {},
   "source": [
    "We can visualise the fit:"
   ]
  },
  {
   "cell_type": "code",
   "execution_count": 3,
   "metadata": {
    "execution": {
     "iopub.execute_input": "2022-02-15T09:33:18.236109Z",
     "iopub.status.busy": "2022-02-15T09:33:18.235292Z",
     "iopub.status.idle": "2022-02-15T09:33:29.013018Z",
     "shell.execute_reply": "2022-02-15T09:33:29.012387Z"
    }
   },
   "outputs": [
    {
     "data": {
      "image/svg+xml": [
       "<?xml version=\"1.0\" encoding=\"utf-8\"?>\n",
       "<svg xmlns=\"http://www.w3.org/2000/svg\" xmlns:xlink=\"http://www.w3.org/1999/xlink\" width=\"600\" height=\"400\" viewBox=\"0 0 2400 1600\">\n",
       "<defs>\n",
       "  <clipPath id=\"clip990\">\n",
       "    <rect x=\"0\" y=\"0\" width=\"2400\" height=\"1600\"/>\n",
       "  </clipPath>\n",
       "</defs>\n",
       "<path clip-path=\"url(#clip990)\" d=\"\n",
       "M0 1600 L2400 1600 L2400 0 L0 0  Z\n",
       "  \" fill=\"#ffffff\" fill-rule=\"evenodd\" fill-opacity=\"1\"/>\n",
       "<defs>\n",
       "  <clipPath id=\"clip991\">\n",
       "    <rect x=\"480\" y=\"0\" width=\"1681\" height=\"1600\"/>\n",
       "  </clipPath>\n",
       "</defs>\n",
       "<path clip-path=\"url(#clip990)\" d=\"\n",
       "M112.177 1486.45 L2352.76 1486.45 L2352.76 47.2441 L112.177 47.2441  Z\n",
       "  \" fill=\"#ffffff\" fill-rule=\"evenodd\" fill-opacity=\"1\"/>\n",
       "<defs>\n",
       "  <clipPath id=\"clip992\">\n",
       "    <rect x=\"112\" y=\"47\" width=\"2242\" height=\"1440\"/>\n",
       "  </clipPath>\n",
       "</defs>\n",
       "<polyline clip-path=\"url(#clip992)\" style=\"stroke:#000000; stroke-linecap:butt; stroke-linejoin:round; stroke-width:2; stroke-opacity:0.1; fill:none\" points=\"\n",
       "  175.59,1486.45 175.59,47.2441 \n",
       "  \"/>\n",
       "<polyline clip-path=\"url(#clip992)\" style=\"stroke:#000000; stroke-linecap:butt; stroke-linejoin:round; stroke-width:2; stroke-opacity:0.1; fill:none\" points=\"\n",
       "  704.028,1486.45 704.028,47.2441 \n",
       "  \"/>\n",
       "<polyline clip-path=\"url(#clip992)\" style=\"stroke:#000000; stroke-linecap:butt; stroke-linejoin:round; stroke-width:2; stroke-opacity:0.1; fill:none\" points=\"\n",
       "  1232.47,1486.45 1232.47,47.2441 \n",
       "  \"/>\n",
       "<polyline clip-path=\"url(#clip992)\" style=\"stroke:#000000; stroke-linecap:butt; stroke-linejoin:round; stroke-width:2; stroke-opacity:0.1; fill:none\" points=\"\n",
       "  1760.9,1486.45 1760.9,47.2441 \n",
       "  \"/>\n",
       "<polyline clip-path=\"url(#clip992)\" style=\"stroke:#000000; stroke-linecap:butt; stroke-linejoin:round; stroke-width:2; stroke-opacity:0.1; fill:none\" points=\"\n",
       "  2289.34,1486.45 2289.34,47.2441 \n",
       "  \"/>\n",
       "<polyline clip-path=\"url(#clip990)\" style=\"stroke:#000000; stroke-linecap:butt; stroke-linejoin:round; stroke-width:4; stroke-opacity:1; fill:none\" points=\"\n",
       "  112.177,1486.45 2352.76,1486.45 \n",
       "  \"/>\n",
       "<polyline clip-path=\"url(#clip990)\" style=\"stroke:#000000; stroke-linecap:butt; stroke-linejoin:round; stroke-width:4; stroke-opacity:1; fill:none\" points=\"\n",
       "  175.59,1486.45 175.59,1467.55 \n",
       "  \"/>\n",
       "<polyline clip-path=\"url(#clip990)\" style=\"stroke:#000000; stroke-linecap:butt; stroke-linejoin:round; stroke-width:4; stroke-opacity:1; fill:none\" points=\"\n",
       "  704.028,1486.45 704.028,1467.55 \n",
       "  \"/>\n",
       "<polyline clip-path=\"url(#clip990)\" style=\"stroke:#000000; stroke-linecap:butt; stroke-linejoin:round; stroke-width:4; stroke-opacity:1; fill:none\" points=\"\n",
       "  1232.47,1486.45 1232.47,1467.55 \n",
       "  \"/>\n",
       "<polyline clip-path=\"url(#clip990)\" style=\"stroke:#000000; stroke-linecap:butt; stroke-linejoin:round; stroke-width:4; stroke-opacity:1; fill:none\" points=\"\n",
       "  1760.9,1486.45 1760.9,1467.55 \n",
       "  \"/>\n",
       "<polyline clip-path=\"url(#clip990)\" style=\"stroke:#000000; stroke-linecap:butt; stroke-linejoin:round; stroke-width:4; stroke-opacity:1; fill:none\" points=\"\n",
       "  2289.34,1486.45 2289.34,1467.55 \n",
       "  \"/>\n",
       "<path clip-path=\"url(#clip990)\" d=\"M137.893 1517.37 Q134.282 1517.37 132.453 1520.93 Q130.648 1524.47 130.648 1531.6 Q130.648 1538.71 132.453 1542.27 Q134.282 1545.82 137.893 1545.82 Q141.527 1545.82 143.333 1542.27 Q145.162 1538.71 145.162 1531.6 Q145.162 1524.47 143.333 1520.93 Q141.527 1517.37 137.893 1517.37 M137.893 1513.66 Q143.703 1513.66 146.759 1518.27 Q149.838 1522.85 149.838 1531.6 Q149.838 1540.33 146.759 1544.94 Q143.703 1549.52 137.893 1549.52 Q132.083 1549.52 129.004 1544.94 Q125.949 1540.33 125.949 1531.6 Q125.949 1522.85 129.004 1518.27 Q132.083 1513.66 137.893 1513.66 Z\" fill=\"#000000\" fill-rule=\"evenodd\" fill-opacity=\"1\" /><path clip-path=\"url(#clip990)\" d=\"M158.055 1542.97 L162.939 1542.97 L162.939 1548.85 L158.055 1548.85 L158.055 1542.97 Z\" fill=\"#000000\" fill-rule=\"evenodd\" fill-opacity=\"1\" /><path clip-path=\"url(#clip990)\" d=\"M183.124 1517.37 Q179.513 1517.37 177.685 1520.93 Q175.879 1524.47 175.879 1531.6 Q175.879 1538.71 177.685 1542.27 Q179.513 1545.82 183.124 1545.82 Q186.759 1545.82 188.564 1542.27 Q190.393 1538.71 190.393 1531.6 Q190.393 1524.47 188.564 1520.93 Q186.759 1517.37 183.124 1517.37 M183.124 1513.66 Q188.935 1513.66 191.99 1518.27 Q195.069 1522.85 195.069 1531.6 Q195.069 1540.33 191.99 1544.94 Q188.935 1549.52 183.124 1549.52 Q177.314 1549.52 174.236 1544.94 Q171.18 1540.33 171.18 1531.6 Q171.18 1522.85 174.236 1518.27 Q177.314 1513.66 183.124 1513.66 Z\" fill=\"#000000\" fill-rule=\"evenodd\" fill-opacity=\"1\" /><path clip-path=\"url(#clip990)\" d=\"M213.286 1517.37 Q209.675 1517.37 207.847 1520.93 Q206.041 1524.47 206.041 1531.6 Q206.041 1538.71 207.847 1542.27 Q209.675 1545.82 213.286 1545.82 Q216.921 1545.82 218.726 1542.27 Q220.555 1538.71 220.555 1531.6 Q220.555 1524.47 218.726 1520.93 Q216.921 1517.37 213.286 1517.37 M213.286 1513.66 Q219.096 1513.66 222.152 1518.27 Q225.231 1522.85 225.231 1531.6 Q225.231 1540.33 222.152 1544.94 Q219.096 1549.52 213.286 1549.52 Q207.476 1549.52 204.397 1544.94 Q201.342 1540.33 201.342 1531.6 Q201.342 1522.85 204.397 1518.27 Q207.476 1513.66 213.286 1513.66 Z\" fill=\"#000000\" fill-rule=\"evenodd\" fill-opacity=\"1\" /><path clip-path=\"url(#clip990)\" d=\"M666.829 1517.37 Q663.218 1517.37 661.39 1520.93 Q659.584 1524.47 659.584 1531.6 Q659.584 1538.71 661.39 1542.27 Q663.218 1545.82 666.829 1545.82 Q670.464 1545.82 672.269 1542.27 Q674.098 1538.71 674.098 1531.6 Q674.098 1524.47 672.269 1520.93 Q670.464 1517.37 666.829 1517.37 M666.829 1513.66 Q672.639 1513.66 675.695 1518.27 Q678.774 1522.85 678.774 1531.6 Q678.774 1540.33 675.695 1544.94 Q672.639 1549.52 666.829 1549.52 Q661.019 1549.52 657.94 1544.94 Q654.885 1540.33 654.885 1531.6 Q654.885 1522.85 657.94 1518.27 Q661.019 1513.66 666.829 1513.66 Z\" fill=\"#000000\" fill-rule=\"evenodd\" fill-opacity=\"1\" /><path clip-path=\"url(#clip990)\" d=\"M686.991 1542.97 L691.875 1542.97 L691.875 1548.85 L686.991 1548.85 L686.991 1542.97 Z\" fill=\"#000000\" fill-rule=\"evenodd\" fill-opacity=\"1\" /><path clip-path=\"url(#clip990)\" d=\"M706.088 1544.91 L722.408 1544.91 L722.408 1548.85 L700.463 1548.85 L700.463 1544.91 Q703.125 1542.16 707.709 1537.53 Q712.315 1532.88 713.496 1531.53 Q715.741 1529.01 716.621 1527.27 Q717.523 1525.51 717.523 1523.82 Q717.523 1521.07 715.579 1519.33 Q713.658 1517.6 710.556 1517.6 Q708.357 1517.6 705.903 1518.36 Q703.473 1519.13 700.695 1520.68 L700.695 1515.95 Q703.519 1514.82 705.973 1514.24 Q708.426 1513.66 710.463 1513.66 Q715.834 1513.66 719.028 1516.35 Q722.223 1519.03 722.223 1523.52 Q722.223 1525.65 721.412 1527.57 Q720.625 1529.47 718.519 1532.07 Q717.94 1532.74 714.838 1535.95 Q711.736 1539.15 706.088 1544.91 Z\" fill=\"#000000\" fill-rule=\"evenodd\" fill-opacity=\"1\" /><path clip-path=\"url(#clip990)\" d=\"M732.269 1514.29 L750.625 1514.29 L750.625 1518.22 L736.551 1518.22 L736.551 1526.7 Q737.57 1526.35 738.588 1526.19 Q739.607 1526 740.625 1526 Q746.412 1526 749.792 1529.17 Q753.171 1532.34 753.171 1537.76 Q753.171 1543.34 749.699 1546.44 Q746.227 1549.52 739.908 1549.52 Q737.732 1549.52 735.463 1549.15 Q733.218 1548.78 730.81 1548.04 L730.81 1543.34 Q732.894 1544.47 735.116 1545.03 Q737.338 1545.58 739.815 1545.58 Q743.82 1545.58 746.158 1543.48 Q748.496 1541.37 748.496 1537.76 Q748.496 1534.15 746.158 1532.04 Q743.82 1529.94 739.815 1529.94 Q737.94 1529.94 736.065 1530.35 Q734.213 1530.77 732.269 1531.65 L732.269 1514.29 Z\" fill=\"#000000\" fill-rule=\"evenodd\" fill-opacity=\"1\" /><path clip-path=\"url(#clip990)\" d=\"M1194.77 1517.37 Q1191.16 1517.37 1189.33 1520.93 Q1187.52 1524.47 1187.52 1531.6 Q1187.52 1538.71 1189.33 1542.27 Q1191.16 1545.82 1194.77 1545.82 Q1198.4 1545.82 1200.21 1542.27 Q1202.04 1538.71 1202.04 1531.6 Q1202.04 1524.47 1200.21 1520.93 Q1198.4 1517.37 1194.77 1517.37 M1194.77 1513.66 Q1200.58 1513.66 1203.64 1518.27 Q1206.71 1522.85 1206.71 1531.6 Q1206.71 1540.33 1203.64 1544.94 Q1200.58 1549.52 1194.77 1549.52 Q1188.96 1549.52 1185.88 1544.94 Q1182.83 1540.33 1182.83 1531.6 Q1182.83 1522.85 1185.88 1518.27 Q1188.96 1513.66 1194.77 1513.66 Z\" fill=\"#000000\" fill-rule=\"evenodd\" fill-opacity=\"1\" /><path clip-path=\"url(#clip990)\" d=\"M1214.93 1542.97 L1219.82 1542.97 L1219.82 1548.85 L1214.93 1548.85 L1214.93 1542.97 Z\" fill=\"#000000\" fill-rule=\"evenodd\" fill-opacity=\"1\" /><path clip-path=\"url(#clip990)\" d=\"M1230.05 1514.29 L1248.4 1514.29 L1248.4 1518.22 L1234.33 1518.22 L1234.33 1526.7 Q1235.35 1526.35 1236.37 1526.19 Q1237.39 1526 1238.4 1526 Q1244.19 1526 1247.57 1529.17 Q1250.95 1532.34 1250.95 1537.76 Q1250.95 1543.34 1247.48 1546.44 Q1244.01 1549.52 1237.69 1549.52 Q1235.51 1549.52 1233.24 1549.15 Q1231 1548.78 1228.59 1548.04 L1228.59 1543.34 Q1230.67 1544.47 1232.89 1545.03 Q1235.12 1545.58 1237.59 1545.58 Q1241.6 1545.58 1243.94 1543.48 Q1246.27 1541.37 1246.27 1537.76 Q1246.27 1534.15 1243.94 1532.04 Q1241.6 1529.94 1237.59 1529.94 Q1235.72 1529.94 1233.84 1530.35 Q1231.99 1530.77 1230.05 1531.65 L1230.05 1514.29 Z\" fill=\"#000000\" fill-rule=\"evenodd\" fill-opacity=\"1\" /><path clip-path=\"url(#clip990)\" d=\"M1270.16 1517.37 Q1266.55 1517.37 1264.72 1520.93 Q1262.92 1524.47 1262.92 1531.6 Q1262.92 1538.71 1264.72 1542.27 Q1266.55 1545.82 1270.16 1545.82 Q1273.8 1545.82 1275.6 1542.27 Q1277.43 1538.71 1277.43 1531.6 Q1277.43 1524.47 1275.6 1520.93 Q1273.8 1517.37 1270.16 1517.37 M1270.16 1513.66 Q1275.97 1513.66 1279.03 1518.27 Q1282.11 1522.85 1282.11 1531.6 Q1282.11 1540.33 1279.03 1544.94 Q1275.97 1549.52 1270.16 1549.52 Q1264.35 1549.52 1261.27 1544.94 Q1258.22 1540.33 1258.22 1531.6 Q1258.22 1522.85 1261.27 1518.27 Q1264.35 1513.66 1270.16 1513.66 Z\" fill=\"#000000\" fill-rule=\"evenodd\" fill-opacity=\"1\" /><path clip-path=\"url(#clip990)\" d=\"M1723.71 1517.37 Q1720.09 1517.37 1718.27 1520.93 Q1716.46 1524.47 1716.46 1531.6 Q1716.46 1538.71 1718.27 1542.27 Q1720.09 1545.82 1723.71 1545.82 Q1727.34 1545.82 1729.15 1542.27 Q1730.97 1538.71 1730.97 1531.6 Q1730.97 1524.47 1729.15 1520.93 Q1727.34 1517.37 1723.71 1517.37 M1723.71 1513.66 Q1729.52 1513.66 1732.57 1518.27 Q1735.65 1522.85 1735.65 1531.6 Q1735.65 1540.33 1732.57 1544.94 Q1729.52 1549.52 1723.71 1549.52 Q1717.9 1549.52 1714.82 1544.94 Q1711.76 1540.33 1711.76 1531.6 Q1711.76 1522.85 1714.82 1518.27 Q1717.9 1513.66 1723.71 1513.66 Z\" fill=\"#000000\" fill-rule=\"evenodd\" fill-opacity=\"1\" /><path clip-path=\"url(#clip990)\" d=\"M1743.87 1542.97 L1748.75 1542.97 L1748.75 1548.85 L1743.87 1548.85 L1743.87 1542.97 Z\" fill=\"#000000\" fill-rule=\"evenodd\" fill-opacity=\"1\" /><path clip-path=\"url(#clip990)\" d=\"M1757.76 1514.29 L1779.98 1514.29 L1779.98 1516.28 L1767.43 1548.85 L1762.55 1548.85 L1774.35 1518.22 L1757.76 1518.22 L1757.76 1514.29 Z\" fill=\"#000000\" fill-rule=\"evenodd\" fill-opacity=\"1\" /><path clip-path=\"url(#clip990)\" d=\"M1789.15 1514.29 L1807.5 1514.29 L1807.5 1518.22 L1793.43 1518.22 L1793.43 1526.7 Q1794.45 1526.35 1795.46 1526.19 Q1796.48 1526 1797.5 1526 Q1803.29 1526 1806.67 1529.17 Q1810.05 1532.34 1810.05 1537.76 Q1810.05 1543.34 1806.58 1546.44 Q1803.1 1549.52 1796.78 1549.52 Q1794.61 1549.52 1792.34 1549.15 Q1790.09 1548.78 1787.69 1548.04 L1787.69 1543.34 Q1789.77 1544.47 1791.99 1545.03 Q1794.21 1545.58 1796.69 1545.58 Q1800.7 1545.58 1803.03 1543.48 Q1805.37 1541.37 1805.37 1537.76 Q1805.37 1534.15 1803.03 1532.04 Q1800.7 1529.94 1796.69 1529.94 Q1794.82 1529.94 1792.94 1530.35 Q1791.09 1530.77 1789.15 1531.65 L1789.15 1514.29 Z\" fill=\"#000000\" fill-rule=\"evenodd\" fill-opacity=\"1\" /><path clip-path=\"url(#clip990)\" d=\"M2241.42 1544.91 L2249.05 1544.91 L2249.05 1518.55 L2240.74 1520.21 L2240.74 1515.95 L2249.01 1514.29 L2253.68 1514.29 L2253.68 1544.91 L2261.32 1544.91 L2261.32 1548.85 L2241.42 1548.85 L2241.42 1544.91 Z\" fill=\"#000000\" fill-rule=\"evenodd\" fill-opacity=\"1\" /><path clip-path=\"url(#clip990)\" d=\"M2270.77 1542.97 L2275.65 1542.97 L2275.65 1548.85 L2270.77 1548.85 L2270.77 1542.97 Z\" fill=\"#000000\" fill-rule=\"evenodd\" fill-opacity=\"1\" /><path clip-path=\"url(#clip990)\" d=\"M2295.84 1517.37 Q2292.23 1517.37 2290.4 1520.93 Q2288.59 1524.47 2288.59 1531.6 Q2288.59 1538.71 2290.4 1542.27 Q2292.23 1545.82 2295.84 1545.82 Q2299.47 1545.82 2301.28 1542.27 Q2303.1 1538.71 2303.1 1531.6 Q2303.1 1524.47 2301.28 1520.93 Q2299.47 1517.37 2295.84 1517.37 M2295.84 1513.66 Q2301.65 1513.66 2304.7 1518.27 Q2307.78 1522.85 2307.78 1531.6 Q2307.78 1540.33 2304.7 1544.94 Q2301.65 1549.52 2295.84 1549.52 Q2290.03 1549.52 2286.95 1544.94 Q2283.89 1540.33 2283.89 1531.6 Q2283.89 1522.85 2286.95 1518.27 Q2290.03 1513.66 2295.84 1513.66 Z\" fill=\"#000000\" fill-rule=\"evenodd\" fill-opacity=\"1\" /><path clip-path=\"url(#clip990)\" d=\"M2326 1517.37 Q2322.39 1517.37 2320.56 1520.93 Q2318.75 1524.47 2318.75 1531.6 Q2318.75 1538.71 2320.56 1542.27 Q2322.39 1545.82 2326 1545.82 Q2329.63 1545.82 2331.44 1542.27 Q2333.27 1538.71 2333.27 1531.6 Q2333.27 1524.47 2331.44 1520.93 Q2329.63 1517.37 2326 1517.37 M2326 1513.66 Q2331.81 1513.66 2334.86 1518.27 Q2337.94 1522.85 2337.94 1531.6 Q2337.94 1540.33 2334.86 1544.94 Q2331.81 1549.52 2326 1549.52 Q2320.19 1549.52 2317.11 1544.94 Q2314.05 1540.33 2314.05 1531.6 Q2314.05 1522.85 2317.11 1518.27 Q2320.19 1513.66 2326 1513.66 Z\" fill=\"#000000\" fill-rule=\"evenodd\" fill-opacity=\"1\" /><polyline clip-path=\"url(#clip992)\" style=\"stroke:#000000; stroke-linecap:butt; stroke-linejoin:round; stroke-width:2; stroke-opacity:0.1; fill:none\" points=\"\n",
       "  112.177,1388.2 2352.76,1388.2 \n",
       "  \"/>\n",
       "<polyline clip-path=\"url(#clip992)\" style=\"stroke:#000000; stroke-linecap:butt; stroke-linejoin:round; stroke-width:2; stroke-opacity:0.1; fill:none\" points=\"\n",
       "  112.177,961.165 2352.76,961.165 \n",
       "  \"/>\n",
       "<polyline clip-path=\"url(#clip992)\" style=\"stroke:#000000; stroke-linecap:butt; stroke-linejoin:round; stroke-width:2; stroke-opacity:0.1; fill:none\" points=\"\n",
       "  112.177,534.131 2352.76,534.131 \n",
       "  \"/>\n",
       "<polyline clip-path=\"url(#clip992)\" style=\"stroke:#000000; stroke-linecap:butt; stroke-linejoin:round; stroke-width:2; stroke-opacity:0.1; fill:none\" points=\"\n",
       "  112.177,107.098 2352.76,107.098 \n",
       "  \"/>\n",
       "<polyline clip-path=\"url(#clip990)\" style=\"stroke:#000000; stroke-linecap:butt; stroke-linejoin:round; stroke-width:4; stroke-opacity:1; fill:none\" points=\"\n",
       "  112.177,1486.45 112.177,47.2441 \n",
       "  \"/>\n",
       "<polyline clip-path=\"url(#clip990)\" style=\"stroke:#000000; stroke-linecap:butt; stroke-linejoin:round; stroke-width:4; stroke-opacity:1; fill:none\" points=\"\n",
       "  112.177,1388.2 131.075,1388.2 \n",
       "  \"/>\n",
       "<polyline clip-path=\"url(#clip990)\" style=\"stroke:#000000; stroke-linecap:butt; stroke-linejoin:round; stroke-width:4; stroke-opacity:1; fill:none\" points=\"\n",
       "  112.177,961.165 131.075,961.165 \n",
       "  \"/>\n",
       "<polyline clip-path=\"url(#clip990)\" style=\"stroke:#000000; stroke-linecap:butt; stroke-linejoin:round; stroke-width:4; stroke-opacity:1; fill:none\" points=\"\n",
       "  112.177,534.131 131.075,534.131 \n",
       "  \"/>\n",
       "<polyline clip-path=\"url(#clip990)\" style=\"stroke:#000000; stroke-linecap:butt; stroke-linejoin:round; stroke-width:4; stroke-opacity:1; fill:none\" points=\"\n",
       "  112.177,107.098 131.075,107.098 \n",
       "  \"/>\n",
       "<path clip-path=\"url(#clip990)\" d=\"M59.8578 1401.54 L76.1772 1401.54 L76.1772 1405.48 L54.2328 1405.48 L54.2328 1401.54 Q56.8949 1398.79 61.4782 1394.16 Q66.0846 1389.51 67.2652 1388.16 Q69.5105 1385.64 70.3902 1383.9 Q71.2929 1382.14 71.2929 1380.45 Q71.2929 1377.7 69.3485 1375.96 Q67.4272 1374.23 64.3254 1374.23 Q62.1263 1374.23 59.6726 1374.99 Q57.2421 1375.76 54.4643 1377.31 L54.4643 1372.58 Q57.2884 1371.45 59.7421 1370.87 Q62.1958 1370.29 64.2328 1370.29 Q69.6031 1370.29 72.7976 1372.98 Q75.992 1375.66 75.992 1380.15 Q75.992 1382.28 75.1818 1384.2 Q74.3948 1386.1 72.2883 1388.7 Q71.7096 1389.37 68.6078 1392.58 Q65.5059 1395.78 59.8578 1401.54 Z\" fill=\"#000000\" fill-rule=\"evenodd\" fill-opacity=\"1\" /><path clip-path=\"url(#clip990)\" d=\"M69.0476 959.81 Q72.404 960.528 74.279 962.796 Q76.1772 965.065 76.1772 968.398 Q76.1772 973.514 72.6587 976.315 Q69.1402 979.116 62.6587 979.116 Q60.4828 979.116 58.168 978.676 Q55.8764 978.259 53.4227 977.403 L53.4227 972.889 Q55.3671 974.023 57.6819 974.602 Q59.9967 975.181 62.5198 975.181 Q66.918 975.181 69.2096 973.445 Q71.5244 971.708 71.5244 968.398 Q71.5244 965.343 69.3717 963.63 Q67.242 961.894 63.4226 961.894 L59.3949 961.894 L59.3949 958.051 L63.6078 958.051 Q67.0569 958.051 68.8855 956.685 Q70.7142 955.297 70.7142 952.704 Q70.7142 950.042 68.8161 948.63 Q66.9411 947.195 63.4226 947.195 Q61.5013 947.195 59.3023 947.611 Q57.1032 948.028 54.4643 948.908 L54.4643 944.741 Q57.1264 944 59.4412 943.63 Q61.7791 943.26 63.8393 943.26 Q69.1633 943.26 72.2652 945.69 Q75.367 948.097 75.367 952.218 Q75.367 955.088 73.7235 957.079 Q72.08 959.046 69.0476 959.81 Z\" fill=\"#000000\" fill-rule=\"evenodd\" fill-opacity=\"1\" /><path clip-path=\"url(#clip990)\" d=\"M66.5939 520.925 L54.7884 539.374 L66.5939 539.374 L66.5939 520.925 M65.367 516.851 L71.2466 516.851 L71.2466 539.374 L76.1772 539.374 L76.1772 543.263 L71.2466 543.263 L71.2466 551.411 L66.5939 551.411 L66.5939 543.263 L50.9921 543.263 L50.9921 538.749 L65.367 516.851 Z\" fill=\"#000000\" fill-rule=\"evenodd\" fill-opacity=\"1\" /><path clip-path=\"url(#clip990)\" d=\"M55.2745 89.8182 L73.6309 89.8182 L73.6309 93.7533 L59.5569 93.7533 L59.5569 102.226 Q60.5754 101.878 61.5939 101.716 Q62.6124 101.531 63.6309 101.531 Q69.418 101.531 72.7976 104.702 Q76.1772 107.874 76.1772 113.29 Q76.1772 118.869 72.705 121.971 Q69.2328 125.049 62.9134 125.049 Q60.7374 125.049 58.4689 124.679 Q56.2236 124.309 53.8162 123.568 L53.8162 118.869 Q55.8995 120.003 58.1217 120.559 Q60.3439 121.114 62.8208 121.114 Q66.8254 121.114 69.1633 119.008 Q71.5013 116.901 71.5013 113.29 Q71.5013 109.679 69.1633 107.573 Q66.8254 105.466 62.8208 105.466 Q60.9458 105.466 59.0708 105.883 Q57.2189 106.3 55.2745 107.179 L55.2745 89.8182 Z\" fill=\"#000000\" fill-rule=\"evenodd\" fill-opacity=\"1\" /><circle clip-path=\"url(#clip992)\" cx=\"175.59\" cy=\"1424.3\" r=\"14\" fill=\"#009af9\" fill-rule=\"evenodd\" fill-opacity=\"1\" stroke=\"#000000\" stroke-opacity=\"1\" stroke-width=\"3.2\"/>\n",
       "<circle clip-path=\"url(#clip992)\" cx=\"196.941\" cy=\"1361.82\" r=\"14\" fill=\"#009af9\" fill-rule=\"evenodd\" fill-opacity=\"1\" stroke=\"#000000\" stroke-opacity=\"1\" stroke-width=\"3.2\"/>\n",
       "<circle clip-path=\"url(#clip992)\" cx=\"218.292\" cy=\"1370.79\" r=\"14\" fill=\"#009af9\" fill-rule=\"evenodd\" fill-opacity=\"1\" stroke=\"#000000\" stroke-opacity=\"1\" stroke-width=\"3.2\"/>\n",
       "<circle clip-path=\"url(#clip992)\" cx=\"239.643\" cy=\"1404.9\" r=\"14\" fill=\"#009af9\" fill-rule=\"evenodd\" fill-opacity=\"1\" stroke=\"#000000\" stroke-opacity=\"1\" stroke-width=\"3.2\"/>\n",
       "<circle clip-path=\"url(#clip992)\" cx=\"260.994\" cy=\"1325.43\" r=\"14\" fill=\"#009af9\" fill-rule=\"evenodd\" fill-opacity=\"1\" stroke=\"#000000\" stroke-opacity=\"1\" stroke-width=\"3.2\"/>\n",
       "<circle clip-path=\"url(#clip992)\" cx=\"282.345\" cy=\"1445.72\" r=\"14\" fill=\"#009af9\" fill-rule=\"evenodd\" fill-opacity=\"1\" stroke=\"#000000\" stroke-opacity=\"1\" stroke-width=\"3.2\"/>\n",
       "<circle clip-path=\"url(#clip992)\" cx=\"303.696\" cy=\"1416.54\" r=\"14\" fill=\"#009af9\" fill-rule=\"evenodd\" fill-opacity=\"1\" stroke=\"#000000\" stroke-opacity=\"1\" stroke-width=\"3.2\"/>\n",
       "<circle clip-path=\"url(#clip992)\" cx=\"325.047\" cy=\"1377.71\" r=\"14\" fill=\"#009af9\" fill-rule=\"evenodd\" fill-opacity=\"1\" stroke=\"#000000\" stroke-opacity=\"1\" stroke-width=\"3.2\"/>\n",
       "<circle clip-path=\"url(#clip992)\" cx=\"346.398\" cy=\"1369.59\" r=\"14\" fill=\"#009af9\" fill-rule=\"evenodd\" fill-opacity=\"1\" stroke=\"#000000\" stroke-opacity=\"1\" stroke-width=\"3.2\"/>\n",
       "<circle clip-path=\"url(#clip992)\" cx=\"367.749\" cy=\"1345.88\" r=\"14\" fill=\"#009af9\" fill-rule=\"evenodd\" fill-opacity=\"1\" stroke=\"#000000\" stroke-opacity=\"1\" stroke-width=\"3.2\"/>\n",
       "<circle clip-path=\"url(#clip992)\" cx=\"389.1\" cy=\"1330.72\" r=\"14\" fill=\"#009af9\" fill-rule=\"evenodd\" fill-opacity=\"1\" stroke=\"#000000\" stroke-opacity=\"1\" stroke-width=\"3.2\"/>\n",
       "<circle clip-path=\"url(#clip992)\" cx=\"410.451\" cy=\"1313.19\" r=\"14\" fill=\"#009af9\" fill-rule=\"evenodd\" fill-opacity=\"1\" stroke=\"#000000\" stroke-opacity=\"1\" stroke-width=\"3.2\"/>\n",
       "<circle clip-path=\"url(#clip992)\" cx=\"431.802\" cy=\"1253.61\" r=\"14\" fill=\"#009af9\" fill-rule=\"evenodd\" fill-opacity=\"1\" stroke=\"#000000\" stroke-opacity=\"1\" stroke-width=\"3.2\"/>\n",
       "<circle clip-path=\"url(#clip992)\" cx=\"453.153\" cy=\"1294.49\" r=\"14\" fill=\"#009af9\" fill-rule=\"evenodd\" fill-opacity=\"1\" stroke=\"#000000\" stroke-opacity=\"1\" stroke-width=\"3.2\"/>\n",
       "<circle clip-path=\"url(#clip992)\" cx=\"474.504\" cy=\"1240.93\" r=\"14\" fill=\"#009af9\" fill-rule=\"evenodd\" fill-opacity=\"1\" stroke=\"#000000\" stroke-opacity=\"1\" stroke-width=\"3.2\"/>\n",
       "<circle clip-path=\"url(#clip992)\" cx=\"495.855\" cy=\"1295.15\" r=\"14\" fill=\"#009af9\" fill-rule=\"evenodd\" fill-opacity=\"1\" stroke=\"#000000\" stroke-opacity=\"1\" stroke-width=\"3.2\"/>\n",
       "<circle clip-path=\"url(#clip992)\" cx=\"517.207\" cy=\"1221.24\" r=\"14\" fill=\"#009af9\" fill-rule=\"evenodd\" fill-opacity=\"1\" stroke=\"#000000\" stroke-opacity=\"1\" stroke-width=\"3.2\"/>\n",
       "<circle clip-path=\"url(#clip992)\" cx=\"538.558\" cy=\"1260.27\" r=\"14\" fill=\"#009af9\" fill-rule=\"evenodd\" fill-opacity=\"1\" stroke=\"#000000\" stroke-opacity=\"1\" stroke-width=\"3.2\"/>\n",
       "<circle clip-path=\"url(#clip992)\" cx=\"559.909\" cy=\"1288.76\" r=\"14\" fill=\"#009af9\" fill-rule=\"evenodd\" fill-opacity=\"1\" stroke=\"#000000\" stroke-opacity=\"1\" stroke-width=\"3.2\"/>\n",
       "<circle clip-path=\"url(#clip992)\" cx=\"581.26\" cy=\"1298.2\" r=\"14\" fill=\"#009af9\" fill-rule=\"evenodd\" fill-opacity=\"1\" stroke=\"#000000\" stroke-opacity=\"1\" stroke-width=\"3.2\"/>\n",
       "<circle clip-path=\"url(#clip992)\" cx=\"602.611\" cy=\"1254.4\" r=\"14\" fill=\"#009af9\" fill-rule=\"evenodd\" fill-opacity=\"1\" stroke=\"#000000\" stroke-opacity=\"1\" stroke-width=\"3.2\"/>\n",
       "<circle clip-path=\"url(#clip992)\" cx=\"623.962\" cy=\"1313.76\" r=\"14\" fill=\"#009af9\" fill-rule=\"evenodd\" fill-opacity=\"1\" stroke=\"#000000\" stroke-opacity=\"1\" stroke-width=\"3.2\"/>\n",
       "<circle clip-path=\"url(#clip992)\" cx=\"645.313\" cy=\"1249.48\" r=\"14\" fill=\"#009af9\" fill-rule=\"evenodd\" fill-opacity=\"1\" stroke=\"#000000\" stroke-opacity=\"1\" stroke-width=\"3.2\"/>\n",
       "<circle clip-path=\"url(#clip992)\" cx=\"666.664\" cy=\"1251.04\" r=\"14\" fill=\"#009af9\" fill-rule=\"evenodd\" fill-opacity=\"1\" stroke=\"#000000\" stroke-opacity=\"1\" stroke-width=\"3.2\"/>\n",
       "<circle clip-path=\"url(#clip992)\" cx=\"688.015\" cy=\"1263.18\" r=\"14\" fill=\"#009af9\" fill-rule=\"evenodd\" fill-opacity=\"1\" stroke=\"#000000\" stroke-opacity=\"1\" stroke-width=\"3.2\"/>\n",
       "<circle clip-path=\"url(#clip992)\" cx=\"709.366\" cy=\"1177.42\" r=\"14\" fill=\"#009af9\" fill-rule=\"evenodd\" fill-opacity=\"1\" stroke=\"#000000\" stroke-opacity=\"1\" stroke-width=\"3.2\"/>\n",
       "<circle clip-path=\"url(#clip992)\" cx=\"730.717\" cy=\"1278.87\" r=\"14\" fill=\"#009af9\" fill-rule=\"evenodd\" fill-opacity=\"1\" stroke=\"#000000\" stroke-opacity=\"1\" stroke-width=\"3.2\"/>\n",
       "<circle clip-path=\"url(#clip992)\" cx=\"752.068\" cy=\"1222.33\" r=\"14\" fill=\"#009af9\" fill-rule=\"evenodd\" fill-opacity=\"1\" stroke=\"#000000\" stroke-opacity=\"1\" stroke-width=\"3.2\"/>\n",
       "<circle clip-path=\"url(#clip992)\" cx=\"773.419\" cy=\"1185.6\" r=\"14\" fill=\"#009af9\" fill-rule=\"evenodd\" fill-opacity=\"1\" stroke=\"#000000\" stroke-opacity=\"1\" stroke-width=\"3.2\"/>\n",
       "<circle clip-path=\"url(#clip992)\" cx=\"794.77\" cy=\"1152.08\" r=\"14\" fill=\"#009af9\" fill-rule=\"evenodd\" fill-opacity=\"1\" stroke=\"#000000\" stroke-opacity=\"1\" stroke-width=\"3.2\"/>\n",
       "<circle clip-path=\"url(#clip992)\" cx=\"816.121\" cy=\"1149.81\" r=\"14\" fill=\"#009af9\" fill-rule=\"evenodd\" fill-opacity=\"1\" stroke=\"#000000\" stroke-opacity=\"1\" stroke-width=\"3.2\"/>\n",
       "<circle clip-path=\"url(#clip992)\" cx=\"837.472\" cy=\"1149.84\" r=\"14\" fill=\"#009af9\" fill-rule=\"evenodd\" fill-opacity=\"1\" stroke=\"#000000\" stroke-opacity=\"1\" stroke-width=\"3.2\"/>\n",
       "<circle clip-path=\"url(#clip992)\" cx=\"858.823\" cy=\"1152.01\" r=\"14\" fill=\"#009af9\" fill-rule=\"evenodd\" fill-opacity=\"1\" stroke=\"#000000\" stroke-opacity=\"1\" stroke-width=\"3.2\"/>\n",
       "<circle clip-path=\"url(#clip992)\" cx=\"880.174\" cy=\"1139.09\" r=\"14\" fill=\"#009af9\" fill-rule=\"evenodd\" fill-opacity=\"1\" stroke=\"#000000\" stroke-opacity=\"1\" stroke-width=\"3.2\"/>\n",
       "<circle clip-path=\"url(#clip992)\" cx=\"901.525\" cy=\"1095.7\" r=\"14\" fill=\"#009af9\" fill-rule=\"evenodd\" fill-opacity=\"1\" stroke=\"#000000\" stroke-opacity=\"1\" stroke-width=\"3.2\"/>\n",
       "<circle clip-path=\"url(#clip992)\" cx=\"922.876\" cy=\"1084.08\" r=\"14\" fill=\"#009af9\" fill-rule=\"evenodd\" fill-opacity=\"1\" stroke=\"#000000\" stroke-opacity=\"1\" stroke-width=\"3.2\"/>\n",
       "<circle clip-path=\"url(#clip992)\" cx=\"944.227\" cy=\"1100.64\" r=\"14\" fill=\"#009af9\" fill-rule=\"evenodd\" fill-opacity=\"1\" stroke=\"#000000\" stroke-opacity=\"1\" stroke-width=\"3.2\"/>\n",
       "<circle clip-path=\"url(#clip992)\" cx=\"965.578\" cy=\"1099.05\" r=\"14\" fill=\"#009af9\" fill-rule=\"evenodd\" fill-opacity=\"1\" stroke=\"#000000\" stroke-opacity=\"1\" stroke-width=\"3.2\"/>\n",
       "<circle clip-path=\"url(#clip992)\" cx=\"986.93\" cy=\"1141.31\" r=\"14\" fill=\"#009af9\" fill-rule=\"evenodd\" fill-opacity=\"1\" stroke=\"#000000\" stroke-opacity=\"1\" stroke-width=\"3.2\"/>\n",
       "<circle clip-path=\"url(#clip992)\" cx=\"1008.28\" cy=\"1127.47\" r=\"14\" fill=\"#009af9\" fill-rule=\"evenodd\" fill-opacity=\"1\" stroke=\"#000000\" stroke-opacity=\"1\" stroke-width=\"3.2\"/>\n",
       "<circle clip-path=\"url(#clip992)\" cx=\"1029.63\" cy=\"1080.29\" r=\"14\" fill=\"#009af9\" fill-rule=\"evenodd\" fill-opacity=\"1\" stroke=\"#000000\" stroke-opacity=\"1\" stroke-width=\"3.2\"/>\n",
       "<circle clip-path=\"url(#clip992)\" cx=\"1050.98\" cy=\"1041.87\" r=\"14\" fill=\"#009af9\" fill-rule=\"evenodd\" fill-opacity=\"1\" stroke=\"#000000\" stroke-opacity=\"1\" stroke-width=\"3.2\"/>\n",
       "<circle clip-path=\"url(#clip992)\" cx=\"1072.33\" cy=\"1071.59\" r=\"14\" fill=\"#009af9\" fill-rule=\"evenodd\" fill-opacity=\"1\" stroke=\"#000000\" stroke-opacity=\"1\" stroke-width=\"3.2\"/>\n",
       "<circle clip-path=\"url(#clip992)\" cx=\"1093.68\" cy=\"1052.92\" r=\"14\" fill=\"#009af9\" fill-rule=\"evenodd\" fill-opacity=\"1\" stroke=\"#000000\" stroke-opacity=\"1\" stroke-width=\"3.2\"/>\n",
       "<circle clip-path=\"url(#clip992)\" cx=\"1115.04\" cy=\"1051.47\" r=\"14\" fill=\"#009af9\" fill-rule=\"evenodd\" fill-opacity=\"1\" stroke=\"#000000\" stroke-opacity=\"1\" stroke-width=\"3.2\"/>\n",
       "<circle clip-path=\"url(#clip992)\" cx=\"1136.39\" cy=\"1027.48\" r=\"14\" fill=\"#009af9\" fill-rule=\"evenodd\" fill-opacity=\"1\" stroke=\"#000000\" stroke-opacity=\"1\" stroke-width=\"3.2\"/>\n",
       "<circle clip-path=\"url(#clip992)\" cx=\"1157.74\" cy=\"1023.48\" r=\"14\" fill=\"#009af9\" fill-rule=\"evenodd\" fill-opacity=\"1\" stroke=\"#000000\" stroke-opacity=\"1\" stroke-width=\"3.2\"/>\n",
       "<circle clip-path=\"url(#clip992)\" cx=\"1179.09\" cy=\"1009.46\" r=\"14\" fill=\"#009af9\" fill-rule=\"evenodd\" fill-opacity=\"1\" stroke=\"#000000\" stroke-opacity=\"1\" stroke-width=\"3.2\"/>\n",
       "<circle clip-path=\"url(#clip992)\" cx=\"1200.44\" cy=\"968.117\" r=\"14\" fill=\"#009af9\" fill-rule=\"evenodd\" fill-opacity=\"1\" stroke=\"#000000\" stroke-opacity=\"1\" stroke-width=\"3.2\"/>\n",
       "<circle clip-path=\"url(#clip992)\" cx=\"1221.79\" cy=\"961.555\" r=\"14\" fill=\"#009af9\" fill-rule=\"evenodd\" fill-opacity=\"1\" stroke=\"#000000\" stroke-opacity=\"1\" stroke-width=\"3.2\"/>\n",
       "<circle clip-path=\"url(#clip992)\" cx=\"1243.14\" cy=\"893.888\" r=\"14\" fill=\"#009af9\" fill-rule=\"evenodd\" fill-opacity=\"1\" stroke=\"#000000\" stroke-opacity=\"1\" stroke-width=\"3.2\"/>\n",
       "<circle clip-path=\"url(#clip992)\" cx=\"1264.49\" cy=\"951.898\" r=\"14\" fill=\"#009af9\" fill-rule=\"evenodd\" fill-opacity=\"1\" stroke=\"#000000\" stroke-opacity=\"1\" stroke-width=\"3.2\"/>\n",
       "<circle clip-path=\"url(#clip992)\" cx=\"1285.84\" cy=\"960.542\" r=\"14\" fill=\"#009af9\" fill-rule=\"evenodd\" fill-opacity=\"1\" stroke=\"#000000\" stroke-opacity=\"1\" stroke-width=\"3.2\"/>\n",
       "<circle clip-path=\"url(#clip992)\" cx=\"1307.2\" cy=\"889.128\" r=\"14\" fill=\"#009af9\" fill-rule=\"evenodd\" fill-opacity=\"1\" stroke=\"#000000\" stroke-opacity=\"1\" stroke-width=\"3.2\"/>\n",
       "<circle clip-path=\"url(#clip992)\" cx=\"1328.55\" cy=\"920.309\" r=\"14\" fill=\"#009af9\" fill-rule=\"evenodd\" fill-opacity=\"1\" stroke=\"#000000\" stroke-opacity=\"1\" stroke-width=\"3.2\"/>\n",
       "<circle clip-path=\"url(#clip992)\" cx=\"1349.9\" cy=\"843.233\" r=\"14\" fill=\"#009af9\" fill-rule=\"evenodd\" fill-opacity=\"1\" stroke=\"#000000\" stroke-opacity=\"1\" stroke-width=\"3.2\"/>\n",
       "<circle clip-path=\"url(#clip992)\" cx=\"1371.25\" cy=\"838.743\" r=\"14\" fill=\"#009af9\" fill-rule=\"evenodd\" fill-opacity=\"1\" stroke=\"#000000\" stroke-opacity=\"1\" stroke-width=\"3.2\"/>\n",
       "<circle clip-path=\"url(#clip992)\" cx=\"1392.6\" cy=\"843.537\" r=\"14\" fill=\"#009af9\" fill-rule=\"evenodd\" fill-opacity=\"1\" stroke=\"#000000\" stroke-opacity=\"1\" stroke-width=\"3.2\"/>\n",
       "<circle clip-path=\"url(#clip992)\" cx=\"1413.95\" cy=\"860.98\" r=\"14\" fill=\"#009af9\" fill-rule=\"evenodd\" fill-opacity=\"1\" stroke=\"#000000\" stroke-opacity=\"1\" stroke-width=\"3.2\"/>\n",
       "<circle clip-path=\"url(#clip992)\" cx=\"1435.3\" cy=\"850.243\" r=\"14\" fill=\"#009af9\" fill-rule=\"evenodd\" fill-opacity=\"1\" stroke=\"#000000\" stroke-opacity=\"1\" stroke-width=\"3.2\"/>\n",
       "<circle clip-path=\"url(#clip992)\" cx=\"1456.65\" cy=\"828.451\" r=\"14\" fill=\"#009af9\" fill-rule=\"evenodd\" fill-opacity=\"1\" stroke=\"#000000\" stroke-opacity=\"1\" stroke-width=\"3.2\"/>\n",
       "<circle clip-path=\"url(#clip992)\" cx=\"1478\" cy=\"828.283\" r=\"14\" fill=\"#009af9\" fill-rule=\"evenodd\" fill-opacity=\"1\" stroke=\"#000000\" stroke-opacity=\"1\" stroke-width=\"3.2\"/>\n",
       "<circle clip-path=\"url(#clip992)\" cx=\"1499.35\" cy=\"761.43\" r=\"14\" fill=\"#009af9\" fill-rule=\"evenodd\" fill-opacity=\"1\" stroke=\"#000000\" stroke-opacity=\"1\" stroke-width=\"3.2\"/>\n",
       "<circle clip-path=\"url(#clip992)\" cx=\"1520.71\" cy=\"690.667\" r=\"14\" fill=\"#009af9\" fill-rule=\"evenodd\" fill-opacity=\"1\" stroke=\"#000000\" stroke-opacity=\"1\" stroke-width=\"3.2\"/>\n",
       "<circle clip-path=\"url(#clip992)\" cx=\"1542.06\" cy=\"662.405\" r=\"14\" fill=\"#009af9\" fill-rule=\"evenodd\" fill-opacity=\"1\" stroke=\"#000000\" stroke-opacity=\"1\" stroke-width=\"3.2\"/>\n",
       "<circle clip-path=\"url(#clip992)\" cx=\"1563.41\" cy=\"697.934\" r=\"14\" fill=\"#009af9\" fill-rule=\"evenodd\" fill-opacity=\"1\" stroke=\"#000000\" stroke-opacity=\"1\" stroke-width=\"3.2\"/>\n",
       "<circle clip-path=\"url(#clip992)\" cx=\"1584.76\" cy=\"717.484\" r=\"14\" fill=\"#009af9\" fill-rule=\"evenodd\" fill-opacity=\"1\" stroke=\"#000000\" stroke-opacity=\"1\" stroke-width=\"3.2\"/>\n",
       "<circle clip-path=\"url(#clip992)\" cx=\"1606.11\" cy=\"682.227\" r=\"14\" fill=\"#009af9\" fill-rule=\"evenodd\" fill-opacity=\"1\" stroke=\"#000000\" stroke-opacity=\"1\" stroke-width=\"3.2\"/>\n",
       "<circle clip-path=\"url(#clip992)\" cx=\"1627.46\" cy=\"780.433\" r=\"14\" fill=\"#009af9\" fill-rule=\"evenodd\" fill-opacity=\"1\" stroke=\"#000000\" stroke-opacity=\"1\" stroke-width=\"3.2\"/>\n",
       "<circle clip-path=\"url(#clip992)\" cx=\"1648.81\" cy=\"645.884\" r=\"14\" fill=\"#009af9\" fill-rule=\"evenodd\" fill-opacity=\"1\" stroke=\"#000000\" stroke-opacity=\"1\" stroke-width=\"3.2\"/>\n",
       "<circle clip-path=\"url(#clip992)\" cx=\"1670.16\" cy=\"690.801\" r=\"14\" fill=\"#009af9\" fill-rule=\"evenodd\" fill-opacity=\"1\" stroke=\"#000000\" stroke-opacity=\"1\" stroke-width=\"3.2\"/>\n",
       "<circle clip-path=\"url(#clip992)\" cx=\"1691.51\" cy=\"657.515\" r=\"14\" fill=\"#009af9\" fill-rule=\"evenodd\" fill-opacity=\"1\" stroke=\"#000000\" stroke-opacity=\"1\" stroke-width=\"3.2\"/>\n",
       "<circle clip-path=\"url(#clip992)\" cx=\"1712.87\" cy=\"642.334\" r=\"14\" fill=\"#009af9\" fill-rule=\"evenodd\" fill-opacity=\"1\" stroke=\"#000000\" stroke-opacity=\"1\" stroke-width=\"3.2\"/>\n",
       "<circle clip-path=\"url(#clip992)\" cx=\"1734.22\" cy=\"624.963\" r=\"14\" fill=\"#009af9\" fill-rule=\"evenodd\" fill-opacity=\"1\" stroke=\"#000000\" stroke-opacity=\"1\" stroke-width=\"3.2\"/>\n",
       "<circle clip-path=\"url(#clip992)\" cx=\"1755.57\" cy=\"582.031\" r=\"14\" fill=\"#009af9\" fill-rule=\"evenodd\" fill-opacity=\"1\" stroke=\"#000000\" stroke-opacity=\"1\" stroke-width=\"3.2\"/>\n",
       "<circle clip-path=\"url(#clip992)\" cx=\"1776.92\" cy=\"514.283\" r=\"14\" fill=\"#009af9\" fill-rule=\"evenodd\" fill-opacity=\"1\" stroke=\"#000000\" stroke-opacity=\"1\" stroke-width=\"3.2\"/>\n",
       "<circle clip-path=\"url(#clip992)\" cx=\"1798.27\" cy=\"501.303\" r=\"14\" fill=\"#009af9\" fill-rule=\"evenodd\" fill-opacity=\"1\" stroke=\"#000000\" stroke-opacity=\"1\" stroke-width=\"3.2\"/>\n",
       "<circle clip-path=\"url(#clip992)\" cx=\"1819.62\" cy=\"563.792\" r=\"14\" fill=\"#009af9\" fill-rule=\"evenodd\" fill-opacity=\"1\" stroke=\"#000000\" stroke-opacity=\"1\" stroke-width=\"3.2\"/>\n",
       "<circle clip-path=\"url(#clip992)\" cx=\"1840.97\" cy=\"528.421\" r=\"14\" fill=\"#009af9\" fill-rule=\"evenodd\" fill-opacity=\"1\" stroke=\"#000000\" stroke-opacity=\"1\" stroke-width=\"3.2\"/>\n",
       "<circle clip-path=\"url(#clip992)\" cx=\"1862.32\" cy=\"545.318\" r=\"14\" fill=\"#009af9\" fill-rule=\"evenodd\" fill-opacity=\"1\" stroke=\"#000000\" stroke-opacity=\"1\" stroke-width=\"3.2\"/>\n",
       "<circle clip-path=\"url(#clip992)\" cx=\"1883.67\" cy=\"521.26\" r=\"14\" fill=\"#009af9\" fill-rule=\"evenodd\" fill-opacity=\"1\" stroke=\"#000000\" stroke-opacity=\"1\" stroke-width=\"3.2\"/>\n",
       "<circle clip-path=\"url(#clip992)\" cx=\"1905.02\" cy=\"452.987\" r=\"14\" fill=\"#009af9\" fill-rule=\"evenodd\" fill-opacity=\"1\" stroke=\"#000000\" stroke-opacity=\"1\" stroke-width=\"3.2\"/>\n",
       "<circle clip-path=\"url(#clip992)\" cx=\"1926.38\" cy=\"411.887\" r=\"14\" fill=\"#009af9\" fill-rule=\"evenodd\" fill-opacity=\"1\" stroke=\"#000000\" stroke-opacity=\"1\" stroke-width=\"3.2\"/>\n",
       "<circle clip-path=\"url(#clip992)\" cx=\"1947.73\" cy=\"475.786\" r=\"14\" fill=\"#009af9\" fill-rule=\"evenodd\" fill-opacity=\"1\" stroke=\"#000000\" stroke-opacity=\"1\" stroke-width=\"3.2\"/>\n",
       "<circle clip-path=\"url(#clip992)\" cx=\"1969.08\" cy=\"499.414\" r=\"14\" fill=\"#009af9\" fill-rule=\"evenodd\" fill-opacity=\"1\" stroke=\"#000000\" stroke-opacity=\"1\" stroke-width=\"3.2\"/>\n",
       "<circle clip-path=\"url(#clip992)\" cx=\"1990.43\" cy=\"428.072\" r=\"14\" fill=\"#009af9\" fill-rule=\"evenodd\" fill-opacity=\"1\" stroke=\"#000000\" stroke-opacity=\"1\" stroke-width=\"3.2\"/>\n",
       "<circle clip-path=\"url(#clip992)\" cx=\"2011.78\" cy=\"374.797\" r=\"14\" fill=\"#009af9\" fill-rule=\"evenodd\" fill-opacity=\"1\" stroke=\"#000000\" stroke-opacity=\"1\" stroke-width=\"3.2\"/>\n",
       "<circle clip-path=\"url(#clip992)\" cx=\"2033.13\" cy=\"373.541\" r=\"14\" fill=\"#009af9\" fill-rule=\"evenodd\" fill-opacity=\"1\" stroke=\"#000000\" stroke-opacity=\"1\" stroke-width=\"3.2\"/>\n",
       "<circle clip-path=\"url(#clip992)\" cx=\"2054.48\" cy=\"303.533\" r=\"14\" fill=\"#009af9\" fill-rule=\"evenodd\" fill-opacity=\"1\" stroke=\"#000000\" stroke-opacity=\"1\" stroke-width=\"3.2\"/>\n",
       "<circle clip-path=\"url(#clip992)\" cx=\"2075.83\" cy=\"325.106\" r=\"14\" fill=\"#009af9\" fill-rule=\"evenodd\" fill-opacity=\"1\" stroke=\"#000000\" stroke-opacity=\"1\" stroke-width=\"3.2\"/>\n",
       "<circle clip-path=\"url(#clip992)\" cx=\"2097.18\" cy=\"259.855\" r=\"14\" fill=\"#009af9\" fill-rule=\"evenodd\" fill-opacity=\"1\" stroke=\"#000000\" stroke-opacity=\"1\" stroke-width=\"3.2\"/>\n",
       "<circle clip-path=\"url(#clip992)\" cx=\"2118.53\" cy=\"229.235\" r=\"14\" fill=\"#009af9\" fill-rule=\"evenodd\" fill-opacity=\"1\" stroke=\"#000000\" stroke-opacity=\"1\" stroke-width=\"3.2\"/>\n",
       "<circle clip-path=\"url(#clip992)\" cx=\"2139.89\" cy=\"287.607\" r=\"14\" fill=\"#009af9\" fill-rule=\"evenodd\" fill-opacity=\"1\" stroke=\"#000000\" stroke-opacity=\"1\" stroke-width=\"3.2\"/>\n",
       "<circle clip-path=\"url(#clip992)\" cx=\"2161.24\" cy=\"171.77\" r=\"14\" fill=\"#009af9\" fill-rule=\"evenodd\" fill-opacity=\"1\" stroke=\"#000000\" stroke-opacity=\"1\" stroke-width=\"3.2\"/>\n",
       "<circle clip-path=\"url(#clip992)\" cx=\"2182.59\" cy=\"244.69\" r=\"14\" fill=\"#009af9\" fill-rule=\"evenodd\" fill-opacity=\"1\" stroke=\"#000000\" stroke-opacity=\"1\" stroke-width=\"3.2\"/>\n",
       "<circle clip-path=\"url(#clip992)\" cx=\"2203.94\" cy=\"207.782\" r=\"14\" fill=\"#009af9\" fill-rule=\"evenodd\" fill-opacity=\"1\" stroke=\"#000000\" stroke-opacity=\"1\" stroke-width=\"3.2\"/>\n",
       "<circle clip-path=\"url(#clip992)\" cx=\"2225.29\" cy=\"165.827\" r=\"14\" fill=\"#009af9\" fill-rule=\"evenodd\" fill-opacity=\"1\" stroke=\"#000000\" stroke-opacity=\"1\" stroke-width=\"3.2\"/>\n",
       "<circle clip-path=\"url(#clip992)\" cx=\"2246.64\" cy=\"116.54\" r=\"14\" fill=\"#009af9\" fill-rule=\"evenodd\" fill-opacity=\"1\" stroke=\"#000000\" stroke-opacity=\"1\" stroke-width=\"3.2\"/>\n",
       "<circle clip-path=\"url(#clip992)\" cx=\"2267.99\" cy=\"87.9763\" r=\"14\" fill=\"#009af9\" fill-rule=\"evenodd\" fill-opacity=\"1\" stroke=\"#000000\" stroke-opacity=\"1\" stroke-width=\"3.2\"/>\n",
       "<circle clip-path=\"url(#clip992)\" cx=\"2289.34\" cy=\"181.726\" r=\"14\" fill=\"#009af9\" fill-rule=\"evenodd\" fill-opacity=\"1\" stroke=\"#000000\" stroke-opacity=\"1\" stroke-width=\"3.2\"/>\n",
       "<polyline clip-path=\"url(#clip992)\" style=\"stroke:#e26f46; stroke-linecap:butt; stroke-linejoin:round; stroke-width:4; stroke-opacity:1; fill:none\" points=\"\n",
       "  175.59,1391.91 196.941,1387.08 218.292,1382.08 239.643,1376.92 260.994,1371.59 282.345,1366.1 303.696,1360.44 325.047,1354.62 346.398,1348.64 367.749,1342.49 \n",
       "  389.1,1336.17 410.451,1329.69 431.802,1323.05 453.153,1316.24 474.504,1309.26 495.855,1302.12 517.207,1294.82 538.558,1287.35 559.909,1279.72 581.26,1271.92 \n",
       "  602.611,1263.96 623.962,1255.83 645.313,1247.54 666.664,1239.08 688.015,1230.46 709.366,1221.67 730.717,1212.72 752.068,1203.61 773.419,1194.33 794.77,1184.88 \n",
       "  816.121,1175.27 837.472,1165.5 858.823,1155.56 880.174,1145.45 901.525,1135.18 922.876,1124.75 944.227,1114.15 965.578,1103.39 986.93,1092.46 1008.28,1081.37 \n",
       "  1029.63,1070.11 1050.98,1058.69 1072.33,1047.1 1093.68,1035.35 1115.04,1023.44 1136.39,1011.36 1157.74,999.11 1179.09,986.7 1200.44,974.125 1221.79,961.385 \n",
       "  1243.14,948.481 1264.49,935.412 1285.84,922.178 1307.2,908.779 1328.55,895.216 1349.9,881.488 1371.25,867.595 1392.6,853.538 1413.95,839.315 1435.3,824.928 \n",
       "  1456.65,810.377 1478,795.66 1499.35,780.779 1520.71,765.733 1542.06,750.523 1563.41,735.147 1584.76,719.607 1606.11,703.903 1627.46,688.033 1648.81,671.999 \n",
       "  1670.16,655.8 1691.51,639.436 1712.87,622.908 1734.22,606.215 1755.57,589.357 1776.92,572.334 1798.27,555.147 1819.62,537.795 1840.97,520.278 1862.32,502.597 \n",
       "  1883.67,484.75 1905.02,466.74 1926.38,448.564 1947.73,430.224 1969.08,411.718 1990.43,393.049 2011.78,374.214 2033.13,355.215 2054.48,336.051 2075.83,316.722 \n",
       "  2097.18,297.228 2118.53,277.57 2139.89,257.747 2161.24,237.76 2182.59,217.607 2203.94,197.29 2225.29,176.808 2246.64,156.162 2267.99,135.351 2289.34,114.374 \n",
       "  \n",
       "  \"/>\n",
       "<path clip-path=\"url(#clip990)\" d=\"\n",
       "M1817.98 1438.47 L2278.07 1438.47 L2278.07 1282.95 L1817.98 1282.95  Z\n",
       "  \" fill=\"#ffffff\" fill-rule=\"evenodd\" fill-opacity=\"1\"/>\n",
       "<polyline clip-path=\"url(#clip990)\" style=\"stroke:#000000; stroke-linecap:butt; stroke-linejoin:round; stroke-width:4; stroke-opacity:1; fill:none\" points=\"\n",
       "  1817.98,1438.47 2278.07,1438.47 2278.07,1282.95 1817.98,1282.95 1817.98,1438.47 \n",
       "  \"/>\n",
       "<circle clip-path=\"url(#clip990)\" cx=\"1913.98\" cy=\"1334.79\" r=\"23\" fill=\"#009af9\" fill-rule=\"evenodd\" fill-opacity=\"1\" stroke=\"#000000\" stroke-opacity=\"1\" stroke-width=\"5.12\"/>\n",
       "<path clip-path=\"url(#clip990)\" d=\"M2028.4 1326.91 L2028.4 1330.94 Q2026.6 1330.01 2024.65 1329.55 Q2022.71 1329.09 2020.63 1329.09 Q2017.46 1329.09 2015.86 1330.06 Q2014.28 1331.03 2014.28 1332.98 Q2014.28 1334.46 2015.42 1335.32 Q2016.55 1336.15 2019.98 1336.91 L2021.44 1337.24 Q2025.97 1338.21 2027.87 1339.99 Q2029.79 1341.75 2029.79 1344.92 Q2029.79 1348.53 2026.92 1350.64 Q2024.08 1352.75 2019.08 1352.75 Q2016.99 1352.75 2014.72 1352.33 Q2012.48 1351.94 2009.98 1351.13 L2009.98 1346.73 Q2012.34 1347.95 2014.63 1348.58 Q2016.92 1349.18 2019.17 1349.18 Q2022.18 1349.18 2023.8 1348.16 Q2025.42 1347.12 2025.42 1345.25 Q2025.42 1343.51 2024.24 1342.58 Q2023.08 1341.66 2019.12 1340.8 L2017.64 1340.45 Q2013.68 1339.62 2011.92 1337.91 Q2010.16 1336.17 2010.16 1333.16 Q2010.16 1329.51 2012.76 1327.51 Q2015.35 1325.52 2020.12 1325.52 Q2022.48 1325.52 2024.56 1325.87 Q2026.65 1326.22 2028.4 1326.91 Z\" fill=\"#000000\" fill-rule=\"evenodd\" fill-opacity=\"1\" /><path clip-path=\"url(#clip990)\" d=\"M2048.36 1339.04 Q2043.2 1339.04 2041.21 1340.22 Q2039.21 1341.4 2039.21 1344.25 Q2039.21 1346.52 2040.7 1347.86 Q2042.2 1349.18 2044.77 1349.18 Q2048.31 1349.18 2050.44 1346.68 Q2052.59 1344.16 2052.59 1339.99 L2052.59 1339.04 L2048.36 1339.04 M2056.85 1337.28 L2056.85 1352.07 L2052.59 1352.07 L2052.59 1348.14 Q2051.14 1350.5 2048.96 1351.63 Q2046.78 1352.75 2043.64 1352.75 Q2039.65 1352.75 2037.29 1350.52 Q2034.96 1348.28 2034.96 1344.53 Q2034.96 1340.15 2037.87 1337.93 Q2040.81 1335.71 2046.62 1335.71 L2052.59 1335.71 L2052.59 1335.29 Q2052.59 1332.35 2050.65 1330.76 Q2048.73 1329.13 2045.23 1329.13 Q2043.01 1329.13 2040.9 1329.67 Q2038.8 1330.2 2036.85 1331.26 L2036.85 1327.33 Q2039.19 1326.43 2041.39 1325.99 Q2043.59 1325.52 2045.67 1325.52 Q2051.3 1325.52 2054.08 1328.44 Q2056.85 1331.36 2056.85 1337.28 Z\" fill=\"#000000\" fill-rule=\"evenodd\" fill-opacity=\"1\" /><path clip-path=\"url(#clip990)\" d=\"M2085.81 1331.13 Q2087.41 1328.26 2089.63 1326.89 Q2091.85 1325.52 2094.86 1325.52 Q2098.91 1325.52 2101.11 1328.37 Q2103.31 1331.19 2103.31 1336.43 L2103.31 1352.07 L2099.03 1352.07 L2099.03 1336.57 Q2099.03 1332.84 2097.71 1331.03 Q2096.39 1329.23 2093.68 1329.23 Q2090.37 1329.23 2088.45 1331.43 Q2086.53 1333.63 2086.53 1337.42 L2086.53 1352.07 L2082.25 1352.07 L2082.25 1336.57 Q2082.25 1332.82 2080.93 1331.03 Q2079.61 1329.23 2076.85 1329.23 Q2073.59 1329.23 2071.67 1331.45 Q2069.75 1333.65 2069.75 1337.42 L2069.75 1352.07 L2065.46 1352.07 L2065.46 1326.15 L2069.75 1326.15 L2069.75 1330.18 Q2071.21 1327.79 2073.24 1326.66 Q2075.28 1325.52 2078.08 1325.52 Q2080.9 1325.52 2082.87 1326.96 Q2084.86 1328.39 2085.81 1331.13 Z\" fill=\"#000000\" fill-rule=\"evenodd\" fill-opacity=\"1\" /><path clip-path=\"url(#clip990)\" d=\"M2115.93 1348.19 L2115.93 1361.94 L2111.64 1361.94 L2111.64 1326.15 L2115.93 1326.15 L2115.93 1330.08 Q2117.27 1327.77 2119.31 1326.66 Q2121.37 1325.52 2124.21 1325.52 Q2128.94 1325.52 2131.88 1329.27 Q2134.84 1333.02 2134.84 1339.13 Q2134.84 1345.25 2131.88 1349 Q2128.94 1352.75 2124.21 1352.75 Q2121.37 1352.75 2119.31 1351.63 Q2117.27 1350.5 2115.93 1348.19 M2130.42 1339.13 Q2130.42 1334.44 2128.47 1331.77 Q2126.55 1329.09 2123.17 1329.09 Q2119.79 1329.09 2117.85 1331.77 Q2115.93 1334.44 2115.93 1339.13 Q2115.93 1343.83 2117.85 1346.52 Q2119.79 1349.18 2123.17 1349.18 Q2126.55 1349.18 2128.47 1346.52 Q2130.42 1343.83 2130.42 1339.13 Z\" fill=\"#000000\" fill-rule=\"evenodd\" fill-opacity=\"1\" /><path clip-path=\"url(#clip990)\" d=\"M2141.9 1316.06 L2146.16 1316.06 L2146.16 1352.07 L2141.9 1352.07 L2141.9 1316.06 Z\" fill=\"#000000\" fill-rule=\"evenodd\" fill-opacity=\"1\" /><path clip-path=\"url(#clip990)\" d=\"M2177.25 1338.05 L2177.25 1340.13 L2157.66 1340.13 Q2157.94 1344.53 2160.3 1346.84 Q2162.69 1349.13 2166.92 1349.13 Q2169.38 1349.13 2171.67 1348.53 Q2173.98 1347.93 2176.25 1346.73 L2176.25 1350.75 Q2173.96 1351.73 2171.55 1352.24 Q2169.14 1352.75 2166.67 1352.75 Q2160.46 1352.75 2156.83 1349.13 Q2153.22 1345.52 2153.22 1339.37 Q2153.22 1333 2156.64 1329.27 Q2160.09 1325.52 2165.93 1325.52 Q2171.16 1325.52 2174.19 1328.9 Q2177.25 1332.26 2177.25 1338.05 M2172.99 1336.8 Q2172.94 1333.3 2171.02 1331.22 Q2169.12 1329.13 2165.97 1329.13 Q2162.41 1329.13 2160.26 1331.15 Q2158.13 1333.16 2157.8 1336.82 L2172.99 1336.8 Z\" fill=\"#000000\" fill-rule=\"evenodd\" fill-opacity=\"1\" /><path clip-path=\"url(#clip990)\" d=\"M2200.76 1326.91 L2200.76 1330.94 Q2198.96 1330.01 2197.01 1329.55 Q2195.07 1329.09 2192.99 1329.09 Q2189.82 1329.09 2188.22 1330.06 Q2186.64 1331.03 2186.64 1332.98 Q2186.64 1334.46 2187.78 1335.32 Q2188.91 1336.15 2192.34 1336.91 L2193.8 1337.24 Q2198.33 1338.21 2200.23 1339.99 Q2202.15 1341.75 2202.15 1344.92 Q2202.15 1348.53 2199.28 1350.64 Q2196.44 1352.75 2191.44 1352.75 Q2189.35 1352.75 2187.08 1352.33 Q2184.84 1351.94 2182.34 1351.13 L2182.34 1346.73 Q2184.7 1347.95 2186.99 1348.58 Q2189.28 1349.18 2191.53 1349.18 Q2194.54 1349.18 2196.16 1348.16 Q2197.78 1347.12 2197.78 1345.25 Q2197.78 1343.51 2196.6 1342.58 Q2195.44 1341.66 2191.48 1340.8 L2190 1340.45 Q2186.04 1339.62 2184.28 1337.91 Q2182.52 1336.17 2182.52 1333.16 Q2182.52 1329.51 2185.12 1327.51 Q2187.71 1325.52 2192.48 1325.52 Q2194.84 1325.52 2196.92 1325.87 Q2199.01 1326.22 2200.76 1326.91 Z\" fill=\"#000000\" fill-rule=\"evenodd\" fill-opacity=\"1\" /><polyline clip-path=\"url(#clip990)\" style=\"stroke:#e26f46; stroke-linecap:butt; stroke-linejoin:round; stroke-width:4; stroke-opacity:1; fill:none\" points=\"\n",
       "  1841.98,1386.63 1985.98,1386.63 \n",
       "  \"/>\n",
       "<path clip-path=\"url(#clip990)\" d=\"M2014.38 1390.97 Q2014.38 1395.67 2016.3 1398.36 Q2018.24 1401.02 2021.62 1401.02 Q2025 1401.02 2026.95 1398.36 Q2028.89 1395.67 2028.89 1390.97 Q2028.89 1386.28 2026.95 1383.61 Q2025 1380.93 2021.62 1380.93 Q2018.24 1380.93 2016.3 1383.61 Q2014.38 1386.28 2014.38 1390.97 M2028.89 1400.03 Q2027.55 1402.34 2025.49 1403.47 Q2023.45 1404.59 2020.58 1404.59 Q2015.88 1404.59 2012.92 1400.84 Q2009.98 1397.09 2009.98 1390.97 Q2009.98 1384.86 2012.92 1381.11 Q2015.88 1377.36 2020.58 1377.36 Q2023.45 1377.36 2025.49 1378.5 Q2027.55 1379.61 2028.89 1381.92 L2028.89 1377.99 L2033.15 1377.99 L2033.15 1413.78 L2028.89 1413.78 L2028.89 1400.03 Z\" fill=\"#000000\" fill-rule=\"evenodd\" fill-opacity=\"1\" /><path clip-path=\"url(#clip990)\" d=\"M2041.48 1393.68 L2041.48 1377.99 L2045.74 1377.99 L2045.74 1393.52 Q2045.74 1397.2 2047.18 1399.05 Q2048.61 1400.88 2051.48 1400.88 Q2054.93 1400.88 2056.92 1398.68 Q2058.94 1396.48 2058.94 1392.69 L2058.94 1377.99 L2063.2 1377.99 L2063.2 1403.91 L2058.94 1403.91 L2058.94 1399.93 Q2057.39 1402.29 2055.33 1403.45 Q2053.29 1404.59 2050.58 1404.59 Q2046.11 1404.59 2043.8 1401.81 Q2041.48 1399.03 2041.48 1393.68 M2052.2 1377.36 L2052.2 1377.36 Z\" fill=\"#000000\" fill-rule=\"evenodd\" fill-opacity=\"1\" /><path clip-path=\"url(#clip990)\" d=\"M2083.75 1390.88 Q2078.59 1390.88 2076.6 1392.06 Q2074.61 1393.24 2074.61 1396.09 Q2074.61 1398.36 2076.09 1399.7 Q2077.59 1401.02 2080.16 1401.02 Q2083.7 1401.02 2085.83 1398.52 Q2087.99 1396 2087.99 1391.83 L2087.99 1390.88 L2083.75 1390.88 M2092.25 1389.12 L2092.25 1403.91 L2087.99 1403.91 L2087.99 1399.98 Q2086.53 1402.34 2084.35 1403.47 Q2082.18 1404.59 2079.03 1404.59 Q2075.05 1404.59 2072.69 1402.36 Q2070.35 1400.12 2070.35 1396.37 Q2070.35 1391.99 2073.27 1389.77 Q2076.21 1387.55 2082.02 1387.55 L2087.99 1387.55 L2087.99 1387.13 Q2087.99 1384.19 2086.04 1382.6 Q2084.12 1380.97 2080.63 1380.97 Q2078.4 1380.97 2076.3 1381.51 Q2074.19 1382.04 2072.25 1383.1 L2072.25 1379.17 Q2074.58 1378.27 2076.78 1377.83 Q2078.98 1377.36 2081.07 1377.36 Q2086.69 1377.36 2089.47 1380.28 Q2092.25 1383.2 2092.25 1389.12 Z\" fill=\"#000000\" fill-rule=\"evenodd\" fill-opacity=\"1\" /><path clip-path=\"url(#clip990)\" d=\"M2118.08 1381.92 L2118.08 1367.9 L2122.34 1367.9 L2122.34 1403.91 L2118.08 1403.91 L2118.08 1400.03 Q2116.74 1402.34 2114.68 1403.47 Q2112.64 1404.59 2109.77 1404.59 Q2105.07 1404.59 2102.11 1400.84 Q2099.17 1397.09 2099.17 1390.97 Q2099.17 1384.86 2102.11 1381.11 Q2105.07 1377.36 2109.77 1377.36 Q2112.64 1377.36 2114.68 1378.5 Q2116.74 1379.61 2118.08 1381.92 M2103.57 1390.97 Q2103.57 1395.67 2105.49 1398.36 Q2107.43 1401.02 2110.81 1401.02 Q2114.19 1401.02 2116.14 1398.36 Q2118.08 1395.67 2118.08 1390.97 Q2118.08 1386.28 2116.14 1383.61 Q2114.19 1380.93 2110.81 1380.93 Q2107.43 1380.93 2105.49 1383.61 Q2103.57 1386.28 2103.57 1390.97 Z\" fill=\"#000000\" fill-rule=\"evenodd\" fill-opacity=\"1\" /><path clip-path=\"url(#clip990)\" d=\"M2146.14 1381.97 Q2145.42 1381.55 2144.56 1381.37 Q2143.73 1381.16 2142.71 1381.16 Q2139.1 1381.16 2137.15 1383.52 Q2135.23 1385.86 2135.23 1390.26 L2135.23 1403.91 L2130.95 1403.91 L2130.95 1377.99 L2135.23 1377.99 L2135.23 1382.02 Q2136.58 1379.66 2138.73 1378.52 Q2140.88 1377.36 2143.96 1377.36 Q2144.4 1377.36 2144.93 1377.43 Q2145.46 1377.48 2146.11 1377.6 L2146.14 1381.97 Z\" fill=\"#000000\" fill-rule=\"evenodd\" fill-opacity=\"1\" /><path clip-path=\"url(#clip990)\" d=\"M2162.39 1390.88 Q2157.22 1390.88 2155.23 1392.06 Q2153.24 1393.24 2153.24 1396.09 Q2153.24 1398.36 2154.72 1399.7 Q2156.23 1401.02 2158.8 1401.02 Q2162.34 1401.02 2164.47 1398.52 Q2166.62 1396 2166.62 1391.83 L2166.62 1390.88 L2162.39 1390.88 M2170.88 1389.12 L2170.88 1403.91 L2166.62 1403.91 L2166.62 1399.98 Q2165.16 1402.34 2162.99 1403.47 Q2160.81 1404.59 2157.66 1404.59 Q2153.68 1404.59 2151.32 1402.36 Q2148.98 1400.12 2148.98 1396.37 Q2148.98 1391.99 2151.9 1389.77 Q2154.84 1387.55 2160.65 1387.55 L2166.62 1387.55 L2166.62 1387.13 Q2166.62 1384.19 2164.68 1382.6 Q2162.76 1380.97 2159.26 1380.97 Q2157.04 1380.97 2154.93 1381.51 Q2152.82 1382.04 2150.88 1383.1 L2150.88 1379.17 Q2153.22 1378.27 2155.42 1377.83 Q2157.62 1377.36 2159.7 1377.36 Q2165.32 1377.36 2168.1 1380.28 Q2170.88 1383.2 2170.88 1389.12 Z\" fill=\"#000000\" fill-rule=\"evenodd\" fill-opacity=\"1\" /><path clip-path=\"url(#clip990)\" d=\"M2183.87 1370.63 L2183.87 1377.99 L2192.64 1377.99 L2192.64 1381.3 L2183.87 1381.3 L2183.87 1395.37 Q2183.87 1398.54 2184.72 1399.45 Q2185.6 1400.35 2188.26 1400.35 L2192.64 1400.35 L2192.64 1403.91 L2188.26 1403.91 Q2183.33 1403.91 2181.46 1402.09 Q2179.58 1400.23 2179.58 1395.37 L2179.58 1381.3 L2176.46 1381.3 L2176.46 1377.99 L2179.58 1377.99 L2179.58 1370.63 L2183.87 1370.63 Z\" fill=\"#000000\" fill-rule=\"evenodd\" fill-opacity=\"1\" /><path clip-path=\"url(#clip990)\" d=\"M2198.24 1377.99 L2202.5 1377.99 L2202.5 1403.91 L2198.24 1403.91 L2198.24 1377.99 M2198.24 1367.9 L2202.5 1367.9 L2202.5 1373.29 L2198.24 1373.29 L2198.24 1367.9 Z\" fill=\"#000000\" fill-rule=\"evenodd\" fill-opacity=\"1\" /><path clip-path=\"url(#clip990)\" d=\"M2230.07 1378.98 L2230.07 1382.97 Q2228.26 1381.97 2226.44 1381.48 Q2224.63 1380.97 2222.78 1380.97 Q2218.63 1380.97 2216.34 1383.61 Q2214.05 1386.23 2214.05 1390.97 Q2214.05 1395.72 2216.34 1398.36 Q2218.63 1400.97 2222.78 1400.97 Q2224.63 1400.97 2226.44 1400.49 Q2228.26 1399.98 2230.07 1398.98 L2230.07 1402.92 Q2228.29 1403.75 2226.37 1404.17 Q2224.47 1404.59 2222.32 1404.59 Q2216.46 1404.59 2213.01 1400.91 Q2209.56 1397.22 2209.56 1390.97 Q2209.56 1384.63 2213.03 1381 Q2216.53 1377.36 2222.59 1377.36 Q2224.56 1377.36 2226.44 1377.78 Q2228.31 1378.17 2230.07 1378.98 Z\" fill=\"#000000\" fill-rule=\"evenodd\" fill-opacity=\"1\" /></svg>\n"
      ]
     },
     "execution_count": 3,
     "metadata": {},
     "output_type": "execute_result"
    }
   ],
   "source": [
    "p = x -> p₀ + p₁*x + p₂*x^2\n",
    "\n",
    "scatter(x, f; label=\"samples\", legend=:bottomright)\n",
    "plot!(x, p.(x); label=\"quadratic\")"
   ]
  },
  {
   "cell_type": "markdown",
   "metadata": {},
   "source": [
    "Note that `\\` with a rectangular system does least squares by default:"
   ]
  },
  {
   "cell_type": "code",
   "execution_count": 4,
   "metadata": {
    "execution": {
     "iopub.execute_input": "2022-02-15T09:33:29.015275Z",
     "iopub.status.busy": "2022-02-15T09:33:29.014706Z",
     "iopub.status.idle": "2022-02-15T09:33:29.023511Z",
     "shell.execute_reply": "2022-02-15T09:33:29.022819Z"
    }
   },
   "outputs": [
    {
     "data": {
      "text/plain": [
       "3-element Vector{Float64}:\n",
       " 1.9913022340128237\n",
       " 1.1013098570989412\n",
       " 1.8903486392901003"
      ]
     },
     "execution_count": 4,
     "metadata": {},
     "output_type": "execute_result"
    }
   ],
   "source": [
    "A \\ f"
   ]
  },
  {
   "cell_type": "markdown",
   "metadata": {},
   "source": [
    "## 2. Reduced QR and Gram–Schmidt\n",
    "\n",
    "\n",
    "How do we compute the QR decomposition? We begin with a method\n",
    "you may have seen before in another guise. Write\n",
    "$$\n",
    "A = \\begin{bmatrix} 𝐚_1 | \\dots | 𝐚_n \\end{bmatrix}\n",
    "$$\n",
    "where $𝐚_k \\in  ℝ^m$ and assume they are linearly independent ($A$ has full column rank).\n",
    "Note that the column span of the first $j$ columns of $A$\n",
    "will be the same as the first $j$ columns of $Q̂$, as\n",
    "$R̂$ must be non-singular:\n",
    "$$\n",
    "\\hbox{span}(𝐚_1,\\ldots,𝐚_j) = \\hbox{span}(𝐪_1,\\ldots,𝐪_j)\n",
    "$$\n",
    "In other words: the columns of $Q̂$ are an orthogonal basis\n",
    "of the column span of $A$.\n",
    "To see this note that since `R̂` is triangular we have\n",
    "$$\n",
    "\\begin{bmatrix} 𝐚_1 | \\dots | 𝐚_j \\end{bmatrix} = \\begin{bmatrix} 𝐪_1 | \\dots | 𝐪_j \\end{bmatrix}  R̂[1:j,1:j]\n",
    "$$\n",
    "for all $j$. That is, if $𝐯 ∈ \\hbox{span}(𝐚_1,\\ldots,𝐚_j)$ we have for $𝐜 ∈ ℝ^j$\n",
    "$$\n",
    "𝐯 = \\begin{bmatrix} 𝐚_1 | \\dots | 𝐚_j \\end{bmatrix} 𝐜 = \\begin{bmatrix} 𝐪_1 | \\dots | 𝐪_j \\end{bmatrix}  R̂[1:j,1:j] 𝐜 ∈ \\hbox{span}(𝐪_1,\\ldots,𝐪_j)\n",
    "$$\n",
    " while if $𝐰 ∈ \\hbox{span}(𝐪_1,\\ldots,𝐪_j)$ we have for $𝐝 ∈ ℝ^j$\n",
    "$$\n",
    "𝐰 = \\begin{bmatrix} 𝐪_1 | \\dots | 𝐪_j \\end{bmatrix} 𝐝  =  \\begin{bmatrix} 𝐚_1 | \\dots | 𝐚_j \\end{bmatrix} R̂[1:j,1:j]^{-1} 𝐝 ∈  \\hbox{span}(𝐚_1,\\ldots,𝐚_j).\n",
    "$$\n",
    "\n",
    " \n",
    "It is possible to find an orthogonal basis using the _Gram–Schmidt algorithm_,\n",
    "We construct it via induction:\n",
    "assume that\n",
    "$$\n",
    "\\hbox{span}(𝐚_1,\\ldots,𝐚_{j-1}) = \\hbox{span}(𝐪_1,\\ldots,𝐪_{j-1})\n",
    "$$\n",
    "where $𝐪_1,\\ldots,𝐪_{j-1}$ are orthogonal:\n",
    "$$\n",
    "𝐪_k^\\top 𝐪_ℓ = δ_{kℓ} = \\begin{cases} 1 & k = ℓ \\\\\n",
    "                                            0 & \\hbox{otherwise} \\end{cases}.\n",
    "$$\n",
    "for $k,ℓ < j$.\n",
    "Define\n",
    "$$\n",
    "𝐯_j := 𝐚_j - \\sum_{k=1}^{j-1} \\underbrace{𝐪_k^\\top 𝐚_j}_{r_{kj}} 𝐪_k\n",
    "$$\n",
    "so that for $k < j$\n",
    "$$\n",
    "𝐪_k^\\top 𝐯_j = 𝐪_k^\\top 𝐚_j - \\sum_{k=1}^{j-1} \\underbrace{𝐪_k^\\top 𝐚_j}_{r_{kj}} 𝐪_k^\\top 𝐪_k = 0.\n",
    "$$\n",
    "Then we define\n",
    "$$\n",
    "𝐪_j := {𝐯_j \\over \\|𝐯_j\\|}.\n",
    "$$\n",
    "which sastisfies $𝐪_k^\\top 𝐪_j =δ_{kj}$ for $k \\leq j$.\n",
    "\n",
    "We now reinterpret this construction as a reduced QR decomposition.\n",
    "Define\n",
    "$\n",
    "r_{jj} := {\\|𝐯_j\\|}\n",
    "$\n",
    "Then rearrange the definition we have\n",
    "$$\n",
    "𝐚_j = \\begin{bmatrix} 𝐪_1|\\cdots|𝐪_j \\end{bmatrix} \\begin{bmatrix} r_{1j} \\\\ ⋮ \\\\ r_{jj} \\end{bmatrix}\n",
    "$$\n",
    "Thus\n",
    "$$\n",
    "\\begin{bmatrix} 𝐚_1|\\cdots|𝐚_j \\end{bmatrix} \n",
    "\\begin{bmatrix} r_{11} & \\cdots & r_{1j} \\\\ & ⋱ & ⋮ \\\\ && r_{jj} \\end{bmatrix}\n",
    "$$\n",
    "That is, we are computing the reduced QR decomposition column-by-column. \n",
    "Running this algorithm to $j = n$ completes the decomposition.\n",
    "\n",
    "### Gram–Schmidt in action\n",
    "\n",
    "We are going to compute the reduced QR of a random matrix"
   ]
  },
  {
   "cell_type": "code",
   "execution_count": 5,
   "metadata": {
    "execution": {
     "iopub.execute_input": "2022-02-15T09:33:29.026593Z",
     "iopub.status.busy": "2022-02-15T09:33:29.025452Z",
     "iopub.status.idle": "2022-02-15T09:33:29.644433Z",
     "shell.execute_reply": "2022-02-15T09:33:29.644002Z"
    }
   },
   "outputs": [
    {
     "data": {
      "text/plain": [
       "5×4 Matrix{Float64}:\n",
       " -0.630482   -0.426202  -0.101155  -0.530133\n",
       " -0.524428   -0.262607  -0.266452   0.482944\n",
       " -0.129158    0.425953  -0.719869   0.262994\n",
       " -0.0662478   0.485012  -0.277457  -0.625329\n",
       " -0.553531    0.576816   0.568838   0.159755"
      ]
     },
     "execution_count": 5,
     "metadata": {},
     "output_type": "execute_result"
    }
   ],
   "source": [
    "m,n = 5,4\n",
    "A = randn(m,n)\n",
    "Q,R̂ = qr(A)\n",
    "Q̂ = Q[:,1:n]"
   ]
  },
  {
   "cell_type": "markdown",
   "metadata": {},
   "source": [
    "The first column of `Q̂` is indeed a normalised first column of `A`:"
   ]
  },
  {
   "cell_type": "code",
   "execution_count": 6,
   "metadata": {
    "execution": {
     "iopub.execute_input": "2022-02-15T09:33:29.646579Z",
     "iopub.status.busy": "2022-02-15T09:33:29.646027Z",
     "iopub.status.idle": "2022-02-15T09:33:29.820205Z",
     "shell.execute_reply": "2022-02-15T09:33:29.819777Z"
    }
   },
   "outputs": [
    {
     "data": {
      "text/plain": [
       "5-element Vector{Float64}:\n",
       " 0.630482400681896\n",
       " 0.5244283950923772\n",
       " 0.12915824346683272\n",
       " 0.0662478315824829\n",
       " 0.5535306439632841"
      ]
     },
     "execution_count": 6,
     "metadata": {},
     "output_type": "execute_result"
    }
   ],
   "source": [
    "R = zeros(n,n)\n",
    "Q = zeros(m,n)\n",
    "R[1,1] = norm(A[:,1])\n",
    "Q[:,1] = A[:,1]/R[1,1]"
   ]
  },
  {
   "cell_type": "markdown",
   "metadata": {},
   "source": [
    "We now determine the next entries as"
   ]
  },
  {
   "cell_type": "code",
   "execution_count": 7,
   "metadata": {
    "execution": {
     "iopub.execute_input": "2022-02-15T09:33:29.822389Z",
     "iopub.status.busy": "2022-02-15T09:33:29.821843Z",
     "iopub.status.idle": "2022-02-15T09:33:29.941629Z",
     "shell.execute_reply": "2022-02-15T09:33:29.941213Z"
    }
   },
   "outputs": [
    {
     "data": {
      "text/plain": [
       "5-element Vector{Float64}:\n",
       " -0.4262022226633618\n",
       " -0.2626074204846619\n",
       "  0.4259525739458973\n",
       "  0.48501164628171584\n",
       "  0.5768163623053414"
      ]
     },
     "execution_count": 7,
     "metadata": {},
     "output_type": "execute_result"
    }
   ],
   "source": [
    "R[1,2] = Q[:,1]'A[:,2]\n",
    "v = A[:,2] - Q[:,1]*R[1,2]\n",
    "R[2,2] = norm(v)\n",
    "Q[:,2] = v/R[2,2]"
   ]
  },
  {
   "cell_type": "markdown",
   "metadata": {},
   "source": [
    "And the third column is then:"
   ]
  },
  {
   "cell_type": "code",
   "execution_count": 8,
   "metadata": {
    "execution": {
     "iopub.execute_input": "2022-02-15T09:33:29.943870Z",
     "iopub.status.busy": "2022-02-15T09:33:29.943258Z",
     "iopub.status.idle": "2022-02-15T09:33:29.997278Z",
     "shell.execute_reply": "2022-02-15T09:33:29.996851Z"
    }
   },
   "outputs": [
    {
     "data": {
      "text/plain": [
       "5-element Vector{Float64}:\n",
       "  0.1011551707609835\n",
       "  0.26645180209373276\n",
       "  0.7198692579407874\n",
       "  0.27745691988880977\n",
       " -0.568838270220028"
      ]
     },
     "execution_count": 8,
     "metadata": {},
     "output_type": "execute_result"
    }
   ],
   "source": [
    "R[1,3] = Q[:,1]'A[:,3]\n",
    "R[2,3] = Q[:,2]'A[:,3]\n",
    "v = A[:,3] - Q[:,1:2]*R[1:2,3]\n",
    "R[3,3] = norm(v)\n",
    "Q[:,3] = v/R[3,3]"
   ]
  },
  {
   "cell_type": "markdown",
   "metadata": {},
   "source": [
    "(Note the signs may not necessarily match.)\n",
    "\n",
    "We can clean this up as a simple algorithm:"
   ]
  },
  {
   "cell_type": "code",
   "execution_count": 9,
   "metadata": {
    "execution": {
     "iopub.execute_input": "2022-02-15T09:33:29.999528Z",
     "iopub.status.busy": "2022-02-15T09:33:29.998977Z",
     "iopub.status.idle": "2022-02-15T09:33:31.176865Z",
     "shell.execute_reply": "2022-02-15T09:33:31.176436Z"
    }
   },
   "outputs": [
    {
     "data": {
      "text/plain": [
       "3.521787733787174e-16"
      ]
     },
     "execution_count": 9,
     "metadata": {},
     "output_type": "execute_result"
    }
   ],
   "source": [
    "function gramschmidt(A)\n",
    "    m,n = size(A)\n",
    "    m ≥ n || error(\"Not supported\")\n",
    "    R = zeros(n,n)\n",
    "    Q = zeros(m,n)\n",
    "    for j = 1:n\n",
    "        for k = 1:j-1\n",
    "            R[k,j] = Q[:,k]'*A[:,j]\n",
    "        end\n",
    "        v = A[:,j] - Q[:,1:j-1]*R[1:j-1,j]\n",
    "        R[j,j] = norm(v)\n",
    "        Q[:,j] = v/R[j,j]\n",
    "    end\n",
    "    Q,R\n",
    "end\n",
    "\n",
    "Q,R = gramschmidt(A)\n",
    "norm(A - Q*R)"
   ]
  },
  {
   "cell_type": "markdown",
   "metadata": {},
   "source": [
    "### Complexity and stability\n",
    "\n",
    "We see within the `for j = 1:n` loop that we have $O(mj)$ operations. Thus the \n",
    "total complexity is $O(m n^2)$ operations.\n",
    "\n",
    "\n",
    "Unfortunately, the Gram–Schmidt algorithm is _unstable_: the rounding errors when implemented in floating point\n",
    "accumulate in a way that we lose orthogonality:"
   ]
  },
  {
   "cell_type": "code",
   "execution_count": 10,
   "metadata": {
    "execution": {
     "iopub.execute_input": "2022-02-15T09:33:31.179048Z",
     "iopub.status.busy": "2022-02-15T09:33:31.178502Z",
     "iopub.status.idle": "2022-02-15T09:33:31.567139Z",
     "shell.execute_reply": "2022-02-15T09:33:31.566635Z"
    }
   },
   "outputs": [
    {
     "data": {
      "text/plain": [
       "5.455263120264345e-13"
      ]
     },
     "execution_count": 10,
     "metadata": {},
     "output_type": "execute_result"
    }
   ],
   "source": [
    "A = randn(300,300)\n",
    "Q,R = gramschmidt(A)\n",
    "norm(Q'Q-I)"
   ]
  },
  {
   "cell_type": "markdown",
   "metadata": {},
   "source": [
    "## 3. Householder reflections and QR\n",
    "\n",
    "As an alternative, we will consider using Householder reflections to introduce zeros below\n",
    "the diagonal.\n",
    "Thus, if Gram–Schmidt is a process of _triangular orthogonalisation_ (using triangular matrices\n",
    "to orthogonalise), Householder reflections is a process of _orthogonal triangularisation_ \n",
    "(using orthogonal matrices to triangularise).\n",
    "\n",
    "Consider multiplication by the Householder reflection corresponding to the first column,\n",
    "that is, for\n",
    "$$\n",
    "Q_1 := Q_{𝐚_1}^{\\rm H},\n",
    "$$\n",
    "consider\n",
    "$$\n",
    "Q_1 A = \\begin{bmatrix} × & × & \\cdots & × \\\\\n",
    "& × & \\cdots & × \\\\\n",
    "                    & ⋮ & ⋱ & ⋮ \\\\\n",
    "                    & × & \\cdots & × \\end{bmatrix} = \n",
    "\\begin{bmatrix} r_{11} & r_{12} & \\cdots & r_{1n} \\\\ \n",
    "& 𝐚_2^1 & \\cdots & 𝐚_n^1   \\end{bmatrix}\n",
    "$$\n",
    "where \n",
    "$$\n",
    "r_{1j} :=  (Q_1 𝐚_j)[1] \\qquad \\hbox{and} \\qquad 𝐚_j^1 := (Q_1 𝐚_j)[2:m],\n",
    "$$\n",
    "noting $r_{11} = -\\hbox{sign}(a_{11})\\|𝐚_1\\|$ and all entries of $𝐚_1^1$ are zero (thus not included).\n",
    "That is, we have made the first column triangular.\n",
    "\n",
    "But now consider\n",
    "$$\n",
    "Q_2 := \\begin{bmatrix} 1  \\\\ & Q_{𝐚_2^1}^{\\rm H} \\end{bmatrix} = Q_{\\begin{bmatrix} 0 \\\\ 𝐚_2^1 \\end{bmatrix}}^H\n",
    "$$\n",
    "so that\n",
    "$$\n",
    "Q_2 Q_1A = \\begin{bmatrix} × & × & × & \\cdots & × \\\\\n",
    "& × & ×  & \\cdots & × \\\\\n",
    "                    && ⋮ & ⋱ & ⋮ \\\\\n",
    "                    && × & \\cdots & × \\end{bmatrix}  =  \\begin{bmatrix} r_{11} & r_{12} & r_{13} & \\cdots & r_{1n} \\\\ \n",
    "    & r_{22} & r_{23} & \\cdots & r_{2n} \\\\\n",
    "&& 𝐚_3^2 & \\cdots & 𝐚_n^2   \\end{bmatrix}\n",
    "$$\n",
    "where \n",
    "$$\n",
    "r_{2j} :=  (Q_2 𝐚_j^1)[1] \\qquad \\hbox{and} \\qquad 𝐚_j^2 := (Q_2 𝐚_j^1)[2:m-1]\n",
    "$$\n",
    "Thus the first two columns are triangular. \n",
    "\n",
    "The inductive construction is thus clear. If we define $𝐚_j^0 := 𝐚_j$ we\n",
    "have the construction\n",
    "$$\n",
    "\\begin{align*}\n",
    "Q_j &:= \\begin{bmatrix} I_{j-1 × j-1}  \\\\ & Q_{𝐚_j^j}^{±,\\rm H} \\end{bmatrix} \\\\\n",
    "𝐚_j^k &:= (Q_k 𝐚_j^{k-1})[2:m-k+1] \\\\\n",
    "r_{kj} &:= (Q_k 𝐚_j^{k-1})[1]\n",
    "\\end{align*}\n",
    "$$\n",
    "Then\n",
    "$$\n",
    "Q_n \\cdots Q_1 A = \\underbrace{\\begin{bmatrix} \n",
    "r_{11} & \\cdots & r_{1n} \\\\ & ⋱ & ⋮\\\\\n",
    "                                        && r_{nn} \\\\&& 0 \\\\ && ⋮ \\\\ && 0 \\end{bmatrix}}_R\n",
    "$$\n",
    "i.e.\n",
    "$$\n",
    "A = \\underbrace{Q_1 \\cdots Q_n}_Q R.\n",
    "$$\n",
    "\n",
    "The implementation is cleaner. We do a naive implementation here:"
   ]
  },
  {
   "cell_type": "code",
   "execution_count": 11,
   "metadata": {
    "execution": {
     "iopub.execute_input": "2022-02-15T09:33:31.569312Z",
     "iopub.status.busy": "2022-02-15T09:33:31.568700Z",
     "iopub.status.idle": "2022-02-15T09:33:32.178831Z",
     "shell.execute_reply": "2022-02-15T09:33:32.178088Z"
    }
   },
   "outputs": [
    {
     "data": {
      "text/plain": [
       "true"
      ]
     },
     "execution_count": 11,
     "metadata": {},
     "output_type": "execute_result"
    }
   ],
   "source": [
    "function householderreflection(x)\n",
    "    y = copy(x)\n",
    "    # we cannot use sign(x[1]) in case x[1] == 0\n",
    "    y[1] += (x[1] ≥ 0 ? 1 : -1)*norm(x) \n",
    "    w = y/norm(y)\n",
    "    I - 2*w*w'\n",
    "end\n",
    "function householderqr(A)\n",
    "    m,n = size(A)\n",
    "    R = copy(A)\n",
    "    Q = Matrix(1.0I, m, m)\n",
    "    for j = 1:n\n",
    "        Qⱼ = householderreflection(R[j:end,j])\n",
    "        R[j:end,:] = Qⱼ*R[j:end,:]\n",
    "        Q[:,j:end] = Q[:,j:end]*Qⱼ\n",
    "    end\n",
    "    Q,R\n",
    "end\n",
    "\n",
    "m,n = 7,5\n",
    "A = randn(m, n)\n",
    "Q,R = householderqr(A)\n",
    "Q*R ≈ A"
   ]
  },
  {
   "cell_type": "markdown",
   "metadata": {},
   "source": [
    "Note because we are forming a full matrix representation of each Householder\n",
    "reflection this is a slow algorithm, taking $O(n^4)$ operations. The problem sheet\n",
    "will consider a better implementation that takes $O(n^3)$ operations.\n",
    "\n",
    "\n",
    "**Example** We will now do an example by hand. Consider the $4 × 3$ matrix\n",
    "$$\n",
    "A = \\begin{bmatrix} \n",
    "4 & 2 & -1 \\\\ \n",
    "0 & 15 & 18 \\\\\n",
    "-2 & -4 & -4 \\\\\n",
    "-2 & -4 & -10\n",
    "\\end{bmatrix}\n",
    "$$\n",
    "For the first column we have\n",
    "$$\n",
    "Q_1 = I - {1 \\over 12} \\begin{bmatrix} 4 \\\\ 0 \\\\ -2 \\\\ -2 \\end{bmatrix} \\begin{bmatrix} 4 & 0 & -2 & -2 \\end{bmatrix} =\n",
    "{1 \\over 3} \\begin{bmatrix}\n",
    "-1 & 0 & 2 & 2 \\\\\n",
    "0 & 3 & 0 & 0 \\\\\n",
    "2 & 0 & 2 & -1 \\\\\n",
    "2 & 0 & -1 &2\n",
    "\\end{bmatrix}\n",
    "$$\n",
    "so that\n",
    "$$\n",
    "Q_1 A = \\begin{bmatrix} -3 & -6 & -9 \\\\\n",
    " & 15 & 18 \\\\\n",
    "  & 0 & 0 \\\\\n",
    "& 0 & -6\n",
    "\\end{bmatrix}\n",
    "$$\n",
    "In this example the next column is already upper-triangular,\n",
    "but because of our choice of reflection we will end up swapping the sign, that is\n",
    "$$\n",
    "Q_2 = \\begin{bmatrix} 1 \\\\ & -1 \\\\ && 1 \\\\ &&& 1 \\end{bmatrix}\n",
    "$$\n",
    "so that\n",
    "$$\n",
    "Q_2 Q_1 A = \\begin{bmatrix} -3 & -6 & -9 \\\\\n",
    " & -15 & -18 \\\\\n",
    "  & 0 & 0 \\\\\n",
    "& 0 & -6\n",
    "\\end{bmatrix}\n",
    "$$\n",
    "The final reflection is\n",
    "$$\n",
    "Q_3 = \\begin{bmatrix} I_{2 × 2} \\\\ &  I - \\begin{bmatrix} 1 \\\\ -1 \\end{bmatrix} \\begin{bmatrix} 1 & -1 \\end{bmatrix} \n",
    "\\end{bmatrix} = \\begin{bmatrix} å1 \\\\ & 1 \\\\ & & 0 & 1 \\\\ & & 1 & 0 \\end{bmatrix}\n",
    "$$\n",
    "giving us\n",
    "$$\n",
    "Q_3 Q_2 Q_1 A = \\underbrace{\\begin{bmatrix} -3 & -6 & -9 \\\\\n",
    " & -15 & -18 \\\\\n",
    "  &  & -6 \\\\\n",
    "&  & 0\n",
    "\\end{bmatrix}}_R\n",
    "$$\n",
    "That is,\n",
    "$$\n",
    "A = Q_1 Q_2 Q_3 R = \\underbrace{{1 \\over 3} \\begin{bmatrix}\n",
    "-1 & 0 & 2 & 2 \\\\\n",
    "0 & 3 & 0 & 0 \\\\\n",
    "2 & 0 & -1 & 2 \\\\\n",
    "2 & 0 & 2 &-1\n",
    "\\end{bmatrix}}_Q \\underbrace{\\begin{bmatrix} -3 & -6 & -9 \\\\\n",
    " & -15 & -18 \\\\\n",
    "  &  & -6 \\\\\n",
    "&  & 0\n",
    "\\end{bmatrix}}_R = \\underbrace{{1 \\over 3} \\begin{bmatrix}\n",
    "-1 & 0 & 2  \\\\\n",
    "0 & 3 & 0  \\\\\n",
    "2 & 0 & -1  \\\\\n",
    "2 & 0 & 2 \n",
    "\\end{bmatrix}}_Q̂  \\underbrace{\\begin{bmatrix} -3 & -6 & -9 \\\\\n",
    " & -15 & -18 \\\\\n",
    "  &  & -6 \n",
    "\\end{bmatrix}}_R̂\n",
    "$$\n",
    "\n",
    "\n",
    "\n",
    "## 2. PLU Decomposition\n",
    "\n",
    "Just as Gram–Schmidt can be reinterpreted as a reduced QR decomposition,\n",
    "Gaussian elimination with pivoting can be interpreted as a PLU decomposition.\n",
    "\n",
    "\n",
    "### Special \"one-column\" lower triangular matrices\n",
    "\n",
    "\n",
    "Consider the following set of $n × n$ lower triangular\n",
    "matrices which equals identity apart from one-column:\n",
    "$$\n",
    "{\\cal L}_j := \\left\\{I + \\begin{bmatrix} 𝟎_j \\\\ 𝐥_j \\end{bmatrix} 𝐞_j^⊤ : 𝐥_j ∈ ℝ^{n-j} \\right\\}\n",
    "$$\n",
    "where  $𝟎_j$ denotes the zero vector of length $j$. \n",
    "That is, if $L_j ∈ {\\cal L}_j$ then it is equal to the identity matrix apart from in the $j$ th column:\n",
    "$$\n",
    "L_j = \\begin{bmatrix}\n",
    "        1 \\\\ & {⋱} \\\\ && 1 \\\\\n",
    "                    && ℓ_{j+1,j} & 1 \\\\\n",
    "                    && ⋮ && \\dots \\\\\n",
    "                    && ℓ_{n,j} & & & 1 \\end{bmatrix} = \n",
    "$$\n",
    "\n",
    "These satisify the following special properties:\n",
    "\n",
    "**Proposition (one-column lower triangular inverse)**\n",
    "If $L_j \\in {\\cal L}_j$ then\n",
    "$$\n",
    "L_j^{-1}  = I - \\begin{bmatrix} 𝟎_j \\\\ 𝐥_j \\end{bmatrix} 𝐞_j^⊤ = \\begin{bmatrix}\n",
    "        1 \\\\ & ⋱ \\\\ && 1 \\\\\n",
    "                    &&-ℓ_{j+1,j} & 1 \\\\\n",
    "                    &&⋮ && \\dots \\\\\n",
    "                    &&-ℓ_{n,j} & & & 1 \\end{bmatrix} ∈ {\\cal L}_j.\n",
    "$$\n",
    "\n",
    "\n",
    "**Proposition (one-column lower triangular multiplication)**\n",
    "If $L_j \\in {\\cal L}_j$ and $L_k \\in {\\cal L}_k$ for $k ≥ j$ then\n",
    "$$\n",
    "L_j L_k =  I + \\begin{bmatrix} 𝟎_j \\\\ 𝐥_j \\end{bmatrix} 𝐞_j^⊤ +  \\begin{bmatrix} 𝟎_k \\\\ 𝐥_k \\end{bmatrix} 𝐞_k^⊤\n",
    "$$\n",
    "\n",
    "\n",
    "**Lemma (one-column lower triangular with pivoting)**\n",
    "If $σ$ is a permutation that leaves the first $j$\n",
    "rows fixed (that is, $σ_ℓ = ℓ$ for $ℓ ≤ j$) and $L_j ∈ {\\cal L}_j$ then\n",
    "$$\n",
    "P_σ L_j=  \\tilde L_j P_σ\n",
    "$$\n",
    "where $\\tilde L_j ∈ {\\cal L}_j$.\n",
    "\n",
    "**Proof**\n",
    "Write\n",
    "$$\n",
    "P_σ = \\begin{bmatrix} I_j \\\\ & P_τ \\end{bmatrix}\n",
    "$$\n",
    "where $τ$ is the permutation with Cauchy notation\n",
    "$$\n",
    "\\begin{pmatrix}\n",
    "1 & \\cdots & n-j \\\\\n",
    "σ_{j+1}-j & ⋯ & σ_n-j\n",
    "\\end{pmatrix}\n",
    "$$\n",
    "Then we have\n",
    "$$\n",
    "P_σ L_j = P_σ + \\begin{bmatrix} 𝟎_j \\\\ P_τ 𝐥_j \\end{bmatrix} 𝐞_j^⊤ =\n",
    "\\underbrace{(I +  \\begin{bmatrix} 𝟎_j \\\\ P_τ 𝐥_j \\end{bmatrix} 𝐞_j^⊤)}_{\\tilde L_j} P_σ\n",
    "$$\n",
    "noting that $𝐞_j^⊤ P_σ = 𝐞_j^⊤$ (as $σ_j = j$). \n",
    "∎\n",
    "\n",
    "\n",
    "### LU Decomposition\n",
    "\n",
    "Before discussing pivoting, consider standard Gaussian elimation where one row-reduces\n",
    "to introduce zeros column-by-column. We will mimick the computation of the QR decomposition\n",
    "to view this as a _triangular triangularisation_.\n",
    "\n",
    "\n",
    "Consider the matrix\n",
    "$$\n",
    "L_1 = \\begin{bmatrix} 1 \\\\ -{a_{21} \\over a_{11}} & 1 \\\\ ⋮ &&⋱ \\\\\n",
    "                -{a_{n1} \\over a_{11}}  &&& 1\n",
    "                \\end{bmatrix} = I - \\begin{bmatrix} 0 \\\\ {𝐚_1[2:n] \\over 𝐚_1[1]} \\end{bmatrix}  𝐞_1^\\top.\n",
    "$$\n",
    "We then have\n",
    "$$\n",
    "L_1 A =  \\begin{bmatrix} u_{11} & u_{12} & \\cdots & u_{1n} \\\\ \n",
    "& 𝐚_2^1 & \\cdots & 𝐚_n^1   \\end{bmatrix}\n",
    "$$\n",
    "where $𝐚_j^1 := (L_1 𝐚_j)[2:n]$ and $u_{1j} = a_{1j}$. But now consider\n",
    "$$\n",
    "L_2 := I - \\begin{bmatrix} 0 \\\\ {𝐚_2^1[2:n-1] \\over 𝐚_2^1[1]} \\end{bmatrix}  𝐞_1^\\top.\n",
    "$$\n",
    "Then\n",
    "$$\n",
    "L_2 L_1 A = \\begin{bmatrix} u_{11} & u_{12} & u_{13} & \\cdots & u_{1n} \\\\ \n",
    "    & u_{22} & u_{23} & \\cdots & u_{2n} \\\\\n",
    "&& 𝐚_3^2 & \\cdots & 𝐚_n^2   \\end{bmatrix}\n",
    "$$\n",
    "where \n",
    "$$\n",
    "u_{2j} :=  (𝐚_j^1)[1] \\qquad \\hbox{and} \\qquad 𝐚_j^2 := (L_2 𝐚_j^1)[2:n-1]\n",
    "$$\n",
    "Thus the first two columns are triangular. \n",
    "\n",
    "The inductive construction is again clear. If we define $𝐚_j^0 := 𝐚_j$ we\n",
    "have the construction\n",
    "$$\n",
    "\\begin{align*}\n",
    "L_j &:= I - \\begin{bmatrix} 𝟎_j \\\\ {𝐚_{j+1}^j[2:n-j] \\over 𝐚_{j+1}^j[1]} \\end{bmatrix} 𝐞_j^⊤ \\\\\n",
    "𝐚_j^k &:= (L_k 𝐚_j^{k-1})[2:n-k+1]\n",
    " \\\\\n",
    "u_{kj} &:= (L_k 𝐚_j^{k-1})[1]\n",
    "\\end{align*}\n",
    "$$\n",
    "Then\n",
    "$$\n",
    "L_{n-1} \\cdots L_1 A = \\underbrace{\\begin{bmatrix} \n",
    "u_{11} & \\cdots & u_{1n} \\\\ & ⋱ & ⋮\\\\\n",
    "                                        && u_{nn}\\end{bmatrix}}_U\n",
    "$$\n",
    "i.e.\n",
    "$$\n",
    "A = \\underbrace{L_{1}^{-1} \\cdots L_{n-1}^{-1}}_L U.\n",
    "$$\n",
    "\n",
    "Writing\n",
    "$$\n",
    "L_j = I + \\begin{bmatrix} 𝟎_j \\\\ \\ell_{j+1,j} \\\\ ⋮ \\\\ \\ell_{n,j} \\end{bmatrix} 𝐞_j^\\top\n",
    "$$\n",
    "and using the properties of inversion and multiplication we therefore deduce\n",
    "$$\n",
    "L = \\begin{bmatrix} 1 \\\\ -\\ell_{21} & 1 \\\\\n",
    "-\\ell_{31} & -\\ell_{32} & 1 \\\\\n",
    " ⋮ & ⋮ & ⋱ & ⋱ \\\\\n",
    "    -\\ell_{n1} & -\\ell_{n2} & \\cdots & -\\ell_{n,n-1} & 1\n",
    "    \\end{bmatrix}\n",
    "$$\n",
    "\n",
    "\n",
    "\n",
    "\n",
    "**Example (computer)**\n",
    "We will do a numerical example (by-hand is equivalent to Gaussian elimination).\n",
    "The first lower triangular matrix is:"
   ]
  },
  {
   "cell_type": "code",
   "execution_count": 12,
   "metadata": {
    "execution": {
     "iopub.execute_input": "2022-02-15T09:33:32.181992Z",
     "iopub.status.busy": "2022-02-15T09:33:32.180820Z",
     "iopub.status.idle": "2022-02-15T09:33:32.648665Z",
     "shell.execute_reply": "2022-02-15T09:33:32.647982Z"
    }
   },
   "outputs": [
    {
     "data": {
      "text/plain": [
       "4×4 Matrix{Float64}:\n",
       "  1.0      -0.0  -0.0  -0.0\n",
       "  2.26919   1.0  -0.0  -0.0\n",
       " -0.42621  -0.0   1.0  -0.0\n",
       "  1.84039  -0.0  -0.0   1.0"
      ]
     },
     "execution_count": 12,
     "metadata": {},
     "output_type": "execute_result"
    }
   ],
   "source": [
    "n = 4\n",
    "A = randn(n,n)\n",
    "L₁ = I -[0; A[2:end,1]/A[1,1]] * [1 zeros(1,n-1)]"
   ]
  },
  {
   "cell_type": "markdown",
   "metadata": {},
   "source": [
    "Which indeed introduces zeros in the first column:"
   ]
  },
  {
   "cell_type": "code",
   "execution_count": 13,
   "metadata": {
    "execution": {
     "iopub.execute_input": "2022-02-15T09:33:32.651861Z",
     "iopub.status.busy": "2022-02-15T09:33:32.650896Z",
     "iopub.status.idle": "2022-02-15T09:33:32.655623Z",
     "shell.execute_reply": "2022-02-15T09:33:32.655070Z"
    }
   },
   "outputs": [
    {
     "data": {
      "text/plain": [
       "4×4 Matrix{Float64}:\n",
       " -0.476424   0.150606   0.472091   0.712055\n",
       "  0.0       -0.410211   1.08783    2.35194\n",
       "  0.0       -1.71671    3.27631   -1.8034\n",
       "  0.0        1.30315   -1.18916    0.937602"
      ]
     },
     "execution_count": 13,
     "metadata": {},
     "output_type": "execute_result"
    }
   ],
   "source": [
    "A₁ = L₁*A"
   ]
  },
  {
   "cell_type": "markdown",
   "metadata": {},
   "source": [
    "Now we make the next lower triangular operator:"
   ]
  },
  {
   "cell_type": "code",
   "execution_count": 14,
   "metadata": {
    "execution": {
     "iopub.execute_input": "2022-02-15T09:33:32.657785Z",
     "iopub.status.busy": "2022-02-15T09:33:32.657219Z",
     "iopub.status.idle": "2022-02-15T09:33:32.745513Z",
     "shell.execute_reply": "2022-02-15T09:33:32.745077Z"
    }
   },
   "outputs": [
    {
     "data": {
      "text/plain": [
       "4×4 Matrix{Float64}:\n",
       "  1.0  -0.0      -0.0  -0.0\n",
       " -0.0   1.0      -0.0  -0.0\n",
       " -0.0  -4.18495   1.0  -0.0\n",
       " -0.0   3.17677  -0.0   1.0"
      ]
     },
     "execution_count": 14,
     "metadata": {},
     "output_type": "execute_result"
    }
   ],
   "source": [
    "L₂ = I - [0; 0; A₁[3:end,2]/A₁[2,2]] * [0 1 zeros(1,n-2)]"
   ]
  },
  {
   "cell_type": "markdown",
   "metadata": {},
   "source": [
    "So that"
   ]
  },
  {
   "cell_type": "code",
   "execution_count": 15,
   "metadata": {
    "execution": {
     "iopub.execute_input": "2022-02-15T09:33:32.747733Z",
     "iopub.status.busy": "2022-02-15T09:33:32.747122Z",
     "iopub.status.idle": "2022-02-15T09:33:32.761476Z",
     "shell.execute_reply": "2022-02-15T09:33:32.760988Z"
    }
   },
   "outputs": [
    {
     "data": {
      "text/plain": [
       "4×4 Matrix{Float64}:\n",
       " -0.476424      0.150606      0.472091    0.712055\n",
       "  0.0          -0.410211      1.08783     2.35194\n",
       " -4.71845e-16   0.0          -1.27622   -11.6462\n",
       " -8.88178e-16   2.22045e-16   2.26663     8.40917"
      ]
     },
     "execution_count": 15,
     "metadata": {},
     "output_type": "execute_result"
    }
   ],
   "source": [
    "A₂ = L₂*L₁*A"
   ]
  },
  {
   "cell_type": "markdown",
   "metadata": {},
   "source": [
    "The last one is:"
   ]
  },
  {
   "cell_type": "code",
   "execution_count": 16,
   "metadata": {
    "execution": {
     "iopub.execute_input": "2022-02-15T09:33:32.763591Z",
     "iopub.status.busy": "2022-02-15T09:33:32.763042Z",
     "iopub.status.idle": "2022-02-15T09:33:32.919019Z",
     "shell.execute_reply": "2022-02-15T09:33:32.918503Z"
    }
   },
   "outputs": [
    {
     "data": {
      "text/plain": [
       "4×4 Matrix{Float64}:\n",
       "  1.0  -0.0  -0.0      -0.0\n",
       " -0.0   1.0  -0.0      -0.0\n",
       " -0.0  -0.0   1.0      -0.0\n",
       " -0.0  -0.0   1.77605   1.0"
      ]
     },
     "execution_count": 16,
     "metadata": {},
     "output_type": "execute_result"
    }
   ],
   "source": [
    "L₃ = I - [0; 0; 0; A₂[4:end,3]/A₂[3,3]] * [0 0 1 zeros(1,n-3)]"
   ]
  },
  {
   "cell_type": "markdown",
   "metadata": {},
   "source": [
    "Giving us"
   ]
  },
  {
   "cell_type": "code",
   "execution_count": 17,
   "metadata": {
    "execution": {
     "iopub.execute_input": "2022-02-15T09:33:32.921297Z",
     "iopub.status.busy": "2022-02-15T09:33:32.920737Z",
     "iopub.status.idle": "2022-02-15T09:33:32.952019Z",
     "shell.execute_reply": "2022-02-15T09:33:32.951267Z"
    }
   },
   "outputs": [
    {
     "data": {
      "text/plain": [
       "4×4 Matrix{Float64}:\n",
       " -0.476424   0.150606      0.472091       0.712055\n",
       "  0.0       -0.410211      1.08783        2.35194\n",
       "  0.0       -2.22045e-16  -1.27622      -11.6462\n",
       "  0.0        0.0          -1.77636e-15  -12.275"
      ]
     },
     "execution_count": 17,
     "metadata": {},
     "output_type": "execute_result"
    }
   ],
   "source": [
    "U = L₃*L₂*L₁*A"
   ]
  },
  {
   "cell_type": "markdown",
   "metadata": {},
   "source": [
    "and"
   ]
  },
  {
   "cell_type": "code",
   "execution_count": 18,
   "metadata": {
    "execution": {
     "iopub.execute_input": "2022-02-15T09:33:32.954422Z",
     "iopub.status.busy": "2022-02-15T09:33:32.953713Z",
     "iopub.status.idle": "2022-02-15T09:33:33.036872Z",
     "shell.execute_reply": "2022-02-15T09:33:33.036316Z"
    }
   },
   "outputs": [
    {
     "data": {
      "text/plain": [
       "4×4 Matrix{Float64}:\n",
       "  1.0       0.0       0.0      0.0\n",
       " -2.26919   1.0       0.0      0.0\n",
       "  0.42621   4.18495   1.0      0.0\n",
       " -1.84039  -3.17677  -1.77605  1.0"
      ]
     },
     "execution_count": 18,
     "metadata": {},
     "output_type": "execute_result"
    }
   ],
   "source": [
    "L = inv(L₁)*inv(L₂)*inv(L₃)"
   ]
  },
  {
   "cell_type": "markdown",
   "metadata": {},
   "source": [
    "Note how the entries of `L` are indeed identical to the negative\n",
    "lower entries of `L₁`, `L₂` and `L₃`.\n",
    "\n",
    "**Example (by-hand)**\n",
    "\n",
    "Consider the matrix\n",
    "$$\n",
    "A = \\begin{bmatrix} 1 & 1 & 1 \\\\\n",
    "                    2 & 4 & 8 \\\\\n",
    "                    1 & 4 & 9\n",
    "                    \\end{bmatrix}\n",
    "$$\n",
    "We have\n",
    "$$\n",
    "L_2 L_1 A = L_2 \\begin{bmatrix}1 \\\\ \n",
    "                        -2 & 1 \\\\ -1 &  & 1 \\end{bmatrix} \\begin{bmatrix} 1 & 1 & 1 \\\\\n",
    "                    2 & 4 & 8 \\\\\n",
    "                    1 & 4 & 9\n",
    "                    \\end{bmatrix}\n",
    "    = \\begin{bmatrix}1 \\\\ & 1\\\\ & -{3 \\over 2} & 1 \n",
    "    \\end{bmatrix} \\begin{bmatrix} 1 & 1 & 1 \\\\\n",
    "                         & 2 & 6 \\\\\n",
    "                         & 3 & 8 \\end{bmatrix}\n",
    "    = \\underbrace{\\begin{bmatrix} 1 & 1 & 1 \\\\\n",
    "                         & 2 & 6 \\\\\n",
    "                         &  & -1 \\end{bmatrix}}_U\n",
    "$$\n",
    "We then deduce $L$ by taking the negative of the lower \n",
    "entries of $L_1,L_2$:\n",
    "$$\n",
    "L = \\begin{bmatrix} 1 \\\\ 2 & 1 \\\\ 1 &{3 \\over 2} & 1\n",
    "\\end{bmatrix}.\n",
    "$$\n",
    "\n",
    "\n",
    "### PLU Decomposition\n",
    "\n",
    "We learned in first year linear algebra that if a diagonal entry is zero\n",
    "when doing Gaussian elimnation one has to _row pivot_. For stability, \n",
    "in implementation one _always_ pivots: swap the largest in magnitude entry for the entry on the diagonal.\n",
    "In terms of a decomposition, this leads to \n",
    "$$\n",
    "L_{n-1} P_{n-1} \\cdots P_2 L_1 P_1 A = U\n",
    "$$\n",
    "where $P_j$ is a permutation that leaves rows 1 through $j-1$ fixed,\n",
    "and swaps row $j$ with a row $k \\geq j$ whose entry is maximal in absolute value.\n",
    "\n",
    "Thus we can deduce that \n",
    "$$\n",
    "L_{n-1} P_{n-1} \\cdots P_2 L_1 P_1 = \\underbrace{L_{n-1} \\tilde L_{n-2} \\cdots  \\tilde L_1}_{L^{-1}}  \\underbrace{P_{n-1} \\cdots P_2 P_1}_P.\n",
    "$$\n",
    "where the tilde denotes the combined actions of swapping the permutation and lower-triangular matrices, that is,\n",
    "$$\n",
    "P_{n-1}\\cdots P_{j+1} L_j = \\tilde L_j P_{n-1}\\cdots P_{j+1}.\n",
    "$$\n",
    "where $\\tilde L_j \\in {\\cal L}_j$.\n",
    "The entries of $L$ are then again the negative of the entries below the diagonal of $L_{n-1}, \\tilde L_{n-2}, \\ldots,\\tilde L_1$.\n",
    "\n",
    "\n",
    "Writing\n",
    "$$\n",
    "\\tilde L_j = I + \\begin{bmatrix} 𝟎_j \\\\ \\tilde \\ell_{j+1,j} \\\\ ⋮ \\\\ \\tilde \\ell_{n,j} \\end{bmatrix} 𝐞_j^\\top\n",
    "$$\n",
    "and using the properties of inversion and multiplication we therefore deduce\n",
    "$$\n",
    "L = \\begin{bmatrix} \n",
    "1 \\\\ \n",
    "-\\tilde \\ell_{21} & 1 \\\\\n",
    "-\\tilde \\ell_{31} & -\\tilde \\ell_{32} & 1 \\\\\n",
    " ⋮ & ⋮ & ⋱ & ⋱ \\\\\n",
    " -\\tilde \\ell_{n-1,1} & -\\tilde \\ell_{n-1,2} & \\cdots &  - \\tilde \\ell_{n-1,n-2} & 1 \\\\\n",
    "    -\\tilde \\ell_{n1} & -\\tilde \\ell_{n2} & \\cdots &  - \\tilde \\ell_{n,n-2} &  -\\ell_{n,n-1} & 1\n",
    "\\end{bmatrix}\n",
    "$$\n",
    "\n",
    "\n",
    "\n",
    "**Example**\n",
    "\n",
    "Again we consider the matrix\n",
    "$$\n",
    "A = \\begin{bmatrix} 1 & 1 & 1 \\\\\n",
    "                    2 & 4 & 8 \\\\\n",
    "                    1 & 4 & 9\n",
    "                    \\end{bmatrix}\n",
    "$$\n",
    "Even though $a_{11} = 1 \\neq 0$, we still pivot: placing \n",
    "the maximum entry on the diagonal to mitigate numerical errors.\n",
    "That is, we first pivot and upper triangularise the first column:\n",
    "$$\n",
    " L_1 P_1 A =  L_1\\begin{bmatrix} 0 & 1 \\\\ 1 & 0 \\\\ && 1 \\end{bmatrix}\n",
    "\\begin{bmatrix} 1 & 1 & 1 \\\\\n",
    "                    2 & 4 & 8 \\\\\n",
    "                    1 & 4 & 9\n",
    "                    \\end{bmatrix} = \n",
    "                     \\begin{bmatrix}1 \\\\ -{1 \\over 2} & 1 \\\\ -{1 \\over 2} && 1 \\end{bmatrix}\n",
    "\\begin{bmatrix} 2 & 4 & 8 \\\\\n",
    "                1 & 1 & 1 \\\\\n",
    "                    1 & 4 & 9\n",
    "                    \\end{bmatrix}\n",
    "$$\n",
    "We now pivot and upper triangularise the second column:\n",
    "$$\n",
    "  L_2 P_2 L_1 P_1 A = \n",
    "                    L_2 \\begin{bmatrix}\n",
    "                    1 \\\\ &0 & 1 \\\\ &1 & 0 \\end{bmatrix}\n",
    "\\begin{bmatrix} 2 & 4 & 8 \\\\\n",
    "                0 & -1 & -3 \\\\\n",
    "                    0 & 2 & 5\n",
    "                    \\end{bmatrix}\n",
    "                    = \\begin{bmatrix} 1\\\\ & 1 \\\\ & {1 \\over 2} & 1 \\end{bmatrix}\n",
    "\\begin{bmatrix} 2 & 4 & 8 \\\\\n",
    "                0 & 2 & 5 \\\\\n",
    "                0 & -1 & -3 \n",
    "                    \\end{bmatrix} = \n",
    "                    \\underbrace{\\begin{bmatrix} 2 & 4 & 8 \\\\\n",
    "                0 & 2 & 5 \\\\\n",
    "                0 & 0 & -{1 \\over 2}\n",
    "                    \\end{bmatrix}}_U\n",
    "$$\n",
    "We now move $P_2$ to the right:\n",
    "$$\n",
    "L_2 P_2 L_1 P_1 = \\underbrace{\\begin{bmatrix} 1\\\\ -{1 \\over 2} & 1 \\\\  -{1 \\over 2}  & {1 \\over 2} & 1 \\end{bmatrix}}_{L_2 \\tilde L_1} \\underbrace{\\begin{bmatrix} 0 & 1 & 0 \\\\ 0 & 0 & 1 \\\\ 1 & 0 & 0 \\end{bmatrix}}_P\n",
    "$$\n",
    "That is\n",
    "$$\n",
    "L = \\begin{bmatrix} 1\\\\ {1 \\over 2} & 1 \\\\  {1 \\over 2}  & -{1 \\over 2} & 1 \\end{bmatrix}\n",
    "$$\n",
    "\n",
    "We see how this example is done on a computer:"
   ]
  },
  {
   "cell_type": "code",
   "execution_count": 19,
   "metadata": {
    "execution": {
     "iopub.execute_input": "2022-02-15T09:33:33.038995Z",
     "iopub.status.busy": "2022-02-15T09:33:33.038364Z",
     "iopub.status.idle": "2022-02-15T09:33:33.487403Z",
     "shell.execute_reply": "2022-02-15T09:33:33.486896Z"
    }
   },
   "outputs": [
    {
     "data": {
      "text/plain": [
       "LU{Float64, Matrix{Float64}}\n",
       "L factor:\n",
       "3×3 Matrix{Float64}:\n",
       " 1.0   0.0  0.0\n",
       " 0.5   1.0  0.0\n",
       " 0.5  -0.5  1.0\n",
       "U factor:\n",
       "3×3 Matrix{Float64}:\n",
       " 2.0  4.0   8.0\n",
       " 0.0  2.0   5.0\n",
       " 0.0  0.0  -0.5"
      ]
     },
     "execution_count": 19,
     "metadata": {},
     "output_type": "execute_result"
    }
   ],
   "source": [
    "A = [1 1 1;\n",
    "     2 4 8;\n",
    "     1 4 9]\n",
    "L,U,σ = lu(A) # σ is a vector encoding the permutation"
   ]
  },
  {
   "cell_type": "markdown",
   "metadata": {},
   "source": [
    "The permutation is"
   ]
  },
  {
   "cell_type": "code",
   "execution_count": 20,
   "metadata": {
    "execution": {
     "iopub.execute_input": "2022-02-15T09:33:33.490802Z",
     "iopub.status.busy": "2022-02-15T09:33:33.489885Z",
     "iopub.status.idle": "2022-02-15T09:33:34.107090Z",
     "shell.execute_reply": "2022-02-15T09:33:34.106474Z"
    }
   },
   "outputs": [
    {
     "data": {
      "text/plain": [
       "3-element Vector{Int64}:\n",
       " 2\n",
       " 3\n",
       " 1"
      ]
     },
     "execution_count": 20,
     "metadata": {},
     "output_type": "execute_result"
    }
   ],
   "source": [
    "σ"
   ]
  },
  {
   "cell_type": "markdown",
   "metadata": {},
   "source": [
    "Thus to invert a system we can do:"
   ]
  },
  {
   "cell_type": "code",
   "execution_count": 21,
   "metadata": {
    "execution": {
     "iopub.execute_input": "2022-02-15T09:33:34.110352Z",
     "iopub.status.busy": "2022-02-15T09:33:34.109300Z",
     "iopub.status.idle": "2022-02-15T09:33:34.691141Z",
     "shell.execute_reply": "2022-02-15T09:33:34.690350Z"
    }
   },
   "outputs": [
    {
     "data": {
      "text/plain": [
       "true"
      ]
     },
     "execution_count": 21,
     "metadata": {},
     "output_type": "execute_result"
    }
   ],
   "source": [
    "b = randn(3)\n",
    "U\\(L\\b[σ]) == A\\b"
   ]
  },
  {
   "cell_type": "markdown",
   "metadata": {},
   "source": [
    "Note the entries match exactly because this precisely what `\\` is using.\n",
    "\n",
    "## 3. Cholesky Decomposition\n",
    "\n",
    "Cholesky Decomposition is a form of Gaussian elimination (without pivoting)\n",
    "that exploits symmetry in the problem, resulting in a substantial speedup. \n",
    "It is only relevant for _symmetric positive definite_\n",
    "matrices.\n",
    "\n",
    "**Definition (positive definite)** A square matrix $A \\in ℝ^{n × n}$ is _positive definite_ if\n",
    "for all $𝐱 \\in ℝ^n, x \\neq 0$ we have\n",
    "$$\n",
    "𝐱^\\top A 𝐱 > 0\n",
    "$$\n",
    "\n",
    "First we establish some basic properties of positive definite matrices:\n",
    "\n",
    "**Proposition (conj. pos. def.)** If  $A \\in ℝ^{n × n}$ is positive definite and \n",
    "$V \\in ℝ^{n × n}$ is non-singular then\n",
    "$$\n",
    "V^\\top A V\n",
    "$$\n",
    "is positive definite.\n",
    "\n",
    "**Proposition (diag positivity)** If $A \\in ℝ^{n × n}$ is positive definite\n",
    "then its diagonal entries are positive: $a_{kk} > 0$.\n",
    "\n",
    "\n",
    "**Theorem (subslice pos. def.)** If $A \\in ℝ^{n × n}$ is positive definite\n",
    "and $𝐤 \\in \\{1,\\ldots,n\\}^m$ is a vector of $m$ integers where any integer appears only once,\n",
    " then $A[𝐤,𝐤] ∈ ℝ^{m × m}$ is also\n",
    "positive definite.\n",
    "\n",
    "\n",
    "\n",
    "We leave the proofs to the problem sheets. Here is the key result:\n",
    "\n",
    "\n",
    "**Theorem (Cholesky and sym. pos. def.)** A matrix $A$ is symmetric positive definite if and only if it has a Cholesky decomposition\n",
    "$$\n",
    "A = L L^⊤\n",
    "$$\n",
    "where the diagonals of $L$ are positive.\n",
    "\n",
    "**Proof** If $A$ has a Cholesky decomposition it is symmetric ($A^⊤ = (L L^⊤)^⊤ = A$) and for $𝐱 ≠ 0$ we have\n",
    "$$\n",
    "𝐱^⊤ A 𝐱 = (L𝐱)^⊤ L 𝐱 = \\|L𝐱\\|^2 > 0\n",
    "$$\n",
    "where we use the fact that $L$ is non-singular.\n",
    "\n",
    "For the other direction we will prove it by induction, with the $1 × 1$ case being trivial. \n",
    "Write\n",
    "$$\n",
    "A = \\begin{bmatrix} α & 𝐯^\\top \\\\\n",
    "                    𝐯   & K\n",
    "                    \\end{bmatrix} = \\underbrace{\\begin{bmatrix} \\sqrt{α} \\\\ \n",
    "                                    {𝐯 \\over \\sqrt{α}} & I \\end{bmatrix}}_{L_1}\n",
    "                                    \\underbrace{\\begin{bmatrix} 1  \\\\ & K - {𝐯 𝐯^\\top \\over α} \\end{bmatrix}}_{A_1}\n",
    "                                    \\underbrace{\\begin{bmatrix} \\sqrt{α} & {𝐯^\\top \\over \\sqrt{α}} \\\\\n",
    "                                     & I \\end{bmatrix}}_{L_1^\\top}.\n",
    "$$\n",
    "Note that $K - {𝐯 𝐯^\\top \\over α}$ is a subslice of $A_1 = L_1^{-1} A L_1^{-⊤}$, hence by the previous propositions is\n",
    "itself symmetric positive definite. Thus we can write \n",
    "$$\n",
    "K - {𝐯 𝐯^\\top \\over α} = \\tilde L \\tilde L^⊤\n",
    "$$\n",
    "and hence $A = L L^⊤$ for\n",
    "$$\n",
    "L= L_1 \\begin{bmatrix}1 \\\\ & \\tilde L \\end{bmatrix}.\n",
    "$$\n",
    "satisfies $A = L L^⊤$.\n",
    "∎\n",
    "\n",
    "\n",
    "Note hidden in this proof is a simple algorithm form computing the Cholesky decomposition.\n",
    "We define\n",
    "$$\n",
    "\\begin{align*}\n",
    "A_1 &:= A \\\\\n",
    "𝐯_k &:= A_k[2:n-k+1,1] \\\\\n",
    "α_k &:= A_k[1,1] \\\\\n",
    "A_{k+1} &:= A_k[2:n-k+1,2:n-k+1] - {𝐯_k 𝐯_k^⊤ \\over α_k}.\n",
    "\\end{align*}\n",
    "$$\n",
    "Then\n",
    "$$\n",
    "L = \\begin{bmatrix} \\sqrt{α_1} \\\\\n",
    "    {𝐯_1[1] \\over \\sqrt{α_1}}  &  \\sqrt{α_2} \\\\\n",
    "    {𝐯_1[2] \\over \\sqrt{α_1}}  & {𝐯_2[1] \\over \\sqrt{α_2}} &  \\sqrt{α_2} \\\\\n",
    "    ⋮ & ⋮ & ⋱ & ⋱ \\\\\n",
    "    {𝐯_1[n-1] \\over \\sqrt{α_1}} &{𝐯_2[n-2] \\over \\sqrt{α_2}} & ⋯ & {𝐯_{n-1}[1] \\over \\sqrt{α_{n-1}}} & \\sqrt{α_{n}}\n",
    "    \\end{bmatrix}\n",
    "$$\n",
    "\n",
    "This algorithm succeeds if and only if $A$ is symmetric positive definite.\n",
    "\n",
    "**Example** Consider the matrix\n",
    "$$\n",
    "A_0 = A = \\begin{bmatrix}\n",
    "2 &1 &1 &1 \\\\\n",
    "1 & 2 & 1 & 1 \\\\\n",
    "1 & 1 & 2 & 1 \\\\\n",
    "1 & 1 & 1 & 2\n",
    "\\end{bmatrix}\n",
    "$$\n",
    "Then\n",
    "$$\n",
    "A_1 = \\begin{bmatrix}\n",
    "2 &1 &1 \\\\\n",
    "1 & 2 & 1 \\\\\n",
    "1 & 1 & 2 \n",
    "\\end{bmatrix} - {1 \\over 2} \\begin{bmatrix} 1 \\\\ 1 \\\\ 1 \\end{bmatrix} \\begin{bmatrix} 1 & 1 & 1 \\end{bmatrix} =\n",
    "{1 \\over 2} \\begin{bmatrix}\n",
    "3 & 1 & 1 \\\\\n",
    "1 & 3 & 1 \\\\\n",
    "1 & 1 & 3 \n",
    "\\end{bmatrix}\n",
    "$$\n",
    "Continuing, we have \n",
    "$$\n",
    "A_2 = {1 \\over 2} \\left( \\begin{bmatrix}\n",
    "3 & 1 \\\\ 1 & 3\n",
    "\\end{bmatrix} - {1 \\over 3} \\begin{bmatrix} 1 \\\\ 1  \\end{bmatrix} \\begin{bmatrix} 1 & 1  \\end{bmatrix}\n",
    "\\right)\n",
    "= {1 \\over 3} \\begin{bmatrix} 4 & 1 \\\\ 1 & 4 \\end{bmatrix}\n",
    "$$\n",
    "Finally\n",
    "$$\n",
    "A_3 = {5 \\over 4}.\n",
    "$$\n",
    "Thus we get\n",
    "$$\n",
    "L= L_1 L_2 L_3 = \\begin{bmatrix} \\sqrt{2} \\\\ {1 \\over \\sqrt{2}} & {\\sqrt{3} \\over 2} \\\\ \n",
    "{1 \\over \\sqrt{2}} & {1 \\over \\sqrt 6} & {2 \\over \\sqrt{3}} \\\\\n",
    "{1 \\over \\sqrt{2}} & {1 \\over \\sqrt 6} & {1 \\over \\sqrt{12}} & {\\sqrt{5} \\over 2}\n",
    "\\end{bmatrix}\n",
    "$$\n",
    "\n",
    "\n",
    "# 4. Timings\n",
    "\n",
    "The different decompositions have trade-offs between speed and stability.\n",
    "First we compare the speed of the different decompositions on a symmetric positive\n",
    "definite matrix, from fastest to slowest:"
   ]
  },
  {
   "cell_type": "code",
   "execution_count": 22,
   "metadata": {
    "execution": {
     "iopub.execute_input": "2022-02-15T09:33:34.694190Z",
     "iopub.status.busy": "2022-02-15T09:33:34.693323Z",
     "iopub.status.idle": "2022-02-15T09:34:02.213758Z",
     "shell.execute_reply": "2022-02-15T09:34:02.213259Z"
    }
   },
   "outputs": [
    {
     "name": "stdout",
     "output_type": "stream",
     "text": [
      "  82.313 μs (5 allocations: 78.25 KiB)\n",
      "  127.977 μs (4 allocations: 79.08 KiB)\n",
      "  255.111 μs (7 allocations: 134.55 KiB)\n"
     ]
    }
   ],
   "source": [
    "n = 100\n",
    "A = Symmetric(rand(n,n)) + 100I # shift by 10 ensures positivity\n",
    "@btime cholesky(A);\n",
    "@btime lu(A);\n",
    "@btime qr(A);"
   ]
  },
  {
   "cell_type": "markdown",
   "metadata": {},
   "source": [
    "On my machine, `cholesky` is ~1.5x faster than `lu`,  \n",
    "which is ~2x faster than QR. \n",
    "\n",
    "\n",
    "\n",
    "In terms of stability, QR computed with Householder reflections\n",
    "(and Cholesky for positive definite matrices) are stable, \n",
    "whereas LU is usually unstable (unless the matrix\n",
    "is diagonally dominant). PLU is a very complicated story: in theory it is unstable,\n",
    "but the set of matrices for which it is unstable is extremely small, so small one does not\n",
    "normally run into them.\n",
    "\n",
    "Here is an example matrix that is in this set."
   ]
  },
  {
   "cell_type": "code",
   "execution_count": 23,
   "metadata": {
    "execution": {
     "iopub.execute_input": "2022-02-15T09:34:02.215998Z",
     "iopub.status.busy": "2022-02-15T09:34:02.215310Z",
     "iopub.status.idle": "2022-02-15T09:34:02.721975Z",
     "shell.execute_reply": "2022-02-15T09:34:02.721528Z"
    }
   },
   "outputs": [
    {
     "data": {
      "text/plain": [
       "5×5 Matrix{Int64}:\n",
       "  1   0   0   0  1\n",
       " -1   1   0   0  1\n",
       " -1  -1   1   0  1\n",
       " -1  -1  -1   1  1\n",
       " -1  -1  -1  -1  1"
      ]
     },
     "execution_count": 23,
     "metadata": {},
     "output_type": "execute_result"
    }
   ],
   "source": [
    "function badmatrix(n)\n",
    "    A = Matrix(1I, n, n)\n",
    "    A[:,end] .= 1\n",
    "    for j = 1:n-1\n",
    "        A[j+1:end,j] .= -1\n",
    "    end\n",
    "    A\n",
    "end\n",
    "A = badmatrix(5)"
   ]
  },
  {
   "cell_type": "markdown",
   "metadata": {},
   "source": [
    "Note that pivoting will not occur (we do not pivot as the entries below the diagonal are the same magnitude as the diagonal), thus the PLU Decomposition is equivalent to an LU decomposition:"
   ]
  },
  {
   "cell_type": "code",
   "execution_count": 24,
   "metadata": {
    "execution": {
     "iopub.execute_input": "2022-02-15T09:34:02.724047Z",
     "iopub.status.busy": "2022-02-15T09:34:02.723486Z",
     "iopub.status.idle": "2022-02-15T09:34:02.729819Z",
     "shell.execute_reply": "2022-02-15T09:34:02.729372Z"
    }
   },
   "outputs": [
    {
     "data": {
      "text/plain": [
       "LU{Float64, Matrix{Float64}}\n",
       "L factor:\n",
       "5×5 Matrix{Float64}:\n",
       "  1.0   0.0   0.0   0.0  0.0\n",
       " -1.0   1.0   0.0   0.0  0.0\n",
       " -1.0  -1.0   1.0   0.0  0.0\n",
       " -1.0  -1.0  -1.0   1.0  0.0\n",
       " -1.0  -1.0  -1.0  -1.0  1.0\n",
       "U factor:\n",
       "5×5 Matrix{Float64}:\n",
       " 1.0  0.0  0.0  0.0   1.0\n",
       " 0.0  1.0  0.0  0.0   2.0\n",
       " 0.0  0.0  1.0  0.0   4.0\n",
       " 0.0  0.0  0.0  1.0   8.0\n",
       " 0.0  0.0  0.0  0.0  16.0"
      ]
     },
     "execution_count": 24,
     "metadata": {},
     "output_type": "execute_result"
    }
   ],
   "source": [
    "L,U = lu(A)"
   ]
  },
  {
   "cell_type": "markdown",
   "metadata": {},
   "source": [
    "But here we see an issue: the last column of `U` is growing exponentially fast! Thus when `n` is large\n",
    "we get very large errors:"
   ]
  },
  {
   "cell_type": "code",
   "execution_count": 25,
   "metadata": {
    "execution": {
     "iopub.execute_input": "2022-02-15T09:34:02.732182Z",
     "iopub.status.busy": "2022-02-15T09:34:02.731352Z",
     "iopub.status.idle": "2022-02-15T09:34:02.848145Z",
     "shell.execute_reply": "2022-02-15T09:34:02.847176Z"
    }
   },
   "outputs": [
    {
     "data": {
      "text/plain": [
       "18.21198002577704"
      ]
     },
     "execution_count": 25,
     "metadata": {},
     "output_type": "execute_result"
    }
   ],
   "source": [
    "n = 100\n",
    "b = randn(n)\n",
    "A = badmatrix(n)\n",
    "norm(A\\b - qr(A)\\b) # A \\ b still uses lu"
   ]
  },
  {
   "cell_type": "markdown",
   "metadata": {},
   "source": [
    "Note `qr` is completely fine:"
   ]
  },
  {
   "cell_type": "code",
   "execution_count": 26,
   "metadata": {
    "execution": {
     "iopub.execute_input": "2022-02-15T09:34:02.851550Z",
     "iopub.status.busy": "2022-02-15T09:34:02.850650Z",
     "iopub.status.idle": "2022-02-15T09:34:05.250436Z",
     "shell.execute_reply": "2022-02-15T09:34:05.249920Z"
    }
   },
   "outputs": [
    {
     "data": {
      "text/plain": [
       "1.038365358430725127568264130032077612694431194945982457251703962062276309627714e-14"
      ]
     },
     "execution_count": 26,
     "metadata": {},
     "output_type": "execute_result"
    }
   ],
   "source": [
    "norm(qr(A)\\b - qr(big.(A)) \\b) # roughly machine precision"
   ]
  },
  {
   "cell_type": "markdown",
   "metadata": {},
   "source": [
    "Amazingly, PLU is fine if applied to a small perturbation of `A`:"
   ]
  },
  {
   "cell_type": "code",
   "execution_count": 27,
   "metadata": {
    "execution": {
     "iopub.execute_input": "2022-02-15T09:34:05.252815Z",
     "iopub.status.busy": "2022-02-15T09:34:05.252169Z",
     "iopub.status.idle": "2022-02-15T09:34:05.335610Z",
     "shell.execute_reply": "2022-02-15T09:34:05.334736Z"
    }
   },
   "outputs": [
    {
     "data": {
      "text/plain": [
       "8.727913286863235e-15"
      ]
     },
     "execution_count": 27,
     "metadata": {},
     "output_type": "execute_result"
    }
   ],
   "source": [
    "ε = 0.000001\n",
    "Aε = A .+ ε .* randn.()\n",
    "norm(Aε \\ b - qr(Aε) \\ b) # Now it matches!"
   ]
  },
  {
   "cell_type": "markdown",
   "metadata": {},
   "source": [
    "The big _open problem_ in numerical linear algebra is to prove that the set of matrices\n",
    "for which PLU fails has extremely small measure."
   ]
  }
 ],
 "metadata": {
  "kernelspec": {
   "display_name": "Julia 1.7.0",
   "language": "julia",
   "name": "julia-1.7"
  },
  "language_info": {
   "file_extension": ".jl",
   "mimetype": "application/julia",
   "name": "julia",
   "version": "1.7.0"
  }
 },
 "nbformat": 4,
 "nbformat_minor": 2
}
