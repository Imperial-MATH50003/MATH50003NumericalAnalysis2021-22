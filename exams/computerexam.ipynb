{
  "cells": [
    {
      "cell_type": "markdown",
      "source": [
        "# MATH50003 Numerical Analysis (2021–2022) Computer-based Exam\n\nInstructions for uploading and downloading:\n\n1. Rename the file to include your CID.\n2. You have 30 mins to download the exam beginning at 3pm on 18 March.\n2. You have 1 hour to complete the exam beginning at 3:30pm on 18 March.\n3. Deadline is 5pm on 18 March to upload the completed Jupyter notebook (`.ipynb`) to Blackboard. \nLate submissions received before 7pm will be capped at 40%.\n5. Once uploaded, re-download the file before the final submission time to confirm it is correct.\nYou are allowed to upload additional submissions but only last valid upload before 5pm will be used.\n6. If uploading via Blackboard fails you may e-mail the UG Office: maths.exams@imperial.ac.uk\n\nInstructions for the exam:\n\n1. For each problem, replace the `# TODO` to complete the question.\nThe unit tests are provided to help you test your answers.\n3. Problems are marked A/B/C to indicate difficulty (\"A\" being most difficult).\nPartial credit will be awarded for reasonable attempts even if the tests\nare not passed. A and B questions are worth 12 marks while C questions are worth 10 marks.\n3. If you have technical queries please email s.olver@imperial.ac.uk. Any other queries\nshould be sent to the UG Office: maths.exams@imperial.ac.uk\n4. You may use existing code from anywhere\nbut you are **REQUIRED** to cite the source if it is not part of the module material,\nideally by including a weblink in a comment. \n5. You **MUST NOT** ask for help online or\ncommunicate with others within or outside the module.\nFailure to follow these rules will be considered misconduct.\n\n\n\nYou should use the following packages:"
      ],
      "metadata": {}
    },
    {
      "outputs": [],
      "cell_type": "code",
      "source": [
        "using LinearAlgebra, Test"
      ],
      "metadata": {},
      "execution_count": null
    },
    {
      "cell_type": "markdown",
      "source": [
        "(Note `SetRounding` is not necessary.)\n\n**WARNING** It may be necessary to restart the kernel if issues arise. Remember to reload the packages\nwhen you do so.\n\n## 1. Numbers\n\n**Problem 1.1 (C)** \nImplement the function `issub` that determines whether a `Float16` is a sub-normal number.\nDO NOT use the inbuilt routine `issubnormal`."
      ],
      "metadata": {}
    },
    {
      "outputs": [],
      "cell_type": "code",
      "source": [
        "function issub(x::Float16)\n    # TODO: return `true` if `x` is a sub-normal float. Otherwise return `false`\nend"
      ],
      "metadata": {},
      "execution_count": null
    },
    {
      "outputs": [],
      "cell_type": "code",
      "source": [
        "@test issub(Float16(0))\n@test issub(nextfloat(Float16(0)))\n@test issub(prevfloat(Float16(0)))\n@test !issub(Float16(1))\n@test !issub(reinterpret(Float16,0b0000010000000000))\n@test issub(reinterpret(Float16,0b0000001111111111))"
      ],
      "metadata": {},
      "execution_count": null
    },
    {
      "cell_type": "markdown",
      "source": [
        "## 2. Differentiation\n\n**Problem 2.1 (C)** Use second-order finite differences\nwith an appropriately chosen $h$ to approximate the second derivative of\n$$\nf(x) = \\cos(x^2)\n$$\nat $x = 0.1$ to 5 digits accuracy."
      ],
      "metadata": {}
    },
    {
      "outputs": [],
      "cell_type": "code",
      "source": [
        "function fd2(x)\n    # TODO: implement a second-order finite-difference rule \n    # to approximate f''(x)\n    # for f(x) = cos(x^2)\n    # with step-size h chosen to get sufficient accuracy\nend"
      ],
      "metadata": {},
      "execution_count": null
    },
    {
      "outputs": [],
      "cell_type": "code",
      "source": [
        "@test abs(fd2(0.1) + 2*sin(0.1^2) + 4*0.1^2*cos(0.1^2)) ≤ 1E-5"
      ],
      "metadata": {},
      "execution_count": null
    },
    {
      "cell_type": "markdown",
      "source": [
        "**Problem 2.2 (A)** Consider a 2nd order version of a dual number:\n$$\na + b ϵ_1 + c ϵ_2\n$$\nsuch that\n$$\n\\begin{align*}\nϵ_1^2 &= ϵ_2 \\\\\nϵ_2^2 &= ϵ_1 ϵ_2 =  0.\n\\end{align*}\n$$\nComplete the following implementation supporting `+` and `*` (and\nassuming `a,b,c` are `Float64`). Hint: you may need to work out on paper\nhow to multiply `(s.a + s.b ϵ_1 + s.c ϵ_2)*(t.a + t.b ϵ_1 + t.c ϵ_2)` using the\nrelationship above."
      ],
      "metadata": {}
    },
    {
      "outputs": [],
      "cell_type": "code",
      "source": [
        "import Base: *, +, ^\nstruct Dual2\n    a::Float64\n    b::Float64\n    c::Float64\nend\n\nfunction +(s::Dual2, t::Dual2)\n    ## TODO: Implement Dual2(...) + Dual2(...), returning a Dual2\nend\n\nfunction +(s::Dual2, c::Real)\n    ## TODO: Implement Dual2(...) + c, returning a Dual2\nend\n\nfunction *(c::Number, s::Dual2)\n    ## TODO: Implement c * Dual2(...), returning a Dual2\nend\n\nfunction *(s::Dual2, t::Dual2)\n    ## TODO: Implement Dual2(...) * Dual2(...), returning a Dual2\nend"
      ],
      "metadata": {},
      "execution_count": null
    },
    {
      "outputs": [],
      "cell_type": "code",
      "source": [
        "f = x -> x*x*x + 2x + 1\nx = 0.1\n@test f(Dual2(x,1.,0.)) == Dual2(f(x), 3x^2+2, 6x / 2)\n\n# This has computed the first and second derivatives as\n# as f(x) + f'(x)*ϵ_1 + f''(x)/2*ϵ_2\n# == (x^3 + x) + (3x^2+1)*ϵ_1 + 6x/2*ϵ_2"
      ],
      "metadata": {},
      "execution_count": null
    },
    {
      "cell_type": "markdown",
      "source": [
        "## 3. Structured Matrices\n\n**Problem 3.1 (C)** Complete the implementation of `LowerTridiagonal` which represents a banded matrix with\nbandwidths $(l,u) = (2,0)$ by storing only its diagonal, sub-diagonal, and second-sub-diagonal as vectors."
      ],
      "metadata": {}
    },
    {
      "outputs": [],
      "cell_type": "code",
      "source": [
        "import Base: getindex,  size, *\n\nstruct LowerTridiagonal <: AbstractMatrix{Float64}\n    d::Vector{Float64}   # diagonal entries of length n\n    dl::Vector{Float64}  # sub-diagonal entries of length n-1\n    dl2::Vector{Float64} # second-sub-diagonal entries of length n-2\nend\n\nsize(L::LowerTridiagonal) = (length(L.d),length(L.d))\n\nfunction getindex(L::LowerTridiagonal, k::Int, j::Int)\n    d, dl, dl2 = L.d, L.dl, L.dl2\n    # TODO: return L[k,j].\n    # If `k == j` then it should be equal to `d[k]`.\n    # If `k == j+1` then it should be equal to `dl[j]`.\n    # If `k == j+2` then it should be equal to `dl2[j]`.\n    # Otherwise, it should return 0.0\nend\n\nn = 10\nd, dl, dl2 = randn(n), randn(n-1), randn(n-2)\n@test LowerTridiagonal(d, dl, dl2) == diagm(0 => d, -1 => dl, -2 => dl2)"
      ],
      "metadata": {},
      "execution_count": null
    },
    {
      "cell_type": "markdown",
      "source": [
        "**Problem 3.2 (B)** Complete the implementation of `*` for a `LowerTridiagonal` matrix\nso that it takes $O(n)$ operations."
      ],
      "metadata": {}
    },
    {
      "outputs": [],
      "cell_type": "code",
      "source": [
        "function *(L::LowerTridiagonal, x::AbstractVector)\n    ## TODO: Return L*x but computed in O(n) operations\nend\n\nn = 10\nd, dl, dl2 = randn(n), randn(n-1), randn(n-2)\nx = randn(n)\n@test LowerTridiagonal(d, dl, dl2)*x ≈ diagm(0 => d, -1 => dl, -2 => dl2)*x"
      ],
      "metadata": {},
      "execution_count": null
    },
    {
      "cell_type": "markdown",
      "source": [
        "## 4. Decompositions\n\n**Problem 4.1 (C)** Approximate $\\exp x$ by a cubic polynomial by minimising\nthe least squares error when sampled at $n$ evenly spaced points in $[0,1]$,\nthat is, $x_k = (k-1)/(n-1)$,\nreturning the coefficients in the monomial basis."
      ],
      "metadata": {}
    },
    {
      "outputs": [],
      "cell_type": "code",
      "source": [
        "function expfit(n)\n    ## TODO: return the coefficients [c_0,c_1,c_2,c_3] of the polynomial\n    # c_0 + c_1*x + c_2*x^2 + c_3*x^3 that minimises the L^2 error at `n`\n    # evenly spaced samples\nend"
      ],
      "metadata": {},
      "execution_count": null
    },
    {
      "outputs": [],
      "cell_type": "code",
      "source": [
        "c₀,c₁,c₂,c₃ = expfit(1000)\n    x = 0.1\n    @test abs(c₀ + c₁*x + c₂*x^2 + c₃*x^3 - exp(x)) ≤ 1E-3"
      ],
      "metadata": {},
      "execution_count": null
    },
    {
      "cell_type": "markdown",
      "source": [
        "**Problem 4.2 (A)** Complete the function `lq(A)` that\nreturns a LQ decomposition, that is, `A = LQ` where  `L` is lower triangular and `Q` is an orthogonal\nmatrix. You may assume that `A`\nis a square `Matrix{Float64}`. Hint: think of how a Householder reflection\ncan be constructed such that, for $𝐱 ∈ ℝ^n$,\n$$\n𝐱^⊤ Q = \\|𝐱\\|𝐞_1^⊤.\n$$"
      ],
      "metadata": {}
    },
    {
      "outputs": [],
      "cell_type": "code",
      "source": [
        "function lq(A)\n    m,n = size(A)\n    m == n || error(\"not square\")\n    ## TODO: Create Q and L such that A = L*Q, Q'Q == I and L is lower triangular\nend"
      ],
      "metadata": {},
      "execution_count": null
    },
    {
      "outputs": [],
      "cell_type": "code",
      "source": [
        "A = [1.0 2 3; 1 4 9; 1 1 1]\nL,Q = lq(A)\n@test Q'Q ≈ I\n@test L*Q ≈ A\n@test L ≈ tril(L) # it is acceptable to have small non-zero entries in L"
      ],
      "metadata": {},
      "execution_count": null
    },
    {
      "cell_type": "markdown",
      "source": [
        "## 5. Singular Value Decomposition\n\n**Problem 5.1 (B)** Implement `pseudoinv` that returns the pseudo-inverse $A^+$\nfor an arbitrary square matrix, assuming that any singular value less than\n$10^{-15}$ is in fact exactly zero. DO NOT use the inbuilt routine `pinv`."
      ],
      "metadata": {}
    },
    {
      "outputs": [],
      "cell_type": "code",
      "source": [
        "function pseudoinv(A)\n    m,n = size(A)\n    m == n || error(\"A must be square\")\n    tol = 1E-15 # threshold below which we assume a singular value is zero\n    ## TODO: construct and return the pseudo inverse of A\nend"
      ],
      "metadata": {},
      "execution_count": null
    },
    {
      "outputs": [],
      "cell_type": "code",
      "source": [
        "A = [1 2 3; 4 5 6; 7 8 9]\nA⁺ = pseudoinv(A)\n@test A⁺*A*A⁺ ≈ A⁺\n@test A*A⁺*A ≈ A"
      ],
      "metadata": {},
      "execution_count": null
    },
    {
      "cell_type": "markdown",
      "source": [
        "## 6. Differential Equations\n\n**Problem 6.1 (B)** Complete the function `mathieu(n)` that returns a length-$n$ `Vector{Float64}`\n$$\n\\begin{bmatrix}\nu_1 \\\\\n⋮ \\\\\nu_n\n\\end{bmatrix}\n$$\nsuch that $u_k$ approximates the solution to the time-evolution equation\n$$\n\\begin{align*}\nu(0) &= 0 \\\\\nu'(0) &= 1 \\\\\nu''(t) &= cos(t) u(t)\n\\end{align*}\n$$\nat the point $t_k = (k-1)/(n-1)$ using the Forward Euler method, by first recasting the problem\nas a vector ODE."
      ],
      "metadata": {}
    },
    {
      "outputs": [],
      "cell_type": "code",
      "source": [
        "function mathieu(n)\n    # TODO: return a Vector{Float64} approximating the solution to the ODE\n    # at n evenly spaced points between 0 and 1.\nend"
      ],
      "metadata": {},
      "execution_count": null
    },
    {
      "outputs": [],
      "cell_type": "code",
      "source": [
        "u = mathieu(100_000)\n@test u isa Vector\n@test abs(u[1]) ≤ 1E-15\n# this compares against the exact formula\n@test abs(u[end] - 1.148783704310448) ≤ 2E-5"
      ],
      "metadata": {},
      "execution_count": null
    }
  ],
  "nbformat_minor": 2,
  "metadata": {
    "language_info": {
      "file_extension": ".jl",
      "mimetype": "application/julia",
      "name": "julia",
      "version": "1.7.0"
    },
    "kernelspec": {
      "name": "julia-1.7",
      "display_name": "Julia 1.7.0",
      "language": "julia"
    }
  },
  "nbformat": 4
}
