{
 "cells": [
  {
   "cell_type": "markdown",
   "metadata": {},
   "source": [
    "# MATH50003 Numerical Analysis (2021–2022) Practice Computer-based Exam\n",
    "\n",
    "\n",
    "For each problem, replace the `# TODO` to complete the question.\n",
    "The unit tests are provided to help you test your answers.\n",
    "You have 1 hour to complete the exam, as well as 1 hour for downloading/uploading.\n",
    "\n",
    "Problems are marked A/B/C to indicate difficulty (\"A\" being most difficult).\n",
    "Partial credit will be awarded for reasonable attempts even if the tests\n",
    "are not passed.\n",
    "\n",
    "You may use existing code from anywhere\n",
    "but you are **REQUIRED** to cite the source if it is not part of the module material,\n",
    "ideally by including a weblink in a comment. You **MUST NOT** ask for help online or\n",
    "communicate with others within or outside the module.\n",
    "Failure to follow these rules will be considered misconduct.\n",
    "\n",
    "\n",
    "\n",
    "You should use the following packages:"
   ]
  },
  {
   "cell_type": "code",
   "execution_count": 1,
   "metadata": {
    "execution": {
     "iopub.execute_input": "2022-03-08T16:32:32.579786Z",
     "iopub.status.busy": "2022-03-08T16:32:32.138226Z",
     "iopub.status.idle": "2022-03-08T16:32:32.810996Z",
     "shell.execute_reply": "2022-03-08T16:32:32.810081Z"
    }
   },
   "outputs": [],
   "source": [
    "using LinearAlgebra, SetRounding, Test"
   ]
  },
  {
   "cell_type": "markdown",
   "metadata": {},
   "source": [
    "**WARNING** It may be necessary to restart the kernel if issues arise. Remember to reload the packages\n",
    "when you do so.\n",
    "\n",
    "## 1. Numbers\n",
    "\n",
    "**Problem 1.1 (C)** Complete the following function `divideby3(x)` that\n",
    "returns a tuple `a,b` such that `a` is the largest `Float64` less \n",
    "than or equal to `x/3` and `b` is the smallest `Float64` greater than or equal to `x/3`."
   ]
  },
  {
   "cell_type": "code",
   "execution_count": 2,
   "metadata": {
    "execution": {
     "iopub.execute_input": "2022-03-08T16:32:32.835289Z",
     "iopub.status.busy": "2022-03-08T16:32:32.834687Z",
     "iopub.status.idle": "2022-03-08T16:32:33.309147Z",
     "shell.execute_reply": "2022-03-08T16:32:33.308712Z"
    }
   },
   "outputs": [
    {
     "data": {
      "text/plain": [
       "divideby3 (generic function with 1 method)"
      ]
     },
     "execution_count": 2,
     "metadata": {},
     "output_type": "execute_result"
    }
   ],
   "source": [
    "function divideby3(x)\n",
    "    # TODO: assign a,b so that a ≤ x ≤ b where b is either equal to a or the next float\n",
    "    ## SOLUTION\n",
    "    a = setrounding(Float64, RoundDown) do\n",
    "        x/3\n",
    "    end\n",
    "    b = setrounding(Float64, RoundUp) do\n",
    "        x/3\n",
    "    end\n",
    "    ## END\n",
    "    a,b\n",
    "end"
   ]
  },
  {
   "cell_type": "code",
   "execution_count": 3,
   "metadata": {
    "execution": {
     "iopub.execute_input": "2022-03-08T16:32:33.311402Z",
     "iopub.status.busy": "2022-03-08T16:32:33.310861Z",
     "iopub.status.idle": "2022-03-08T16:32:33.726411Z",
     "shell.execute_reply": "2022-03-08T16:32:33.725880Z"
    }
   },
   "outputs": [
    {
     "data": {
      "text/plain": [
       "\u001b[32m\u001b[1mTest Passed\u001b[22m\u001b[39m\n",
       "  Expression: b == a || b == nextfloat(a)"
      ]
     },
     "execution_count": 3,
     "metadata": {},
     "output_type": "execute_result"
    }
   ],
   "source": [
    "x = 0.1 # arbitary x\n",
    "a,b = divideby3(x)\n",
    "@test a ≤ big(x)/3 ≤ b\n",
    "@test b == a || b == nextfloat(a)"
   ]
  },
  {
   "cell_type": "markdown",
   "metadata": {},
   "source": [
    "## 2. Differentiation\n",
    "\n",
    "**Problem 2.1 (C)** Use the following off-center finite-difference approximation\n",
    "$$\n",
    "f'(x) ≈ {f(x+2h) - f(x-h) \\over 3h}\n",
    "$$\n",
    "with an appropriately chosen $h$ to approximate\n",
    "$$\n",
    "f(x) = \\cos(x^2)\n",
    "$$\n",
    "at $x = 0.1$ to 5 digits accuracy."
   ]
  },
  {
   "cell_type": "code",
   "execution_count": 4,
   "metadata": {
    "execution": {
     "iopub.execute_input": "2022-03-08T16:32:33.728830Z",
     "iopub.status.busy": "2022-03-08T16:32:33.728221Z",
     "iopub.status.idle": "2022-03-08T16:32:33.805744Z",
     "shell.execute_reply": "2022-03-08T16:32:33.805281Z"
    }
   },
   "outputs": [
    {
     "data": {
      "text/plain": [
       "fd (generic function with 1 method)"
      ]
     },
     "execution_count": 4,
     "metadata": {},
     "output_type": "execute_result"
    }
   ],
   "source": [
    "function fd(x)\n",
    "    # TODO: implement a finite-difference rule \n",
    "    # to approximate f'(x)\n",
    "    # for f(x) = cos(x^2)\n",
    "    # with step-size h chosen to get sufficient accuracy\n",
    "    ## SOLUTION\n",
    "    h = sqrt(eps())\n",
    "    f = x -> cos(x^2)\n",
    "    (f(x + 2h) - f(x - h)) / (3h)\n",
    "    ## END\n",
    "end"
   ]
  },
  {
   "cell_type": "code",
   "execution_count": 5,
   "metadata": {
    "execution": {
     "iopub.execute_input": "2022-03-08T16:32:33.807836Z",
     "iopub.status.busy": "2022-03-08T16:32:33.807335Z",
     "iopub.status.idle": "2022-03-08T16:32:33.961653Z",
     "shell.execute_reply": "2022-03-08T16:32:33.961124Z"
    }
   },
   "outputs": [
    {
     "data": {
      "text/plain": [
       "\u001b[32m\u001b[1mTest Passed\u001b[22m\u001b[39m\n",
       "  Expression: abs(fd(0.1) + 2 * 0.1 * sin(0.1 ^ 2)) ≤ 1.0e-5\n",
       "   Evaluated: 1.3337952660744112e-10 ≤ 1.0e-5"
      ]
     },
     "execution_count": 5,
     "metadata": {},
     "output_type": "execute_result"
    }
   ],
   "source": [
    "@test abs(fd(0.1) + 2*0.1*sin(0.1^2)) ≤ 1E-5"
   ]
  },
  {
   "cell_type": "markdown",
   "metadata": {},
   "source": [
    "**Problem 2.2 (A)** Consider a 2D version of a dual number:\n",
    "$$\n",
    "a + b ϵ_x + c ϵ_y\n",
    "$$\n",
    "such that\n",
    "$$\n",
    "ϵ_x^2 = ϵ_y^2 = ϵ_x ϵ_y =  0.\n",
    "$$\n",
    "Complete the following implementation supporting `+` and `*` (and\n",
    "assuming `a,b,c` are `Float64`). Hint: you may need to work out on paper\n",
    "how to multiply `(s.a + s.b ϵ_x + s.c ϵ_y)*(t.a + t.b ϵ_x + t.c ϵ_y)` using the\n",
    "relationship above."
   ]
  },
  {
   "cell_type": "code",
   "execution_count": 6,
   "metadata": {
    "execution": {
     "iopub.execute_input": "2022-03-08T16:32:33.964951Z",
     "iopub.status.busy": "2022-03-08T16:32:33.963756Z",
     "iopub.status.idle": "2022-03-08T16:32:34.265545Z",
     "shell.execute_reply": "2022-03-08T16:32:34.265105Z"
    }
   },
   "outputs": [
    {
     "data": {
      "text/plain": [
       "* (generic function with 366 methods)"
      ]
     },
     "execution_count": 6,
     "metadata": {},
     "output_type": "execute_result"
    }
   ],
   "source": [
    "import Base: *, +, ^\n",
    "struct Dual2D\n",
    "    a::Float64\n",
    "    b::Float64\n",
    "    c::Float64\n",
    "end\n",
    "\n",
    "\n",
    "function +(s::Dual2D, t::Dual2D)\n",
    "    ## TODO: Implement +, returning a Dual2D\n",
    "    ## SOLUTION\n",
    "    Dual2D(s.a + t.a, s.b + t.b, s.c + t.c)\n",
    "    ## END\n",
    "end\n",
    "\n",
    "function *(c::Number, s::Dual2D)\n",
    "    ## TODO: Implement c * Dual2D(...), returning a Dual2D\n",
    "    ## SOLUTION\n",
    "    Dual2D(c * s.a, c * s.b, c * s.c)\n",
    "    ## END\n",
    "end\n",
    "\n",
    "function *(s::Dual2D, t::Dual2D)\n",
    "    ## TODO: Implement Dual2D(...) * Dual2D(...), returning a Dual2D\n",
    "    \n",
    "    ## SOLUTION\n",
    "    # we deduce (s.a + s.b ϵ_x + s.c ϵ_y)*(t.a + t.b ϵ_x + t.c ϵ_y) == \n",
    "    # s.a * t.a + (s.a*t.b + s.b*t.a)*ϵ_x + (s.a*t.c + s.c*t.a)*ϵ_y\n",
    "    Dual2D(s.a * t.a, s.a * t.b + s.b * t.a, s.a * t.c + s.c * t.a)\n",
    "    ## END\n",
    "end"
   ]
  },
  {
   "cell_type": "code",
   "execution_count": 7,
   "metadata": {
    "execution": {
     "iopub.execute_input": "2022-03-08T16:32:34.267584Z",
     "iopub.status.busy": "2022-03-08T16:32:34.267081Z",
     "iopub.status.idle": "2022-03-08T16:32:34.309672Z",
     "shell.execute_reply": "2022-03-08T16:32:34.309115Z"
    }
   },
   "outputs": [
    {
     "data": {
      "text/plain": [
       "\u001b[32m\u001b[1mTest Passed\u001b[22m\u001b[39m\n",
       "  Expression: f(Dual2D(x, 1.0, 0.0), Dual2D(y, 0.0, 1.0)) == Dual2D(f(x, y), 3 * (x + 2 * y ^ 2) ^ 2, (12y) * (x + 2 * y ^ 2) ^ 2)\n",
       "   Evaluated: Dual2D(729.0, 243.0, 1944.0) == Dual2D(729.0, 243.0, 1944.0)"
      ]
     },
     "execution_count": 7,
     "metadata": {},
     "output_type": "execute_result"
    }
   ],
   "source": [
    "f = function (x, y) # (x+2y^2)^3 using only * and +\n",
    "    z = (x + 2y * y)\n",
    "    z * z * z\n",
    "end\n",
    "\n",
    "x,y = 1., 2.\n",
    "@test f(Dual2D(x,1.,0.), Dual2D(y,0.,1.)) == Dual2D(f(x,y), 3(x+2y^2)^2, 12y*(x+2y^2)^2)\n",
    "\n",
    "# This has computed the gradient as f(x,y) + f_x*ϵ_x + f_y*ϵ_y\n",
    "# == (x+2y^2)^3 + 3(x+2y^2)^2*ϵ_x + 12y(x+2y^2)^2*ϵ_y"
   ]
  },
  {
   "cell_type": "markdown",
   "metadata": {},
   "source": [
    "## 3. Structured Matrices\n",
    "\n",
    "**Problem 3.1 (C)** Add an implementation of `inv(::PermutationMatrix)`\n",
    "to return the inverse permutation as a `PermutationMatrix`. Hint: use\n",
    "`invperm`."
   ]
  },
  {
   "cell_type": "code",
   "execution_count": 8,
   "metadata": {
    "execution": {
     "iopub.execute_input": "2022-03-08T16:32:34.312305Z",
     "iopub.status.busy": "2022-03-08T16:32:34.311447Z",
     "iopub.status.idle": "2022-03-08T16:32:34.403063Z",
     "shell.execute_reply": "2022-03-08T16:32:34.402222Z"
    }
   },
   "outputs": [
    {
     "data": {
      "text/plain": [
       "inv (generic function with 33 methods)"
      ]
     },
     "execution_count": 8,
     "metadata": {},
     "output_type": "execute_result"
    }
   ],
   "source": [
    "import Base: getindex, size, *, inv\n",
    "\n",
    "struct PermutationMatrix <: AbstractMatrix{Int}\n",
    "    p::Vector{Int} # represents the permutation whose action is v[p]\n",
    "    function PermutationMatrix(p::Vector)\n",
    "        sort(p) == 1:length(p) || error(\"input is not a valid permutation\")\n",
    "        new(p)\n",
    "    end\n",
    "end\n",
    "\n",
    "size(P::PermutationMatrix) = (length(P.p),length(P.p))\n",
    "getindex(P::PermutationMatrix, k::Int, j::Int) = P.p[k] == j ? 1 : 0\n",
    "*(P::PermutationMatrix, x::AbstractVector) = x[P.p]\n",
    "\n",
    "function inv(P::PermutationMatrix)\n",
    "    # TODO: return a PermutationMatrix representing the inverse permutation\n",
    "    ## SOLUTION\n",
    "    PermutationMatrix(invperm(P.p))\n",
    "    ## END\n",
    "end"
   ]
  },
  {
   "cell_type": "code",
   "execution_count": 9,
   "metadata": {
    "execution": {
     "iopub.execute_input": "2022-03-08T16:32:34.405348Z",
     "iopub.status.busy": "2022-03-08T16:32:34.404843Z",
     "iopub.status.idle": "2022-03-08T16:32:35.247356Z",
     "shell.execute_reply": "2022-03-08T16:32:35.246849Z"
    }
   },
   "outputs": [
    {
     "data": {
      "text/plain": [
       "\u001b[32m\u001b[1mTest Passed\u001b[22m\u001b[39m\n",
       "  Expression: P * inv(P) == I\n",
       "   Evaluated: [1 0 0 0; 0 1 0 0; 0 0 1 0; 0 0 0 1] == UniformScaling{Bool}(true)"
      ]
     },
     "execution_count": 9,
     "metadata": {},
     "output_type": "execute_result"
    }
   ],
   "source": [
    "P = PermutationMatrix([3,4,2,1])\n",
    "@test inv(P) isa PermutationMatrix\n",
    "@test P*inv(P) == I"
   ]
  },
  {
   "cell_type": "markdown",
   "metadata": {},
   "source": [
    "## 4. Decompositions\n",
    "\n",
    "**Problem 4.1 (C)** For $𝐱 ∈ ℝ^n$ implement the reflection defined by\n",
    "$$\n",
    "\\begin{align*}\n",
    "𝐲 &:= 𝐱 + \\|𝐱\\| 𝐞_n \\\\\n",
    "𝐰 &:= 𝐲/\\|𝐲\\| \\\\\n",
    "Q_𝐱 &:= I - 2𝐰𝐰^⊤\n",
    "\\end{align*}\n",
    "$$\n",
    "in `lowerhouseholderreflection(x)`, which should return a `Matrix{Float64}`.\n",
    "You may assume that `x` is a `Vector{Float64}`."
   ]
  },
  {
   "cell_type": "code",
   "execution_count": 10,
   "metadata": {
    "execution": {
     "iopub.execute_input": "2022-03-08T16:32:35.249338Z",
     "iopub.status.busy": "2022-03-08T16:32:35.248848Z",
     "iopub.status.idle": "2022-03-08T16:32:35.335223Z",
     "shell.execute_reply": "2022-03-08T16:32:35.334494Z"
    }
   },
   "outputs": [
    {
     "data": {
      "text/plain": [
       "lowerhouseholderreflection (generic function with 1 method)"
      ]
     },
     "execution_count": 10,
     "metadata": {},
     "output_type": "execute_result"
    }
   ],
   "source": [
    "function lowerhouseholderreflection(x)\n",
    "    ## TODO: implement the householder reflector defined above\n",
    "    ## SOLUTION\n",
    "    y = copy(x)\n",
    "    y[end] += norm(x)\n",
    "    w = y/norm(y)\n",
    "    I - 2w*w'\n",
    "    ## END\n",
    "end"
   ]
  },
  {
   "cell_type": "code",
   "execution_count": 11,
   "metadata": {
    "execution": {
     "iopub.execute_input": "2022-03-08T16:32:35.337416Z",
     "iopub.status.busy": "2022-03-08T16:32:35.336784Z",
     "iopub.status.idle": "2022-03-08T16:32:37.062126Z",
     "shell.execute_reply": "2022-03-08T16:32:37.061727Z"
    }
   },
   "outputs": [
    {
     "data": {
      "text/plain": [
       "\u001b[32m\u001b[1mTest Passed\u001b[22m\u001b[39m\n",
       "  Expression: Q ≈ Q'\n",
       "   Evaluated: [0.9807354816671587 -0.03852903666568264 -0.05779355499852396 -0.18257418583505536; -0.03852903666568264 0.9229419266686347 -0.11558710999704792 -0.3651483716701107; -0.05779355499852396 -0.11558710999704792 0.8266193350044281 -0.5477225575051661; -0.18257418583505536 -0.3651483716701107 -0.5477225575051661 -0.7302967433402217] ≈ [0.9807354816671587 -0.03852903666568264 -0.05779355499852396 -0.18257418583505536; -0.03852903666568264 0.9229419266686347 -0.11558710999704792 -0.3651483716701107; -0.05779355499852396 -0.11558710999704792 0.8266193350044281 -0.5477225575051661; -0.18257418583505536 -0.3651483716701107 -0.5477225575051661 -0.7302967433402217]"
      ]
     },
     "execution_count": 11,
     "metadata": {},
     "output_type": "execute_result"
    }
   ],
   "source": [
    "x = [1.0,2,3,4]\n",
    "Q = lowerhouseholderreflection(x)\n",
    "@test Q*x ≈ [zeros(3); -norm(x)]\n",
    "@test Q'Q ≈ I\n",
    "@test Q ≈ Q'"
   ]
  },
  {
   "cell_type": "markdown",
   "metadata": {},
   "source": [
    "**Problem 4.2 (A)** Complete the function `ql(A)` that\n",
    "returns a QL decomposition, that is, `Q` is an orthogonal\n",
    "matrix and `L` is lower triangular. You may assume that `A`\n",
    "is a square `Matrix{Float64}`. Hint: use Problem 4.1 to lower triangularise."
   ]
  },
  {
   "cell_type": "code",
   "execution_count": 12,
   "metadata": {
    "execution": {
     "iopub.execute_input": "2022-03-08T16:32:37.064141Z",
     "iopub.status.busy": "2022-03-08T16:32:37.063584Z",
     "iopub.status.idle": "2022-03-08T16:32:37.224527Z",
     "shell.execute_reply": "2022-03-08T16:32:37.224051Z"
    }
   },
   "outputs": [
    {
     "data": {
      "text/plain": [
       "ql (generic function with 1 method)"
      ]
     },
     "execution_count": 12,
     "metadata": {},
     "output_type": "execute_result"
    }
   ],
   "source": [
    "function ql(A)\n",
    "    m,n = size(A)\n",
    "    m == n || error(\"not square\")\n",
    "    ## TODO Create Q and L such that Q'Q == I and L is lower triangular\n",
    "    ## SOLUTION\n",
    "    L = copy(A)\n",
    "    Q = Matrix(1.0I, n, n)\n",
    "    for j = n:-1:2\n",
    "        Qⱼ = lowerhouseholderreflection(L[1:j, j])\n",
    "        L[1:j, 1:j] = Qⱼ * L[1:j, 1:j]\n",
    "        Q[:,1:j] = Q[:,1:j]*Qⱼ\n",
    "    end\n",
    "    Q,L\n",
    "    ## END\n",
    "end"
   ]
  },
  {
   "cell_type": "code",
   "execution_count": 13,
   "metadata": {
    "execution": {
     "iopub.execute_input": "2022-03-08T16:32:37.226671Z",
     "iopub.status.busy": "2022-03-08T16:32:37.226009Z",
     "iopub.status.idle": "2022-03-08T16:32:37.550196Z",
     "shell.execute_reply": "2022-03-08T16:32:37.549749Z"
    }
   },
   "outputs": [
    {
     "data": {
      "text/plain": [
       "\u001b[32m\u001b[1mTest Passed\u001b[22m\u001b[39m\n",
       "  Expression: L ≈ tril(L)\n",
       "   Evaluated: [0.2540002540003808 -4.440892098500626e-16 5.551115123125783e-17; -1.038431997689249 -0.8254203058555567 9.992007221626409e-16; -1.362770287738494 -4.507624797904249 -9.539392014169454] ≈ [0.2540002540003808 0.0 0.0; -1.038431997689249 -0.8254203058555567 0.0; -1.362770287738494 -4.507624797904249 -9.539392014169454]"
      ]
     },
     "execution_count": 13,
     "metadata": {},
     "output_type": "execute_result"
    }
   ],
   "source": [
    "A = [1.0 2 3; 1 4 9; 1 1 1]\n",
    "Q,L = ql(A)\n",
    "@test Q'Q ≈ I\n",
    "@test Q*L ≈ A\n",
    "@test L ≈ tril(L) # it is acceptable to have small non-zero entries in L"
   ]
  },
  {
   "cell_type": "markdown",
   "metadata": {},
   "source": [
    "## 5. Singular Value Decomposition\n",
    "\n",
    "**Problem 5.1 (C)** Find the best rank-4 approximation (in the $2$-norm) to\n",
    "$$\n",
    "f(x,y) = \\cos(x - y)/(x+y+1)\n",
    "$$\n",
    "evaluated at an evenly spaced 100 × 100 grid on the square $[0,1]^2$."
   ]
  },
  {
   "cell_type": "code",
   "execution_count": 14,
   "metadata": {
    "execution": {
     "iopub.execute_input": "2022-03-08T16:32:37.553489Z",
     "iopub.status.busy": "2022-03-08T16:32:37.551812Z",
     "iopub.status.idle": "2022-03-08T16:32:38.919385Z",
     "shell.execute_reply": "2022-03-08T16:32:38.917366Z"
    }
   },
   "outputs": [
    {
     "data": {
      "text/plain": [
       "100×100 Matrix{Float64}:\n",
       " 0.999993  0.989945  0.979995  0.970141  …  0.281434  0.275776  0.270146\n",
       " 0.989945  0.980195  0.970537  0.960968     0.284208  0.278592  0.273005\n",
       " 0.979995  0.970537  0.961164  0.951874     0.286924  0.281352  0.275807\n",
       " 0.970141  0.960968  0.951874  0.942857     0.289584  0.284055  0.278553\n",
       " 0.96038   0.951486  0.942665  0.933915     0.292187  0.286703  0.281244\n",
       " 0.95071   0.942088  0.933534  0.925045  …  0.294735  0.289295  0.283879\n",
       " 0.941128  0.932772  0.924479  0.916246     0.297228  0.291832  0.286459\n",
       " 0.931631  0.923536  0.915499  0.907516     0.299665  0.294314  0.288985\n",
       " 0.922217  0.914378  0.90659   0.898853     0.302049  0.296742  0.291457\n",
       " 0.912884  0.905295  0.897752  0.890255     0.304378  0.299117  0.293876\n",
       " 0.90363   0.896286  0.888983  0.881721  …  0.306654  0.301438  0.296241\n",
       " 0.894453  0.887348  0.88028   0.873248     0.308877  0.303706  0.298554\n",
       " 0.885351  0.87848   0.871642  0.864836     0.311047  0.305921  0.300814\n",
       " ⋮                                       ⋱                      \n",
       " 0.333675  0.336013  0.338292  0.340512     0.347152  0.345598  0.34402\n",
       " 0.327754  0.330144  0.332476  0.334749     0.346235  0.344725  0.34319\n",
       " 0.321861  0.324303  0.326687  0.329012  …  0.345289  0.343822  0.34233\n",
       " 0.315998  0.318491  0.320925  0.323302     0.344314  0.342891  0.341442\n",
       " 0.310165  0.312707  0.315191  0.317617     0.343311  0.341931  0.340526\n",
       " 0.30436   0.306951  0.309483  0.311958     0.34228   0.340943  0.339581\n",
       " 0.298585  0.301223  0.303803  0.306325     0.341222  0.339927  0.338607\n",
       " 0.292839  0.295523  0.298149  0.300719  …  0.340135  0.338884  0.337606\n",
       " 0.287122  0.289851  0.292523  0.295138     0.339022  0.337813  0.336578\n",
       " 0.281434  0.284208  0.286924  0.289584     0.337882  0.336715  0.335522\n",
       " 0.275776  0.278592  0.281352  0.284055     0.336715  0.335591  0.334439\n",
       " 0.270146  0.273005  0.275807  0.278553     0.335522  0.334439  0.33333"
      ]
     },
     "execution_count": 14,
     "metadata": {},
     "output_type": "execute_result"
    }
   ],
   "source": [
    "function bestrank4()\n",
    "    # TODO: return best rank-4 approximation\n",
    "    ## SOLUTION\n",
    "    x = y = range(0, 1; length=100)\n",
    "\n",
    "    F = cos.(x .- y') ./ (x .+ y' .+ 1)\n",
    "\n",
    "    U,σ,V = svd(F)\n",
    "    U[:,1:4] * Diagonal(σ[1:4]) * V[:,1:4]'\n",
    "    ## END\n",
    "end\n",
    "\n",
    "Fr = bestrank4()"
   ]
  },
  {
   "cell_type": "code",
   "execution_count": 15,
   "metadata": {
    "execution": {
     "iopub.execute_input": "2022-03-08T16:32:38.923947Z",
     "iopub.status.busy": "2022-03-08T16:32:38.923350Z",
     "iopub.status.idle": "2022-03-08T16:32:38.979999Z",
     "shell.execute_reply": "2022-03-08T16:32:38.980368Z"
    }
   },
   "outputs": [
    {
     "data": {
      "text/plain": [
       "\u001b[32m\u001b[1mTest Passed\u001b[22m\u001b[39m\n",
       "  Expression: abs(Fr[10, 11] - cos(x - y) / (x + y + 1)) ≤ 2.0e-6\n",
       "   Evaluated: 1.317880577000885e-6 ≤ 2.0e-6"
      ]
     },
     "execution_count": 15,
     "metadata": {},
     "output_type": "execute_result"
    }
   ],
   "source": [
    "x = 9/99\n",
    "y = 10/99\n",
    "@test rank(Fr) == 4\n",
    "@test abs(Fr[10,11] - cos(x - y)/(x + y + 1)) ≤ 2E-6"
   ]
  },
  {
   "cell_type": "markdown",
   "metadata": {},
   "source": [
    "## 6. Differential Equations\n",
    "\n",
    "**Problem 6.1 (A)** Complete the function `airyai(n)` that returns a length-$n$ `Vector{Float64}`\n",
    "$$\n",
    "\\begin{bmatrix}\n",
    "u_1 \\\\\n",
    "⋮ \\\\\n",
    "u_n\n",
    "\\end{bmatrix}\n",
    "$$\n",
    "such that $u_k$ approximates the solution to the equation\n",
    "$$\n",
    "\\begin{align*}\n",
    "u(0) &= 1 \\\\\n",
    "u(1) &= 0 \\\\\n",
    "u'' - x u &= 0\n",
    "\\end{align*}\n",
    "$$\n",
    "at the point $x_k = (k-1)/(n-1)$ using the second order finite-difference approximation:\n",
    "$$\n",
    "u''(x_k) ≈ {u_{k-1} - 2u_k + u{k+1} \\over h^2}\n",
    "$$\n",
    "for $k = 2, …, n-1$, in $O(n)$ operations."
   ]
  },
  {
   "cell_type": "code",
   "execution_count": 16,
   "metadata": {
    "execution": {
     "iopub.execute_input": "2022-03-08T16:32:38.982708Z",
     "iopub.status.busy": "2022-03-08T16:32:38.982110Z",
     "iopub.status.idle": "2022-03-08T16:32:39.064804Z",
     "shell.execute_reply": "2022-03-08T16:32:39.064420Z"
    }
   },
   "outputs": [
    {
     "data": {
      "text/plain": [
       "airy (generic function with 1 method)"
      ]
     },
     "execution_count": 16,
     "metadata": {},
     "output_type": "execute_result"
    }
   ],
   "source": [
    "function airy(n)\n",
    "    # TODO: return a Vector{Float64} approximating the solution to the ODE\n",
    "    ## SOLUTION\n",
    "    x = range(0, 1; length = n)\n",
    "    h = step(x)\n",
    "    A = SymTridiagonal(fill(-2 / h^2, n - 2) .- x[2:end-1], fill(1 / h^2, n - 3))\n",
    "    u = A \\ [-1 / h^2; zeros(n - 3)]\n",
    "    [1; u; 0]\n",
    "    ## END\n",
    "end"
   ]
  },
  {
   "cell_type": "code",
   "execution_count": 17,
   "metadata": {
    "execution": {
     "iopub.execute_input": "2022-03-08T16:32:39.066843Z",
     "iopub.status.busy": "2022-03-08T16:32:39.066306Z",
     "iopub.status.idle": "2022-03-08T16:32:39.438950Z",
     "shell.execute_reply": "2022-03-08T16:32:39.438570Z"
    }
   },
   "outputs": [
    {
     "data": {
      "text/plain": [
       "\u001b[32m\u001b[1mTest Passed\u001b[22m\u001b[39m\n",
       "  Expression: abs(u[500] - 0.4757167332829094) ≤ 2.0e-8\n",
       "   Evaluated: 1.8864041551047706e-8 ≤ 2.0e-8"
      ]
     },
     "execution_count": 17,
     "metadata": {},
     "output_type": "execute_result"
    }
   ],
   "source": [
    "u = airy(1000)\n",
    "@test u[1] == 1\n",
    "@test u[end] == 0\n",
    "# this compares agianst the exact formula\n",
    "@test abs(u[500] - 0.4757167332829094) ≤ 2E-8"
   ]
  }
 ],
 "metadata": {
  "kernelspec": {
   "display_name": "Julia 1.7.0",
   "language": "julia",
   "name": "julia-1.7"
  },
  "language_info": {
   "file_extension": ".jl",
   "mimetype": "application/julia",
   "name": "julia",
   "version": "1.7.1"
  }
 },
 "nbformat": 4,
 "nbformat_minor": 2
}
