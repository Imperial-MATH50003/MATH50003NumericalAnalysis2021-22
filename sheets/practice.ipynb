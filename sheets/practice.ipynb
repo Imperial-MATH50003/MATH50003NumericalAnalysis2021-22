{
 "cells": [
  {
   "cell_type": "markdown",
   "metadata": {},
   "source": [
    "# MATH50003 Numerical Analysis (2021–2022) Practice Computer-based Exam\n",
    "\n",
    "\n",
    "For each problem, replace the `# TODO` to complete the question.\n",
    "The unit tests are provided to help you test your answers.\n",
    "You have 1 hour to complete the exam, as well as 1 hour for downloading/uploading.\n",
    "\n",
    "Problems are marked A/B/C to indicate difficulty (\"A\" being most difficult).\n",
    "Partial credit will be awarded for reasonable attempts even if the tests\n",
    "are not passed.\n",
    "\n",
    "You may use existing code from anywhere\n",
    "but you are **REQUIRED** to cite the source if it is not part of the module material,\n",
    "ideally by including a weblink in a comment. You **MUST NOT** ask for help online or\n",
    "communicate with others within or outside the module.\n",
    "Failure to follow these rules will be considered misconduct.\n",
    "\n",
    "\n",
    "\n",
    "You should use the following packages:"
   ]
  },
  {
   "cell_type": "code",
   "execution_count": 1,
   "metadata": {
    "execution": {
     "iopub.execute_input": "2022-03-08T16:32:15.869221Z",
     "iopub.status.busy": "2022-03-08T16:32:15.456562Z",
     "iopub.status.idle": "2022-03-08T16:32:16.077344Z",
     "shell.execute_reply": "2022-03-08T16:32:16.076814Z"
    }
   },
   "outputs": [],
   "source": [
    "using LinearAlgebra, SetRounding, Test"
   ]
  },
  {
   "cell_type": "markdown",
   "metadata": {},
   "source": [
    "**WARNING** It may be necessary to restart the kernel if issues arise. Remember to reload the packages\n",
    "when you do so.\n",
    "\n",
    "## 1. Numbers\n",
    "\n",
    "**Problem 1.1 (C)** Complete the following function `divideby3(x)` that\n",
    "returns a tuple `a,b` such that `a` is the largest `Float64` less \n",
    "than or equal to `x/3` and `b` is the smallest `Float64` greater than or equal to `x/3`."
   ]
  },
  {
   "cell_type": "code",
   "execution_count": null,
   "metadata": {
    "execution": {
     "iopub.execute_input": "2022-03-08T16:32:16.098298Z",
     "iopub.status.busy": "2022-03-08T16:32:16.097611Z",
     "iopub.status.idle": "2022-03-08T16:32:16.541561Z",
     "shell.execute_reply": "2022-03-08T16:32:16.541022Z"
    }
   },
   "outputs": [],
   "source": [
    "function divideby3(x)\n",
    "    # TODO: assign a,b so that a ≤ x ≤ b where b is either equal to a or the next float\n",
    "    \n",
    "    a,b\n",
    "end"
   ]
  },
  {
   "cell_type": "code",
   "execution_count": null,
   "metadata": {
    "execution": {
     "iopub.execute_input": "2022-03-08T16:32:16.543588Z",
     "iopub.status.busy": "2022-03-08T16:32:16.543069Z",
     "iopub.status.idle": "2022-03-08T16:32:17.391047Z",
     "shell.execute_reply": "2022-03-08T16:32:17.390663Z"
    }
   },
   "outputs": [],
   "source": [
    "x = 0.1 # arbitary x\n",
    "a,b = divideby3(x)\n",
    "@test a ≤ big(x)/3 ≤ b\n",
    "@test b == a || b == nextfloat(a)"
   ]
  },
  {
   "cell_type": "markdown",
   "metadata": {},
   "source": [
    "## 2. Differentiation\n",
    "\n",
    "**Problem 2.1 (C)** Use the following off-center finite-difference approximation\n",
    "$$\n",
    "f'(x) ≈ {f(x+2h) - f(x-h) \\over 3h}\n",
    "$$\n",
    "with an appropriately chosen $h$ to approximate\n",
    "$$\n",
    "f(x) = \\cos(x^2)\n",
    "$$\n",
    "at $x = 0.1$ to 5 digits accuracy."
   ]
  },
  {
   "cell_type": "code",
   "execution_count": null,
   "metadata": {
    "execution": {
     "iopub.execute_input": "2022-03-08T16:32:17.393232Z",
     "iopub.status.busy": "2022-03-08T16:32:17.392612Z",
     "iopub.status.idle": "2022-03-08T16:32:17.472691Z",
     "shell.execute_reply": "2022-03-08T16:32:17.472215Z"
    }
   },
   "outputs": [],
   "source": [
    "function fd(x)\n",
    "    # TODO: implement a finite-difference rule \n",
    "    # to approximate f'(x)\n",
    "    # for f(x) = cos(x^2)\n",
    "    # with step-size h chosen to get sufficient accuracy\n",
    "    \n",
    "end"
   ]
  },
  {
   "cell_type": "code",
   "execution_count": null,
   "metadata": {
    "execution": {
     "iopub.execute_input": "2022-03-08T16:32:17.474723Z",
     "iopub.status.busy": "2022-03-08T16:32:17.474227Z",
     "iopub.status.idle": "2022-03-08T16:32:18.880426Z",
     "shell.execute_reply": "2022-03-08T16:32:18.879903Z"
    }
   },
   "outputs": [],
   "source": [
    "@test abs(fd(0.1) + 2*0.1*sin(0.1^2)) ≤ 1E-5"
   ]
  },
  {
   "cell_type": "markdown",
   "metadata": {},
   "source": [
    "**Problem 2.2 (A)** Consider a 2D version of a dual number:\n",
    "$$\n",
    "a + b ϵ_x + c ϵ_y\n",
    "$$\n",
    "such that\n",
    "$$\n",
    "ϵ_x^2 = ϵ_y^2 = ϵ_x ϵ_y =  0.\n",
    "$$\n",
    "Complete the following implementation supporting `+` and `*` (and\n",
    "assuming `a,b,c` are `Float64`). Hint: you may need to work out on paper\n",
    "how to multiply `(s.a + s.b ϵ_x + s.c ϵ_y)*(t.a + t.b ϵ_x + t.c ϵ_y)` using the\n",
    "relationship above."
   ]
  },
  {
   "cell_type": "code",
   "execution_count": null,
   "metadata": {
    "execution": {
     "iopub.execute_input": "2022-03-08T16:32:18.883265Z",
     "iopub.status.busy": "2022-03-08T16:32:18.882600Z",
     "iopub.status.idle": "2022-03-08T16:32:19.152893Z",
     "shell.execute_reply": "2022-03-08T16:32:19.152454Z"
    }
   },
   "outputs": [],
   "source": [
    "import Base: *, +, ^\n",
    "struct Dual2D\n",
    "    a::Float64\n",
    "    b::Float64\n",
    "    c::Float64\n",
    "end\n",
    "\n",
    "\n",
    "function +(s::Dual2D, t::Dual2D)\n",
    "    ## TODO: Implement +, returning a Dual2D\n",
    "end\n",
    "\n",
    "function *(c::Number, s::Dual2D)\n",
    "    ## TODO: Implement c * Dual2D(...), returning a Dual2D\n",
    "    \n",
    "end\n",
    "\n",
    "function *(s::Dual2D, t::Dual2D)\n",
    "    ## TODO: Implement Dual2D(...) * Dual2D(...), returning a Dual2D\n",
    "    \n",
    "    \n",
    "end"
   ]
  },
  {
   "cell_type": "code",
   "execution_count": null,
   "metadata": {
    "execution": {
     "iopub.execute_input": "2022-03-08T16:32:19.154906Z",
     "iopub.status.busy": "2022-03-08T16:32:19.154350Z",
     "iopub.status.idle": "2022-03-08T16:32:20.278218Z",
     "shell.execute_reply": "2022-03-08T16:32:20.277830Z"
    }
   },
   "outputs": [],
   "source": [
    "f = function (x, y) # (x+2y^2)^3 using only * and +\n",
    "    z = (x + 2y * y)\n",
    "    z * z * z\n",
    "end\n",
    "\n",
    "x,y = 1., 2.\n",
    "@test f(Dual2D(x,1.,0.), Dual2D(y,0.,1.)) == Dual2D(f(x,y), 3(x+2y^2)^2, 12y*(x+2y^2)^2)\n",
    "\n",
    "# This has computed the gradient as f(x,y) + f_x*ϵ_x + f_y*ϵ_y\n",
    "# == (x+2y^2)^3 + 3(x+2y^2)^2*ϵ_x + 12y(x+2y^2)^2*ϵ_y"
   ]
  },
  {
   "cell_type": "markdown",
   "metadata": {},
   "source": [
    "## 3. Structured Matrices\n",
    "\n",
    "**Problem 3.1 (C)** Add an implementation of `inv(::PermutationMatrix)`\n",
    "to return the inverse permutation as a `PermutationMatrix`. Hint: use\n",
    "`invperm`."
   ]
  },
  {
   "cell_type": "code",
   "execution_count": null,
   "metadata": {
    "execution": {
     "iopub.execute_input": "2022-03-08T16:32:20.280124Z",
     "iopub.status.busy": "2022-03-08T16:32:20.279617Z",
     "iopub.status.idle": "2022-03-08T16:32:20.364321Z",
     "shell.execute_reply": "2022-03-08T16:32:20.363936Z"
    }
   },
   "outputs": [],
   "source": [
    "import Base: getindex, size, *, inv\n",
    "\n",
    "struct PermutationMatrix <: AbstractMatrix{Int}\n",
    "    p::Vector{Int} # represents the permutation whose action is v[p]\n",
    "    function PermutationMatrix(p::Vector)\n",
    "        sort(p) == 1:length(p) || error(\"input is not a valid permutation\")\n",
    "        new(p)\n",
    "    end\n",
    "end\n",
    "\n",
    "size(P::PermutationMatrix) = (length(P.p),length(P.p))\n",
    "getindex(P::PermutationMatrix, k::Int, j::Int) = P.p[k] == j ? 1 : 0\n",
    "*(P::PermutationMatrix, x::AbstractVector) = x[P.p]\n",
    "\n",
    "function inv(P::PermutationMatrix)\n",
    "    # TODO: return a PermutationMatrix representing the inverse permutation\n",
    "    \n",
    "end"
   ]
  },
  {
   "cell_type": "code",
   "execution_count": null,
   "metadata": {
    "execution": {
     "iopub.execute_input": "2022-03-08T16:32:20.367270Z",
     "iopub.status.busy": "2022-03-08T16:32:20.366375Z",
     "iopub.status.idle": "2022-03-08T16:32:20.483934Z",
     "shell.execute_reply": "2022-03-08T16:32:20.483532Z"
    }
   },
   "outputs": [],
   "source": [
    "P = PermutationMatrix([3,4,2,1])\n",
    "@test inv(P) isa PermutationMatrix\n",
    "@test P*inv(P) == I"
   ]
  },
  {
   "cell_type": "markdown",
   "metadata": {},
   "source": [
    "## 4. Decompositions\n",
    "\n",
    "**Problem 4.1 (C)** For $𝐱 ∈ ℝ^n$ implement the reflection defined by\n",
    "$$\n",
    "\\begin{align*}\n",
    "𝐲 &:= 𝐱 + \\|𝐱\\| 𝐞_n \\\\\n",
    "𝐰 &:= 𝐲/\\|𝐲\\| \\\\\n",
    "Q_𝐱 &:= I - 2𝐰𝐰^⊤\n",
    "\\end{align*}\n",
    "$$\n",
    "in `lowerhouseholderreflection(x)`, which should return a `Matrix{Float64}`.\n",
    "You may assume that `x` is a `Vector{Float64}`."
   ]
  },
  {
   "cell_type": "code",
   "execution_count": 3,
   "metadata": {
    "execution": {
     "iopub.execute_input": "2022-03-08T16:32:20.487331Z",
     "iopub.status.busy": "2022-03-08T16:32:20.486453Z",
     "iopub.status.idle": "2022-03-08T16:32:20.572504Z",
     "shell.execute_reply": "2022-03-08T16:32:20.572079Z"
    }
   },
   "outputs": [
    {
     "data": {
      "text/plain": [
       "lowerhouseholderreflection (generic function with 1 method)"
      ]
     },
     "execution_count": 3,
     "metadata": {},
     "output_type": "execute_result"
    }
   ],
   "source": [
    "function lowerhouseholderreflection(x)\n",
    "    ## TODO: implement the householder reflector defined above\n",
    "    n = length(x)\n",
    "    e_n = [zeros(n-1); 1]\n",
    "    y = x + norm(x) * e_n\n",
    "    w = y / norm(y)\n",
    "    I - 2*w*w'\n",
    "end"
   ]
  },
  {
   "cell_type": "code",
   "execution_count": 4,
   "metadata": {
    "execution": {
     "iopub.execute_input": "2022-03-08T16:32:20.574724Z",
     "iopub.status.busy": "2022-03-08T16:32:20.574187Z",
     "iopub.status.idle": "2022-03-08T16:32:21.689419Z",
     "shell.execute_reply": "2022-03-08T16:32:21.689018Z"
    }
   },
   "outputs": [
    {
     "data": {
      "text/plain": [
       "\u001b[32m\u001b[1mTest Passed\u001b[22m\u001b[39m\n",
       "  Expression: Q ≈ Q'\n",
       "   Evaluated: [0.9807354816671587 -0.03852903666568264 -0.05779355499852396 -0.18257418583505536; -0.03852903666568264 0.9229419266686347 -0.11558710999704792 -0.3651483716701107; -0.05779355499852396 -0.11558710999704792 0.8266193350044281 -0.5477225575051661; -0.18257418583505536 -0.3651483716701107 -0.5477225575051661 -0.7302967433402217] ≈ [0.9807354816671587 -0.03852903666568264 -0.05779355499852396 -0.18257418583505536; -0.03852903666568264 0.9229419266686347 -0.11558710999704792 -0.3651483716701107; -0.05779355499852396 -0.11558710999704792 0.8266193350044281 -0.5477225575051661; -0.18257418583505536 -0.3651483716701107 -0.5477225575051661 -0.7302967433402217]"
      ]
     },
     "execution_count": 4,
     "metadata": {},
     "output_type": "execute_result"
    }
   ],
   "source": [
    "x = [1.0,2,3,4]\n",
    "Q = lowerhouseholderreflection(x)\n",
    "@test Q*x ≈ [zeros(3); -norm(x)]\n",
    "@test Q'Q ≈ I\n",
    "@test Q ≈ Q'"
   ]
  },
  {
   "cell_type": "markdown",
   "metadata": {},
   "source": [
    "**Problem 4.2 (A)** Complete the function `ql(A)` that\n",
    "returns a QL decomposition, that is, `Q` is an orthogonal\n",
    "matrix and `L` is lower triangular. You may assume that `A`\n",
    "is a square `Matrix{Float64}`. Hint: use Problem 4.1 to lower triangularise."
   ]
  },
  {
   "cell_type": "code",
   "execution_count": 14,
   "metadata": {
    "execution": {
     "iopub.execute_input": "2022-03-08T16:32:21.691796Z",
     "iopub.status.busy": "2022-03-08T16:32:21.691164Z",
     "iopub.status.idle": "2022-03-08T16:32:21.771582Z",
     "shell.execute_reply": "2022-03-08T16:32:21.771204Z"
    }
   },
   "outputs": [
    {
     "data": {
      "text/plain": [
       "ql (generic function with 1 method)"
      ]
     },
     "execution_count": 14,
     "metadata": {},
     "output_type": "execute_result"
    }
   ],
   "source": [
    "function ql(A)\n",
    "    m,n = size(A)\n",
    "    m == n || error(\"not square\")\n",
    "    ## TODO Create Q and L such that Q'Q == I and L is lower triangular\n",
    "    L = copy(A)\n",
    "    Q = Matrix(1.0I, n, n)\n",
    "    for j = n:-1:2 # last to 2nd column\n",
    "        x = L[1:j,j]\n",
    "        Qⱼ = lowerhouseholderreflection(x) # moves all of Qⱼ*x to the last entry\n",
    "        L[1:j,1:j] = Qⱼ*L[1:j,1:j] # moves last column \"down\"\n",
    "        # Q_1 * Q_2 * … * Q_j (note Q_k are symmetric, so this is inverse of Q_j * … * Q_1)\n",
    "        # only changes the first j columns\n",
    "        Q[:,1:j] = Q[:,1:j]*Qⱼ\n",
    "    end\n",
    "    Q, L\n",
    "end"
   ]
  },
  {
   "cell_type": "code",
   "execution_count": 15,
   "metadata": {},
   "outputs": [
    {
     "data": {
      "text/plain": [
       "([-0.6350006350009529 -0.7056012291991052 -0.3144854510165755; 0.12700012700019053 0.30620430701093254 -0.9434563530497264; 0.7620007620011431 -0.6390350755010764 -0.104828483672192], [0.2540002540003808 -4.440892098500626e-16 5.551115123125783e-17; -1.038431997689249 -0.8254203058555567 9.992007221626409e-16; -1.362770287738494 -4.507624797904249 -9.539392014169454])"
      ]
     },
     "execution_count": 15,
     "metadata": {},
     "output_type": "execute_result"
    }
   ],
   "source": [
    "ql(A)"
   ]
  },
  {
   "cell_type": "code",
   "execution_count": 16,
   "metadata": {
    "execution": {
     "iopub.execute_input": "2022-03-08T16:32:21.773956Z",
     "iopub.status.busy": "2022-03-08T16:32:21.773235Z",
     "iopub.status.idle": "2022-03-08T16:32:21.913172Z",
     "shell.execute_reply": "2022-03-08T16:32:21.912792Z"
    }
   },
   "outputs": [
    {
     "data": {
      "text/plain": [
       "\u001b[32m\u001b[1mTest Passed\u001b[22m\u001b[39m\n",
       "  Expression: L ≈ tril(L)\n",
       "   Evaluated: [0.2540002540003808 -4.440892098500626e-16 5.551115123125783e-17; -1.038431997689249 -0.8254203058555567 9.992007221626409e-16; -1.362770287738494 -4.507624797904249 -9.539392014169454] ≈ [0.2540002540003808 0.0 0.0; -1.038431997689249 -0.8254203058555567 0.0; -1.362770287738494 -4.507624797904249 -9.539392014169454]"
      ]
     },
     "execution_count": 16,
     "metadata": {},
     "output_type": "execute_result"
    }
   ],
   "source": [
    "A = [1.0 2 3; 1 4 9; 1 1 1]\n",
    "Q,L = ql(A)\n",
    "@test Q'Q ≈ I\n",
    "@test Q*L ≈ A\n",
    "@test L ≈ tril(L) # it is acceptable to have small non-zero entries in L"
   ]
  },
  {
   "cell_type": "markdown",
   "metadata": {},
   "source": [
    "## 5. Singular Value Decomposition\n",
    "\n",
    "**Problem 5.1 (C)** Find the best rank-4 approximation (in the $2$-norm) to\n",
    "$$\n",
    "f(x,y) = \\cos(x - y)/(x+y+1)\n",
    "$$\n",
    "evaluated at an evenly spaced 100 × 100 grid on the square $[0,1]^2$."
   ]
  },
  {
   "cell_type": "code",
   "execution_count": null,
   "metadata": {
    "execution": {
     "iopub.execute_input": "2022-03-08T16:32:21.915531Z",
     "iopub.status.busy": "2022-03-08T16:32:21.914777Z",
     "iopub.status.idle": "2022-03-08T16:32:21.916288Z",
     "shell.execute_reply": "2022-03-08T16:32:21.916836Z"
    }
   },
   "outputs": [],
   "source": [
    "function bestrank4()\n",
    "    # TODO: return best rank-4 approximation\n",
    "    \n",
    "end\n",
    "\n",
    "Fr = bestrank4()"
   ]
  },
  {
   "cell_type": "code",
   "execution_count": null,
   "metadata": {
    "execution": {
     "iopub.execute_input": "2022-03-08T16:32:21.919688Z",
     "iopub.status.busy": "2022-03-08T16:32:21.919016Z",
     "iopub.status.idle": "2022-03-08T16:32:21.971337Z",
     "shell.execute_reply": "2022-03-08T16:32:21.970915Z"
    }
   },
   "outputs": [],
   "source": [
    "x = 9/99\n",
    "y = 10/99\n",
    "@test rank(Fr) == 4\n",
    "@test abs(Fr[10,11] - cos(x - y)/(x + y + 1)) ≤ 2E-6"
   ]
  },
  {
   "cell_type": "markdown",
   "metadata": {},
   "source": [
    "## 6. Differential Equations\n",
    "\n",
    "**Problem 6.1 (A)** Complete the function `airyai(n)` that returns a length-$n$ `Vector{Float64}`\n",
    "$$\n",
    "\\begin{bmatrix}\n",
    "u_1 \\\\\n",
    "⋮ \\\\\n",
    "u_n\n",
    "\\end{bmatrix}\n",
    "$$\n",
    "such that $u_k$ approximates the solution to the equation\n",
    "$$\n",
    "\\begin{align*}\n",
    "u(0) &= 1 \\\\\n",
    "u(1) &= 0 \\\\\n",
    "u'' - x u &= 0\n",
    "\\end{align*}\n",
    "$$\n",
    "at the point $x_k = (k-1)/(n-1)$ using the second order finite-difference approximation:\n",
    "$$\n",
    "u''(x_k) ≈ {u_{k-1} - 2u_k + u_{k+1} \\over h^2}\n",
    "$$\n",
    "for $k = 2, …, n-1$, in $O(n)$ operations."
   ]
  },
  {
   "cell_type": "code",
   "execution_count": null,
   "metadata": {
    "execution": {
     "iopub.execute_input": "2022-03-08T16:32:21.973860Z",
     "iopub.status.busy": "2022-03-08T16:32:21.972946Z",
     "iopub.status.idle": "2022-03-08T16:32:22.051297Z",
     "shell.execute_reply": "2022-03-08T16:32:22.050894Z"
    }
   },
   "outputs": [],
   "source": [
    "function airy(n)\n",
    "    # TODO: return a Vector{Float64} approximating the solution to the ODE\n",
    "    \n",
    "end"
   ]
  },
  {
   "cell_type": "code",
   "execution_count": 17,
   "metadata": {
    "execution": {
     "iopub.execute_input": "2022-03-08T16:32:22.053186Z",
     "iopub.status.busy": "2022-03-08T16:32:22.052686Z",
     "iopub.status.idle": "2022-03-08T16:32:22.103708Z",
     "shell.execute_reply": "2022-03-08T16:32:22.103272Z"
    }
   },
   "outputs": [
    {
     "ename": "LoadError",
     "evalue": "UndefVarError: airy not defined",
     "output_type": "error",
     "traceback": [
      "UndefVarError: airy not defined",
      "",
      "Stacktrace:",
      " [1] top-level scope",
      "   @ In[17]:1",
      " [2] eval",
      "   @ ./boot.jl:373 [inlined]",
      " [3] include_string(mapexpr::typeof(REPL.softscope), mod::Module, code::String, filename::String)",
      "   @ Base ./loading.jl:1196"
     ]
    }
   ],
   "source": [
    "u = airy(1000)\n",
    "@test u[1] ≈ 1\n",
    "@test u[end] ≈ 0\n",
    "# this compares agianst the exact formula\n",
    "@test abs(u[500] - 0.4757167332829094) ≤ 2E-8"
   ]
  },
  {
   "cell_type": "code",
   "execution_count": 25,
   "metadata": {},
   "outputs": [
    {
     "data": {
      "text/plain": [
       "5×5 SymTridiagonal{Float64, Vector{Float64}}:\n",
       " 1.0  1.0   ⋅    ⋅    ⋅ \n",
       " 1.0  2.0  0.0   ⋅    ⋅ \n",
       "  ⋅   0.0  3.0  0.0   ⋅ \n",
       "  ⋅    ⋅   0.0  4.0  0.0\n",
       "  ⋅    ⋅    ⋅   0.0  5.0"
      ]
     },
     "execution_count": 25,
     "metadata": {},
     "output_type": "execute_result"
    }
   ],
   "source": [
    "x = 1:6\n",
    "\n",
    "\n",
    "\n",
    "SymTridiagonal(Vector{Float64}(x[1:5]), [1.0; zeros(3)])"
   ]
  },
  {
   "cell_type": "code",
   "execution_count": 21,
   "metadata": {},
   "outputs": [
    {
     "data": {
      "text/plain": [
       "4-element Vector{Float64}:\n",
       " 1.0\n",
       " 2.0\n",
       " 3.0\n",
       " 4.0"
      ]
     },
     "execution_count": 21,
     "metadata": {},
     "output_type": "execute_result"
    }
   ],
   "source": [
    "x"
   ]
  },
  {
   "cell_type": "code",
   "execution_count": null,
   "metadata": {},
   "outputs": [],
   "source": []
  }
 ],
 "metadata": {
  "kernelspec": {
   "display_name": "Julia 1.7.1",
   "language": "julia",
   "name": "julia-1.7"
  },
  "language_info": {
   "file_extension": ".jl",
   "mimetype": "application/julia",
   "name": "julia",
   "version": "1.7.1"
  }
 },
 "nbformat": 4,
 "nbformat_minor": 2
}
