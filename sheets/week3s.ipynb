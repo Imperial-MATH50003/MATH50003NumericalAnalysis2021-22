{
 "cells": [
  {
   "cell_type": "markdown",
   "metadata": {},
   "source": [
    "# MATH50003 Numerical Analysis: Problem 3\n",
    "\n",
    "This problem sheet explores implementation of triangular solves,\n",
    "supporting a matrix with two super-diagonals, as well as\n",
    "permutation and Householder reflections that can be applied to a vector in\n",
    "$O(n)$ complexity."
   ]
  },
  {
   "cell_type": "code",
   "execution_count": 1,
   "metadata": {
    "execution": {
     "iopub.execute_input": "2022-01-21T15:14:34.786524Z",
     "iopub.status.busy": "2022-01-21T15:14:34.340567Z",
     "iopub.status.idle": "2022-01-21T15:14:35.019587Z",
     "shell.execute_reply": "2022-01-21T15:14:35.019006Z"
    }
   },
   "outputs": [],
   "source": [
    "using LinearAlgebra, Test\n",
    "\n",
    "# We will override these functions below\n",
    "import Base: getindex, setindex!, size, *, \\"
   ]
  },
  {
   "cell_type": "markdown",
   "metadata": {},
   "source": [
    "## 1. Dense Matrices\n",
    "\n",
    "**Problem 1.1** Show that `A*x` is not\n",
    "implemented as `mul(A, x)` from the lecture notes\n",
    "by finding a `Float64` example  where the bits do not match.\n",
    "\n",
    "\n",
    "\n",
    "\n",
    "## 2. Triangular Matrices\n",
    "\n",
    "**Problem 2.1** Complete the following functions for solving linear systems with\n",
    "triangular systems by implementing back and forward-substitution:"
   ]
  },
  {
   "cell_type": "code",
   "execution_count": 2,
   "metadata": {
    "execution": {
     "iopub.execute_input": "2022-01-21T15:14:35.021752Z",
     "iopub.status.busy": "2022-01-21T15:14:35.021115Z",
     "iopub.status.idle": "2022-01-21T15:14:35.453273Z",
     "shell.execute_reply": "2022-01-21T15:14:35.452865Z"
    }
   },
   "outputs": [
    {
     "data": {
      "text/plain": [
       "ldiv (generic function with 2 methods)"
      ]
     },
     "execution_count": 2,
     "metadata": {},
     "output_type": "execute_result"
    }
   ],
   "source": [
    "function ldiv(U::UpperTriangular, b)\n",
    "    n = size(U,1)\n",
    "    \n",
    "    if length(b) != n\n",
    "        error(\"The system is not compatible\")\n",
    "    end\n",
    "        \n",
    "    x = zeros(n)  # the solution vector\n",
    "    ## TODO: populate x using back-substitution\n",
    "\n",
    "    \n",
    "    for k = n:-1:1  # start with k=n, then k=n-1, ...\n",
    "        r = b[k]  # dummy variable\n",
    "        for j = k+1:n\n",
    "            r -= U[k,j]*x[j] # equivalent to r = r-U[k,j]*x[j]\n",
    "        end\n",
    "        x[k] = r/U[k,k]\n",
    "    end\n",
    "    x\n",
    "end\n",
    "\n",
    "function ldiv(U::LowerTriangular, b)\n",
    "    n = size(U,1)\n",
    "    \n",
    "    if length(b) != n\n",
    "        error(\"The system is not compatible\")\n",
    "    end\n",
    "        \n",
    "    x = zeros(n)  # the solution vector\n",
    "    ## TODO: populate x using forward-substitution\n",
    "end"
   ]
  },
  {
   "cell_type": "markdown",
   "metadata": {},
   "source": [
    "**Problem 2.2⋆** Given $𝐱 ∈ ℝ^n$, find a lower triangular matrix of the form\n",
    "$$\n",
    "L = I - 2 𝐯 𝐞_1^⊤\n",
    "$$\n",
    "such that:\n",
    "$$\n",
    "L 𝐱 = x_1 𝐞_1.\n",
    "$$\n",
    "What does $L𝐲$ equal if $𝐲  ∈ ℝ^n$ satisfies $y_1 = 𝐞_1^⊤ 𝐲 = 0$?\n",
    "\n",
    "## 3. Banded matrices\n",
    "\n",
    "**Problem 3.1** Complete the implementation of `UpperTridiagonal` which represents a banded matrix with\n",
    "bandwidths $(l,u) = (0,2)$:"
   ]
  },
  {
   "cell_type": "code",
   "execution_count": 3,
   "metadata": {
    "execution": {
     "iopub.execute_input": "2022-01-21T15:14:35.455661Z",
     "iopub.status.busy": "2022-01-21T15:14:35.455040Z",
     "iopub.status.idle": "2022-01-21T15:14:35.552876Z",
     "shell.execute_reply": "2022-01-21T15:14:35.552441Z"
    }
   },
   "outputs": [
    {
     "data": {
      "text/plain": [
       "setindex! (generic function with 90 methods)"
      ]
     },
     "execution_count": 3,
     "metadata": {},
     "output_type": "execute_result"
    }
   ],
   "source": [
    "struct UpperTridiagonal{T} <: AbstractMatrix{T}\n",
    "    d::Vector{T}   # diagonal entries\n",
    "    du::Vector{T}  # super-diagonal enries\n",
    "    du2::Vector{T} # second-super-diagonal entries\n",
    "end\n",
    "\n",
    "size(U::UpperTridiagonal) = (length(U.d),length(U.d))\n",
    "\n",
    "function getindex(U::UpperTridiagonal, k::Int, j::Int)\n",
    "    d,du,du2 = U.d,U.du,U.du2\n",
    "    # TODO: return U[k,j]\n",
    "end\n",
    "\n",
    "function setindex!(U::UpperTridiagonal, v, k::Int, j::Int)\n",
    "    d,du,du2 = U.d,U.du,U.du2\n",
    "    if j > k+2\n",
    "        error(\"Cannot modify off-band\")\n",
    "    end\n",
    "\n",
    "    # TODO: modify d,du,du2 so that U[k,j] == v\n",
    "\n",
    "    U # by convention we return the matrix\n",
    "end"
   ]
  },
  {
   "cell_type": "markdown",
   "metadata": {},
   "source": [
    "**Problem 3.2** Complete the following implementations of `*` and `\\` for `UpperTridiagonal` so that\n",
    "they take only $O(n)$ operations."
   ]
  },
  {
   "cell_type": "code",
   "execution_count": 4,
   "metadata": {
    "execution": {
     "iopub.execute_input": "2022-01-21T15:14:35.554903Z",
     "iopub.status.busy": "2022-01-21T15:14:35.554376Z",
     "iopub.status.idle": "2022-01-21T15:14:35.653168Z",
     "shell.execute_reply": "2022-01-21T15:14:35.652641Z"
    }
   },
   "outputs": [
    {
     "data": {
      "text/plain": [
       "\\ (generic function with 136 methods)"
      ]
     },
     "execution_count": 4,
     "metadata": {},
     "output_type": "execute_result"
    }
   ],
   "source": [
    "function *(U::UpperTridiagonal, x::AbstractVector)\n",
    "    T = promote_type(eltype(U), eltype(x)) # make a type that contains both the element type of U and x\n",
    "    b = zeros(T, size(U,1)) # returned vector\n",
    "    # TODO: populate b so that U*x == b (up to rounding)\n",
    "end\n",
    "\n",
    "function \\(U::UpperTridiagonal, b::AbstractVector)\n",
    "    T = promote_type(eltype(U), eltype(b)) # make a type that contains both the element type of U and b\n",
    "    x = zeros(T, size(U,2)) # returned vector\n",
    "    # TODO: populate x so that U*x == b (up to rounding)\n",
    "end"
   ]
  },
  {
   "cell_type": "markdown",
   "metadata": {},
   "source": [
    "## 4. Permutations\n",
    "\n",
    "**Problem 4.1⋆** What are the permutation matrices corresponding to the following permutations?\n",
    "$$\n",
    "\\begin{pmatrix}\n",
    "1 & 2 & 3 \\\\\n",
    "3 & 2 & 1\n",
    "\\end{pmatrix}, \\begin{pmatrix}\n",
    "1 & 2 & 3 & 4 & 5 & 6\\\\\n",
    "2 & 1 & 4 & 3 & 6 & 5\n",
    "\\end{pmatrix}.\n",
    "$$"
   ]
  },
  {
   "cell_type": "markdown",
   "metadata": {},
   "source": [
    "**SOLUTION**\n",
    "\n",
    "Let $\\sigma=\\begin{pmatrix}1 & 2 & 3 \\\\ 3 & 2 & 1\\end{pmatrix}$ and $\\tau=\\begin{pmatrix}1 & 2 & 3 & 4 & 5 & 6\\\\ 2 & 1 & 4 & 3 & 6 & 5\\end{pmatrix}$. There are two ways to construct $P_\\sigma$ and $P_\\tau$.\n",
    "\n",
    "- Column by column:\n",
    "  $$P_\\sigma=\n",
    "  \\left(\\mathbf{e}_{\\sigma_1^{-1}}\\middle|\\mathbf{e}_{\\sigma_2^{-1}}\\middle|\\mathbf{e}_{\\sigma_3^{-1}}\\right)=\n",
    "  \\left(\\mathbf{e}_3\\middle|\\mathbf{e}_2\\middle|\\mathbf{e}_1\\right)$$\n",
    "  $$P_\\tau=\n",
    "  \\left(\\mathbf{e}_{\\tau_1^{-1}}\\middle|\\mathbf{e}_{\\tau_2^{-1}}\\middle|\\mathbf{e}_{\\tau_3^{-1}}\\middle|\\mathbf{e}_{\\tau_4^{-1}}\\middle|\\mathbf{e}_{\\tau_5^{-1}}\\middle|\\mathbf{e}_{\\tau_6^{-1}}\\right)=\n",
    "  \\left(\\mathbf{e}_2\\middle|\\mathbf{e}_1\\middle|\\mathbf{e}_4\\middle|\\mathbf{e}_3\\middle|\\mathbf{e}_6\\middle|\\mathbf{e}_5\\right)$$\n",
    "- Row by row:\n",
    "  $$P_\\sigma=I[\\mathbf{\\sigma},:]=\n",
    "  \\begin{pmatrix}\n",
    "  I[\\sigma_1,:]\\\\\n",
    "  I[\\sigma_2,:]\\\\\n",
    "  I[\\sigma_3,:]\n",
    "  \\end{pmatrix}=\n",
    "  \\begin{pmatrix}\n",
    "  I[3,:]\\\\\n",
    "  I[2,:]\\\\\n",
    "  I[1,:]\n",
    "  \\end{pmatrix}$$\n",
    "  $$P_\\tau=I[\\mathbf{\\tau},:]=\n",
    "  \\begin{pmatrix}\n",
    "  I[\\tau_1,:]\\\\\n",
    "  I[\\tau_2,:]\\\\\n",
    "  I[\\tau_3,:]\\\\\n",
    "  I[\\tau_4,:]\\\\\n",
    "  I[\\tau_5,:]\\\\\n",
    "  I[\\tau_6,:]\\\\\n",
    "  \\end{pmatrix}=\n",
    "  \\begin{pmatrix}\n",
    "  I[2,:]\\\\\n",
    "  I[1,:]\\\\\n",
    "  I[4,:]\\\\\n",
    "  I[3,:]\\\\\n",
    "  I[6,:]\\\\\n",
    "  I[5,:]\\\\\n",
    "  \\end{pmatrix}$$\n",
    "\n",
    "Either way, we have\n",
    "$$P_\\sigma=\n",
    "\\begin{pmatrix}\n",
    "0 & 0 & 1\\\\ \n",
    "0 & 1 & 0\\\\ \n",
    "1 & 0 & 0\n",
    "\\end{pmatrix}\n",
    "\\qquad\\text{and}\\qquad\n",
    "P_\\tau=\n",
    "\\begin{pmatrix}\n",
    "0 & 1 & 0 & 0 & 0 & 0 \\\\\n",
    "1 & 0 & 0 & 0 & 0 & 0 \\\\\n",
    "0 & 0 & 0 & 1 & 0 & 0 \\\\\n",
    "0 & 0 & 1 & 0 & 0 & 0 \\\\\n",
    "0 & 0 & 0 & 0 & 0 & 1 \\\\\n",
    "0 & 0 & 0 & 0 & 1 & 0\n",
    "\\end{pmatrix}$$"
   ]
  },
  {
   "cell_type": "markdown",
   "metadata": {},
   "source": [
    "\n",
    "**Problem 4.2** Complete the implementation of a type representing\n",
    "permutation matrices that supports `P[k,j]` and such that `*` takes $O(n)$ operations."
   ]
  },
  {
   "cell_type": "code",
   "execution_count": 7,
   "metadata": {
    "execution": {
     "iopub.execute_input": "2022-01-21T15:14:35.655304Z",
     "iopub.status.busy": "2022-01-21T15:14:35.654771Z",
     "iopub.status.idle": "2022-01-21T15:14:36.608293Z",
     "shell.execute_reply": "2022-01-21T15:14:36.607825Z"
    }
   },
   "outputs": [
    {
     "data": {
      "text/plain": [
       "\u001b[32m\u001b[1mTest Passed\u001b[22m\u001b[39m\n",
       "  Expression: P == (I(5))[p, :]\n",
       "   Evaluated: [1 0 … 0 0; 0 0 … 1 0; … ; 0 0 … 0 1; 0 0 … 0 0] == sparse([1, 3, 5, 2, 4], [1, 2, 3, 4, 5], Bool[1, 1, 1, 1, 1], 5, 5)"
      ]
     },
     "metadata": {},
     "output_type": "display_data"
    }
   ],
   "source": [
    "using Test, LinearAlgebra\n",
    "\n",
    "struct PermutationMatrix <: AbstractMatrix{Int}\n",
    "    p::Vector{Int} # represents the permutation whose action is v[p]\n",
    "    function PermutationMatrix(p::Vector)\n",
    "        sort(p) == 1:length(p) || error(\"input is not a valid permutation\")\n",
    "        new(p)\n",
    "    end\n",
    "end\n",
    "\n",
    "Base.size(P::PermutationMatrix) = (length(P.p),length(P.p))\n",
    "\n",
    "function Base.getindex(P::PermutationMatrix, k::Int, j::Int)\n",
    "    # TODO: Return P[k,j]\n",
    "    P.p[k] == j ? 1 : 0 \n",
    "end\n",
    "\n",
    "function Base.:*(P::PermutationMatrix, x::AbstractVector)\n",
    "    # TODO: permute the entries of x\n",
    "    x[P.p]\n",
    "end\n",
    "\n",
    "# If your code is correct, this \"unit test\" will succeed\n",
    "p = [1, 4, 2, 5, 3]\n",
    "P = PermutationMatrix(p)\n",
    "@test P == I(5)[p,:]"
   ]
  },
  {
   "cell_type": "markdown",
   "metadata": {},
   "source": [
    "The following codes show that `*` takes $O(n)$ of both time and space."
   ]
  },
  {
   "cell_type": "code",
   "execution_count": 6,
   "metadata": {},
   "outputs": [
    {
     "name": "stdout",
     "output_type": "stream",
     "text": [
      "n = 10  63.673 ns (1 allocation: 144 bytes)\n",
      "n = 100  147.771 ns (1 allocation: 896 bytes)\n",
      "n = 1000  1.030 μs (1 allocation: 7.94 KiB)\n",
      "n = 10000  10.300 μs (2 allocations: 78.17 KiB)\n",
      "n = 100000  139.600 μs (2 allocations: 781.30 KiB)\n",
      "n = 1000000  10.386 ms (2 allocations: 7.63 MiB)\n",
      "n = 10000000  126.302 ms (2 allocations: 76.29 MiB)\n"
     ]
    }
   ],
   "source": [
    "using BenchmarkTools, Random\n",
    "x=0 # for some reason, an error \"UndefVarError: x not defined\" will occur without this line. p and P are previously defined so they work fine.\n",
    "for n = 10 .^ (1:7)\n",
    "    print(\"n = \", n)\n",
    "    p = randperm(n)\n",
    "    P = PermutationMatrix(p)\n",
    "    x = randn(n)\n",
    "    @btime P*x\n",
    "end"
   ]
  },
  {
   "cell_type": "markdown",
   "metadata": {},
   "source": [
    "## 5. Orthogonal matrices\n",
    "\n",
    "**Problem 5.1⋆** Show that orthogonal matrices preserve the 2-norm of vectors:\n",
    "$$\n",
    "\\|Q 𝐯\\| = \\|𝐯\\|.\n",
    "$$\n",
    "\n",
    "**SOLUTION**\n",
    "$$\n",
    "\\|Q 𝐯\\|^2 = (Q 𝐯)^⊤ Q 𝐯 = 𝐯^⊤ Q^⊤ Q 𝐯 = 𝐯^⊤  𝐯 = \\|𝐯\\|^2\n",
    "$$\n",
    "∎\n",
    "\n",
    "**Problem 5.2⋆** Show that the eigenvalues $λ$ of an orthogonal matrix $Q$ are\n",
    "on the unit circle: $|λ| = 1$.\n",
    "\n",
    "**SOLUTION**\n",
    "\n",
    "Let $𝐯$ be a unit eigenvector corresponding to $λ$: $Q 𝐯 = λ 𝐯$ with $\\|𝐯\\| = 1$. Then\n",
    "$$\n",
    "1 = \\| 𝐯 \\| = \\|Q 𝐯 \\| =  \\| λ 𝐯 \\| = |λ|.\n",
    "$$\n",
    "∎\n",
    "\n",
    "**Problem 5.3⋆** Explain why an orthogonal matrix $Q$ must be equal to $I$ if all its eigenvalues are 1.\n",
    "\n",
    "**SOLUTION**\n",
    "\n",
    "Let $Q$'s linearly independent unit eigenvectors be $\\mathbf{v}_1,\\dots,\\mathbf{v}_n$, then $Q\\mathbf{v}_k=\\mathbf{v}_k$ for all $k$ since all $Q$'s eigenvalues are $1$.\n",
    "\n",
    "Now if we let $V=\\left(\\mathbf{v}_1\\middle|\\dots\\middle|\\mathbf{v}_n\\right)$, then $QV=V$. Recalling that vectors in $V$ are linearly independent, which means that $V$ is invertible, we can multiply both sides by $V^{-1}$ to get $Q=I$.\n",
    "\n",
    "\n",
    "**Problem 5.4** Complete the implementation of a type representing\n",
    "reflections that supports `Q[k,j]` and such that `*` takes $O(n)$ operations."
   ]
  },
  {
   "cell_type": "code",
   "execution_count": 10,
   "metadata": {
    "execution": {
     "iopub.execute_input": "2022-01-21T15:14:36.610522Z",
     "iopub.status.busy": "2022-01-21T15:14:36.609942Z",
     "iopub.status.idle": "2022-01-21T15:14:38.094778Z",
     "shell.execute_reply": "2022-01-21T15:14:38.094388Z"
    }
   },
   "outputs": [
    {
     "data": {
      "text/plain": [
       "\u001b[32m\u001b[1mTest Passed\u001b[22m\u001b[39m\n",
       "  Expression: Q' * Q ≈ I\n",
       "   Evaluated: [1.0 -1.734723475976807e-18 … -2.7755575615628914e-17 -2.7755575615628914e-17; -1.734723475976807e-18 0.9999999999999998 … -3.469446951953614e-18 1.734723475976807e-18; … ; -2.7755575615628914e-17 -3.469446951953614e-18 … 0.9999999999999998 -5.551115123125783e-17; -2.7755575615628914e-17 1.734723475976807e-18 … -5.551115123125783e-17 0.9999999999999998] ≈ UniformScaling{Bool}(true)"
      ]
     },
     "metadata": {},
     "output_type": "display_data"
    }
   ],
   "source": [
    "# Represents I - 2v*v'\n",
    "struct Reflection{T} <: AbstractMatrix{T}\n",
    "    v::Vector{T}\n",
    "end\n",
    "\n",
    "Reflection(x::Vector{T}) where T = Reflection{T}(x/norm(x))\n",
    "\n",
    "Base.size(Q::Reflection) = (length(Q.v),length(Q.v))\n",
    "\n",
    "function Base.getindex(Q::Reflection, k::Int, j::Int)\n",
    "    # TODO: Return Q[k,j]\n",
    "    (k == j) - 2Q.v[k]*Q.v[j]\n",
    "end\n",
    "\n",
    "function Base.:*(Q::Reflection, x::AbstractVector)\n",
    "    # TODO: permute the entries of x\n",
    "    x - 2*Q.v * dot(Q.v,x)\n",
    "end\n",
    "\n",
    "# If your code is correct, these \"unit tests\" will succeed\n",
    "x = randn(5)\n",
    "Q = Reflection(x)\n",
    "v = x/norm(x)\n",
    "@test Q == I-2v*v'\n",
    "@test Q*v ≈ -v\n",
    "@test Q'Q ≈ I"
   ]
  },
  {
   "cell_type": "markdown",
   "metadata": {},
   "source": [
    "The following codes show that `*` takes $O(n)$ of both time and space."
   ]
  },
  {
   "cell_type": "code",
   "execution_count": 14,
   "metadata": {},
   "outputs": [
    {
     "name": "stdout",
     "output_type": "stream",
     "text": [
      "n = 10  150.841 ns (3 allocations: 432 bytes)\n",
      "n = 100  263.036 ns (3 allocations: 2.62 KiB)\n",
      "n = 1000  2.156 μs (3 allocations: 23.81 KiB)\n",
      "n = 10000  20.500 μs (6 allocations: 234.52 KiB)\n",
      "n = 100000  298.900 μs (6 allocations: 2.29 MiB)\n",
      "n = 1000000  6.157 ms (6 allocations: 22.89 MiB)\n",
      "n = 10000000  64.061 ms (6 allocations: 228.88 MiB)\n"
     ]
    }
   ],
   "source": [
    "using BenchmarkTools, Random\n",
    "for n = 10 .^ (1:7)\n",
    "    print(\"n = \", n)\n",
    "    x = randn(n)\n",
    "    Q = Reflection(x)\n",
    "    v = randn(n)\n",
    "    @btime Q*v\n",
    "end"
   ]
  },
  {
   "cell_type": "markdown",
   "metadata": {},
   "source": [
    "**Problem 5.5** Complete the following implementation of a Housholder reflection  so that the\n",
    "unit tests pass."
   ]
  },
  {
   "cell_type": "code",
   "execution_count": 31,
   "metadata": {
    "execution": {
     "iopub.execute_input": "2022-01-21T15:14:38.096777Z",
     "iopub.status.busy": "2022-01-21T15:14:38.096232Z",
     "iopub.status.idle": "2022-01-21T15:14:39.129435Z",
     "shell.execute_reply": "2022-01-21T15:14:39.129053Z"
    }
   },
   "outputs": [
    {
     "data": {
      "text/plain": [
       "\u001b[32m\u001b[1mTest Passed\u001b[22m\u001b[39m\n",
       "  Expression: Q̃ * x ≈ -(norm(x)) * [1; zeros(length(x) - 1)]\n",
       "   Evaluated: [-2.7674271803090424, 0.0, 0.0, 0.0, 0.0] ≈ [-2.7674271803090424, -0.0, -0.0, -0.0, -0.0]"
      ]
     },
     "metadata": {},
     "output_type": "display_data"
    }
   ],
   "source": [
    "householderreflection(s::Bool, x::AbstractVector) = Reflection(x-ifelse(s,one(eltype(x)),-one(eltype(x)))*[norm(x);zeros(length(x)-1)])\n",
    "\n",
    "x = randn(5)\n",
    "Q = householderreflection(true, x)\n",
    "@test Q isa Reflection\n",
    "@test Q*x ≈ norm(x)*[1; zeros(length(x)-1)]\n",
    "\n",
    "Q̃ = householderreflection(false, x)\n",
    "@test Q̃ isa Reflection\n",
    "@test Q̃*x ≈ -norm(x)*[1; zeros(length(x)-1)]"
   ]
  }
 ],
 "metadata": {
  "kernelspec": {
   "display_name": "Julia 1.7.1",
   "language": "julia",
   "name": "julia-1.7"
  },
  "language_info": {
   "file_extension": ".jl",
   "mimetype": "application/julia",
   "name": "julia",
   "version": "1.7.1"
  }
 },
 "nbformat": 4,
 "nbformat_minor": 2
}
