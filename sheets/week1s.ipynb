{
 "cells": [
  {
   "cell_type": "markdown",
   "metadata": {},
   "source": [
    "# MATH50003 Problem Sheet 1\n",
    "\n",
    "This problem sheet tests the representation of numbers on the computer, using\n",
    "modular arithmetic. We also use floating point rounding modes to implement \n",
    "interval arithmetic, and thereby\n",
    "produce rigorous bounds on the exponential."
   ]
  },
  {
   "cell_type": "code",
   "execution_count": 1,
   "metadata": {},
   "outputs": [],
   "source": [
    "using ColorBitstring, SetRounding"
   ]
  },
  {
   "cell_type": "markdown",
   "metadata": {},
   "source": [
    "## 1. Binary representation\n",
    "\n",
    "\n",
    "**Problem 1.1** What is the binary representation of $1/5$? (Hint: use `printbits` to derive a proposed form.)\n",
    "\n",
    "**SOLUTION**\n",
    "Note that"
   ]
  },
  {
   "cell_type": "code",
   "execution_count": 2,
   "metadata": {},
   "outputs": [
    {
     "name": "stdout",
     "output_type": "stream",
     "text": [
      "\u001b[31m0\u001b[0m\u001b[32m01111111100\u001b[0m\u001b[34m1001100110011001100110011001100110011001100110011010\u001b[0m"
     ]
    }
   ],
   "source": [
    "printbits(1/5)"
   ]
  },
  {
   "cell_type": "markdown",
   "metadata": {},
   "source": [
    "Hence we  show that\n",
    "$$\n",
    "\\begin{align*}\n",
    "(0.00110011001100…)_2 &= (2^{-3} + 2^{-4})(1.00010001000…)_2 =  (2^{-3} + 2^{-4}) \\sum_{k=0}^∞ {1 \\over 16^k} \\\\\n",
    "&= {2^{-3} + 2^{-4} \\over 1 - {1\\over 2^4}} = {3 \\over 15} = {1 \\over 5}\n",
    "\\end{align*}\n",
    "$$\n",
    "\n",
    "\n",
    "\n",
    "\n",
    "\n",
    "**Problem 1.2** What is $\\pi$ to 5 binary places? Hint: recall that $\\pi \\approx  3.14$.\n",
    "\n",
    "**SOLUTION**\n",
    "Note that"
   ]
  },
  {
   "cell_type": "code",
   "execution_count": 3,
   "metadata": {},
   "outputs": [
    {
     "data": {
      "text/plain": [
       "3.140625"
      ]
     },
     "execution_count": 3,
     "metadata": {},
     "output_type": "execute_result"
    }
   ],
   "source": [
    "3 + 1/8  + 1/64"
   ]
  },
  {
   "cell_type": "markdown",
   "metadata": {},
   "source": [
    "which has the binary representation $(11.001001)_2$.\n",
    "Indeed:"
   ]
  },
  {
   "cell_type": "code",
   "execution_count": 4,
   "metadata": {},
   "outputs": [
    {
     "name": "stdout",
     "output_type": "stream",
     "text": [
      "\u001b[31m0\u001b[0m\u001b[32m10000\u001b[0m\u001b[34m1001001000\u001b[0m"
     ]
    }
   ],
   "source": [
    "printbits(Float16(π))"
   ]
  },
  {
   "cell_type": "markdown",
   "metadata": {},
   "source": [
    "Instead of simply guessing the above representation we can instead continuously subtract the largest powers 2 which do not result in a negative number. For $\\pi$ the procedure then finds that we can write\n",
    "$$ \\pi - 1*2^1 - 1*2^0 - 1*2^{-3} - 1*2^{-6} ...$$\n",
    "\n",
    "\n",
    "## 2. Integers\n",
    "\n",
    "**Problem 2.1** With 8-bit signed integers, find the bits for the following: $10, 120, -10$.\n",
    "\n",
    "**SOLUTION**\n",
    "We can find the binary digits by repeatedly subtracting the largest power of 2 less than a number\n",
    "until we reach 0, e.g. $10 - 2^3 - 2 = 0$\n",
    "implies $10 = (1010)_2$.\n",
    "Thus the bits are:"
   ]
  },
  {
   "cell_type": "code",
   "execution_count": 5,
   "metadata": {},
   "outputs": [
    {
     "name": "stdout",
     "output_type": "stream",
     "text": [
      "\u001b[31m0\u001b[0m\u001b[34m0001010\u001b[0m\n"
     ]
    }
   ],
   "source": [
    "printlnbits(Int8(10))"
   ]
  },
  {
   "cell_type": "markdown",
   "metadata": {},
   "source": [
    "Similarly,\n",
    "$$\n",
    "120 = 2^6 + 2^5 + 2^4 + 2^3 = (1111000)_2\n",
    "$$\n",
    "Thus the bits are:"
   ]
  },
  {
   "cell_type": "code",
   "execution_count": 6,
   "metadata": {},
   "outputs": [
    {
     "name": "stdout",
     "output_type": "stream",
     "text": [
      "\u001b[31m0\u001b[0m\u001b[34m1111000\u001b[0m\n"
     ]
    }
   ],
   "source": [
    "printlnbits(Int8(120))"
   ]
  },
  {
   "cell_type": "markdown",
   "metadata": {},
   "source": [
    "For negative numbers we perform the same trick but adding $2^p$ to make it positive, e.g.,\n",
    "$$\n",
    "-10 = 2^8 - 10 ({\\rm mod 2^8}) = 246 = 2^7 + 2^6 + 2^5 + 2^4 + 2^2 + 2 = (11110110)_2\n",
    "$$\n",
    "This the bits are:"
   ]
  },
  {
   "cell_type": "code",
   "execution_count": 7,
   "metadata": {},
   "outputs": [
    {
     "name": "stdout",
     "output_type": "stream",
     "text": [
      "\u001b[31m1\u001b[0m\u001b[34m1110110\u001b[0m\n"
     ]
    }
   ],
   "source": [
    "printlnbits(Int8(-10))"
   ]
  },
  {
   "cell_type": "markdown",
   "metadata": {},
   "source": [
    "**Problem 2.2** What will `Int8(120) + Int8(10)` return?\n",
    "\n",
    "**SOLUTION**\n",
    "It will return\n",
    "$$\n",
    "130 ({\\rm mod\\ } 2^8) = -126 ({\\rm mod\\ } 2^8)\n",
    "$$"
   ]
  },
  {
   "cell_type": "code",
   "execution_count": 8,
   "metadata": {},
   "outputs": [
    {
     "data": {
      "text/plain": [
       "-126"
      ]
     },
     "execution_count": 8,
     "metadata": {},
     "output_type": "execute_result"
    }
   ],
   "source": [
    "Int8(120) + Int8(10)"
   ]
  },
  {
   "cell_type": "markdown",
   "metadata": {},
   "source": [
    "## 3. Floating point numbers\n",
    "\n",
    "**Problem 3.1** What are the single precision $F_{32}$ (`Float32`) floating point representations for the following: \n",
    "$$\n",
    "2, 31, 32, 23/4, (23/4)\\times 2^{100}\n",
    "$$\n",
    "Check your answers using `printbits`.\n",
    "\n",
    "\n",
    "**SOLUTION**\n",
    "Recall that we have `σ,Q,S = 127,8,23`. Thus we write\n",
    "$$\n",
    "2 = 2^{128-127} * (1.00000000000000000000000)_2\n",
    "$$\n",
    "The exponent bits are those of\n",
    "$$\n",
    "128 = 2^7 = (10000000)_2\n",
    "$$\n",
    "Hence we get"
   ]
  },
  {
   "cell_type": "code",
   "execution_count": 9,
   "metadata": {},
   "outputs": [
    {
     "name": "stdout",
     "output_type": "stream",
     "text": [
      "\u001b[31m0\u001b[0m\u001b[32m10000000\u001b[0m\u001b[34m00000000000000000000000\u001b[0m\n"
     ]
    }
   ],
   "source": [
    "printlnbits(2f0)"
   ]
  },
  {
   "cell_type": "markdown",
   "metadata": {},
   "source": [
    "We write\n",
    "$$\n",
    "31 = (11111)_2 = 2^{131-127} * (1.1111)_2\n",
    "$$\n",
    "And note that $131 = (10000011)_2$ Hence we have:"
   ]
  },
  {
   "cell_type": "code",
   "execution_count": 10,
   "metadata": {},
   "outputs": [
    {
     "name": "stdout",
     "output_type": "stream",
     "text": [
      "\u001b[31m0\u001b[0m\u001b[32m10000011\u001b[0m\u001b[34m11110000000000000000000\u001b[0m\n"
     ]
    }
   ],
   "source": [
    "printlnbits(31f0)"
   ]
  },
  {
   "cell_type": "markdown",
   "metadata": {},
   "source": [
    "On the other hand,\n",
    "$$\n",
    "32 = (100000)_2 = 2^{132-127}\n",
    "$$\n",
    "and $132 = (10000100)_2$ hence:"
   ]
  },
  {
   "cell_type": "code",
   "execution_count": 11,
   "metadata": {},
   "outputs": [
    {
     "name": "stdout",
     "output_type": "stream",
     "text": [
      "\u001b[31m0\u001b[0m\u001b[32m10000100\u001b[0m\u001b[34m00000000000000000000000\u001b[0m\n"
     ]
    }
   ],
   "source": [
    "printlnbits(32f0)"
   ]
  },
  {
   "cell_type": "markdown",
   "metadata": {},
   "source": [
    "Note that\n",
    "$$\n",
    "23/4 = 2^{-2} * (10111)_2 = 2^{129-127} * (1.0111)_2\n",
    "$$\n",
    "and $129 = (10000001)_2$ hence we get:"
   ]
  },
  {
   "cell_type": "code",
   "execution_count": 12,
   "metadata": {},
   "outputs": [
    {
     "name": "stdout",
     "output_type": "stream",
     "text": [
      "\u001b[31m0\u001b[0m\u001b[32m10000001\u001b[0m\u001b[34m01110000000000000000000\u001b[0m\n"
     ]
    }
   ],
   "source": [
    "printlnbits(23f0/4)"
   ]
  },
  {
   "cell_type": "markdown",
   "metadata": {},
   "source": [
    "Finally,\n",
    "$$\n",
    "23/4 * 2^{100} = 2^{229-127} * (1.0111)_2\n",
    "$$\n",
    "and $229 = (11100101)_2$ giving us:"
   ]
  },
  {
   "cell_type": "code",
   "execution_count": 13,
   "metadata": {},
   "outputs": [
    {
     "name": "stdout",
     "output_type": "stream",
     "text": [
      "\u001b[31m0\u001b[0m\u001b[32m11100101\u001b[0m\u001b[34m01110000000000000000000\u001b[0m\n"
     ]
    }
   ],
   "source": [
    "printlnbits(23f0/4 * 2f0^100)"
   ]
  },
  {
   "cell_type": "markdown",
   "metadata": {},
   "source": [
    "**Problem 3.2** Let $m(y) = \\min\\{x \\in F_{32} : x > y \\}$ be the smallest single precision number\n",
    "greater than $y$. What is $m(2) - 2$ and $m(1024) - 1024$? Check your answer using the `nextfloat`\n",
    "command.\n",
    "\n",
    "\n",
    "**SOLUTION**\n",
    "The next float after $2$ is $2 * (1 + 2^{-23})$ hence we get $2^{-22}$:"
   ]
  },
  {
   "cell_type": "code",
   "execution_count": 14,
   "metadata": {},
   "outputs": [
    {
     "data": {
      "text/plain": [
       "(2.3841858f-7, 2.384185791015625e-7)"
      ]
     },
     "execution_count": 14,
     "metadata": {},
     "output_type": "execute_result"
    }
   ],
   "source": [
    "nextfloat(2f0) - 2, 2^(-22)"
   ]
  },
  {
   "cell_type": "markdown",
   "metadata": {},
   "source": [
    "similarly, the next float after $1024 = 2^{10}$ is $2^{10-23} = 2^{-13}$:"
   ]
  },
  {
   "cell_type": "code",
   "execution_count": 15,
   "metadata": {},
   "outputs": [
    {
     "data": {
      "text/plain": [
       "(0.00012207031f0, 0.0001220703125)"
      ]
     },
     "execution_count": 15,
     "metadata": {},
     "output_type": "execute_result"
    }
   ],
   "source": [
    "nextfloat(1024f0) - 1024, 2^(-13)"
   ]
  },
  {
   "cell_type": "markdown",
   "metadata": {},
   "source": [
    "## 4. Arithmetic\n",
    "\n",
    "\n",
    "**Problem 4.1** Suppose $x = 1.25$ and consider 16-bit floating point arithmetic (`Float16`). \n",
    "What is the error in approximating $x$ by the nearest float point number ${\\rm fl}(x)$?\n",
    "What is the error in approximating $2x$, $x/2$, $x + 2$ and $x - 2$ by $2 \\otimes x$, $x \\oslash 2$, $x ⊕ 2$ and $x \\ominus 2$?\n",
    "\n",
    "**SOLUTION**\n",
    "None of these computations have errors since they are all exactly representable as floating point numbers.\n",
    "\n",
    "**Problem 4.2** For what floating point numbers is $x \\oslash 2 \\neq x/2$ and $x ⊕ 2 \\neq x + 2$?\n",
    "\n",
    "**SOLUTION**\n",
    "\n",
    "Consider a normal $x = 2^{q-σ} (1.b_1\\ldots b_S)_2$.\n",
    "Provided $q > 1$  we have\n",
    "$$\n",
    "x ⊘ 2 = x/2 = 2^{q-σ-1} (1.b_1\\ldots b_S)_2\n",
    "$$\n",
    "However, if $q = 1$ we lose a bit as we shift:\n",
    "$$\n",
    "x ⊘ 2 = 2^{1-σ} (0.b_1\\ldots b_{S-1})_2\n",
    "$$\n",
    "and the property will be satisfy if $b_S = 1$.\n",
    "Similarily if we are sub-normal, $x = 2^{1-σ} (0.b_1\\ldots b_S)_2$ and\n",
    "we have\n",
    "$$\n",
    "x ⊘ 2 = 2^{1-σ} (0.0b_1\\ldots b_{S-1})_2\n",
    "$$\n",
    "and the property will be satisfy if $b_S = 1$.\n",
    "(Or `NaN`.)\n",
    "\n",
    "Here are two examples:"
   ]
  },
  {
   "cell_type": "code",
   "execution_count": 16,
   "metadata": {},
   "outputs": [
    {
     "data": {
      "text/plain": [
       "false"
      ]
     },
     "execution_count": 16,
     "metadata": {},
     "output_type": "execute_result"
    }
   ],
   "source": [
    "# normal number with q = 1 and last bit 1\n",
    "x = reinterpret(Float16, parse(UInt16, \"0000010000000011\"; base=2))\n",
    "x/2 == Float64(x)/2 # Float64 can exactly represent x/2"
   ]
  },
  {
   "cell_type": "code",
   "execution_count": 17,
   "metadata": {},
   "outputs": [
    {
     "data": {
      "text/plain": [
       "false"
      ]
     },
     "execution_count": 17,
     "metadata": {},
     "output_type": "execute_result"
    }
   ],
   "source": [
    "# sub-normal number with q = 1 and last bit 1\n",
    "x = reinterpret(Float16, parse(UInt16, \"0000000000000011\"; base=2))\n",
    "x/2 == Float64(x)/2 # Float64 can exactly represent x/2"
   ]
  },
  {
   "cell_type": "markdown",
   "metadata": {},
   "source": [
    "For the second part, Similar to the next problem,\n",
    "we see that the property holds true if $|x| < 2^{S+2}-1$, \n",
    "as otherwise:"
   ]
  },
  {
   "cell_type": "code",
   "execution_count": 18,
   "metadata": {},
   "outputs": [
    {
     "data": {
      "text/plain": [
       "true"
      ]
     },
     "execution_count": 18,
     "metadata": {},
     "output_type": "execute_result"
    }
   ],
   "source": [
    "x = Float16(2)^(12)-1 # bits 0110110000000000\n",
    "x+2 == x"
   ]
  },
  {
   "cell_type": "markdown",
   "metadata": {},
   "source": [
    "We see this is sharp:"
   ]
  },
  {
   "cell_type": "code",
   "execution_count": 19,
   "metadata": {},
   "outputs": [
    {
     "data": {
      "text/plain": [
       "false"
      ]
     },
     "execution_count": 19,
     "metadata": {},
     "output_type": "execute_result"
    }
   ],
   "source": [
    "y = prevfloat(x)\n",
    "y+2 == y"
   ]
  },
  {
   "cell_type": "markdown",
   "metadata": {},
   "source": [
    "**Problem 4.3** Explain why the following return `true`. What is the largest floating point number `y` such that `y + 1 ≠ y`?"
   ]
  },
  {
   "cell_type": "code",
   "execution_count": 20,
   "metadata": {},
   "outputs": [
    {
     "data": {
      "text/plain": [
       "true"
      ]
     },
     "execution_count": 20,
     "metadata": {},
     "output_type": "execute_result"
    }
   ],
   "source": [
    "x = 10.0^100\n",
    "x + 1 == x"
   ]
  },
  {
   "cell_type": "markdown",
   "metadata": {},
   "source": [
    "**SOLUTION**\n",
    "\n",
    "Writing $10 = 2^3 (1.01)_2$ we have\n",
    "$$\n",
    "\\rm{fl}(10^{100}) = \\rm{fl}(2^{300} (1 + 2^{-4})^{100}) = 2^{300} (1.b_1 \\ldots b_{52})_2\n",
    "$$\n",
    "where the bits $b_k$ are not relevant. We then have:\n",
    "$$\n",
    "\\rm{fl}(10^{100}) ⊕ 1 = \\rm{fl}(2^{300} [(1.b_1 \\ldots b_{52})_2 + 2^{-300}]) = \\rm{fl}(10^{100})\n",
    "$$\n",
    "since $2^{-300}$ is below the necessary precision.\n",
    "\n",
    "The largest floating point number satisfying the condition is $y = 2^{53} - 1$, since\n",
    "$S = 52$. First note $2^{53}$ does not satisfy the condition:"
   ]
  },
  {
   "cell_type": "code",
   "execution_count": 21,
   "metadata": {},
   "outputs": [
    {
     "data": {
      "text/plain": [
       "true"
      ]
     },
     "execution_count": 21,
     "metadata": {},
     "output_type": "execute_result"
    }
   ],
   "source": [
    "x = 2.0^53\n",
    "x + 1 == x"
   ]
  },
  {
   "cell_type": "markdown",
   "metadata": {},
   "source": [
    "We can however successfully create the previsous float $2^{53} -1$ by subtracting\n",
    "(Explain why this works while `x+1` fails):"
   ]
  },
  {
   "cell_type": "code",
   "execution_count": 22,
   "metadata": {},
   "outputs": [
    {
     "name": "stdout",
     "output_type": "stream",
     "text": [
      "\u001b[31m0\u001b[0m\u001b[32m10000110100\u001b[0m\u001b[34m0000000000000000000000000000000000000000000000000000\u001b[0m\n",
      "\u001b[31m0\u001b[0m\u001b[32m10000110011\u001b[0m\u001b[34m1111111111111111111111111111111111111111111111111111\u001b[0m\n"
     ]
    }
   ],
   "source": [
    "y = x - 1\n",
    "printlnbits(x)\n",
    "printlnbits(y)"
   ]
  },
  {
   "cell_type": "markdown",
   "metadata": {},
   "source": [
    "And this satisfies:"
   ]
  },
  {
   "cell_type": "code",
   "execution_count": 23,
   "metadata": {},
   "outputs": [
    {
     "data": {
      "text/plain": [
       "true"
      ]
     },
     "execution_count": 23,
     "metadata": {},
     "output_type": "execute_result"
    }
   ],
   "source": [
    "y + 1 ≠ y"
   ]
  },
  {
   "cell_type": "markdown",
   "metadata": {},
   "source": [
    "**Problem 4.4** What are the exact bits for $1/5$, $1/5 + 1$ computed\n",
    "using  half-precision arithmetic (`Float16`) (using default rounding)?\n",
    "\n",
    "**SOLUTION**\n",
    "\n",
    "We saw above that\n",
    "$$\n",
    "1/5 = 2^{-3} * (1.10011001100…)_2 ≈ 2^{-3} * (1.1001100110)_2\n",
    "$$\n",
    "where the $≈$ is rounded to the nearest 10 bits (in this case rounded down).\n",
    "We write $-3 = 12 - 15$\n",
    "hence we have $q = 12 = (01100)_2$. \n",
    "so  we get the bits:"
   ]
  },
  {
   "cell_type": "code",
   "execution_count": 24,
   "metadata": {},
   "outputs": [
    {
     "name": "stdout",
     "output_type": "stream",
     "text": [
      "\u001b[31m0\u001b[0m\u001b[32m01100\u001b[0m\u001b[34m1001100110\u001b[0m"
     ]
    }
   ],
   "source": [
    "printbits(Float16(1)/5)"
   ]
  },
  {
   "cell_type": "markdown",
   "metadata": {},
   "source": [
    "Adding `1` we get:\n",
    "$$\n",
    "1 + 2^{-3} * (1.1001100110)_2 = (1.001100110011)_2 ≈ (1.0011001101)_2 \n",
    "$$\n",
    "Here we write the exponent as $0 = 15 - 15$ where $q = 15 = (01111)_2$. \n",
    "Thus we get:"
   ]
  },
  {
   "cell_type": "code",
   "execution_count": 25,
   "metadata": {},
   "outputs": [
    {
     "name": "stdout",
     "output_type": "stream",
     "text": [
      "\u001b[31m0\u001b[0m\u001b[32m01111\u001b[0m\u001b[34m0011001101\u001b[0m"
     ]
    }
   ],
   "source": [
    "printbits(1 + Float16(1)/5)"
   ]
  },
  {
   "cell_type": "markdown",
   "metadata": {},
   "source": [
    "**Problem 4.5** Explain why the following does not return `1`. Can you compute the bits explicitly?"
   ]
  },
  {
   "cell_type": "code",
   "execution_count": 26,
   "metadata": {},
   "outputs": [
    {
     "data": {
      "text/plain": [
       "Float16(1.004)"
      ]
     },
     "execution_count": 26,
     "metadata": {},
     "output_type": "execute_result"
    }
   ],
   "source": [
    "Float16(0.1) / (Float16(1.1) - 1)"
   ]
  },
  {
   "cell_type": "markdown",
   "metadata": {},
   "source": [
    "**SOLUTION**\n",
    "For the last problem, note that\n",
    "$$\n",
    "{1 \\over 10} = {1 \\over 2} {1 \\over 5} = 2^{-4} * (1.10011001100…)_2\n",
    "$$\n",
    "hence we have \n",
    "$$\n",
    "{\\rm fl}({1 \\over 10}) = 2^{-4} * (1.1001100110)_2\n",
    "$$\n",
    "and\n",
    "$$\n",
    "{\\rm fl}(1 + {1 \\over 10}) ={\\rm fl}(1.0001100110011\\ldots) = (1.0001100110)_2\n",
    "$$\n",
    "Thus\n",
    "$$\n",
    "{\\rm fl}(1.1) ⊖ 1 = (0.0001100110)_2 = 2^{-4} (1.1001100000)_2\n",
    "$$\n",
    "and hence we get\n",
    "$$\n",
    "{\\rm fl}(0.1) ⊘ ({\\rm fl}(1.1) ⊖ 1)= {\\rm fl}({(1.1001100110)_2 \\over (1.1001100000)_2}) \\neq 1\n",
    "$$\n",
    "To compute the bits explicitly, write $y = (1.10011)_2$ and divide through to get:\n",
    "$$\n",
    "{(1.1001100110)_2 \\over (1.10011)_2} = 1 + {2^{-8} \\over y} + {2^{-9} \\over y}\n",
    "$$\n",
    "We then have\n",
    "$$\n",
    "y^{-1} = {32 \\over 51} = 0.627\\ldots = (0.101\\ldots)_2\n",
    "$$\n",
    "Hence\n",
    "$$\n",
    "1 + {2^{-8} \\over y} + {2^{-9} \\over y} = 1 + (2^{-9} + 2^{-11} + \\cdots) + (2^{-10} + \\cdots) = (1.00000000111…)_2\n",
    "$$\n",
    "Therefore we round up (the $…$ is not exactly zero but if it was it would be a tie and we would\n",
    "round up anyways to get a zero last bit) and get:"
   ]
  },
  {
   "cell_type": "code",
   "execution_count": 27,
   "metadata": {},
   "outputs": [
    {
     "name": "stdout",
     "output_type": "stream",
     "text": [
      "\u001b[31m0\u001b[0m\u001b[32m01111\u001b[0m\u001b[34m0000000100\u001b[0m\n"
     ]
    }
   ],
   "source": [
    "printlnbits(Float16(0.1) / (Float16(1.1) - 1))"
   ]
  },
  {
   "cell_type": "markdown",
   "metadata": {},
   "source": [
    "**Problem 4.4** Find a bound on the _absolute error_ in terms of a constant times\n",
    "$ϵ_{\\rm m}$ for the following computations\n",
    "$$\n",
    "\\begin{align*}\n",
    "(1.1 * 1.2) &+ 1.3 \\\\\n",
    "(1.1 - 1) &/ 0.1 \n",
    "\\end{align*}\n",
    "$$\n",
    "implemented using floating point arithmetic (with any precision). \n",
    "\n",
    "**SOLUTION**\n",
    "\n",
    "The first problem is very similar to what we saw in lecture. Write \n",
    "$$\n",
    "({\\rm fl}(1.1)⊗ {\\rm fl}(1.2)) ⊕ {\\rm fl}(1.3) = ( 1.1(1 + δ_1)1.2(1+δ_2)(1+δ_3) + 1.3(1+δ_4))(1+δ_5)\n",
    "$$\n",
    "We first write\n",
    "$$\n",
    "1.1(1 + δ_1)1.2(1+δ_2)(1+δ_3) = 1.32( 1+ δ_6)\n",
    "$$\n",
    "where\n",
    "$$\n",
    "|δ_6| \\leq |δ_1| + |δ_2| + |δ_3| + |δ_1| |δ_2| + |δ_1| |δ_3| + |δ_2| |δ_3|+ |δ_1| |δ_2| |δ_3| \\leq 4 ϵ_{\\rm m}\n",
    "$$\n",
    "Then we have\n",
    "$$\n",
    "1.32 (1 + δ_6) + 1.3 (1 + δ_4) = 2.62 + \\underbrace{1.32 δ_6 + 1.3δ_4}_{δ_7}\n",
    "$$\n",
    "where\n",
    "$$\n",
    "|δ_7| ≤ 7 ϵ_{\\rm m}\n",
    "$$\n",
    "Finally,\n",
    "$$\n",
    "(2.62 + δ_6)(1+δ_5) = 2.62 + \\underbrace{δ_6 + 2.62δ_5 + δ_6 δ_5}_{δ_8}\n",
    "$$\n",
    "where\n",
    "$$\n",
    "|δ_8| ≤ 10 ϵ_{\\rm m}\n",
    "$$\n",
    "\n",
    "\n",
    "\n",
    "For the second part, we do:\n",
    "$$\n",
    "({\\rm fl}(1.1) ⊖ 1) ⊘ {\\rm fl}(0.1) = {(1.1 (1 + δ_1) - 1)(1 + δ_2) \\over 0.1 (1 + δ_3)} (1 + δ_4)\n",
    "$$\n",
    "Write\n",
    "$$\n",
    "{1 \\over 1 + δ_3} = 1 + \\delta_5\n",
    "$$\n",
    "where\n",
    "$$\n",
    "|δ_5| \\leq \\left| {\\delta_3 \\over 1 + \\delta_3} \\right| \\leq  {ϵ_{\\rm m} \\over 2} {1 \\over 1 - 1/2} \\leq ϵ_{\\rm m}\n",
    "$$\n",
    "using the fact that $|\\delta_3| < 1/2$.\n",
    "Further write\n",
    "$$\n",
    "(1 + δ_5)(1 + δ_4) = 1 + δ_6\n",
    "$$\n",
    "where\n",
    "$$\n",
    "|δ_6| \\leq |δ_5| + |δ_4| + |δ_5| |δ_4| \\leq 2ϵ_{\\rm m}\n",
    "$$\n",
    "We also write\n",
    "$$\n",
    "{(1.1 (1 + δ_1) - 1)(1 + δ_2) \\over 0.1} = 1 + \\underbrace{11δ_1 + δ_2 + 11δ_1δ_2}_{δ_7}\n",
    "$$\n",
    "where\n",
    "$$\n",
    "|δ_7| ≤ 17 ϵ_{\\rm m}\n",
    "$$\n",
    "Then we get \n",
    "$$\n",
    "({\\rm fl}(1.1) ⊖ 1) ⊘ {\\rm fl}(0.1) = (1 + δ_7) (1 + δ_6) =  1 + δ_7 + δ_6 + δ_6 δ_7\n",
    "$$\n",
    "and the error is bounded by:\n",
    "$$\n",
    "(17 + 2 + 34) ϵ_{\\rm m} = 53 ϵ_{\\rm m}\n",
    "$$\n",
    "This is quite pessimistic but still captures that we are on the order of $ϵ_{\\rm m}$.\n",
    "\n",
    "\n",
    "\n",
    "\n",
    "\n",
    "\n",
    "\n",
    "## 5. Interval arithmetic\n",
    "\n",
    "\n",
    "The following problems consider implementation of interval arithmetic for\n",
    "proving precise bounds on arithmetic operations. That is recall the set operations\n",
    "$$\n",
    "A + B = \\{x + y : x \\in A, y \\in B\\}, AB = \\{xy : x \\in A, y \\in B\\}.\n",
    "$$\n",
    "\n",
    "**Problem 5.1** For intervals $A = [a,b]$ and $B = [c,d]$ such that $0 \\notin A,B$\n",
    " and integer $n \\neq 0$, \n",
    "deduce formulas for the minimum and maximum of $A/n$, $A+B$ and $AB$.\n",
    "\n",
    "**Solution**\n",
    "\n",
    "$$\n",
    "\\begin{align*}\n",
    "{A \\over n} &= \\begin{cases}\n",
    "[a/n,b/n] & n > 0 \\\\\n",
    "[b/n,a/n] & n < 0\n",
    "\\end{cases},\\\\\n",
    "A + B &= [a + c, b + d] \\\\\n",
    "AB &= \\begin{cases}\n",
    "[bd,ac]& a,b,c,d < 0 \\\\\n",
    "[ad,bc]& a,b < 0 \\hbox{ and } c,d >0 \\\\\n",
    "[bc,ad]& a,b > 0 \\hbox{ and } c,d  < 0 \\\\\n",
    "[ac,bd]& a,b,c,d > 0\n",
    "\\end{cases}\n",
    "\\end{align*}\n",
    "$$\n",
    "\n",
    "\n",
    "**Problem 5.2** \n",
    "We want to implement floating point variants such that, for $S = [a,b] + [c,d]$\n",
    " $P = [a,b] * [c,d]$, and $D = [a,b]/n$ for an integer $n$,\n",
    "$$\n",
    "\\begin{align*}\n",
    "[a,b] ⊕ [c,d] &:= [{\\rm fl}^{\\rm down}(\\min S), {\\rm fl}^{\\rm up}(\\max S)] \\\\\n",
    "[a,b] ⊗ [c,d] &:= [{\\rm fl}^{\\rm down}(\\min P), {\\rm fl}^{\\rm up}(\\max P)] \\\\\n",
    "[a,b] ⊘ n &:= [{\\rm fl}^{\\rm down}(\\min D), {\\rm fl}^{\\rm up}(\\max D)]\n",
    "\\end{align*}\n",
    "$$\n",
    "This guarantees $S ⊆ [a,b] ⊕ [c,d]$, $P ⊆ [a,b] ⊗ [c,d]$, and\n",
    "$D ⊆ [a,b] ⊘ n$.\n",
    "In other words, if $x \\in [a,b]$ and\n",
    "$y \\in [c,d]$ then $x +y \\in [a,b] ⊕ [c,d]$, and we thereby have  bounds on $x + y$.\n",
    "\n",
    "Use the formulae from Problem 5.1 to complete (by replacing the `# TODO: …` comments with code)\n",
    " the following implementation of an \n",
    "`Interval` \n",
    "so that `+`, `-`, and `/` implement $⊕$, $⊖$, and $⊘$ as defined above."
   ]
  },
  {
   "cell_type": "code",
   "execution_count": 28,
   "metadata": {},
   "outputs": [
    {
     "data": {
      "text/plain": [
       "* (generic function with 365 methods)"
      ]
     },
     "execution_count": 28,
     "metadata": {},
     "output_type": "execute_result"
    }
   ],
   "source": [
    "# Interval(a,b) represents the closed interval [a,b]\n",
    "struct Interval{T}\n",
    "    a::T\n",
    "    b::T\n",
    "end\n",
    "\n",
    "import Base: *, +, -, /, one, in\n",
    "\n",
    "# create an interval corresponding to [1,1]\n",
    "one(x::Interval) = Interval(one(x.a), one(x.b))\n",
    "\n",
    "# Support x in Interval(a,b)\n",
    "in(x, y::Interval) = y.a ≤ x ≤ y.b\n",
    "\n",
    "# Following should implement ⊕\n",
    "function +(x::Interval, y::Interval)\n",
    "    T = promote_type(typeof(x.a), typeof(x.b))\n",
    "    a = setrounding(T, RoundDown) do\n",
    "        # TODO: upper bound\n",
    "        ## SOLUTION\n",
    "        x.a + y.a\n",
    "        ## END\n",
    "    end\n",
    "    b = setrounding(T, RoundUp) do\n",
    "        # TODO: upper bound\n",
    "        ## SOLUTION\n",
    "        x.b + y.b\n",
    "        ## END\n",
    "    end\n",
    "    Interval(a, b)\n",
    "end\n",
    "\n",
    "# Following should implement ⊘\n",
    "function /(x::Interval, n::Integer)\n",
    "    T = typeof(x.a)\n",
    "    if iszero(n)\n",
    "        error(\"Dividing by zero not support\")\n",
    "    end\n",
    "    a = setrounding(T, RoundDown) do\n",
    "        # TODO: lower bound\n",
    "        ## SOLUTION\n",
    "        if n > 0\n",
    "            x.a / n\n",
    "        else\n",
    "            x.b / n\n",
    "        end\n",
    "        ## END\n",
    "    end\n",
    "    b = setrounding(T, RoundUp) do\n",
    "        # TODO: upper bound\n",
    "        ## SOLUTION\n",
    "        if n > 0\n",
    "            x.b / n\n",
    "        else\n",
    "            x.a / n\n",
    "        end\n",
    "        ## END\n",
    "    end\n",
    "    Interval(a, b)\n",
    "end\n",
    "\n",
    "# Following should implement ⊗\n",
    "function *(x::Interval, y::Interval)\n",
    "    T = promote_type(typeof(x.a), typeof(x.b))\n",
    "    if 0 in x || 0 in y\n",
    "        error(\"Multiplying with intervals containing 0 not supported.\")\n",
    "    end\n",
    "    a = setrounding(T, RoundDown) do\n",
    "        # TODO: lower bound\n",
    "        ## SOLUTION\n",
    "        if x.a < 0 && x.b < 0 && y.a < 0 && y.b < 0\n",
    "            y.b * x.b\n",
    "        elseif x.a < 0 && x.b < 0 && y.a > 0 && y.b > 0\n",
    "            x.a * y.b\n",
    "        elseif x.a > 0 && x.b > 0 && y.a < 0 && y.b < 0\n",
    "            x.b * y.a\n",
    "        else\n",
    "            x.a * y.a\n",
    "        end\n",
    "        ## END\n",
    "    end\n",
    "    b = setrounding(T, RoundUp) do\n",
    "        # TODO: upper bound\n",
    "        ## SOLUTION\n",
    "        if x.a < 0 && x.b < 0 && y.a < 0 && y.b < 0\n",
    "            y.a * x.a\n",
    "        elseif x.a < 0 && x.b < 0 && y.a > 0 && y.b > 0\n",
    "            x.b * y.a\n",
    "        elseif x.a > 0 && x.b > 0 && y.a < 0 && y.b < 0\n",
    "            x.a * y.b\n",
    "        else\n",
    "            x.b * y.b\n",
    "        end\n",
    "        ## END\n",
    "    end\n",
    "    Interval(a, b)\n",
    "end"
   ]
  },
  {
   "cell_type": "markdown",
   "metadata": {},
   "source": [
    "**Problem 5.3** The following function  computes the first `n+1` terms of the Taylor series of $\\exp(x)$:\n",
    "$$\n",
    "\\sum_{k=0}^n {x^k \\over k!}\n",
    "$$"
   ]
  },
  {
   "cell_type": "code",
   "execution_count": 29,
   "metadata": {},
   "outputs": [
    {
     "data": {
      "text/plain": [
       "exp_t (generic function with 1 method)"
      ]
     },
     "execution_count": 29,
     "metadata": {},
     "output_type": "execute_result"
    }
   ],
   "source": [
    "function exp_t(x, n)\n",
    "    ret = one(x) # 1 of same type as x\n",
    "    s = one(x)\n",
    "    for k = 1:n\n",
    "        s = s/k * x\n",
    "        ret = ret + s\n",
    "    end\n",
    "    ret\n",
    "end"
   ]
  },
  {
   "cell_type": "markdown",
   "metadata": {},
   "source": [
    "Bound the tail of the Taylor series for ${\\rm e}^x$ assuming $|x| \\leq 1$. \n",
    "(Hint: ${\\rm e}^x \\leq 3$ for $x \\leq 1$.)\n",
    "Use the bound\n",
    "to complete the function `exp_bound` which computes ${\\rm e}^x$ with rigorous error bounds, that is\n",
    "so that when applied to an interval $[a,b]$ it returns an interval that is \n",
    "guaranteed to contain the interval $[{\\rm e}^a, {\\rm e}^b]$."
   ]
  },
  {
   "cell_type": "code",
   "execution_count": 30,
   "metadata": {},
   "outputs": [
    {
     "data": {
      "text/plain": [
       "exp_bound (generic function with 1 method)"
      ]
     },
     "execution_count": 30,
     "metadata": {},
     "output_type": "execute_result"
    }
   ],
   "source": [
    "function exp_bound(x::Interval, n)\n",
    "    if abs(x.a) > 1 || abs(x.b) > 1\n",
    "        error(\"Interval must be a subset of [-1, 1]\")\n",
    "    end\n",
    "    ret = exp_t(x, n) # the code for Taylor series should work on Interval unmodified\n",
    "    f = factorial(min(20, n + 1)) # avoid overflow in computing factorial\n",
    "    T = typeof(ret.a)\n",
    "\n",
    "    # TODO: modify ret so that exp(x) is guaranteed to lie in it\n",
    "    ## SOLUTION\n",
    "    err = setrounding(T, RoundUp) do\n",
    "        3 / f\n",
    "    end\n",
    "    ret + Interval(-err,err)\n",
    "    ## END\n",
    "end"
   ]
  },
  {
   "cell_type": "markdown",
   "metadata": {},
   "source": [
    "Check your result for computing ${\\rm ℯ}$ and ${\\rm e}^{-1}$ by assuring that\n",
    "the following returns true:"
   ]
  },
  {
   "cell_type": "code",
   "execution_count": 31,
   "metadata": {},
   "outputs": [
    {
     "data": {
      "text/plain": [
       "true"
      ]
     },
     "execution_count": 31,
     "metadata": {},
     "output_type": "execute_result"
    }
   ],
   "source": [
    "exp(big(1)) in exp_bound(Interval(1.0,1.0), 20) && exp(big(-1)) in exp_bound(Interval(-1.0,-1.0), 20)"
   ]
  },
  {
   "cell_type": "markdown",
   "metadata": {},
   "source": [
    "Further, ensure that the width of each returned interval is less than $10^{-14}$.\n",
    "\n",
    "**SOLUTION** From the Taylor remainder theorem we know the error is\n",
    "$$\n",
    "{f^{(k+1)}(ξ) \\over (k+1)!} |x|^{k+1} \\leq {3 \\over (k+1)!}\n",
    "$$\n",
    "Thus by widening the computation by this error we ensure that we have\n",
    "captured the error by truncating the Taylor series."
   ]
  }
 ],
 "metadata": {
  "kernelspec": {
   "display_name": "Julia 1.7.1",
   "language": "julia",
   "name": "julia-1.7"
  },
  "language_info": {
   "file_extension": ".jl",
   "mimetype": "application/julia",
   "name": "julia",
   "version": "1.7.1"
  }
 },
 "nbformat": 4,
 "nbformat_minor": 2
}
