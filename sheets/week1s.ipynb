{
 "cells": [
  {
   "cell_type": "markdown",
   "metadata": {},
   "source": [
    "# MATH50003 Problem Sheet 1\n",
    "\n",
    "This problem sheet tests the representation of numbers on the computer, using\n",
    "modular arithmetic. We also use floating point rounding modes to implement \n",
    "interval arithmetic, and thereby\n",
    "produce rigorous bounds on the exponential."
   ]
  },
  {
   "cell_type": "code",
   "execution_count": 1,
   "metadata": {
    "execution": {
     "iopub.execute_input": "2022-05-03T12:23:28.323843Z",
     "iopub.status.busy": "2022-05-03T12:23:27.945695Z",
     "iopub.status.idle": "2022-05-03T12:23:28.546234Z",
     "shell.execute_reply": "2022-05-03T12:23:28.545651Z"
    }
   },
   "outputs": [],
   "source": [
    "using ColorBitstring, SetRounding"
   ]
  },
  {
   "cell_type": "markdown",
   "metadata": {},
   "source": [
    "Questions marked with a ⋆ are meant to be completed without using a computer.\n",
    "Problems are denoted A/B/C to indicate their difficulty.\n",
    "\n",
    "## 1. Binary representation\n",
    "\n",
    "\n",
    "**Problem 1.1 (C)** What is the binary representation of $1/5$? (Hint: use `printbits` to derive a proposed form.)\n",
    "\n",
    "**SOLUTION**\n",
    "Note that"
   ]
  },
  {
   "cell_type": "code",
   "execution_count": 2,
   "metadata": {
    "execution": {
     "iopub.execute_input": "2022-05-03T12:23:28.548253Z",
     "iopub.status.busy": "2022-05-03T12:23:28.547652Z",
     "iopub.status.idle": "2022-05-03T12:23:28.633275Z",
     "shell.execute_reply": "2022-05-03T12:23:28.632909Z"
    }
   },
   "outputs": [
    {
     "name": "stdout",
     "output_type": "stream",
     "text": [
      "\u001b[31m0\u001b[0m\u001b[32m01111111100\u001b[0m\u001b[34m1001100110011001100110011001100110011001100110011010\u001b[0m"
     ]
    }
   ],
   "source": [
    "printbits(1/5)"
   ]
  },
  {
   "cell_type": "markdown",
   "metadata": {},
   "source": [
    "Hence we  show that\n",
    "$$\n",
    "\\begin{align*}\n",
    "(0.00110011001100…)_2 &= (2^{-3} + 2^{-4})(1.00010001000…)_2 =  (2^{-3} + 2^{-4}) \\sum_{k=0}^∞ {1 \\over 16^k} \\\\\n",
    "&= {2^{-3} + 2^{-4} \\over 1 - {1\\over 2^4}} = {3 \\over 15} = {1 \\over 5}\n",
    "\\end{align*}\n",
    "$$\n",
    "\n",
    "\n",
    "\n",
    "\n",
    "\n",
    "**Problem 1.2 (C)** What is $\\pi$ to 5 binary places? Hint: recall that $\\pi \\approx  3.14$.\n",
    "\n",
    "**SOLUTION**\n",
    "Note that"
   ]
  },
  {
   "cell_type": "code",
   "execution_count": 3,
   "metadata": {
    "execution": {
     "iopub.execute_input": "2022-05-03T12:23:28.635249Z",
     "iopub.status.busy": "2022-05-03T12:23:28.634724Z",
     "iopub.status.idle": "2022-05-03T12:23:29.028994Z",
     "shell.execute_reply": "2022-05-03T12:23:29.028574Z"
    }
   },
   "outputs": [
    {
     "data": {
      "text/plain": [
       "3.140625"
      ]
     },
     "execution_count": 3,
     "metadata": {},
     "output_type": "execute_result"
    }
   ],
   "source": [
    "3 + 1/8  + 1/64"
   ]
  },
  {
   "cell_type": "markdown",
   "metadata": {},
   "source": [
    "which has the binary representation $(11.001001)_2$.\n",
    "Indeed:"
   ]
  },
  {
   "cell_type": "code",
   "execution_count": 4,
   "metadata": {
    "execution": {
     "iopub.execute_input": "2022-05-03T12:23:29.030993Z",
     "iopub.status.busy": "2022-05-03T12:23:29.030495Z",
     "iopub.status.idle": "2022-05-03T12:23:29.104545Z",
     "shell.execute_reply": "2022-05-03T12:23:29.104118Z"
    }
   },
   "outputs": [
    {
     "name": "stdout",
     "output_type": "stream",
     "text": [
      "\u001b[31m0\u001b[0m\u001b[32m10000\u001b[0m\u001b[34m1001001000\u001b[0m"
     ]
    }
   ],
   "source": [
    "printbits(Float16(π))"
   ]
  },
  {
   "cell_type": "markdown",
   "metadata": {},
   "source": [
    "Instead of simply guessing the above representation we can instead continuously subtract the largest powers 2 which do not result in a negative number. For $\\pi$ the procedure then finds that we can write\n",
    "$$ \\pi - 1*2^1 - 1*2^0 - 1*2^{-3} - 1*2^{-6} ...$$\n",
    "\n",
    "\n",
    "## 2. Integers\n",
    "\n",
    "**Problem 2.1 (C)** With 8-bit signed integers, find the bits for the following: $10, 120, -10$.\n",
    "\n",
    "**SOLUTION**\n",
    "We can find the binary digits by repeatedly subtracting the largest power of 2 less than a number\n",
    "until we reach 0, e.g. $10 - 2^3 - 2 = 0$\n",
    "implies $10 = (1010)_2$.\n",
    "Thus the bits are:"
   ]
  },
  {
   "cell_type": "code",
   "execution_count": 5,
   "metadata": {
    "execution": {
     "iopub.execute_input": "2022-05-03T12:23:29.106813Z",
     "iopub.status.busy": "2022-05-03T12:23:29.106106Z",
     "iopub.status.idle": "2022-05-03T12:23:29.176777Z",
     "shell.execute_reply": "2022-05-03T12:23:29.176291Z"
    }
   },
   "outputs": [
    {
     "name": "stdout",
     "output_type": "stream",
     "text": [
      "\u001b[31m0\u001b[0m\u001b[34m0001010\u001b[0m\n"
     ]
    }
   ],
   "source": [
    "printlnbits(Int8(10))"
   ]
  },
  {
   "cell_type": "markdown",
   "metadata": {},
   "source": [
    "Similarly,\n",
    "$$\n",
    "120 = 2^6 + 2^5 + 2^4 + 2^3 = (1111000)_2\n",
    "$$\n",
    "Thus the bits are:"
   ]
  },
  {
   "cell_type": "code",
   "execution_count": 6,
   "metadata": {
    "execution": {
     "iopub.execute_input": "2022-05-03T12:23:29.178832Z",
     "iopub.status.busy": "2022-05-03T12:23:29.178167Z",
     "iopub.status.idle": "2022-05-03T12:23:29.180507Z",
     "shell.execute_reply": "2022-05-03T12:23:29.180019Z"
    }
   },
   "outputs": [
    {
     "name": "stdout",
     "output_type": "stream",
     "text": [
      "\u001b[31m0\u001b[0m\u001b[34m1111000\u001b[0m\n"
     ]
    }
   ],
   "source": [
    "printlnbits(Int8(120))"
   ]
  },
  {
   "cell_type": "markdown",
   "metadata": {},
   "source": [
    "For negative numbers we perform the same trick but adding $2^p$ to make it positive, e.g.,\n",
    "$$\n",
    "-10 = 2^8 - 10 ({\\rm mod 2^8}) = 246 = 2^7 + 2^6 + 2^5 + 2^4 + 2^2 + 2 = (11110110)_2\n",
    "$$\n",
    "This the bits are:"
   ]
  },
  {
   "cell_type": "code",
   "execution_count": 7,
   "metadata": {
    "execution": {
     "iopub.execute_input": "2022-05-03T12:23:29.182915Z",
     "iopub.status.busy": "2022-05-03T12:23:29.182106Z",
     "iopub.status.idle": "2022-05-03T12:23:29.184514Z",
     "shell.execute_reply": "2022-05-03T12:23:29.183422Z"
    }
   },
   "outputs": [
    {
     "name": "stdout",
     "output_type": "stream",
     "text": [
      "\u001b[31m1\u001b[0m\u001b[34m1110110\u001b[0m\n"
     ]
    }
   ],
   "source": [
    "printlnbits(Int8(-10))"
   ]
  },
  {
   "cell_type": "markdown",
   "metadata": {},
   "source": [
    "**Problem 2.2 (C)** What will `Int8(120) + Int8(10)` return?\n",
    "\n",
    "**SOLUTION**\n",
    "It will return\n",
    "$$\n",
    "130 ({\\rm mod\\ } 2^8) = -126 ({\\rm mod\\ } 2^8)\n",
    "$$"
   ]
  },
  {
   "cell_type": "code",
   "execution_count": 8,
   "metadata": {
    "execution": {
     "iopub.execute_input": "2022-05-03T12:23:29.186594Z",
     "iopub.status.busy": "2022-05-03T12:23:29.185986Z",
     "iopub.status.idle": "2022-05-03T12:23:29.372210Z",
     "shell.execute_reply": "2022-05-03T12:23:29.371767Z"
    }
   },
   "outputs": [
    {
     "data": {
      "text/plain": [
       "-126"
      ]
     },
     "execution_count": 8,
     "metadata": {},
     "output_type": "execute_result"
    }
   ],
   "source": [
    "Int8(120) + Int8(10)"
   ]
  },
  {
   "cell_type": "markdown",
   "metadata": {},
   "source": [
    "## 3. Floating point numbers\n",
    "\n",
    "**Problem 3.1 (C)** What are the single precision $F_{32}$ (`Float32`) floating point representations for the following: \n",
    "$$\n",
    "2, 31, 32, 23/4, (23/4)\\times 2^{100}\n",
    "$$\n",
    "Check your answers using `printbits`.\n",
    "\n",
    "\n",
    "**SOLUTION**\n",
    "Recall that we have `σ,Q,S = 127,8,23`. Thus we write\n",
    "$$\n",
    "2 = 2^{128-127} * (1.00000000000000000000000)_2\n",
    "$$\n",
    "The exponent bits are those of\n",
    "$$\n",
    "128 = 2^7 = (10000000)_2\n",
    "$$\n",
    "Hence we get"
   ]
  },
  {
   "cell_type": "code",
   "execution_count": 9,
   "metadata": {
    "execution": {
     "iopub.execute_input": "2022-05-03T12:23:29.374114Z",
     "iopub.status.busy": "2022-05-03T12:23:29.373607Z",
     "iopub.status.idle": "2022-05-03T12:23:29.444075Z",
     "shell.execute_reply": "2022-05-03T12:23:29.443635Z"
    }
   },
   "outputs": [
    {
     "name": "stdout",
     "output_type": "stream",
     "text": [
      "\u001b[31m0\u001b[0m\u001b[32m10000000\u001b[0m\u001b[34m00000000000000000000000\u001b[0m\n"
     ]
    }
   ],
   "source": [
    "printlnbits(2f0)"
   ]
  },
  {
   "cell_type": "markdown",
   "metadata": {},
   "source": [
    "We write\n",
    "$$\n",
    "31 = (11111)_2 = 2^{131-127} * (1.1111)_2\n",
    "$$\n",
    "And note that $131 = (10000011)_2$ Hence we have:"
   ]
  },
  {
   "cell_type": "code",
   "execution_count": 10,
   "metadata": {
    "execution": {
     "iopub.execute_input": "2022-05-03T12:23:29.446372Z",
     "iopub.status.busy": "2022-05-03T12:23:29.445520Z",
     "iopub.status.idle": "2022-05-03T12:23:29.448014Z",
     "shell.execute_reply": "2022-05-03T12:23:29.446947Z"
    }
   },
   "outputs": [
    {
     "name": "stdout",
     "output_type": "stream",
     "text": [
      "\u001b[31m0\u001b[0m\u001b[32m10000011\u001b[0m\u001b[34m11110000000000000000000\u001b[0m\n"
     ]
    }
   ],
   "source": [
    "printlnbits(31f0)"
   ]
  },
  {
   "cell_type": "markdown",
   "metadata": {},
   "source": [
    "On the other hand,\n",
    "$$\n",
    "32 = (100000)_2 = 2^{132-127}\n",
    "$$\n",
    "and $132 = (10000100)_2$ hence:"
   ]
  },
  {
   "cell_type": "code",
   "execution_count": 11,
   "metadata": {
    "execution": {
     "iopub.execute_input": "2022-05-03T12:23:29.450689Z",
     "iopub.status.busy": "2022-05-03T12:23:29.449789Z",
     "iopub.status.idle": "2022-05-03T12:23:29.452243Z",
     "shell.execute_reply": "2022-05-03T12:23:29.451133Z"
    }
   },
   "outputs": [
    {
     "name": "stdout",
     "output_type": "stream",
     "text": [
      "\u001b[31m0\u001b[0m\u001b[32m10000100\u001b[0m\u001b[34m00000000000000000000000\u001b[0m\n"
     ]
    }
   ],
   "source": [
    "printlnbits(32f0)"
   ]
  },
  {
   "cell_type": "markdown",
   "metadata": {},
   "source": [
    "Note that\n",
    "$$\n",
    "23/4 = 2^{-2} * (10111)_2 = 2^{129-127} * (1.0111)_2\n",
    "$$\n",
    "and $129 = (10000001)_2$ hence we get:"
   ]
  },
  {
   "cell_type": "code",
   "execution_count": 12,
   "metadata": {
    "execution": {
     "iopub.execute_input": "2022-05-03T12:23:29.454005Z",
     "iopub.status.busy": "2022-05-03T12:23:29.453471Z",
     "iopub.status.idle": "2022-05-03T12:23:29.459063Z",
     "shell.execute_reply": "2022-05-03T12:23:29.458682Z"
    }
   },
   "outputs": [
    {
     "name": "stdout",
     "output_type": "stream",
     "text": [
      "\u001b[31m0\u001b[0m\u001b[32m10000001\u001b[0m\u001b[34m01110000000000000000000\u001b[0m\n"
     ]
    }
   ],
   "source": [
    "printlnbits(23f0/4)"
   ]
  },
  {
   "cell_type": "markdown",
   "metadata": {},
   "source": [
    "Finally,\n",
    "$$\n",
    "23/4 * 2^{100} = 2^{229-127} * (1.0111)_2\n",
    "$$\n",
    "and $229 = (11100101)_2$ giving us:"
   ]
  },
  {
   "cell_type": "code",
   "execution_count": 13,
   "metadata": {
    "execution": {
     "iopub.execute_input": "2022-05-03T12:23:29.461411Z",
     "iopub.status.busy": "2022-05-03T12:23:29.460887Z",
     "iopub.status.idle": "2022-05-03T12:23:29.468543Z",
     "shell.execute_reply": "2022-05-03T12:23:29.468103Z"
    }
   },
   "outputs": [
    {
     "name": "stdout",
     "output_type": "stream",
     "text": [
      "\u001b[31m0\u001b[0m\u001b[32m11100101\u001b[0m\u001b[34m01110000000000000000000\u001b[0m\n"
     ]
    }
   ],
   "source": [
    "printlnbits(23f0/4 * 2f0^100)"
   ]
  },
  {
   "cell_type": "markdown",
   "metadata": {},
   "source": [
    "**Problem 3.2 (B)** Let $m(y) = \\min\\{x \\in F_{32} : x > y \\}$ be the smallest single precision number\n",
    "greater than $y$. What is $m(2) - 2$ and $m(1024) - 1024$? Check your answer using the `nextfloat`\n",
    "command.\n",
    "\n",
    "\n",
    "**SOLUTION**\n",
    "The next float after $2$ is $2 * (1 + 2^{-23})$ hence we get $m(2) - 2 = 2^{-22}$:"
   ]
  },
  {
   "cell_type": "code",
   "execution_count": 14,
   "metadata": {
    "execution": {
     "iopub.execute_input": "2022-05-03T12:23:29.470501Z",
     "iopub.status.busy": "2022-05-03T12:23:29.470011Z",
     "iopub.status.idle": "2022-05-03T12:23:29.772655Z",
     "shell.execute_reply": "2022-05-03T12:23:29.772219Z"
    }
   },
   "outputs": [
    {
     "data": {
      "text/plain": [
       "(2.3841858f-7, 2.384185791015625e-7)"
      ]
     },
     "execution_count": 14,
     "metadata": {},
     "output_type": "execute_result"
    }
   ],
   "source": [
    "nextfloat(2f0) - 2, 2^(-22)"
   ]
  },
  {
   "cell_type": "markdown",
   "metadata": {},
   "source": [
    "similarly, for $1024 = 2^{10}$ we find that the difference $m(1024) - 1024$ is $2^{10-23} = 2^{-13}$:"
   ]
  },
  {
   "cell_type": "code",
   "execution_count": 15,
   "metadata": {
    "execution": {
     "iopub.execute_input": "2022-05-03T12:23:29.774628Z",
     "iopub.status.busy": "2022-05-03T12:23:29.774095Z",
     "iopub.status.idle": "2022-05-03T12:23:29.780225Z",
     "shell.execute_reply": "2022-05-03T12:23:29.779681Z"
    }
   },
   "outputs": [
    {
     "data": {
      "text/plain": [
       "(0.00012207031f0, 0.0001220703125)"
      ]
     },
     "execution_count": 15,
     "metadata": {},
     "output_type": "execute_result"
    }
   ],
   "source": [
    "nextfloat(1024f0) - 1024, 2^(-13)"
   ]
  },
  {
   "cell_type": "markdown",
   "metadata": {},
   "source": [
    "## 4. Arithmetic\n",
    "\n",
    "\n",
    "**Problem 4.1 (C)** Suppose $x = 1.25$ and consider 16-bit floating point arithmetic (`Float16`). \n",
    "What is the error in approximating $x$ by the nearest float point number ${\\rm fl}(x)$?\n",
    "What is the error in approximating $2x$, $x/2$, $x + 2$ and $x - 2$ by $2 \\otimes x$, $x \\oslash 2$, $x ⊕ 2$ and $x \\ominus 2$?\n",
    "\n",
    "**SOLUTION**\n",
    "None of these computations have errors since they are all exactly representable as floating point numbers.\n",
    "\n",
    "**Problem 4.2 (B)** For what floating point numbers is $x \\oslash 2 \\neq x/2$ and $x ⊕ 2 \\neq x + 2$?\n",
    "\n",
    "**SOLUTION**\n",
    "\n",
    "Consider a normal $x = 2^{q-σ} (1.b_1\\ldots b_S)_2$.\n",
    "Provided $q > 1$  we have\n",
    "$$\n",
    "x ⊘ 2 = x/2 = 2^{q-σ-1} (1.b_1\\ldots b_S)_2\n",
    "$$\n",
    "However, if $q = 1$ we lose a bit as we shift:\n",
    "$$\n",
    "x ⊘ 2 = 2^{1-σ} (0.b_1\\ldots b_{S-1})_2\n",
    "$$\n",
    "and the property will be satisfy if $b_S = 1$.\n",
    "Similarily if we are sub-normal, $x = 2^{1-σ} (0.b_1\\ldots b_S)_2$ and\n",
    "we have\n",
    "$$\n",
    "x ⊘ 2 = 2^{1-σ} (0.0b_1\\ldots b_{S-1})_2\n",
    "$$\n",
    "and the property will be satisfy if $b_S = 1$.\n",
    "(Or `NaN`.)\n",
    "\n",
    "Here are two examples:"
   ]
  },
  {
   "cell_type": "code",
   "execution_count": 16,
   "metadata": {
    "execution": {
     "iopub.execute_input": "2022-05-03T12:23:29.799102Z",
     "iopub.status.busy": "2022-05-03T12:23:29.798513Z",
     "iopub.status.idle": "2022-05-03T12:23:30.056681Z",
     "shell.execute_reply": "2022-05-03T12:23:30.056235Z"
    }
   },
   "outputs": [
    {
     "data": {
      "text/plain": [
       "false"
      ]
     },
     "execution_count": 16,
     "metadata": {},
     "output_type": "execute_result"
    }
   ],
   "source": [
    "# normal number with q = 1 and last bit 1\n",
    "x = reinterpret(Float16, parse(UInt16, \"0000010000000011\"; base=2))\n",
    "x/2 == Float64(x)/2 # Float64 can exactly represent x/2"
   ]
  },
  {
   "cell_type": "code",
   "execution_count": 17,
   "metadata": {
    "execution": {
     "iopub.execute_input": "2022-05-03T12:23:30.058586Z",
     "iopub.status.busy": "2022-05-03T12:23:30.058052Z",
     "iopub.status.idle": "2022-05-03T12:23:30.060354Z",
     "shell.execute_reply": "2022-05-03T12:23:30.059955Z"
    }
   },
   "outputs": [
    {
     "data": {
      "text/plain": [
       "false"
      ]
     },
     "execution_count": 17,
     "metadata": {},
     "output_type": "execute_result"
    }
   ],
   "source": [
    "# sub-normal number with q = 1 and last bit 1\n",
    "x = reinterpret(Float16, parse(UInt16, \"0000000000000011\"; base=2))\n",
    "x/2 == Float64(x)/2 # Float64 can exactly represent x/2"
   ]
  },
  {
   "cell_type": "markdown",
   "metadata": {},
   "source": [
    "For the second part, Similar to the next problem,\n",
    "we see that the property holds true if $|x| < 2^{S+2}-1$, \n",
    "as otherwise:"
   ]
  },
  {
   "cell_type": "code",
   "execution_count": 18,
   "metadata": {
    "execution": {
     "iopub.execute_input": "2022-05-03T12:23:30.062163Z",
     "iopub.status.busy": "2022-05-03T12:23:30.061671Z",
     "iopub.status.idle": "2022-05-03T12:23:30.075875Z",
     "shell.execute_reply": "2022-05-03T12:23:30.075442Z"
    }
   },
   "outputs": [
    {
     "data": {
      "text/plain": [
       "true"
      ]
     },
     "execution_count": 18,
     "metadata": {},
     "output_type": "execute_result"
    }
   ],
   "source": [
    "x = Float16(2)^(12)-1 # bits 0110110000000000\n",
    "x+2 == x"
   ]
  },
  {
   "cell_type": "markdown",
   "metadata": {},
   "source": [
    "We see this is sharp:"
   ]
  },
  {
   "cell_type": "code",
   "execution_count": 19,
   "metadata": {
    "execution": {
     "iopub.execute_input": "2022-05-03T12:23:30.077915Z",
     "iopub.status.busy": "2022-05-03T12:23:30.077394Z",
     "iopub.status.idle": "2022-05-03T12:23:30.088333Z",
     "shell.execute_reply": "2022-05-03T12:23:30.087888Z"
    }
   },
   "outputs": [
    {
     "data": {
      "text/plain": [
       "false"
      ]
     },
     "execution_count": 19,
     "metadata": {},
     "output_type": "execute_result"
    }
   ],
   "source": [
    "y = prevfloat(x)\n",
    "y+2 == y"
   ]
  },
  {
   "cell_type": "markdown",
   "metadata": {},
   "source": [
    "**Problem 4.3 (A)** Explain why the following return `true`. What is the largest floating point number `y` such that `y + 1 ≠ y`?"
   ]
  },
  {
   "cell_type": "code",
   "execution_count": 20,
   "metadata": {
    "execution": {
     "iopub.execute_input": "2022-05-03T12:23:30.090753Z",
     "iopub.status.busy": "2022-05-03T12:23:30.090093Z",
     "iopub.status.idle": "2022-05-03T12:23:30.095878Z",
     "shell.execute_reply": "2022-05-03T12:23:30.095433Z"
    }
   },
   "outputs": [
    {
     "data": {
      "text/plain": [
       "true"
      ]
     },
     "execution_count": 20,
     "metadata": {},
     "output_type": "execute_result"
    }
   ],
   "source": [
    "x = 10.0^100\n",
    "x + 1 == x"
   ]
  },
  {
   "cell_type": "markdown",
   "metadata": {},
   "source": [
    "**SOLUTION**\n",
    "\n",
    "Writing $10 = 2^3 (1.01)_2$ we have\n",
    "$$\n",
    "\\rm{fl}(10^{100}) = \\rm{fl}(2^{300} (1 + 2^{-4})^{100}) = 2^{300} (1.b_1 \\ldots b_{52})_2\n",
    "$$\n",
    "where the bits $b_k$ are not relevant. We then have:\n",
    "$$\n",
    "\\rm{fl}(10^{100}) ⊕ 1 = \\rm{fl}(2^{300} [(1.b_1 \\ldots b_{52})_2 + 2^{-300}]) = \\rm{fl}(10^{100})\n",
    "$$\n",
    "since $2^{-300}$ is below the necessary precision.\n",
    "\n",
    "The largest floating point number satisfying the condition is $y = 2^{53} - 1$, since\n",
    "$S = 52$. First note $2^{53}$ does not satisfy the condition:"
   ]
  },
  {
   "cell_type": "code",
   "execution_count": 21,
   "metadata": {
    "execution": {
     "iopub.execute_input": "2022-05-03T12:23:30.097826Z",
     "iopub.status.busy": "2022-05-03T12:23:30.097326Z",
     "iopub.status.idle": "2022-05-03T12:23:30.103720Z",
     "shell.execute_reply": "2022-05-03T12:23:30.103243Z"
    }
   },
   "outputs": [
    {
     "data": {
      "text/plain": [
       "true"
      ]
     },
     "execution_count": 21,
     "metadata": {},
     "output_type": "execute_result"
    }
   ],
   "source": [
    "x = 2.0^53\n",
    "x + 1 == x"
   ]
  },
  {
   "cell_type": "markdown",
   "metadata": {},
   "source": [
    "We can however successfully create the previsous float $2^{53} -1$ by subtracting\n",
    "(Explain why this works while `x+1` fails):"
   ]
  },
  {
   "cell_type": "code",
   "execution_count": 22,
   "metadata": {
    "execution": {
     "iopub.execute_input": "2022-05-03T12:23:30.105738Z",
     "iopub.status.busy": "2022-05-03T12:23:30.105241Z",
     "iopub.status.idle": "2022-05-03T12:23:30.112146Z",
     "shell.execute_reply": "2022-05-03T12:23:30.111729Z"
    }
   },
   "outputs": [
    {
     "name": "stdout",
     "output_type": "stream",
     "text": [
      "\u001b[31m0\u001b[0m\u001b[32m10000110100\u001b[0m\u001b[34m0000000000000000000000000000000000000000000000000000\u001b[0m\n",
      "\u001b[31m0\u001b[0m\u001b[32m10000110011\u001b[0m\u001b[34m1111111111111111111111111111111111111111111111111111\u001b[0m\n"
     ]
    }
   ],
   "source": [
    "y = x - 1\n",
    "printlnbits(x)\n",
    "printlnbits(y)"
   ]
  },
  {
   "cell_type": "markdown",
   "metadata": {},
   "source": [
    "And this satisfies:"
   ]
  },
  {
   "cell_type": "code",
   "execution_count": 23,
   "metadata": {
    "execution": {
     "iopub.execute_input": "2022-05-03T12:23:30.113966Z",
     "iopub.status.busy": "2022-05-03T12:23:30.113464Z",
     "iopub.status.idle": "2022-05-03T12:23:30.118375Z",
     "shell.execute_reply": "2022-05-03T12:23:30.117931Z"
    }
   },
   "outputs": [
    {
     "data": {
      "text/plain": [
       "true"
      ]
     },
     "execution_count": 23,
     "metadata": {},
     "output_type": "execute_result"
    }
   ],
   "source": [
    "y + 1 ≠ y"
   ]
  },
  {
   "cell_type": "markdown",
   "metadata": {},
   "source": [
    "**Problem 4.4 (B)** What are the exact bits for $1/5$, $1/5 + 1$ computed\n",
    "using  half-precision arithmetic (`Float16`) (using default rounding)?\n",
    "\n",
    "**SOLUTION**\n",
    "\n",
    "We saw above that\n",
    "$$\n",
    "1/5 = 2^{-3} * (1.10011001100…)_2 ≈ 2^{-3} * (1.1001100110)_2\n",
    "$$\n",
    "where the $≈$ is rounded to the nearest 10 bits (in this case rounded down).\n",
    "We write $-3 = 12 - 15$\n",
    "hence we have $q = 12 = (01100)_2$. \n",
    "so  we get the bits:"
   ]
  },
  {
   "cell_type": "code",
   "execution_count": 24,
   "metadata": {
    "execution": {
     "iopub.execute_input": "2022-05-03T12:23:30.120657Z",
     "iopub.status.busy": "2022-05-03T12:23:30.119869Z",
     "iopub.status.idle": "2022-05-03T12:23:30.122290Z",
     "shell.execute_reply": "2022-05-03T12:23:30.121227Z"
    }
   },
   "outputs": [
    {
     "name": "stdout",
     "output_type": "stream",
     "text": [
      "\u001b[31m0\u001b[0m\u001b[32m01100\u001b[0m\u001b[34m1001100110\u001b[0m"
     ]
    }
   ],
   "source": [
    "printbits(Float16(1)/5)"
   ]
  },
  {
   "cell_type": "markdown",
   "metadata": {},
   "source": [
    "Adding `1` we get:\n",
    "$$\n",
    "1 + 2^{-3} * (1.1001100110)_2 = (1.001100110011)_2 ≈ (1.0011001101)_2 \n",
    "$$\n",
    "Here we write the exponent as $0 = 15 - 15$ where $q = 15 = (01111)_2$. \n",
    "Thus we get:"
   ]
  },
  {
   "cell_type": "code",
   "execution_count": 25,
   "metadata": {
    "execution": {
     "iopub.execute_input": "2022-05-03T12:23:30.124156Z",
     "iopub.status.busy": "2022-05-03T12:23:30.123668Z",
     "iopub.status.idle": "2022-05-03T12:23:30.129193Z",
     "shell.execute_reply": "2022-05-03T12:23:30.128845Z"
    }
   },
   "outputs": [
    {
     "name": "stdout",
     "output_type": "stream",
     "text": [
      "\u001b[31m0\u001b[0m\u001b[32m01111\u001b[0m\u001b[34m0011001101\u001b[0m"
     ]
    }
   ],
   "source": [
    "printbits(1 + Float16(1)/5)"
   ]
  },
  {
   "cell_type": "markdown",
   "metadata": {},
   "source": [
    "**Problem 4.5 (A)** Explain why the following does not return `1`. Can you compute the bits explicitly?"
   ]
  },
  {
   "cell_type": "code",
   "execution_count": 26,
   "metadata": {
    "execution": {
     "iopub.execute_input": "2022-05-03T12:23:30.130959Z",
     "iopub.status.busy": "2022-05-03T12:23:30.130467Z",
     "iopub.status.idle": "2022-05-03T12:23:30.331856Z",
     "shell.execute_reply": "2022-05-03T12:23:30.331253Z"
    }
   },
   "outputs": [
    {
     "data": {
      "text/plain": [
       "Float16(1.004)"
      ]
     },
     "execution_count": 26,
     "metadata": {},
     "output_type": "execute_result"
    }
   ],
   "source": [
    "Float16(0.1) / (Float16(1.1) - 1)"
   ]
  },
  {
   "cell_type": "markdown",
   "metadata": {},
   "source": [
    "**SOLUTION**\n",
    "For the last problem, note that\n",
    "$$\n",
    "{1 \\over 10} = {1 \\over 2} {1 \\over 5} = 2^{-4} * (1.10011001100…)_2\n",
    "$$\n",
    "hence we have \n",
    "$$\n",
    "{\\rm fl}({1 \\over 10}) = 2^{-4} * (1.1001100110)_2\n",
    "$$\n",
    "and\n",
    "$$\n",
    "{\\rm fl}(1 + {1 \\over 10}) ={\\rm fl}(1.0001100110011\\ldots) = (1.0001100110)_2\n",
    "$$\n",
    "Thus\n",
    "$$\n",
    "{\\rm fl}(1.1) ⊖ 1 = (0.0001100110)_2 = 2^{-4} (1.1001100000)_2\n",
    "$$\n",
    "and hence we get\n",
    "$$\n",
    "{\\rm fl}(0.1) ⊘ ({\\rm fl}(1.1) ⊖ 1)= {\\rm fl}({(1.1001100110)_2 \\over (1.1001100000)_2}) \\neq 1\n",
    "$$\n",
    "To compute the bits explicitly, write $y = (1.10011)_2$ and divide through to get:\n",
    "$$\n",
    "{(1.1001100110)_2 \\over (1.10011)_2} = 1 + {2^{-8} \\over y} + {2^{-9} \\over y}\n",
    "$$\n",
    "We then have\n",
    "$$\n",
    "y^{-1} = {32 \\over 51} = 0.627\\ldots = (0.101\\ldots)_2\n",
    "$$\n",
    "Hence\n",
    "$$\n",
    "1 + {2^{-8} \\over y} + {2^{-9} \\over y} = 1 + (2^{-9} + 2^{-11} + \\cdots) + (2^{-10} + \\cdots) = (1.00000000111…)_2\n",
    "$$\n",
    "Therefore we round up (the $…$ is not exactly zero but if it was it would be a tie and we would\n",
    "round up anyways to get a zero last bit) and get:"
   ]
  },
  {
   "cell_type": "code",
   "execution_count": 27,
   "metadata": {
    "execution": {
     "iopub.execute_input": "2022-05-03T12:23:30.334429Z",
     "iopub.status.busy": "2022-05-03T12:23:30.333808Z",
     "iopub.status.idle": "2022-05-03T12:23:30.338357Z",
     "shell.execute_reply": "2022-05-03T12:23:30.337941Z"
    }
   },
   "outputs": [
    {
     "name": "stdout",
     "output_type": "stream",
     "text": [
      "\u001b[31m0\u001b[0m\u001b[32m01111\u001b[0m\u001b[34m0000000100\u001b[0m\n"
     ]
    }
   ],
   "source": [
    "printlnbits(Float16(0.1) / (Float16(1.1) - 1))"
   ]
  },
  {
   "cell_type": "markdown",
   "metadata": {},
   "source": [
    "**Problem 4.6 (B)** Find a bound on the _absolute error_ in terms of a constant times\n",
    "$ϵ_{\\rm m}$ for the following computations\n",
    "$$\n",
    "\\begin{align*}\n",
    "(1.1 * 1.2) &+ 1.3 \\\\\n",
    "(1.1 - 1) &/ 0.1 \n",
    "\\end{align*}\n",
    "$$\n",
    "implemented using floating point arithmetic (with any precision). \n",
    "\n",
    "**SOLUTION**\n",
    "\n",
    "The first problem is very similar to what we saw in lecture. Write \n",
    "$$\n",
    "({\\rm fl}(1.1)⊗ {\\rm fl}(1.2)) ⊕ {\\rm fl}(1.3) = ( 1.1(1 + δ_1)1.2(1+δ_2)(1+δ_3) + 1.3(1+δ_4))(1+δ_5)\n",
    "$$\n",
    "We first write\n",
    "$$\n",
    "1.1(1 + δ_1)1.2(1+δ_2)(1+δ_3) = 1.32( 1+ δ_6)\n",
    "$$\n",
    "where\n",
    "$$\n",
    "|δ_6| \\leq |δ_1| + |δ_2| + |δ_3| + |δ_1| |δ_2| + |δ_1| |δ_3| + |δ_2| |δ_3|+ |δ_1| |δ_2| |δ_3| \\leq 4 ϵ_{\\rm m}\n",
    "$$\n",
    "Then we have\n",
    "$$\n",
    "1.32 (1 + δ_6) + 1.3 (1 + δ_4) = 2.62 + \\underbrace{1.32 δ_6 + 1.3δ_4}_{δ_7}\n",
    "$$\n",
    "where\n",
    "$$\n",
    "|δ_7| ≤ 7 ϵ_{\\rm m}\n",
    "$$\n",
    "Finally,\n",
    "$$\n",
    "(2.62 + δ_7)(1+δ_5) = 2.62 + \\underbrace{δ_7 + 2.62δ_5 + δ_7 δ_5}_{δ_8}\n",
    "$$\n",
    "where\n",
    "$$\n",
    "|δ_8| ≤ 10 ϵ_{\\rm m}\n",
    "$$\n",
    "\n",
    "\n",
    "\n",
    "For the second part, we do:\n",
    "$$\n",
    "({\\rm fl}(1.1) ⊖ 1) ⊘ {\\rm fl}(0.1) = {(1.1 (1 + δ_1) - 1)(1 + δ_2) \\over 0.1 (1 + δ_3)} (1 + δ_4)\n",
    "$$\n",
    "Write\n",
    "$$\n",
    "{1 \\over 1 + δ_3} = 1 + \\delta_5\n",
    "$$\n",
    "where\n",
    "$$\n",
    "|δ_5| \\leq \\left| {\\delta_3 \\over 1 + \\delta_3} \\right| \\leq  {ϵ_{\\rm m} \\over 2} {1 \\over 1 - 1/2} \\leq ϵ_{\\rm m}\n",
    "$$\n",
    "using the fact that $|\\delta_3| < 1/2$.\n",
    "Further write\n",
    "$$\n",
    "(1 + δ_5)(1 + δ_4) = 1 + δ_6\n",
    "$$\n",
    "where\n",
    "$$\n",
    "|δ_6| \\leq |δ_5| + |δ_4| + |δ_5| |δ_4| \\leq 2ϵ_{\\rm m}\n",
    "$$\n",
    "We also write\n",
    "$$\n",
    "{(1.1 (1 + δ_1) - 1)(1 + δ_2) \\over 0.1} = 1 + \\underbrace{11δ_1 + δ_2 + 11δ_1δ_2}_{δ_7}\n",
    "$$\n",
    "where\n",
    "$$\n",
    "|δ_7| ≤ 12 ϵ_{\\rm m}\n",
    "$$\n",
    "Then we get \n",
    "$$\n",
    "({\\rm fl}(1.1) ⊖ 1) ⊘ {\\rm fl}(0.1) = (1 + δ_7) (1 + δ_6) =  1 + δ_7 + δ_6 + δ_6 δ_7\n",
    "$$\n",
    "and the error is bounded by:\n",
    "$$\n",
    "(12 + 2 + 34) ϵ_{\\rm m} = 48 ϵ_{\\rm m}\n",
    "$$\n",
    "This is quite pessimistic but still captures that we are on the order of $ϵ_{\\rm m}$.\n",
    "\n",
    "\n",
    "\n",
    "\n",
    "\n",
    "\n",
    "\n",
    "## 5. Interval arithmetic\n",
    "\n",
    "\n",
    "The following problems consider implementation of interval arithmetic for\n",
    "proving precise bounds on arithmetic operations. That is recall the set operations\n",
    "$$\n",
    "A + B = \\{x + y : x \\in A, y \\in B\\}, AB = \\{xy : x \\in A, y \\in B\\}.\n",
    "$$\n",
    "\n",
    "**Problem 5.1 (B)** For intervals $A = [a,b]$ and $B = [c,d]$ such that $0 \\notin A,B$\n",
    " and integer $n \\neq 0$, \n",
    "deduce formulas for the minimum and maximum of $A/n$, $A+B$ and $AB$.\n",
    "\n",
    "**Solution**\n",
    "\n",
    "$$\n",
    "\\begin{align*}\n",
    "{A \\over n} &= \\begin{cases}\n",
    "[a/n,b/n] & n > 0 \\\\\n",
    "[b/n,a/n] & n < 0\n",
    "\\end{cases},\\\\\n",
    "A + B &= [a + c, b + d] \\\\\n",
    "AB &= \\begin{cases}\n",
    "[bd,ac]& a,b,c,d < 0 \\\\\n",
    "[ad,bc]& a,b < 0 \\hbox{ and } c,d >0 \\\\\n",
    "[bc,ad]& a,b > 0 \\hbox{ and } c,d  < 0 \\\\\n",
    "[ac,bd]& a,b,c,d > 0\n",
    "\\end{cases}\n",
    "\\end{align*}\n",
    "$$\n",
    "\n",
    "\n",
    "**Problem 5.2 (B)**\n",
    "We want to implement floating point variants such that, for $S = [a,b] + [c,d]$\n",
    " $P = [a,b] * [c,d]$, and $D = [a,b]/n$ for an integer $n$,\n",
    "$$\n",
    "\\begin{align*}\n",
    "[a,b] ⊕ [c,d] &:= [{\\rm fl}^{\\rm down}(\\min S), {\\rm fl}^{\\rm up}(\\max S)] \\\\\n",
    "[a,b] ⊗ [c,d] &:= [{\\rm fl}^{\\rm down}(\\min P), {\\rm fl}^{\\rm up}(\\max P)] \\\\\n",
    "[a,b] ⊘ n &:= [{\\rm fl}^{\\rm down}(\\min D), {\\rm fl}^{\\rm up}(\\max D)]\n",
    "\\end{align*}\n",
    "$$\n",
    "This guarantees $S ⊆ [a,b] ⊕ [c,d]$, $P ⊆ [a,b] ⊗ [c,d]$, and\n",
    "$D ⊆ [a,b] ⊘ n$.\n",
    "In other words, if $x \\in [a,b]$ and\n",
    "$y \\in [c,d]$ then $x +y \\in [a,b] ⊕ [c,d]$, and we thereby have  bounds on $x + y$.\n",
    "\n",
    "Use the formulae from Problem 5.1 to complete (by replacing the `# TODO: …` comments with code)\n",
    " the following implementation of an \n",
    "`Interval` \n",
    "so that `+`, `-`, and `/` implement $⊕$, $⊖$, and $⊘$ as defined above."
   ]
  },
  {
   "cell_type": "code",
   "execution_count": 28,
   "metadata": {
    "execution": {
     "iopub.execute_input": "2022-05-03T12:23:30.340477Z",
     "iopub.status.busy": "2022-05-03T12:23:30.339961Z",
     "iopub.status.idle": "2022-05-03T12:23:30.702575Z",
     "shell.execute_reply": "2022-05-03T12:23:30.702093Z"
    }
   },
   "outputs": [
    {
     "data": {
      "text/plain": [
       "* (generic function with 405 methods)"
      ]
     },
     "execution_count": 28,
     "metadata": {},
     "output_type": "execute_result"
    }
   ],
   "source": [
    "# Interval(a,b) represents the closed interval [a,b]\n",
    "struct Interval{T}\n",
    "    a::T\n",
    "    b::T\n",
    "end\n",
    "\n",
    "import Base: *, +, -, /, one, in\n",
    "\n",
    "# create an interval corresponding to [1,1]\n",
    "one(x::Interval) = Interval(one(x.a), one(x.b))\n",
    "\n",
    "# Support x in Interval(a,b)\n",
    "in(x, y::Interval) = y.a ≤ x ≤ y.b\n",
    "\n",
    "# Following should implement ⊕\n",
    "function +(x::Interval, y::Interval)\n",
    "    T = promote_type(typeof(x.a), typeof(x.b))\n",
    "    a = setrounding(T, RoundDown) do\n",
    "        # TODO: upper bound\n",
    "        ## SOLUTION\n",
    "        x.a + y.a\n",
    "        ## END\n",
    "    end\n",
    "    b = setrounding(T, RoundUp) do\n",
    "        # TODO: upper bound\n",
    "        ## SOLUTION\n",
    "        x.b + y.b\n",
    "        ## END\n",
    "    end\n",
    "    Interval(a, b)\n",
    "end\n",
    "\n",
    "# Following should implement ⊘\n",
    "function /(x::Interval, n::Integer)\n",
    "    T = typeof(x.a)\n",
    "    if iszero(n)\n",
    "        error(\"Dividing by zero not support\")\n",
    "    end\n",
    "    a = setrounding(T, RoundDown) do\n",
    "        # TODO: lower bound\n",
    "        ## SOLUTION\n",
    "        if n > 0\n",
    "            x.a / n\n",
    "        else\n",
    "            x.b / n\n",
    "        end\n",
    "        ## END\n",
    "    end\n",
    "    b = setrounding(T, RoundUp) do\n",
    "        # TODO: upper bound\n",
    "        ## SOLUTION\n",
    "        if n > 0\n",
    "            x.b / n\n",
    "        else\n",
    "            x.a / n\n",
    "        end\n",
    "        ## END\n",
    "    end\n",
    "    Interval(a, b)\n",
    "end\n",
    "\n",
    "# Following should implement ⊗\n",
    "function *(x::Interval, y::Interval)\n",
    "    T = promote_type(typeof(x.a), typeof(x.b))\n",
    "    if 0 in x || 0 in y\n",
    "        error(\"Multiplying with intervals containing 0 not supported.\")\n",
    "    end\n",
    "    a = setrounding(T, RoundDown) do\n",
    "        # TODO: lower bound\n",
    "        ## SOLUTION\n",
    "        if x.a < 0 && x.b < 0 && y.a < 0 && y.b < 0\n",
    "            y.b * x.b\n",
    "        elseif x.a < 0 && x.b < 0 && y.a > 0 && y.b > 0\n",
    "            x.a * y.b\n",
    "        elseif x.a > 0 && x.b > 0 && y.a < 0 && y.b < 0\n",
    "            x.b * y.a\n",
    "        else\n",
    "            x.a * y.a\n",
    "        end\n",
    "        ## END\n",
    "    end\n",
    "    b = setrounding(T, RoundUp) do\n",
    "        # TODO: upper bound\n",
    "        ## SOLUTION\n",
    "        if x.a < 0 && x.b < 0 && y.a < 0 && y.b < 0\n",
    "            y.a * x.a\n",
    "        elseif x.a < 0 && x.b < 0 && y.a > 0 && y.b > 0\n",
    "            x.b * y.a\n",
    "        elseif x.a > 0 && x.b > 0 && y.a < 0 && y.b < 0\n",
    "            x.a * y.b\n",
    "        else\n",
    "            x.b * y.b\n",
    "        end\n",
    "        ## END\n",
    "    end\n",
    "    Interval(a, b)\n",
    "end"
   ]
  },
  {
   "cell_type": "markdown",
   "metadata": {},
   "source": [
    "**Problem 5.3 (A)** The following function  computes the first `n+1` terms of the Taylor series of $\\exp(x)$:\n",
    "$$\n",
    "\\sum_{k=0}^n {x^k \\over k!}\n",
    "$$"
   ]
  },
  {
   "cell_type": "code",
   "execution_count": 29,
   "metadata": {
    "execution": {
     "iopub.execute_input": "2022-05-03T12:23:30.704541Z",
     "iopub.status.busy": "2022-05-03T12:23:30.704049Z",
     "iopub.status.idle": "2022-05-03T12:23:30.776951Z",
     "shell.execute_reply": "2022-05-03T12:23:30.776536Z"
    }
   },
   "outputs": [
    {
     "data": {
      "text/plain": [
       "exp_t (generic function with 1 method)"
      ]
     },
     "execution_count": 29,
     "metadata": {},
     "output_type": "execute_result"
    }
   ],
   "source": [
    "function exp_t(x, n)\n",
    "    ret = one(x) # 1 of same type as x\n",
    "    s = one(x)\n",
    "    for k = 1:n\n",
    "        s = s/k * x\n",
    "        ret = ret + s\n",
    "    end\n",
    "    ret\n",
    "end"
   ]
  },
  {
   "cell_type": "markdown",
   "metadata": {},
   "source": [
    "Bound the tail of the Taylor series for ${\\rm e}^x$ assuming $|x| \\leq 1$. \n",
    "(Hint: ${\\rm e}^x \\leq 3$ for $x \\leq 1$.)\n",
    "Use the bound\n",
    "to complete the function `exp_bound` which computes ${\\rm e}^x$ with rigorous error bounds, that is\n",
    "so that when applied to an interval $[a,b]$ it returns an interval that is \n",
    "guaranteed to contain the interval $[{\\rm e}^a, {\\rm e}^b]$."
   ]
  },
  {
   "cell_type": "code",
   "execution_count": 30,
   "metadata": {
    "execution": {
     "iopub.execute_input": "2022-05-03T12:23:30.778929Z",
     "iopub.status.busy": "2022-05-03T12:23:30.778415Z",
     "iopub.status.idle": "2022-05-03T12:23:30.856152Z",
     "shell.execute_reply": "2022-05-03T12:23:30.855688Z"
    }
   },
   "outputs": [
    {
     "data": {
      "text/plain": [
       "exp_bound (generic function with 1 method)"
      ]
     },
     "execution_count": 30,
     "metadata": {},
     "output_type": "execute_result"
    }
   ],
   "source": [
    "function exp_bound(x::Interval, n)\n",
    "    if abs(x.a) > 1 || abs(x.b) > 1\n",
    "        error(\"Interval must be a subset of [-1, 1]\")\n",
    "    end\n",
    "    ret = exp_t(x, n) # the code for Taylor series should work on Interval unmodified\n",
    "    f = factorial(min(20, n + 1)) # avoid overflow in computing factorial\n",
    "    T = typeof(ret.a)\n",
    "\n",
    "    # TODO: modify ret so that exp(x) is guaranteed to lie in it\n",
    "    ## SOLUTION\n",
    "    err = setrounding(T, RoundUp) do\n",
    "        3 / f\n",
    "    end\n",
    "    ret + Interval(-err,err)\n",
    "    ## END\n",
    "end"
   ]
  },
  {
   "cell_type": "markdown",
   "metadata": {},
   "source": [
    "Check your result for computing ${\\rm ℯ}$ and ${\\rm e}^{-1}$ by assuring that\n",
    "the following returns true:"
   ]
  },
  {
   "cell_type": "code",
   "execution_count": 31,
   "metadata": {
    "execution": {
     "iopub.execute_input": "2022-05-03T12:23:30.858133Z",
     "iopub.status.busy": "2022-05-03T12:23:30.857639Z",
     "iopub.status.idle": "2022-05-03T12:23:30.959533Z",
     "shell.execute_reply": "2022-05-03T12:23:30.959097Z"
    }
   },
   "outputs": [
    {
     "data": {
      "text/plain": [
       "true"
      ]
     },
     "execution_count": 31,
     "metadata": {},
     "output_type": "execute_result"
    }
   ],
   "source": [
    "exp(big(1)) in exp_bound(Interval(1.0,1.0), 20) && exp(big(-1)) in exp_bound(Interval(-1.0,-1.0), 20)"
   ]
  },
  {
   "cell_type": "markdown",
   "metadata": {},
   "source": [
    "Further, ensure that the width of each returned interval is less than $10^{-14}$.\n",
    "\n",
    "**SOLUTION** From the Taylor remainder theorem we know the error is\n",
    "$$\n",
    "{f^{(k+1)}(ξ) \\over (k+1)!} |x|^{k+1} \\leq {3 \\over (k+1)!}\n",
    "$$\n",
    "Thus by widening the computation by this error we ensure that we have\n",
    "captured the error by truncating the Taylor series."
   ]
  }
 ],
 "metadata": {
  "kernelspec": {
   "display_name": "Julia 1.7.0",
   "language": "julia",
   "name": "julia-1.7"
  },
  "language_info": {
   "file_extension": ".jl",
   "mimetype": "application/julia",
   "name": "julia",
   "version": "1.7.0"
  }
 },
 "nbformat": 4,
 "nbformat_minor": 2
}
