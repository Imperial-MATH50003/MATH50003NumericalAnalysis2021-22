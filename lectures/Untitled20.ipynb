{
 "cells": [
  {
   "cell_type": "code",
   "execution_count": 1,
   "id": "669d7874",
   "metadata": {},
   "outputs": [],
   "source": [
    "using FFTW"
   ]
  },
  {
   "cell_type": "code",
   "execution_count": 3,
   "id": "07466896",
   "metadata": {},
   "outputs": [
    {
     "name": "stdout",
     "output_type": "stream",
     "text": [
      "search: \u001b[0m\u001b[1mf\u001b[22m\u001b[0m\u001b[1mf\u001b[22m\u001b[0m\u001b[1mt\u001b[22m \u001b[0m\u001b[1mf\u001b[22m\u001b[0m\u001b[1mf\u001b[22m\u001b[0m\u001b[1mt\u001b[22m! \u001b[0m\u001b[1mf\u001b[22m\u001b[0m\u001b[1mf\u001b[22m\u001b[0m\u001b[1mt\u001b[22mfreq \u001b[0m\u001b[1mF\u001b[22m\u001b[0m\u001b[1mF\u001b[22m\u001b[0m\u001b[1mT\u001b[22mW \u001b[0m\u001b[1mf\u001b[22m\u001b[0m\u001b[1mf\u001b[22m\u001b[0m\u001b[1mt\u001b[22mshift r\u001b[0m\u001b[1mf\u001b[22m\u001b[0m\u001b[1mf\u001b[22m\u001b[0m\u001b[1mt\u001b[22m i\u001b[0m\u001b[1mf\u001b[22m\u001b[0m\u001b[1mf\u001b[22m\u001b[0m\u001b[1mt\u001b[22m b\u001b[0m\u001b[1mf\u001b[22m\u001b[0m\u001b[1mf\u001b[22m\u001b[0m\u001b[1mt\u001b[22m i\u001b[0m\u001b[1mf\u001b[22m\u001b[0m\u001b[1mf\u001b[22m\u001b[0m\u001b[1mt\u001b[22m! b\u001b[0m\u001b[1mf\u001b[22m\u001b[0m\u001b[1mf\u001b[22m\u001b[0m\u001b[1mt\u001b[22m! r\u001b[0m\u001b[1mf\u001b[22m\u001b[0m\u001b[1mf\u001b[22m\u001b[0m\u001b[1mt\u001b[22mfreq\n",
      "\n"
     ]
    },
    {
     "data": {
      "text/latex": [
       "\\begin{verbatim}\n",
       "fft(A [, dims])\n",
       "\\end{verbatim}\n",
       "Performs a multidimensional FFT of the array \\texttt{A}. The optional \\texttt{dims} argument specifies an iterable subset of dimensions (e.g. an integer, range, tuple, or array) to transform along. Most efficient if the size of \\texttt{A} along the transformed dimensions is a product of small primes; see \\texttt{Base.nextprod}. See also \\href{@ref}{\\texttt{plan\\_fft()}} for even greater efficiency.\n",
       "\n",
       "A one-dimensional FFT computes the one-dimensional discrete Fourier transform (DFT) as defined by\n",
       "\n",
       "$$\\operatorname{DFT}(A)[k] =\n",
       "  \\sum_{n=1}^{\\operatorname{length}(A)}\n",
       "  \\exp\\left(-i\\frac{2\\pi\n",
       "  (n-1)(k-1)}{\\operatorname{length}(A)} \\right) A[n].$$\n",
       "A multidimensional FFT simply performs this operation along each transformed dimension of \\texttt{A}.\n",
       "\n",
       "\\begin{quote}\n",
       "\\textbf{note}\n",
       "\n",
       "Note\n",
       "\n",
       "This performs a multidimensional FFT by default. FFT libraries in other languages such as Python and Octave perform a one-dimensional FFT along the first non-singleton dimension of the array. This is worth noting while performing comparisons.\n",
       "\n",
       "\\end{quote}\n"
      ],
      "text/markdown": [
       "```\n",
       "fft(A [, dims])\n",
       "```\n",
       "\n",
       "Performs a multidimensional FFT of the array `A`. The optional `dims` argument specifies an iterable subset of dimensions (e.g. an integer, range, tuple, or array) to transform along. Most efficient if the size of `A` along the transformed dimensions is a product of small primes; see `Base.nextprod`. See also [`plan_fft()`](@ref) for even greater efficiency.\n",
       "\n",
       "A one-dimensional FFT computes the one-dimensional discrete Fourier transform (DFT) as defined by\n",
       "\n",
       "$$\n",
       "\\operatorname{DFT}(A)[k] =\n",
       "  \\sum_{n=1}^{\\operatorname{length}(A)}\n",
       "  \\exp\\left(-i\\frac{2\\pi\n",
       "  (n-1)(k-1)}{\\operatorname{length}(A)} \\right) A[n].\n",
       "$$\n",
       "\n",
       "A multidimensional FFT simply performs this operation along each transformed dimension of `A`.\n",
       "\n",
       "!!! note\n",
       "    This performs a multidimensional FFT by default. FFT libraries in other languages such as Python and Octave perform a one-dimensional FFT along the first non-singleton dimension of the array. This is worth noting while performing comparisons.\n",
       "\n"
      ],
      "text/plain": [
       "\u001b[36m  fft(A [, dims])\u001b[39m\n",
       "\n",
       "  Performs a multidimensional FFT of the array \u001b[36mA\u001b[39m. The optional \u001b[36mdims\u001b[39m argument\n",
       "  specifies an iterable subset of dimensions (e.g. an integer, range, tuple,\n",
       "  or array) to transform along. Most efficient if the size of \u001b[36mA\u001b[39m along the\n",
       "  transformed dimensions is a product of small primes; see \u001b[36mBase.nextprod\u001b[39m. See\n",
       "  also \u001b[36mplan_fft()\u001b[39m for even greater efficiency.\n",
       "\n",
       "  A one-dimensional FFT computes the one-dimensional discrete Fourier\n",
       "  transform (DFT) as defined by\n",
       "\n",
       "\u001b[35m  \\operatorname{DFT}(A)[k] =\u001b[39m\n",
       "\u001b[35m  \\sum_{n=1}^{\\operatorname{length}(A)}\u001b[39m\n",
       "\u001b[35m  \\exp\\left(-i\\frac{2\\pi\u001b[39m\n",
       "\u001b[35m  (n-1)(k-1)}{\\operatorname{length}(A)} \\right) A[n].\u001b[39m\n",
       "\n",
       "  A multidimensional FFT simply performs this operation along each transformed\n",
       "  dimension of \u001b[36mA\u001b[39m.\n",
       "\n",
       "\u001b[36m\u001b[1m  │ \u001b[22m\u001b[39m\u001b[36m\u001b[1mNote\u001b[22m\u001b[39m\n",
       "\u001b[36m\u001b[1m  │\u001b[22m\u001b[39m\n",
       "\u001b[36m\u001b[1m  │\u001b[22m\u001b[39m  This performs a multidimensional FFT by default. FFT libraries in\n",
       "\u001b[36m\u001b[1m  │\u001b[22m\u001b[39m  other languages such as Python and Octave perform a\n",
       "\u001b[36m\u001b[1m  │\u001b[22m\u001b[39m  one-dimensional FFT along the first non-singleton dimension of the\n",
       "\u001b[36m\u001b[1m  │\u001b[22m\u001b[39m  array. This is worth noting while performing comparisons."
      ]
     },
     "execution_count": 3,
     "metadata": {},
     "output_type": "execute_result"
    }
   ],
   "source": [
    "?fft"
   ]
  },
  {
   "cell_type": "code",
   "execution_count": 4,
   "id": "a88bcbbd",
   "metadata": {},
   "outputs": [
    {
     "data": {
      "text/plain": [
       "5-element Vector{ComplexF64}:\n",
       "  -1.675343111927364 + 0.0im\n",
       "  3.0730978933750417 - 0.0029560764629271994im\n",
       " -2.8393345943042196 - 1.0738638223499881im\n",
       " -2.8393345943042196 + 1.0738638223499881im\n",
       "  3.0730978933750417 + 0.0029560764629271994im"
      ]
     },
     "execution_count": 4,
     "metadata": {},
     "output_type": "execute_result"
    }
   ],
   "source": [
    "fft(randn(5))"
   ]
  },
  {
   "cell_type": "code",
   "execution_count": 10,
   "id": "5fd767a5",
   "metadata": {},
   "outputs": [
    {
     "data": {
      "text/plain": [
       "10-element Vector{ComplexF64}:\n",
       "  4.440892098500626e-16 + 0.0im\n",
       " -4.440892098500626e-16 - 2.220446049250313e-16im\n",
       " -4.440892098500626e-16 + 1.3322676295501878e-15im\n",
       " -8.881784197001252e-16 - 4.440892098500626e-16im\n",
       " -4.440892098500626e-16 - 1.2281842209915794e-15im\n",
       "                    0.0 - 8.292322193115025e-16im\n",
       "                    0.0 - 1.214306433183765e-15im\n",
       "  6.217248937900877e-15 - 2.4424906541753444e-15im\n",
       " 3.1086244689504383e-15 + 3.9968028886505635e-15im\n",
       " -7.105427357601002e-15 - 3.3306690738754696e-15im"
      ]
     },
     "execution_count": 10,
     "metadata": {},
     "output_type": "execute_result"
    }
   ],
   "source": [
    "n = 10\n",
    "θ = range(0, 2π; length=n+1)[1:n]\n",
    "b = randn(n)\n",
    "[exp(-im*k*θ[j]) for k=0:n-1, j=1:n] * b - fft(b)"
   ]
  },
  {
   "cell_type": "code",
   "execution_count": 8,
   "id": "03ab0bd6",
   "metadata": {},
   "outputs": [
    {
     "data": {
      "text/plain": [
       "10-element Vector{ComplexF64}:\n",
       "  -2.9769400707162137 + 0.0im\n",
       "  -1.4394432832396158 + 2.1200488075141832im\n",
       "   1.6660136234439804 - 0.33859330513822267im\n",
       " -0.24199263344632693 - 0.5489917959940264im\n",
       "    0.770917020844367 + 2.6182076731712107im\n",
       "  -2.4822752755098922 + 0.0im\n",
       "    0.770917020844367 - 2.6182076731712107im\n",
       " -0.24199263344632693 + 0.5489917959940264im\n",
       "   1.6660136234439804 + 0.33859330513822267im\n",
       "  -1.4394432832396158 - 2.1200488075141832im"
      ]
     },
     "execution_count": 8,
     "metadata": {},
     "output_type": "execute_result"
    }
   ],
   "source": []
  },
  {
   "cell_type": "code",
   "execution_count": null,
   "id": "c98b1629",
   "metadata": {},
   "outputs": [],
   "source": []
  }
 ],
 "metadata": {
  "kernelspec": {
   "display_name": "Julia 1.7.1",
   "language": "julia",
   "name": "julia-1.7"
  },
  "language_info": {
   "file_extension": ".jl",
   "mimetype": "application/julia",
   "name": "julia",
   "version": "1.7.1"
  }
 },
 "nbformat": 4,
 "nbformat_minor": 5
}
